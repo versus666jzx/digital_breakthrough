{
 "nbformat": 4,
 "nbformat_minor": 0,
 "metadata": {
  "colab": {
   "provenance": [],
   "collapsed_sections": []
  },
  "kernelspec": {
   "name": "python3",
   "display_name": "Python 3"
  },
  "language_info": {
   "name": "python"
  }
 },
 "cells": [
  {
   "cell_type": "markdown",
   "source": [
    "## Загрузим нужные библиотеки"
   ],
   "metadata": {
    "id": "FH0ZYdNyQzug"
   }
  },
  {
   "cell_type": "code",
   "execution_count": 1,
   "metadata": {
    "id": "BwNGqMidQiRi"
   },
   "outputs": [],
   "source": [
    "import pandas as pd\n",
    "import seaborn as sns\n",
    "import matplotlib.pyplot as plt\n",
    "from sklearn.model_selection import train_test_split\n",
    "from sklearn.ensemble import RandomForestClassifier\n",
    "import numpy as np\n",
    "from os import listdir \n",
    "\n",
    "%matplotlib inline"
   ]
  },
  {
   "cell_type": "code",
   "source": [
    "df_train = pd.read_csv(\"../data/train.csv\")"
   ],
   "metadata": {
    "id": "3TZUcuZ33rM5"
   },
   "execution_count": 2,
   "outputs": []
  },
  {
   "cell_type": "code",
   "execution_count": 10,
   "outputs": [
    {
     "data": {
      "text/plain": "      id                                        description  object_img  \\\n0    520  Фотография. Г. Пермь. Здание горисполкома.  ПО...         799   \n1   1817  Фотонегатив пленочный. Труппа театра «У моста»...         854   \n2    188  Изразец гладкий расписной \"пермский\"- карниз А...        1794   \n3   1472  Фотонегатив пленочный. Серебряная чаша из Хоре...         526   \n4   1664  Фотонегатив стеклянный. Этнография коми-пермяк...         244   \n5   2048  Фотография. Дом № 124 по ул. Орджоникидзе в г....         917   \n6   1256  Фотонегатив пленочный. Пермский НПК, общий вид...        1069   \n7   2317  ПЗС. Подвеска шумящая коньковая на цепочке  ПК...        2114   \n8   1562  Этюд. \"Раздумье\".  ПОКМ-19728/20 бумага,акваре...        2555   \n9   2022  Фотокопия. Карл Витте с семьей.  ПОКМ-10959/62...         946   \n10    98  Фотонегатив пленочный. Станция Пермь-сортирово...        1093   \n11  1322  Фотография. М.А. Крашенинникова с матерью и со...         474   \n12  2023  Гербарий. Копеечник альпийский. Hedysarum alpi...        2681   \n13  2099  Монета ДМ/Н-191 ПОКМ-17741/141 серебро; штампо...          64   \n14   245  Фотооткрытка. Портрет мужчины.  ПОКМ-19355/403...         745   \n15  2077  Гербарий. Камнеломка сибирская. Saxifraga sibi...        2795   \n16   221  Этюд [Коровы].  ПКМ-21438/3 масло,холст на кар...        2631   \n17  2831  Гербарий. Купена лекарственная. Polygonatum od...        2919   \n18  2075  Фотонегатив пленочный. Завод имени Ф.Э. Дзержи...        1163   \n19  2092  Гербарий. Горечавка язычковая. Gentianella lin...        2815   \n20  1285  Фотонегатив пленочный. Славароссов (Сеененко) ...         650   \n21   987  Фотография. Грацинская - директор Пермской жен...        1515   \n22  1574  ПЗС. Подвеска коньковая А/РЖВС-2932 ПОКМ-11377...        1983   \n23   893  Фотография. Группа музейных сотрудников (в том...        1570   \n24   709  Изразец гладкий расписной - поясовой  ПОКМ-191...        1870   \n25  1083  Фотонегатив пленочный. Панорама улицы Ленина, ...        1009   \n26  2332  Этюд. \"Поздней осенью\".  ПКМ-21313/2 масло,кар...        2467   \n27  1340  Этюд. \"Шлюз Воткинской ГЭС\".  ПКМ-21384/8 бума...        2446   \n28  2851  Фотография. ОКОД (оперативный комсомольский от...        1626   \n29   302  Фотография. Закладка парка им XXII съезда г. П...         758   \n30  2977  Пистолет однозарядный, самодельный ОР-30 ПОКМ-...        2255   \n31  1161  Фотонегатив пленочный. Вагнер Е.А., ректор Пер...         570   \n32  2309  Гербарий. Вероника длиннолистная. Veronica lon...        2741   \n33  1778  Фотонегатив стеклянный. Этнография коми-пермяк...         207   \n34   920  ПЗС. Личина  ПОКМ-18629/1 литье,бронза     Пла...        2176   \n35  2750  Фотография. Дом № 6 по ул. Кирова.  ПОКМ-19814...        1444   \n36  2529  Фотография. 3й пленум Пермского окружкома ВЛКС...        1317   \n37  1346  Диапозитив стеклянный. Пермская деревянная ску...         695   \n38  2714  Фотонегатив пленочный. Оглоблина З., Каменский...         609   \n39   824  Этюд. \"Березы\".  ПКМ-21326/25 масло,картон    ...        2464   \n40  1877  Фотография. Дом № 23 по ул. К.Маркса.  ПОКМ-19...        1448   \n41   822  Фотография. Плюснина А.П. в спектакле «В стары...        1238   \n42  1268  Часы карманные механические с цифровой индекса...        2977   \n43  2035  Фотография. VIII пленум Пермского ОК ВЛКСМ ДПП...        1351   \n44   156  \\n                Двое крестьян Верх-Язьвинско...         129   \n45  1897  Фотонегатив пленочный. Завод имени Ленина. Вно...        1074   \n46   635  Фотография. Новый год. ДК Кирова.  ПОКМ-18530/...        1314   \n47   748  Фотография. Пермь. Вид с северо-восточной стор...        1364   \n48  1350  Монета ДМ/Н-679 ПОКМ-10727/21 серебро; штампов...          44   \n49   862  Монета 2 копейки 1811 г. А/РУС-302 ПКМ-21218/1...          67   \n\n    new_len  \n0         7  \n1        15  \n2        38  \n3        35  \n4        43  \n5        18  \n6        30  \n7       119  \n8        43  \n9        36  \n10       35  \n11       12  \n12       15  \n13       98  \n14       14  \n15       17  \n16       53  \n17       20  \n18       36  \n19       21  \n20       35  \n21       14  \n22      115  \n23       34  \n24       50  \n25       48  \n26       39  \n27       63  \n28       63  \n29       24  \n30       37  \n31       20  \n32       18  \n33       52  \n34      101  \n35       40  \n36        8  \n37       38  \n38       33  \n39       32  \n40       38  \n41       88  \n42       51  \n43        9  \n44       44  \n45       41  \n46        7  \n47       61  \n48       81  \n49      120  ",
      "text/html": "<div>\n<style scoped>\n    .dataframe tbody tr th:only-of-type {\n        vertical-align: middle;\n    }\n\n    .dataframe tbody tr th {\n        vertical-align: top;\n    }\n\n    .dataframe thead th {\n        text-align: right;\n    }\n</style>\n<table border=\"1\" class=\"dataframe\">\n  <thead>\n    <tr style=\"text-align: right;\">\n      <th></th>\n      <th>id</th>\n      <th>description</th>\n      <th>object_img</th>\n      <th>new_len</th>\n    </tr>\n  </thead>\n  <tbody>\n    <tr>\n      <th>0</th>\n      <td>520</td>\n      <td>Фотография. Г. Пермь. Здание горисполкома.  ПО...</td>\n      <td>799</td>\n      <td>7</td>\n    </tr>\n    <tr>\n      <th>1</th>\n      <td>1817</td>\n      <td>Фотонегатив пленочный. Труппа театра «У моста»...</td>\n      <td>854</td>\n      <td>15</td>\n    </tr>\n    <tr>\n      <th>2</th>\n      <td>188</td>\n      <td>Изразец гладкий расписной \"пермский\"- карниз А...</td>\n      <td>1794</td>\n      <td>38</td>\n    </tr>\n    <tr>\n      <th>3</th>\n      <td>1472</td>\n      <td>Фотонегатив пленочный. Серебряная чаша из Хоре...</td>\n      <td>526</td>\n      <td>35</td>\n    </tr>\n    <tr>\n      <th>4</th>\n      <td>1664</td>\n      <td>Фотонегатив стеклянный. Этнография коми-пермяк...</td>\n      <td>244</td>\n      <td>43</td>\n    </tr>\n    <tr>\n      <th>5</th>\n      <td>2048</td>\n      <td>Фотография. Дом № 124 по ул. Орджоникидзе в г....</td>\n      <td>917</td>\n      <td>18</td>\n    </tr>\n    <tr>\n      <th>6</th>\n      <td>1256</td>\n      <td>Фотонегатив пленочный. Пермский НПК, общий вид...</td>\n      <td>1069</td>\n      <td>30</td>\n    </tr>\n    <tr>\n      <th>7</th>\n      <td>2317</td>\n      <td>ПЗС. Подвеска шумящая коньковая на цепочке  ПК...</td>\n      <td>2114</td>\n      <td>119</td>\n    </tr>\n    <tr>\n      <th>8</th>\n      <td>1562</td>\n      <td>Этюд. \"Раздумье\".  ПОКМ-19728/20 бумага,акваре...</td>\n      <td>2555</td>\n      <td>43</td>\n    </tr>\n    <tr>\n      <th>9</th>\n      <td>2022</td>\n      <td>Фотокопия. Карл Витте с семьей.  ПОКМ-10959/62...</td>\n      <td>946</td>\n      <td>36</td>\n    </tr>\n    <tr>\n      <th>10</th>\n      <td>98</td>\n      <td>Фотонегатив пленочный. Станция Пермь-сортирово...</td>\n      <td>1093</td>\n      <td>35</td>\n    </tr>\n    <tr>\n      <th>11</th>\n      <td>1322</td>\n      <td>Фотография. М.А. Крашенинникова с матерью и со...</td>\n      <td>474</td>\n      <td>12</td>\n    </tr>\n    <tr>\n      <th>12</th>\n      <td>2023</td>\n      <td>Гербарий. Копеечник альпийский. Hedysarum alpi...</td>\n      <td>2681</td>\n      <td>15</td>\n    </tr>\n    <tr>\n      <th>13</th>\n      <td>2099</td>\n      <td>Монета ДМ/Н-191 ПОКМ-17741/141 серебро; штампо...</td>\n      <td>64</td>\n      <td>98</td>\n    </tr>\n    <tr>\n      <th>14</th>\n      <td>245</td>\n      <td>Фотооткрытка. Портрет мужчины.  ПОКМ-19355/403...</td>\n      <td>745</td>\n      <td>14</td>\n    </tr>\n    <tr>\n      <th>15</th>\n      <td>2077</td>\n      <td>Гербарий. Камнеломка сибирская. Saxifraga sibi...</td>\n      <td>2795</td>\n      <td>17</td>\n    </tr>\n    <tr>\n      <th>16</th>\n      <td>221</td>\n      <td>Этюд [Коровы].  ПКМ-21438/3 масло,холст на кар...</td>\n      <td>2631</td>\n      <td>53</td>\n    </tr>\n    <tr>\n      <th>17</th>\n      <td>2831</td>\n      <td>Гербарий. Купена лекарственная. Polygonatum od...</td>\n      <td>2919</td>\n      <td>20</td>\n    </tr>\n    <tr>\n      <th>18</th>\n      <td>2075</td>\n      <td>Фотонегатив пленочный. Завод имени Ф.Э. Дзержи...</td>\n      <td>1163</td>\n      <td>36</td>\n    </tr>\n    <tr>\n      <th>19</th>\n      <td>2092</td>\n      <td>Гербарий. Горечавка язычковая. Gentianella lin...</td>\n      <td>2815</td>\n      <td>21</td>\n    </tr>\n    <tr>\n      <th>20</th>\n      <td>1285</td>\n      <td>Фотонегатив пленочный. Славароссов (Сеененко) ...</td>\n      <td>650</td>\n      <td>35</td>\n    </tr>\n    <tr>\n      <th>21</th>\n      <td>987</td>\n      <td>Фотография. Грацинская - директор Пермской жен...</td>\n      <td>1515</td>\n      <td>14</td>\n    </tr>\n    <tr>\n      <th>22</th>\n      <td>1574</td>\n      <td>ПЗС. Подвеска коньковая А/РЖВС-2932 ПОКМ-11377...</td>\n      <td>1983</td>\n      <td>115</td>\n    </tr>\n    <tr>\n      <th>23</th>\n      <td>893</td>\n      <td>Фотография. Группа музейных сотрудников (в том...</td>\n      <td>1570</td>\n      <td>34</td>\n    </tr>\n    <tr>\n      <th>24</th>\n      <td>709</td>\n      <td>Изразец гладкий расписной - поясовой  ПОКМ-191...</td>\n      <td>1870</td>\n      <td>50</td>\n    </tr>\n    <tr>\n      <th>25</th>\n      <td>1083</td>\n      <td>Фотонегатив пленочный. Панорама улицы Ленина, ...</td>\n      <td>1009</td>\n      <td>48</td>\n    </tr>\n    <tr>\n      <th>26</th>\n      <td>2332</td>\n      <td>Этюд. \"Поздней осенью\".  ПКМ-21313/2 масло,кар...</td>\n      <td>2467</td>\n      <td>39</td>\n    </tr>\n    <tr>\n      <th>27</th>\n      <td>1340</td>\n      <td>Этюд. \"Шлюз Воткинской ГЭС\".  ПКМ-21384/8 бума...</td>\n      <td>2446</td>\n      <td>63</td>\n    </tr>\n    <tr>\n      <th>28</th>\n      <td>2851</td>\n      <td>Фотография. ОКОД (оперативный комсомольский от...</td>\n      <td>1626</td>\n      <td>63</td>\n    </tr>\n    <tr>\n      <th>29</th>\n      <td>302</td>\n      <td>Фотография. Закладка парка им XXII съезда г. П...</td>\n      <td>758</td>\n      <td>24</td>\n    </tr>\n    <tr>\n      <th>30</th>\n      <td>2977</td>\n      <td>Пистолет однозарядный, самодельный ОР-30 ПОКМ-...</td>\n      <td>2255</td>\n      <td>37</td>\n    </tr>\n    <tr>\n      <th>31</th>\n      <td>1161</td>\n      <td>Фотонегатив пленочный. Вагнер Е.А., ректор Пер...</td>\n      <td>570</td>\n      <td>20</td>\n    </tr>\n    <tr>\n      <th>32</th>\n      <td>2309</td>\n      <td>Гербарий. Вероника длиннолистная. Veronica lon...</td>\n      <td>2741</td>\n      <td>18</td>\n    </tr>\n    <tr>\n      <th>33</th>\n      <td>1778</td>\n      <td>Фотонегатив стеклянный. Этнография коми-пермяк...</td>\n      <td>207</td>\n      <td>52</td>\n    </tr>\n    <tr>\n      <th>34</th>\n      <td>920</td>\n      <td>ПЗС. Личина  ПОКМ-18629/1 литье,бронза     Пла...</td>\n      <td>2176</td>\n      <td>101</td>\n    </tr>\n    <tr>\n      <th>35</th>\n      <td>2750</td>\n      <td>Фотография. Дом № 6 по ул. Кирова.  ПОКМ-19814...</td>\n      <td>1444</td>\n      <td>40</td>\n    </tr>\n    <tr>\n      <th>36</th>\n      <td>2529</td>\n      <td>Фотография. 3й пленум Пермского окружкома ВЛКС...</td>\n      <td>1317</td>\n      <td>8</td>\n    </tr>\n    <tr>\n      <th>37</th>\n      <td>1346</td>\n      <td>Диапозитив стеклянный. Пермская деревянная ску...</td>\n      <td>695</td>\n      <td>38</td>\n    </tr>\n    <tr>\n      <th>38</th>\n      <td>2714</td>\n      <td>Фотонегатив пленочный. Оглоблина З., Каменский...</td>\n      <td>609</td>\n      <td>33</td>\n    </tr>\n    <tr>\n      <th>39</th>\n      <td>824</td>\n      <td>Этюд. \"Березы\".  ПКМ-21326/25 масло,картон    ...</td>\n      <td>2464</td>\n      <td>32</td>\n    </tr>\n    <tr>\n      <th>40</th>\n      <td>1877</td>\n      <td>Фотография. Дом № 23 по ул. К.Маркса.  ПОКМ-19...</td>\n      <td>1448</td>\n      <td>38</td>\n    </tr>\n    <tr>\n      <th>41</th>\n      <td>822</td>\n      <td>Фотография. Плюснина А.П. в спектакле «В стары...</td>\n      <td>1238</td>\n      <td>88</td>\n    </tr>\n    <tr>\n      <th>42</th>\n      <td>1268</td>\n      <td>Часы карманные механические с цифровой индекса...</td>\n      <td>2977</td>\n      <td>51</td>\n    </tr>\n    <tr>\n      <th>43</th>\n      <td>2035</td>\n      <td>Фотография. VIII пленум Пермского ОК ВЛКСМ ДПП...</td>\n      <td>1351</td>\n      <td>9</td>\n    </tr>\n    <tr>\n      <th>44</th>\n      <td>156</td>\n      <td>\\n                Двое крестьян Верх-Язьвинско...</td>\n      <td>129</td>\n      <td>44</td>\n    </tr>\n    <tr>\n      <th>45</th>\n      <td>1897</td>\n      <td>Фотонегатив пленочный. Завод имени Ленина. Вно...</td>\n      <td>1074</td>\n      <td>41</td>\n    </tr>\n    <tr>\n      <th>46</th>\n      <td>635</td>\n      <td>Фотография. Новый год. ДК Кирова.  ПОКМ-18530/...</td>\n      <td>1314</td>\n      <td>7</td>\n    </tr>\n    <tr>\n      <th>47</th>\n      <td>748</td>\n      <td>Фотография. Пермь. Вид с северо-восточной стор...</td>\n      <td>1364</td>\n      <td>61</td>\n    </tr>\n    <tr>\n      <th>48</th>\n      <td>1350</td>\n      <td>Монета ДМ/Н-679 ПОКМ-10727/21 серебро; штампов...</td>\n      <td>44</td>\n      <td>81</td>\n    </tr>\n    <tr>\n      <th>49</th>\n      <td>862</td>\n      <td>Монета 2 копейки 1811 г. А/РУС-302 ПКМ-21218/1...</td>\n      <td>67</td>\n      <td>120</td>\n    </tr>\n  </tbody>\n</table>\n</div>"
     },
     "execution_count": 10,
     "metadata": {},
     "output_type": "execute_result"
    }
   ],
   "source": [
    "df_train['new_len'] = df_train.description.apply(lambda x: x.replace('.', '')).apply(lambda x: x.split()).apply(len)\n",
    "\n",
    "df_train.head(50)"
   ],
   "metadata": {
    "collapsed": false
   }
  },
  {
   "cell_type": "code",
   "source": [
    "print(\"Обучающей выборки \" ,len(listdir(\"/content/train\")))"
   ],
   "metadata": {
    "colab": {
     "base_uri": "https://localhost:8080/"
    },
    "id": "IPLa558cu9EL",
    "outputId": "8952ee63-b145-46cc-c8df-946717f21c7a"
   },
   "execution_count": null,
   "outputs": [
    {
     "output_type": "stream",
     "name": "stdout",
     "text": [
      "Обучающей выборки  1467\n"
     ]
    }
   ]
  },
  {
   "cell_type": "markdown",
   "source": [
    "## Рассмотрим датасет по ближе"
   ],
   "metadata": {
    "id": "GywlangPRAEm"
   }
  },
  {
   "cell_type": "code",
   "source": [
    "df_train.head(3)"
   ],
   "metadata": {
    "colab": {
     "base_uri": "https://localhost:8080/",
     "height": 143
    },
    "id": "gvcl_K3FQ-os",
    "outputId": "c5d10284-135d-4ee4-b73d-da0d4af8e04f"
   },
   "execution_count": null,
   "outputs": [
    {
     "output_type": "execute_result",
     "data": {
      "text/plain": [
       "     id                                        description  object_img  \\\n",
       "0   520  Фотография. Г. Пермь. Здание горисполкома.  ПО...         799   \n",
       "1  1817  Фотонегатив пленочный. Труппа театра «У моста»...         854   \n",
       "2   188  Изразец гладкий расписной \"пермский\"- карниз А...        1794   \n",
       "\n",
       "   len_description  \n",
       "0               84  \n",
       "1              145  \n",
       "2              314  "
      ],
      "text/html": [
       "\n",
       "  <div id=\"df-4a0c63d5-e1bb-4a0c-90c2-4cebc2b650de\">\n",
       "    <div class=\"colab-df-container\">\n",
       "      <div>\n",
       "<style scoped>\n",
       "    .dataframe tbody tr th:only-of-type {\n",
       "        vertical-align: middle;\n",
       "    }\n",
       "\n",
       "    .dataframe tbody tr th {\n",
       "        vertical-align: top;\n",
       "    }\n",
       "\n",
       "    .dataframe thead th {\n",
       "        text-align: right;\n",
       "    }\n",
       "</style>\n",
       "<table border=\"1\" class=\"dataframe\">\n",
       "  <thead>\n",
       "    <tr style=\"text-align: right;\">\n",
       "      <th></th>\n",
       "      <th>id</th>\n",
       "      <th>description</th>\n",
       "      <th>object_img</th>\n",
       "      <th>len_description</th>\n",
       "    </tr>\n",
       "  </thead>\n",
       "  <tbody>\n",
       "    <tr>\n",
       "      <th>0</th>\n",
       "      <td>520</td>\n",
       "      <td>Фотография. Г. Пермь. Здание горисполкома.  ПО...</td>\n",
       "      <td>799</td>\n",
       "      <td>84</td>\n",
       "    </tr>\n",
       "    <tr>\n",
       "      <th>1</th>\n",
       "      <td>1817</td>\n",
       "      <td>Фотонегатив пленочный. Труппа театра «У моста»...</td>\n",
       "      <td>854</td>\n",
       "      <td>145</td>\n",
       "    </tr>\n",
       "    <tr>\n",
       "      <th>2</th>\n",
       "      <td>188</td>\n",
       "      <td>Изразец гладкий расписной \"пермский\"- карниз А...</td>\n",
       "      <td>1794</td>\n",
       "      <td>314</td>\n",
       "    </tr>\n",
       "  </tbody>\n",
       "</table>\n",
       "</div>\n",
       "      <button class=\"colab-df-convert\" onclick=\"convertToInteractive('df-4a0c63d5-e1bb-4a0c-90c2-4cebc2b650de')\"\n",
       "              title=\"Convert this dataframe to an interactive table.\"\n",
       "              style=\"display:none;\">\n",
       "        \n",
       "  <svg xmlns=\"http://www.w3.org/2000/svg\" height=\"24px\"viewBox=\"0 0 24 24\"\n",
       "       width=\"24px\">\n",
       "    <path d=\"M0 0h24v24H0V0z\" fill=\"none\"/>\n",
       "    <path d=\"M18.56 5.44l.94 2.06.94-2.06 2.06-.94-2.06-.94-.94-2.06-.94 2.06-2.06.94zm-11 1L8.5 8.5l.94-2.06 2.06-.94-2.06-.94L8.5 2.5l-.94 2.06-2.06.94zm10 10l.94 2.06.94-2.06 2.06-.94-2.06-.94-.94-2.06-.94 2.06-2.06.94z\"/><path d=\"M17.41 7.96l-1.37-1.37c-.4-.4-.92-.59-1.43-.59-.52 0-1.04.2-1.43.59L10.3 9.45l-7.72 7.72c-.78.78-.78 2.05 0 2.83L4 21.41c.39.39.9.59 1.41.59.51 0 1.02-.2 1.41-.59l7.78-7.78 2.81-2.81c.8-.78.8-2.07 0-2.86zM5.41 20L4 18.59l7.72-7.72 1.47 1.35L5.41 20z\"/>\n",
       "  </svg>\n",
       "      </button>\n",
       "      \n",
       "  <style>\n",
       "    .colab-df-container {\n",
       "      display:flex;\n",
       "      flex-wrap:wrap;\n",
       "      gap: 12px;\n",
       "    }\n",
       "\n",
       "    .colab-df-convert {\n",
       "      background-color: #E8F0FE;\n",
       "      border: none;\n",
       "      border-radius: 50%;\n",
       "      cursor: pointer;\n",
       "      display: none;\n",
       "      fill: #1967D2;\n",
       "      height: 32px;\n",
       "      padding: 0 0 0 0;\n",
       "      width: 32px;\n",
       "    }\n",
       "\n",
       "    .colab-df-convert:hover {\n",
       "      background-color: #E2EBFA;\n",
       "      box-shadow: 0px 1px 2px rgba(60, 64, 67, 0.3), 0px 1px 3px 1px rgba(60, 64, 67, 0.15);\n",
       "      fill: #174EA6;\n",
       "    }\n",
       "\n",
       "    [theme=dark] .colab-df-convert {\n",
       "      background-color: #3B4455;\n",
       "      fill: #D2E3FC;\n",
       "    }\n",
       "\n",
       "    [theme=dark] .colab-df-convert:hover {\n",
       "      background-color: #434B5C;\n",
       "      box-shadow: 0px 1px 3px 1px rgba(0, 0, 0, 0.15);\n",
       "      filter: drop-shadow(0px 1px 2px rgba(0, 0, 0, 0.3));\n",
       "      fill: #FFFFFF;\n",
       "    }\n",
       "  </style>\n",
       "\n",
       "      <script>\n",
       "        const buttonEl =\n",
       "          document.querySelector('#df-4a0c63d5-e1bb-4a0c-90c2-4cebc2b650de button.colab-df-convert');\n",
       "        buttonEl.style.display =\n",
       "          google.colab.kernel.accessAllowed ? 'block' : 'none';\n",
       "\n",
       "        async function convertToInteractive(key) {\n",
       "          const element = document.querySelector('#df-4a0c63d5-e1bb-4a0c-90c2-4cebc2b650de');\n",
       "          const dataTable =\n",
       "            await google.colab.kernel.invokeFunction('convertToInteractive',\n",
       "                                                     [key], {});\n",
       "          if (!dataTable) return;\n",
       "\n",
       "          const docLinkHtml = 'Like what you see? Visit the ' +\n",
       "            '<a target=\"_blank\" href=https://colab.research.google.com/notebooks/data_table.ipynb>data table notebook</a>'\n",
       "            + ' to learn more about interactive tables.';\n",
       "          element.innerHTML = '';\n",
       "          dataTable['output_type'] = 'display_data';\n",
       "          await google.colab.output.renderOutput(dataTable, element);\n",
       "          const docLink = document.createElement('div');\n",
       "          docLink.innerHTML = docLinkHtml;\n",
       "          element.appendChild(docLink);\n",
       "        }\n",
       "      </script>\n",
       "    </div>\n",
       "  </div>\n",
       "  "
      ]
     },
     "metadata": {},
     "execution_count": 16
    }
   ]
  },
  {
   "cell_type": "code",
   "source": [
    "df_train.shape"
   ],
   "metadata": {
    "colab": {
     "base_uri": "https://localhost:8080/"
    },
    "id": "uAIT-vwLUI0z",
    "outputId": "ffe342d0-4a7e-41b8-be59-f30e02527370"
   },
   "execution_count": null,
   "outputs": [
    {
     "output_type": "execute_result",
     "data": {
      "text/plain": [
       "(2098, 3)"
      ]
     },
     "metadata": {},
     "execution_count": 7
    }
   ]
  },
  {
   "cell_type": "code",
   "source": [
    "df_train.info()"
   ],
   "metadata": {
    "colab": {
     "base_uri": "https://localhost:8080/"
    },
    "id": "SzAA5TKYfVey",
    "outputId": "70018c59-3721-4efd-ebe1-a7d6d98a9459"
   },
   "execution_count": null,
   "outputs": [
    {
     "output_type": "stream",
     "name": "stdout",
     "text": [
      "<class 'pandas.core.frame.DataFrame'>\n",
      "RangeIndex: 2098 entries, 0 to 2097\n",
      "Data columns (total 3 columns):\n",
      " #   Column       Non-Null Count  Dtype \n",
      "---  ------       --------------  ----- \n",
      " 0   id           2098 non-null   int64 \n",
      " 1   description  2098 non-null   object\n",
      " 2   object_img   2098 non-null   int64 \n",
      "dtypes: int64(2), object(1)\n",
      "memory usage: 49.3+ KB\n"
     ]
    }
   ]
  },
  {
   "cell_type": "markdown",
   "source": [
    "## Добавим новых признаков"
   ],
   "metadata": {
    "id": "w5fNLAa0h_dn"
   }
  },
  {
   "cell_type": "code",
   "source": [
    "df_train[\"len_description\"] = df_train.description.map(len)"
   ],
   "metadata": {
    "id": "9JdBKLy1v8yy"
   },
   "execution_count": null,
   "outputs": []
  },
  {
   "cell_type": "code",
   "source": [
    "df_train[\"object\"] = df_train[\"description\"].map(lambda x : x.split()[0]) "
   ],
   "metadata": {
    "id": "qwOd5ylhv9KJ"
   },
   "execution_count": null,
   "outputs": []
  },
  {
   "cell_type": "code",
   "source": [
    "df_train[\"object\"] = pd.Categorical(df_train[\"object\"])\n",
    "df_train[\"object\"].astype('category').cat.codes\n",
    "df_train[\"object\"] = df_train[\"object\"].cat.codes"
   ],
   "metadata": {
    "id": "dioc6HR31iw2"
   },
   "execution_count": null,
   "outputs": []
  },
  {
   "cell_type": "code",
   "source": [
    "df_train.head(3)"
   ],
   "metadata": {
    "colab": {
     "base_uri": "https://localhost:8080/",
     "height": 143
    },
    "id": "AeOMUea_v9MC",
    "outputId": "3927916b-711a-4ba3-a06b-024cd4286e2c"
   },
   "execution_count": null,
   "outputs": [
    {
     "output_type": "execute_result",
     "data": {
      "text/plain": [
       "     id                                        description  object_img  \\\n",
       "0   520  Фотография. Г. Пермь. Здание горисполкома.  ПО...         799   \n",
       "1  1817  Фотонегатив пленочный. Труппа театра «У моста»...         854   \n",
       "2   188  Изразец гладкий расписной \"пермский\"- карниз А...        1794   \n",
       "\n",
       "   len_description  object  \n",
       "0               84      78  \n",
       "1              145      80  \n",
       "2              314      21  "
      ],
      "text/html": [
       "\n",
       "  <div id=\"df-aeaad716-32a7-4181-8139-bb7a662344ee\">\n",
       "    <div class=\"colab-df-container\">\n",
       "      <div>\n",
       "<style scoped>\n",
       "    .dataframe tbody tr th:only-of-type {\n",
       "        vertical-align: middle;\n",
       "    }\n",
       "\n",
       "    .dataframe tbody tr th {\n",
       "        vertical-align: top;\n",
       "    }\n",
       "\n",
       "    .dataframe thead th {\n",
       "        text-align: right;\n",
       "    }\n",
       "</style>\n",
       "<table border=\"1\" class=\"dataframe\">\n",
       "  <thead>\n",
       "    <tr style=\"text-align: right;\">\n",
       "      <th></th>\n",
       "      <th>id</th>\n",
       "      <th>description</th>\n",
       "      <th>object_img</th>\n",
       "      <th>len_description</th>\n",
       "      <th>object</th>\n",
       "    </tr>\n",
       "  </thead>\n",
       "  <tbody>\n",
       "    <tr>\n",
       "      <th>0</th>\n",
       "      <td>520</td>\n",
       "      <td>Фотография. Г. Пермь. Здание горисполкома.  ПО...</td>\n",
       "      <td>799</td>\n",
       "      <td>84</td>\n",
       "      <td>78</td>\n",
       "    </tr>\n",
       "    <tr>\n",
       "      <th>1</th>\n",
       "      <td>1817</td>\n",
       "      <td>Фотонегатив пленочный. Труппа театра «У моста»...</td>\n",
       "      <td>854</td>\n",
       "      <td>145</td>\n",
       "      <td>80</td>\n",
       "    </tr>\n",
       "    <tr>\n",
       "      <th>2</th>\n",
       "      <td>188</td>\n",
       "      <td>Изразец гладкий расписной \"пермский\"- карниз А...</td>\n",
       "      <td>1794</td>\n",
       "      <td>314</td>\n",
       "      <td>21</td>\n",
       "    </tr>\n",
       "  </tbody>\n",
       "</table>\n",
       "</div>\n",
       "      <button class=\"colab-df-convert\" onclick=\"convertToInteractive('df-aeaad716-32a7-4181-8139-bb7a662344ee')\"\n",
       "              title=\"Convert this dataframe to an interactive table.\"\n",
       "              style=\"display:none;\">\n",
       "        \n",
       "  <svg xmlns=\"http://www.w3.org/2000/svg\" height=\"24px\"viewBox=\"0 0 24 24\"\n",
       "       width=\"24px\">\n",
       "    <path d=\"M0 0h24v24H0V0z\" fill=\"none\"/>\n",
       "    <path d=\"M18.56 5.44l.94 2.06.94-2.06 2.06-.94-2.06-.94-.94-2.06-.94 2.06-2.06.94zm-11 1L8.5 8.5l.94-2.06 2.06-.94-2.06-.94L8.5 2.5l-.94 2.06-2.06.94zm10 10l.94 2.06.94-2.06 2.06-.94-2.06-.94-.94-2.06-.94 2.06-2.06.94z\"/><path d=\"M17.41 7.96l-1.37-1.37c-.4-.4-.92-.59-1.43-.59-.52 0-1.04.2-1.43.59L10.3 9.45l-7.72 7.72c-.78.78-.78 2.05 0 2.83L4 21.41c.39.39.9.59 1.41.59.51 0 1.02-.2 1.41-.59l7.78-7.78 2.81-2.81c.8-.78.8-2.07 0-2.86zM5.41 20L4 18.59l7.72-7.72 1.47 1.35L5.41 20z\"/>\n",
       "  </svg>\n",
       "      </button>\n",
       "      \n",
       "  <style>\n",
       "    .colab-df-container {\n",
       "      display:flex;\n",
       "      flex-wrap:wrap;\n",
       "      gap: 12px;\n",
       "    }\n",
       "\n",
       "    .colab-df-convert {\n",
       "      background-color: #E8F0FE;\n",
       "      border: none;\n",
       "      border-radius: 50%;\n",
       "      cursor: pointer;\n",
       "      display: none;\n",
       "      fill: #1967D2;\n",
       "      height: 32px;\n",
       "      padding: 0 0 0 0;\n",
       "      width: 32px;\n",
       "    }\n",
       "\n",
       "    .colab-df-convert:hover {\n",
       "      background-color: #E2EBFA;\n",
       "      box-shadow: 0px 1px 2px rgba(60, 64, 67, 0.3), 0px 1px 3px 1px rgba(60, 64, 67, 0.15);\n",
       "      fill: #174EA6;\n",
       "    }\n",
       "\n",
       "    [theme=dark] .colab-df-convert {\n",
       "      background-color: #3B4455;\n",
       "      fill: #D2E3FC;\n",
       "    }\n",
       "\n",
       "    [theme=dark] .colab-df-convert:hover {\n",
       "      background-color: #434B5C;\n",
       "      box-shadow: 0px 1px 3px 1px rgba(0, 0, 0, 0.15);\n",
       "      filter: drop-shadow(0px 1px 2px rgba(0, 0, 0, 0.3));\n",
       "      fill: #FFFFFF;\n",
       "    }\n",
       "  </style>\n",
       "\n",
       "      <script>\n",
       "        const buttonEl =\n",
       "          document.querySelector('#df-aeaad716-32a7-4181-8139-bb7a662344ee button.colab-df-convert');\n",
       "        buttonEl.style.display =\n",
       "          google.colab.kernel.accessAllowed ? 'block' : 'none';\n",
       "\n",
       "        async function convertToInteractive(key) {\n",
       "          const element = document.querySelector('#df-aeaad716-32a7-4181-8139-bb7a662344ee');\n",
       "          const dataTable =\n",
       "            await google.colab.kernel.invokeFunction('convertToInteractive',\n",
       "                                                     [key], {});\n",
       "          if (!dataTable) return;\n",
       "\n",
       "          const docLinkHtml = 'Like what you see? Visit the ' +\n",
       "            '<a target=\"_blank\" href=https://colab.research.google.com/notebooks/data_table.ipynb>data table notebook</a>'\n",
       "            + ' to learn more about interactive tables.';\n",
       "          element.innerHTML = '';\n",
       "          dataTable['output_type'] = 'display_data';\n",
       "          await google.colab.output.renderOutput(dataTable, element);\n",
       "          const docLink = document.createElement('div');\n",
       "          docLink.innerHTML = docLinkHtml;\n",
       "          element.appendChild(docLink);\n",
       "        }\n",
       "      </script>\n",
       "    </div>\n",
       "  </div>\n",
       "  "
      ]
     },
     "metadata": {},
     "execution_count": 49
    }
   ]
  },
  {
   "cell_type": "code",
   "source": [
    "features = list(set(df_train.columns.values) - set(['id',\"object_img\"]))\n",
    "\n",
    "_ = df_train[features].hist(figsize=(10,8))"
   ],
   "metadata": {
    "colab": {
     "base_uri": "https://localhost:8080/",
     "height": 499
    },
    "id": "zdp0SqYvykhc",
    "outputId": "14068e06-2b38-4e0d-f894-00565e957c29"
   },
   "execution_count": null,
   "outputs": [
    {
     "output_type": "display_data",
     "data": {
      "text/plain": [
       "<Figure size 720x576 with 2 Axes>"
      ],
      "image/png": "[encoded data removed]"
     },
     "metadata": {
      "needs_background": "light"
     }
    }
   ]
  },
  {
   "cell_type": "code",
   "source": [
    "plt.rcParams['figure.figsize']=(15,15)\n",
    "\n",
    "g = sns.heatmap(df_train.corr(), square = True, annot=True)"
   ],
   "metadata": {
    "colab": {
     "base_uri": "https://localhost:8080/",
     "height": 850
    },
    "id": "3ixejC073U26",
    "outputId": "721f890b-1da9-4bf1-c58b-9d04fc9dec5c"
   },
   "execution_count": null,
   "outputs": [
    {
     "output_type": "display_data",
     "data": {
      "text/plain": [
       "<Figure size 1080x1080 with 2 Axes>"
      ],
      "image/png": "[encoded data removed]"
     },
     "metadata": {
      "needs_background": "light"
     }
    }
   ]
  },
  {
   "cell_type": "markdown",
   "source": [
    "## Выделим выборки"
   ],
   "metadata": {
    "id": "870l_9AGdTvF"
   }
  },
  {
   "cell_type": "code",
   "source": [
    "X = df_train.drop([\"description\",\"object_img\",'id'], axis = 1)\n",
    "y = df_train['object_img']"
   ],
   "metadata": {
    "id": "R4fN_sD-dGSG"
   },
   "execution_count": null,
   "outputs": []
  },
  {
   "cell_type": "code",
   "source": [
    "X.info()"
   ],
   "metadata": {
    "colab": {
     "base_uri": "https://localhost:8080/"
    },
    "id": "Xbgef81UdZJL",
    "outputId": "f8e86981-f80b-400d-a101-b9858c27ff11"
   },
   "execution_count": null,
   "outputs": [
    {
     "output_type": "stream",
     "name": "stdout",
     "text": [
      "<class 'pandas.core.frame.DataFrame'>\n",
      "RangeIndex: 2098 entries, 0 to 2097\n",
      "Data columns (total 2 columns):\n",
      " #   Column           Non-Null Count  Dtype\n",
      "---  ------           --------------  -----\n",
      " 0   len_description  2098 non-null   int64\n",
      " 1   object           2098 non-null   int8 \n",
      "dtypes: int64(1), int8(1)\n",
      "memory usage: 18.6 KB\n"
     ]
    }
   ]
  },
  {
   "cell_type": "code",
   "source": [
    "X_train, X_test, y_train, y_test = train_test_split(X, y, test_size=0.3, random_state=42)"
   ],
   "metadata": {
    "id": "_e7ZJ3QjdZLW"
   },
   "execution_count": null,
   "outputs": []
  },
  {
   "cell_type": "markdown",
   "source": [
    "## Работа с моделью "
   ],
   "metadata": {
    "id": "fZAT_G9gwpn5"
   }
  },
  {
   "cell_type": "code",
   "source": [
    "from sklearn.linear_model import LinearRegression"
   ],
   "metadata": {
    "id": "92PS6bNo3Lpb"
   },
   "execution_count": null,
   "outputs": []
  },
  {
   "cell_type": "code",
   "source": [
    "reg = LinearRegression().fit(X, y)"
   ],
   "metadata": {
    "id": "vIpST54l3Lrd"
   },
   "execution_count": null,
   "outputs": []
  },
  {
   "cell_type": "markdown",
   "source": [
    "## Оценка точности"
   ],
   "metadata": {
    "id": "vUPON7vxenEJ"
   }
  },
  {
   "cell_type": "code",
   "source": [
    "pred = reg.predict(X_test)"
   ],
   "metadata": {
    "id": "m1g031fzexib"
   },
   "execution_count": null,
   "outputs": []
  },
  {
   "cell_type": "code",
   "source": [
    "y_test.head(3)"
   ],
   "metadata": {
    "colab": {
     "base_uri": "https://localhost:8080/"
    },
    "id": "kBiihKwKe9AB",
    "outputId": "263d1521-4eed-4b98-fe71-81c620d2363c"
   },
   "execution_count": null,
   "outputs": [
    {
     "output_type": "execute_result",
     "data": {
      "text/plain": [
       "1005    1416\n",
       "1078    2654\n",
       "67      1836\n",
       "Name: object_img, dtype: int64"
      ]
     },
     "metadata": {},
     "execution_count": 65
    }
   ]
  },
  {
   "cell_type": "code",
   "source": [
    "from sklearn.metrics import r2_score\n",
    "\n",
    "print(\"R2 score:\", r2_score(y_test, pred))"
   ],
   "metadata": {
    "id": "OaySnwRzejpc",
    "colab": {
     "base_uri": "https://localhost:8080/"
    },
    "outputId": "10d5e43a-8c20-4fc0-8013-23ffb16d2632"
   },
   "execution_count": null,
   "outputs": [
    {
     "output_type": "stream",
     "name": "stdout",
     "text": [
      "R2 score: 0.3072931022741474\n"
     ]
    }
   ]
  }
 ]
}
