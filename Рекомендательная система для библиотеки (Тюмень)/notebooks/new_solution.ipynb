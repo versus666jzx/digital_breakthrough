{
 "cells": [
  {
   "cell_type": "markdown",
   "source": [
    "# Задача\n",
    "\n",
    "Создать рекомендательную систему для пользователей библиотеки с учетом семантики\n",
    "\n",
    "# Условия задачи\n",
    "\n",
    "Участникам необходимо для каждого из 16 753 пользователей сделать\n",
    "подборку из 20 рекомендаций.\n",
    "\n",
    "Порядок рекомендаций не учитывается, но\n",
    "очень важно, чтобы рекомендации основывались на интересе пользователя\n",
    "и были ему релевантны. Обратите внимание, что тестирующая система\n",
    "принимает только те решения, в которых содержится не более 20\n",
    "рекомендаций для одного пользователя. Уникальных документов – 354 355.\n",
    "\n",
    "Участники получают 3 таблицы: users.csv, items.csv,\n",
    "train_transactions.csv.\n",
    "\n",
    "Users.csv содержит информацию о читателях, где каждый читатель имеет свой\n",
    "уникальный номер читательского билета (chb).\n",
    "\n",
    "Таблица items.csv, содержит описание документов, которые доступны всем читателям,\n",
    "каждый документ имеет уникальный системный номер (sys_numb).\n",
    "\n",
    "Таблица train_transactions.csv устанавливает связь между\n",
    "users-items, показывает наличие взаимодействия читателя с документом.\n",
    "\n",
    "# Описание данных\n",
    "\n",
    "##### users.csv:\n",
    "chb – полный номер читательского билета\n",
    "age – возраст читателя\n",
    "gender – пол читателя\n",
    "chit_type – тип читателя\n",
    "\n",
    "##### items.csv:\n",
    "sys_numb – системный номер документа\n",
    "title – название документа\n",
    "author – автор документа\n",
    "izd – издательство\n",
    "year_izd – год издания\n",
    "bbk – ББК документа\n",
    "\n",
    "##### train_transactions.csv:\n",
    "chb - полный номер читательского билета\n",
    "sys_numb – системный номер документа\n",
    "date_1 – дата выдачи\n",
    "is_real – был ли выдан заказ\n",
    "type – тип книговыдачи (книговыдача/скачивание)\n",
    "source – источник (один из трёх онлайн-просмотрщиков)\n",
    "is_printed – печатный/электронный документ\n"
   ],
   "metadata": {
    "collapsed": false,
    "pycharm": {
     "name": "#%% md\n"
    }
   }
  },
  {
   "cell_type": "code",
   "execution_count": 17,
   "metadata": {
    "collapsed": true,
    "pycharm": {
     "name": "#%%\n"
    }
   },
   "outputs": [],
   "source": [
    "import re\n",
    "\n",
    "import numpy as np\n",
    "import pandas as pd\n",
    "\n",
    "import roman\n",
    "\n",
    "import plotly.express as px\n",
    "import plotly.graph_objects as go\n",
    "\n",
    "from sklearn.cluster import KMeans\n",
    "from sklearn.preprocessing import OrdinalEncoder, StandardScaler\n",
    "from sklearn.pipeline import make_pipeline\n",
    "\n",
    "from yellowbrick.cluster import KElbowVisualizer\n",
    "\n",
    "import torch\n",
    "import transformers\n",
    "\n",
    "import catboost\n",
    "\n",
    "import faiss\n",
    "\n",
    "from sklearn.manifold import TSNE\n",
    "\n",
    "from tqdm.notebook import tqdm"
   ]
  },
  {
   "cell_type": "code",
   "execution_count": 18,
   "outputs": [],
   "source": [
    "# tokenizer = transformers.BertTokenizer.from_pretrained('DeepPavlov/rubert-base-cased-conversational')\n",
    "# model = transformers.BertModel.from_pretrained('DeepPavlov/rubert-base-cased-conversational').to('cuda:0')\n",
    "\n",
    "try:\n",
    "\titems_title_embeddings = pd.read_csv('items_title_embeddings.csv')\n",
    "except:\n",
    "\tpass"
   ],
   "metadata": {
    "collapsed": false,
    "pycharm": {
     "name": "#%%\n"
    }
   }
  },
  {
   "cell_type": "markdown",
   "source": [
    "## Шаг 1. Загрузим и посмотрим на данные"
   ],
   "metadata": {
    "collapsed": false,
    "pycharm": {
     "name": "#%% md\n"
    }
   }
  },
  {
   "cell_type": "code",
   "execution_count": 19,
   "outputs": [],
   "source": [
    "users = pd.read_csv(\n",
    "\t'../data/users.csv',\n",
    "\tsep=';',\n",
    "\tindex_col=None,\n",
    "\tdtype={'age': str, 'chb': str, 'chit_type': str, 'gender': str}\n",
    ")\n",
    "\n",
    "items = pd.read_csv(\n",
    "\t'../data/items.csv',\n",
    "\tsep=';',\n",
    "\tindex_col=None,\n",
    "\tdtype={'author': str, 'bbk': str, 'izd': str, 'sys_numb': str, 'title': str, 'year_izd': str}\n",
    ")\n",
    "\n",
    "train_transactions = pd.read_csv(\n",
    "\t'../data/train_transactions_extended.csv',\n",
    "\tsep=';',\n",
    "\tindex_col=None,\n",
    "\tdtype={'chb': str, 'date_1': str, 'is_printed': str, 'is_real': str, 'source': str, 'sys_numb': str, 'type': str}\n",
    ")\n",
    "\n",
    "users.name = 'users'\n",
    "items.name = 'items'\n",
    "train_transactions.name = 'train_transactions'\n",
    "\n",
    "all_data = [users, items, train_transactions]"
   ],
   "metadata": {
    "collapsed": false,
    "pycharm": {
     "name": "#%%\n"
    }
   }
  },
  {
   "cell_type": "markdown",
   "source": [
    "Руками заполним пропуски в некоторых данных"
   ],
   "metadata": {
    "collapsed": false,
    "pycharm": {
     "name": "#%% md\n"
    }
   }
  },
  {
   "cell_type": "code",
   "execution_count": 20,
   "outputs": [],
   "source": [
    "# у пользователя с индексом 9681 в данных полях стоит значение \"отсутствует\", заменим его на самое частотное значение поля\n",
    "users.loc[9681, 'gender'] = users['gender'].value_counts().index[0]\n",
    "users.loc[9681, 'age'] = users['age'].value_counts().index[0]\n",
    "users.loc[9681, 'chit_type'] = users['chit_type'].value_counts().index[0]\n",
    "users.loc[8978, 'age'] = users['age'].value_counts()[0]\n",
    "\n",
    "# книга без заполненных данных, ее некому будет рекомендовать\n",
    "items.loc[45417, 'year_izd'] = '2016'\n",
    "# заполним пропуски в поле bbk\n",
    "items['bbk'] = items['bbk'].fillna('отсутствует')\n",
    "\n",
    "# поля \"none\" и \"отсутствует\" по сути одно и то же, так что заменим none на отсутствует\n",
    "items['title'] = items['title'].apply(lambda author: 'отсутствует' if 'none' in author else author)\n",
    "items['author'] = items['author'].apply(lambda author: 'отсутствует' if 'none' in author else author)\n",
    "items['izd'] = items['izd'].apply(lambda author: 'отсутствует' if 'none' in author else author)\n",
    "items['year_izd'] = items['year_izd'].apply(lambda author: 'отсутствует' if 'none' in author else author)\n",
    "items['bbk'] = items['bbk'].apply(lambda author: 'отсутствует' if 'none' in author else author)\n",
    "\n",
    "# удаляем квадратные скобки из годов\n",
    "items['year_izd'].apply(lambda year: year.replace('[', '').replace(']', '')).value_counts()\n",
    "\n",
    "# создаем фичу определяющую является ли кника учебником или нет\n",
    "items['is_textboot'] = items['title'].apply(lambda title: int(max([x in title for x in ['учеб', 'Учеб']])))\n",
    "\n",
    "# типы \"скачивание\" и \"скачка\" одинаковые, приводим к единому виду \"скачивание\"\n",
    "train_transactions['type'] = train_transactions['type'].apply(lambda type: 'скачивание' if 'скачка' in type else type)"
   ],
   "metadata": {
    "collapsed": false,
    "pycharm": {
     "name": "#%%\n"
    }
   }
  },
  {
   "cell_type": "markdown",
   "source": [
    "Немного магии с годом издания книги"
   ],
   "metadata": {
    "collapsed": false,
    "pycharm": {
     "name": "#%% md\n"
    }
   }
  },
  {
   "cell_type": "code",
   "execution_count": 21,
   "outputs": [],
   "source": [
    "def is_roman_number(year):\n",
    "\tif '۱۱۴۵' in year:\n",
    "\t\treturn 'отсутствует'\n",
    "\n",
    "\tpattern = r'\\d{4}|[I|V|X|L|C|D|M]+'\n",
    "\tres = re.findall(pattern, year)\n",
    "\tif len(res) > 0:\n",
    "\t\tif len(res) > 1:\n",
    "\t\t\treturn res[1]\n",
    "\t\telse:\n",
    "\t\t\treturn res[0]\n",
    "\telse:\n",
    "\t\tpattern = r'[а-я]|[А-Я]|[a-z]|[A-Z]'\n",
    "\t\tres = re.findall(pattern, year)\n",
    "\t\tif len(res) > 0:\n",
    "\t\t\treturn 'отсутствует'\n",
    "\t\telse:\n",
    "\t\t\treturn year\n",
    "\n",
    "def from_roman_to_int(year):\n",
    "\ttry:\n",
    "\t\treturn str(roman.fromRoman(year))\n",
    "\texcept:\n",
    "\t\treturn year\n",
    "\n",
    "def validate(year):\n",
    "\ttry:\n",
    "\t\tif int(year) >= 2022 or int(year) <= 1000:\n",
    "\t\t\treturn 'отсутствует'\n",
    "\t\telse:\n",
    "\t\t\treturn year\n",
    "\texcept:\n",
    "\t\treturn year\n",
    "\n",
    "\n",
    "def parse(year):\n",
    "\ttry:\n",
    "\t\treturn year.split(' ')[0]\n",
    "\texcept:\n",
    "\t\treturn year\n",
    "\n",
    "\n",
    "items['year_izd'] = (items['year_izd']\n",
    "\t\t\t\t\t.apply(is_roman_number)\n",
    "\t\t\t\t\t.apply(from_roman_to_int)\n",
    "\t\t\t\t\t.apply(\n",
    "\t\t\t\t\t\tlambda year: year\n",
    "\t\t\t\t\t\t.replace('?', '')\n",
    "\t\t\t\t\t\t.replace('.', '', 2)\n",
    "\t\t\t\t\t\t.replace('-', '0', 2)\n",
    "\t\t\t\t\t\t.replace('-', '')\n",
    "\t\t\t\t\t\t.replace('[', '')\n",
    "\t\t\t\t\t\t.replace(']', '')\n",
    "\t\t\t\t\t)\n",
    "\t\t\t\t\t.apply(parse)\n",
    "\t\t\t\t\t.apply(validate)\n",
    "\t\t\t\t\t.apply(\n",
    "\t\t\t\t\t\tlambda year: year\n",
    "\t\t\t\t\t\t.replace('.', '0')\n",
    "\t\t\t\t\t\t.replace('–', '0')\n",
    "\t\t\t\t\t\t)\n",
    "\t\t\t\t\t)"
   ],
   "metadata": {
    "collapsed": false,
    "pycharm": {
     "name": "#%%\n"
    }
   }
  },
  {
   "cell_type": "markdown",
   "source": [
    "Приводим в порядок информацию об издательстве"
   ],
   "metadata": {
    "collapsed": false,
    "pycharm": {
     "name": "#%% md\n"
    }
   }
  },
  {
   "cell_type": "code",
   "execution_count": 22,
   "outputs": [],
   "source": [
    "def check_izdat(izdat):\n",
    "\tif '[б. и.]' in izdat:\n",
    "\t\treturn 'отсутствует'\n",
    "\telif 'Б. и.' in izdat:\n",
    "\t\treturn 'отсутствует'\n",
    "\treturn izdat.replace('[', '').replace(']', '')\n",
    "\n",
    "items['izd'] = items['izd'].apply(check_izdat)"
   ],
   "metadata": {
    "collapsed": false,
    "pycharm": {
     "name": "#%%\n"
    }
   }
  },
  {
   "cell_type": "markdown",
   "source": [
    "Приводим в порядок информацию об авторах (увеличивает число дублей среди авторов на 1132 (было 181734, стало 182866)"
   ],
   "metadata": {
    "collapsed": false,
    "pycharm": {
     "name": "#%% md\n"
    }
   }
  },
  {
   "cell_type": "code",
   "execution_count": 23,
   "outputs": [],
   "source": [
    "def get_only_author(author):\n",
    "\tpattern = r'\\D+'\n",
    "\treturn ' '.join(re.findall(pattern, author)).replace(',', '').replace('-', '')\n",
    "\n",
    "items['author'] = items['author'].apply(get_only_author)"
   ],
   "metadata": {
    "collapsed": false,
    "pycharm": {
     "name": "#%%\n"
    }
   }
  },
  {
   "cell_type": "markdown",
   "source": [
    "Создадим таблицу с данными, какие клиенты какие книги уже брали, чтобы их не рекомендовать"
   ],
   "metadata": {
    "collapsed": false,
    "pycharm": {
     "name": "#%% md\n"
    }
   }
  },
  {
   "cell_type": "code",
   "execution_count": 24,
   "outputs": [],
   "source": [
    "books_readed_by_clients = train_transactions.groupby('chb')['sys_numb'].apply(set)"
   ],
   "metadata": {
    "collapsed": false,
    "pycharm": {
     "name": "#%%\n"
    }
   }
  },
  {
   "cell_type": "code",
   "execution_count": 25,
   "outputs": [
    {
     "name": "stdout",
     "output_type": "stream",
     "text": [
      "==============================users==============================\n"
     ]
    },
    {
     "data": {
      "text/plain": "                chb age  gender   chit_type\n13277  200000874782  23  female  нет данных\n326    200000931229  43  female  нет данных\n462    200001036530  27  female  нет данных\n4190   200001074502  27  female  нет данных\n3761   100000821399  60  female      normal\n7366   100001136654  45  female        echb\n7435   200001167948  23    male  нет данных",
      "text/html": "<div>\n<style scoped>\n    .dataframe tbody tr th:only-of-type {\n        vertical-align: middle;\n    }\n\n    .dataframe tbody tr th {\n        vertical-align: top;\n    }\n\n    .dataframe thead th {\n        text-align: right;\n    }\n</style>\n<table border=\"1\" class=\"dataframe\">\n  <thead>\n    <tr style=\"text-align: right;\">\n      <th></th>\n      <th>chb</th>\n      <th>age</th>\n      <th>gender</th>\n      <th>chit_type</th>\n    </tr>\n  </thead>\n  <tbody>\n    <tr>\n      <th>13277</th>\n      <td>200000874782</td>\n      <td>23</td>\n      <td>female</td>\n      <td>нет данных</td>\n    </tr>\n    <tr>\n      <th>326</th>\n      <td>200000931229</td>\n      <td>43</td>\n      <td>female</td>\n      <td>нет данных</td>\n    </tr>\n    <tr>\n      <th>462</th>\n      <td>200001036530</td>\n      <td>27</td>\n      <td>female</td>\n      <td>нет данных</td>\n    </tr>\n    <tr>\n      <th>4190</th>\n      <td>200001074502</td>\n      <td>27</td>\n      <td>female</td>\n      <td>нет данных</td>\n    </tr>\n    <tr>\n      <th>3761</th>\n      <td>100000821399</td>\n      <td>60</td>\n      <td>female</td>\n      <td>normal</td>\n    </tr>\n    <tr>\n      <th>7366</th>\n      <td>100001136654</td>\n      <td>45</td>\n      <td>female</td>\n      <td>echb</td>\n    </tr>\n    <tr>\n      <th>7435</th>\n      <td>200001167948</td>\n      <td>23</td>\n      <td>male</td>\n      <td>нет данных</td>\n    </tr>\n  </tbody>\n</table>\n</div>"
     },
     "metadata": {},
     "output_type": "display_data"
    },
    {
     "name": "stdout",
     "output_type": "stream",
     "text": [
      "==============================items==============================\n"
     ]
    },
    {
     "data": {
      "text/plain": "              sys_numb                                              title  \\\n77658   RSL01007849285  Модель синтеза текста формулы изобретения : ди...   \n235753  RSL01009858590   Король-Солнце Людовик XIV и его прекрасные дамы    \n69736   RSL01005062073  Теоретические основы выявления суггестивного п...   \n205995  RSL01004257481  Договорная работа на предприятии : практически...   \n122138  RSL01009501529  Разработка математических моделей и программно...   \n107503  RSL01002571934  История зарубежной литературы второй половины ...   \n159759  RSL07000477625                                        отсутствует   \n\n                               author          izd     year_izd  \\\n77658   Шереметьева Светлана Олеговна  отсутствует         1985   \n235753   Сотникова Наталия Николаевна     Алгоритм         2018   \n69736      Карлик Надежда Анатольевна  отсутствует         2013   \n205995    Беляева Ольга Александровна      ИНФРА-М         2009   \n122138     Корчагин Сергей Алексеевич  отсутствует         2017   \n107503     Пучкова Галина Арсентьевна         АГПИ         2004   \n159759                    отсутствует  отсутствует  отсутствует   \n\n                                  bbk  is_textboot  \n77658                     отсутствует            0  \n235753  Т3(4Фр)432-8Людовик XIV 21,02            0  \n69736                  Ш5(2=Р)5-357,0            0  \n205995                      Х623.2,07            0  \n122138                    отсутствует            0  \n107503                Ш5(0)53-32я73-1            1  \n159759                    отсутствует            0  ",
      "text/html": "<div>\n<style scoped>\n    .dataframe tbody tr th:only-of-type {\n        vertical-align: middle;\n    }\n\n    .dataframe tbody tr th {\n        vertical-align: top;\n    }\n\n    .dataframe thead th {\n        text-align: right;\n    }\n</style>\n<table border=\"1\" class=\"dataframe\">\n  <thead>\n    <tr style=\"text-align: right;\">\n      <th></th>\n      <th>sys_numb</th>\n      <th>title</th>\n      <th>author</th>\n      <th>izd</th>\n      <th>year_izd</th>\n      <th>bbk</th>\n      <th>is_textboot</th>\n    </tr>\n  </thead>\n  <tbody>\n    <tr>\n      <th>77658</th>\n      <td>RSL01007849285</td>\n      <td>Модель синтеза текста формулы изобретения : ди...</td>\n      <td>Шереметьева Светлана Олеговна</td>\n      <td>отсутствует</td>\n      <td>1985</td>\n      <td>отсутствует</td>\n      <td>0</td>\n    </tr>\n    <tr>\n      <th>235753</th>\n      <td>RSL01009858590</td>\n      <td>Король-Солнце Людовик XIV и его прекрасные дамы</td>\n      <td>Сотникова Наталия Николаевна</td>\n      <td>Алгоритм</td>\n      <td>2018</td>\n      <td>Т3(4Фр)432-8Людовик XIV 21,02</td>\n      <td>0</td>\n    </tr>\n    <tr>\n      <th>69736</th>\n      <td>RSL01005062073</td>\n      <td>Теоретические основы выявления суггестивного п...</td>\n      <td>Карлик Надежда Анатольевна</td>\n      <td>отсутствует</td>\n      <td>2013</td>\n      <td>Ш5(2=Р)5-357,0</td>\n      <td>0</td>\n    </tr>\n    <tr>\n      <th>205995</th>\n      <td>RSL01004257481</td>\n      <td>Договорная работа на предприятии : практически...</td>\n      <td>Беляева Ольга Александровна</td>\n      <td>ИНФРА-М</td>\n      <td>2009</td>\n      <td>Х623.2,07</td>\n      <td>0</td>\n    </tr>\n    <tr>\n      <th>122138</th>\n      <td>RSL01009501529</td>\n      <td>Разработка математических моделей и программно...</td>\n      <td>Корчагин Сергей Алексеевич</td>\n      <td>отсутствует</td>\n      <td>2017</td>\n      <td>отсутствует</td>\n      <td>0</td>\n    </tr>\n    <tr>\n      <th>107503</th>\n      <td>RSL01002571934</td>\n      <td>История зарубежной литературы второй половины ...</td>\n      <td>Пучкова Галина Арсентьевна</td>\n      <td>АГПИ</td>\n      <td>2004</td>\n      <td>Ш5(0)53-32я73-1</td>\n      <td>1</td>\n    </tr>\n    <tr>\n      <th>159759</th>\n      <td>RSL07000477625</td>\n      <td>отсутствует</td>\n      <td>отсутствует</td>\n      <td>отсутствует</td>\n      <td>отсутствует</td>\n      <td>отсутствует</td>\n      <td>0</td>\n    </tr>\n  </tbody>\n</table>\n</div>"
     },
     "metadata": {},
     "output_type": "display_data"
    },
    {
     "name": "stdout",
     "output_type": "stream",
     "text": [
      "==============================train_transactions==============================\n"
     ]
    },
    {
     "data": {
      "text/plain": "                 chb        sys_numb      date_1 is_real         type  \\\n29723   100001031585  RSL01009949468  2022-02-14     yes         None   \n149349  300000758346  RSL01003714001  2021-04-09     yes   скачивание   \n94522   200000980479  RSL01002795732  2021-09-18     yes  книговыдача   \n169651  300000881229  RSL01004577873  2021-09-04     yes         None   \n86985   200000944971  RSL01004430414  2021-03-27     yes  книговыдача   \n95591   200000986001  RSL01010836657  2021-12-15     yes  книговыдача   \n348     100000704313  RSL01003821728  2021-01-12     yes   скачивание   \n\n             source is_printed  \n29723          None       True  \n149349  dlib.rsl.ru      False  \n94522    2DL.Viewer      False  \n169651         None       True  \n86985    2DL.Viewer      False  \n95591    2DL.Viewer      False  \n348     dlib.rsl.ru      False  ",
      "text/html": "<div>\n<style scoped>\n    .dataframe tbody tr th:only-of-type {\n        vertical-align: middle;\n    }\n\n    .dataframe tbody tr th {\n        vertical-align: top;\n    }\n\n    .dataframe thead th {\n        text-align: right;\n    }\n</style>\n<table border=\"1\" class=\"dataframe\">\n  <thead>\n    <tr style=\"text-align: right;\">\n      <th></th>\n      <th>chb</th>\n      <th>sys_numb</th>\n      <th>date_1</th>\n      <th>is_real</th>\n      <th>type</th>\n      <th>source</th>\n      <th>is_printed</th>\n    </tr>\n  </thead>\n  <tbody>\n    <tr>\n      <th>29723</th>\n      <td>100001031585</td>\n      <td>RSL01009949468</td>\n      <td>2022-02-14</td>\n      <td>yes</td>\n      <td>None</td>\n      <td>None</td>\n      <td>True</td>\n    </tr>\n    <tr>\n      <th>149349</th>\n      <td>300000758346</td>\n      <td>RSL01003714001</td>\n      <td>2021-04-09</td>\n      <td>yes</td>\n      <td>скачивание</td>\n      <td>dlib.rsl.ru</td>\n      <td>False</td>\n    </tr>\n    <tr>\n      <th>94522</th>\n      <td>200000980479</td>\n      <td>RSL01002795732</td>\n      <td>2021-09-18</td>\n      <td>yes</td>\n      <td>книговыдача</td>\n      <td>2DL.Viewer</td>\n      <td>False</td>\n    </tr>\n    <tr>\n      <th>169651</th>\n      <td>300000881229</td>\n      <td>RSL01004577873</td>\n      <td>2021-09-04</td>\n      <td>yes</td>\n      <td>None</td>\n      <td>None</td>\n      <td>True</td>\n    </tr>\n    <tr>\n      <th>86985</th>\n      <td>200000944971</td>\n      <td>RSL01004430414</td>\n      <td>2021-03-27</td>\n      <td>yes</td>\n      <td>книговыдача</td>\n      <td>2DL.Viewer</td>\n      <td>False</td>\n    </tr>\n    <tr>\n      <th>95591</th>\n      <td>200000986001</td>\n      <td>RSL01010836657</td>\n      <td>2021-12-15</td>\n      <td>yes</td>\n      <td>книговыдача</td>\n      <td>2DL.Viewer</td>\n      <td>False</td>\n    </tr>\n    <tr>\n      <th>348</th>\n      <td>100000704313</td>\n      <td>RSL01003821728</td>\n      <td>2021-01-12</td>\n      <td>yes</td>\n      <td>скачивание</td>\n      <td>dlib.rsl.ru</td>\n      <td>False</td>\n    </tr>\n  </tbody>\n</table>\n</div>"
     },
     "metadata": {},
     "output_type": "display_data"
    }
   ],
   "source": [
    "for data in all_data:\n",
    "\tprint(f'{\"=\"*30}{data.name}{\"=\"*30}')\n",
    "\tdisplay(data.sample(7))"
   ],
   "metadata": {
    "collapsed": false,
    "pycharm": {
     "name": "#%%\n"
    }
   }
  },
  {
   "cell_type": "code",
   "execution_count": 26,
   "outputs": [
    {
     "name": "stdout",
     "output_type": "stream",
     "text": [
      "Кол-во пользователей: 16753\n",
      "Кол-во документов в истории пользователей: 194666\n",
      "Общее кол-во документов: 354355\n"
     ]
    }
   ],
   "source": [
    "print(f\"Кол-во пользователей: {len(train_transactions['chb'].unique())}\")\n",
    "print(f\"Кол-во документов в истории пользователей: {len(train_transactions['sys_numb'].unique())}\")\n",
    "print(f\"Общее кол-во документов: {len(items['sys_numb'].unique())}\")"
   ],
   "metadata": {
    "collapsed": false,
    "pycharm": {
     "name": "#%%\n"
    }
   }
  },
  {
   "cell_type": "markdown",
   "source": [
    "## Подготовим признаки в таблицах\n"
   ],
   "metadata": {
    "collapsed": false,
    "pycharm": {
     "name": "#%% md\n"
    }
   }
  },
  {
   "cell_type": "code",
   "execution_count": 27,
   "outputs": [
    {
     "data": {
      "text/plain": "            chb  age  gender  chit_type\n0  300001020830   21     0.0        2.0\n1  300001113642   36     0.0        2.0\n2  300001148466   46     0.0        2.0\n3  300001117011   22     0.0        2.0\n4  200001038094   24     0.0        0.0",
      "text/html": "<div>\n<style scoped>\n    .dataframe tbody tr th:only-of-type {\n        vertical-align: middle;\n    }\n\n    .dataframe tbody tr th {\n        vertical-align: top;\n    }\n\n    .dataframe thead th {\n        text-align: right;\n    }\n</style>\n<table border=\"1\" class=\"dataframe\">\n  <thead>\n    <tr style=\"text-align: right;\">\n      <th></th>\n      <th>chb</th>\n      <th>age</th>\n      <th>gender</th>\n      <th>chit_type</th>\n    </tr>\n  </thead>\n  <tbody>\n    <tr>\n      <th>0</th>\n      <td>300001020830</td>\n      <td>21</td>\n      <td>0.0</td>\n      <td>2.0</td>\n    </tr>\n    <tr>\n      <th>1</th>\n      <td>300001113642</td>\n      <td>36</td>\n      <td>0.0</td>\n      <td>2.0</td>\n    </tr>\n    <tr>\n      <th>2</th>\n      <td>300001148466</td>\n      <td>46</td>\n      <td>0.0</td>\n      <td>2.0</td>\n    </tr>\n    <tr>\n      <th>3</th>\n      <td>300001117011</td>\n      <td>22</td>\n      <td>0.0</td>\n      <td>2.0</td>\n    </tr>\n    <tr>\n      <th>4</th>\n      <td>200001038094</td>\n      <td>24</td>\n      <td>0.0</td>\n      <td>0.0</td>\n    </tr>\n  </tbody>\n</table>\n</div>"
     },
     "execution_count": 27,
     "metadata": {},
     "output_type": "execute_result"
    }
   ],
   "source": [
    "users_data_encoder = OrdinalEncoder()\n",
    "users_encode_columns = ['gender', 'chit_type']\n",
    "users[users_encode_columns] = users_data_encoder.fit_transform(users[users_encode_columns])\n",
    "users['age'] = users['age'].astype('int')\n",
    "users.head()"
   ],
   "metadata": {
    "collapsed": false,
    "pycharm": {
     "name": "#%%\n"
    }
   }
  },
  {
   "cell_type": "code",
   "execution_count": 28,
   "outputs": [],
   "source": [
    "# scaler = StandardScaler()\n",
    "# kmean = KMeans()\n",
    "# visualiser = KElbowVisualizer(kmean, k=(2, 30))\n",
    "# visualiser.fit(scaler.fit_transform(users[['age', 'gender', 'chit_type']]))\n",
    "# visualiser.show()"
   ],
   "metadata": {
    "collapsed": false,
    "pycharm": {
     "name": "#%%\n"
    }
   }
  },
  {
   "cell_type": "code",
   "execution_count": 29,
   "outputs": [
    {
     "data": {
      "text/plain": "                chb  age  gender  chit_type  user_kmean_class\n5208   300000942455   21     0.0        1.0                 0\n3373   300000870574   32     1.0        2.0                 3\n13747  200001084639   32     0.0        0.0                 2\n3651   100000836139   38     1.0        1.0                 3\n4146   100001052307   65     0.0        2.0                 4\n7010   300001124819   54     1.0        2.0                 1\n10349  300001107233   16     1.0        0.0                 2",
      "text/html": "<div>\n<style scoped>\n    .dataframe tbody tr th:only-of-type {\n        vertical-align: middle;\n    }\n\n    .dataframe tbody tr th {\n        vertical-align: top;\n    }\n\n    .dataframe thead th {\n        text-align: right;\n    }\n</style>\n<table border=\"1\" class=\"dataframe\">\n  <thead>\n    <tr style=\"text-align: right;\">\n      <th></th>\n      <th>chb</th>\n      <th>age</th>\n      <th>gender</th>\n      <th>chit_type</th>\n      <th>user_kmean_class</th>\n    </tr>\n  </thead>\n  <tbody>\n    <tr>\n      <th>5208</th>\n      <td>300000942455</td>\n      <td>21</td>\n      <td>0.0</td>\n      <td>1.0</td>\n      <td>0</td>\n    </tr>\n    <tr>\n      <th>3373</th>\n      <td>300000870574</td>\n      <td>32</td>\n      <td>1.0</td>\n      <td>2.0</td>\n      <td>3</td>\n    </tr>\n    <tr>\n      <th>13747</th>\n      <td>200001084639</td>\n      <td>32</td>\n      <td>0.0</td>\n      <td>0.0</td>\n      <td>2</td>\n    </tr>\n    <tr>\n      <th>3651</th>\n      <td>100000836139</td>\n      <td>38</td>\n      <td>1.0</td>\n      <td>1.0</td>\n      <td>3</td>\n    </tr>\n    <tr>\n      <th>4146</th>\n      <td>100001052307</td>\n      <td>65</td>\n      <td>0.0</td>\n      <td>2.0</td>\n      <td>4</td>\n    </tr>\n    <tr>\n      <th>7010</th>\n      <td>300001124819</td>\n      <td>54</td>\n      <td>1.0</td>\n      <td>2.0</td>\n      <td>1</td>\n    </tr>\n    <tr>\n      <th>10349</th>\n      <td>300001107233</td>\n      <td>16</td>\n      <td>1.0</td>\n      <td>0.0</td>\n      <td>2</td>\n    </tr>\n  </tbody>\n</table>\n</div>"
     },
     "execution_count": 29,
     "metadata": {},
     "output_type": "execute_result"
    }
   ],
   "source": [
    "kmean_pipe = make_pipeline(\n",
    "\tStandardScaler(),\n",
    "\tKMeans(n_clusters=6)\n",
    ")\n",
    "users['user_kmean_class'] = kmean_pipe.fit_predict(users[['age', 'gender', 'chit_type']])\n",
    "users.sample(7)"
   ],
   "metadata": {
    "collapsed": false,
    "pycharm": {
     "name": "#%%\n"
    }
   }
  },
  {
   "cell_type": "code",
   "execution_count": 30,
   "outputs": [
    {
     "data": {
      "text/plain": "              sys_numb                                              title  \\\n300379  RSL01010890679  Предатели в русской истории : 1000 лет коварст...   \n210074  RSL01008855725  Инвестиции, строительство, недвижимость как ма...   \n151665  RSL01008048781  Правовая природа интеллектуальных прав по зако...   \n127070  RSL07000426814                                        отсутствует   \n134815  RSL07000473415                                        отсутствует   \n225171  RSL01010572217  \"Элефант\" : тяжелое штурмовое орудие Фердинанд...   \n291595  RSL01009554720  Национальные модели хозяйствования : интересы,...   \n\n          author      izd     year_izd       bbk  is_textboot  \n300379   36047.0  31585.0         2021   39764.0            0  \n210074  171478.0  33897.0         2017   62179.0            0  \n151665   56222.0  33897.0         2015  130777.0            0  \n127070  171478.0  33897.0  отсутствует  130777.0            0  \n134815  171478.0  33897.0  отсутствует  130777.0            0  \n225171   70845.0  32749.0         2021   77175.0            0  \n291595    6965.0  26388.0         2017   57322.0            0  ",
      "text/html": "<div>\n<style scoped>\n    .dataframe tbody tr th:only-of-type {\n        vertical-align: middle;\n    }\n\n    .dataframe tbody tr th {\n        vertical-align: top;\n    }\n\n    .dataframe thead th {\n        text-align: right;\n    }\n</style>\n<table border=\"1\" class=\"dataframe\">\n  <thead>\n    <tr style=\"text-align: right;\">\n      <th></th>\n      <th>sys_numb</th>\n      <th>title</th>\n      <th>author</th>\n      <th>izd</th>\n      <th>year_izd</th>\n      <th>bbk</th>\n      <th>is_textboot</th>\n    </tr>\n  </thead>\n  <tbody>\n    <tr>\n      <th>300379</th>\n      <td>RSL01010890679</td>\n      <td>Предатели в русской истории : 1000 лет коварст...</td>\n      <td>36047.0</td>\n      <td>31585.0</td>\n      <td>2021</td>\n      <td>39764.0</td>\n      <td>0</td>\n    </tr>\n    <tr>\n      <th>210074</th>\n      <td>RSL01008855725</td>\n      <td>Инвестиции, строительство, недвижимость как ма...</td>\n      <td>171478.0</td>\n      <td>33897.0</td>\n      <td>2017</td>\n      <td>62179.0</td>\n      <td>0</td>\n    </tr>\n    <tr>\n      <th>151665</th>\n      <td>RSL01008048781</td>\n      <td>Правовая природа интеллектуальных прав по зако...</td>\n      <td>56222.0</td>\n      <td>33897.0</td>\n      <td>2015</td>\n      <td>130777.0</td>\n      <td>0</td>\n    </tr>\n    <tr>\n      <th>127070</th>\n      <td>RSL07000426814</td>\n      <td>отсутствует</td>\n      <td>171478.0</td>\n      <td>33897.0</td>\n      <td>отсутствует</td>\n      <td>130777.0</td>\n      <td>0</td>\n    </tr>\n    <tr>\n      <th>134815</th>\n      <td>RSL07000473415</td>\n      <td>отсутствует</td>\n      <td>171478.0</td>\n      <td>33897.0</td>\n      <td>отсутствует</td>\n      <td>130777.0</td>\n      <td>0</td>\n    </tr>\n    <tr>\n      <th>225171</th>\n      <td>RSL01010572217</td>\n      <td>\"Элефант\" : тяжелое штурмовое орудие Фердинанд...</td>\n      <td>70845.0</td>\n      <td>32749.0</td>\n      <td>2021</td>\n      <td>77175.0</td>\n      <td>0</td>\n    </tr>\n    <tr>\n      <th>291595</th>\n      <td>RSL01009554720</td>\n      <td>Национальные модели хозяйствования : интересы,...</td>\n      <td>6965.0</td>\n      <td>26388.0</td>\n      <td>2017</td>\n      <td>57322.0</td>\n      <td>0</td>\n    </tr>\n  </tbody>\n</table>\n</div>"
     },
     "execution_count": 30,
     "metadata": {},
     "output_type": "execute_result"
    }
   ],
   "source": [
    "items_data_encoder = OrdinalEncoder()\n",
    "items_encode_columns = ['author', 'izd', 'bbk']\n",
    "items[items_encode_columns] = items_data_encoder.fit_transform(items[items_encode_columns])\n",
    "items.sample(7)"
   ],
   "metadata": {
    "collapsed": false,
    "pycharm": {
     "name": "#%%\n"
    }
   }
  },
  {
   "cell_type": "code",
   "execution_count": 31,
   "outputs": [],
   "source": [
    "# visualiser = KElbowVisualizer(kmean, k=(2, 15))\n",
    "# visualiser.fit(scaler.fit_transform(items[items_encode_columns + ['is_textboot']]))\n",
    "# visualiser.show()"
   ],
   "metadata": {
    "collapsed": false,
    "pycharm": {
     "name": "#%%\n"
    }
   }
  },
  {
   "cell_type": "code",
   "execution_count": 32,
   "outputs": [
    {
     "data": {
      "text/plain": "              sys_numb                                              title  \\\n56288   RSL01004603312  Тезаурусное представление терминов нефтегазово...   \n170500  RSL01001599687                           Бои за историю : Сб. ст.   \n305038  RSL01006540357  Конкурентная разведка : сущность и способы осу...   \n40187   RSL01003451172  Истоки и становление массовой культуры в Росси...   \n14192   RSL01003384910  Социальные аспекты эпидемии и профилактики ВИЧ...   \n214223  RSL01004584372  Степан Петрович Яремич / сост. В. П. Третьяков...   \n15135   RSL02000021233                                        отсутствует   \n\n          author      izd     year_izd       bbk  is_textboot  \\\n56288   149959.0  33897.0         2010   94027.0            0   \n170500  150570.0  19844.0         1991  130777.0            0   \n305038  123376.0  29959.0         2012   57806.0            1   \n40187    82973.0  33897.0         2008   35332.0            0   \n14192    20997.0  11672.0         2007   33664.0            0   \n214223  170900.0  33897.0         2009  107499.0            0   \n15135   171478.0  33897.0  отсутствует  130777.0            0   \n\n        item_kmean_class  \n56288                  0  \n170500                 0  \n305038                 3  \n40187                  1  \n14192                  4  \n214223                 0  \n15135                  0  ",
      "text/html": "<div>\n<style scoped>\n    .dataframe tbody tr th:only-of-type {\n        vertical-align: middle;\n    }\n\n    .dataframe tbody tr th {\n        vertical-align: top;\n    }\n\n    .dataframe thead th {\n        text-align: right;\n    }\n</style>\n<table border=\"1\" class=\"dataframe\">\n  <thead>\n    <tr style=\"text-align: right;\">\n      <th></th>\n      <th>sys_numb</th>\n      <th>title</th>\n      <th>author</th>\n      <th>izd</th>\n      <th>year_izd</th>\n      <th>bbk</th>\n      <th>is_textboot</th>\n      <th>item_kmean_class</th>\n    </tr>\n  </thead>\n  <tbody>\n    <tr>\n      <th>56288</th>\n      <td>RSL01004603312</td>\n      <td>Тезаурусное представление терминов нефтегазово...</td>\n      <td>149959.0</td>\n      <td>33897.0</td>\n      <td>2010</td>\n      <td>94027.0</td>\n      <td>0</td>\n      <td>0</td>\n    </tr>\n    <tr>\n      <th>170500</th>\n      <td>RSL01001599687</td>\n      <td>Бои за историю : Сб. ст.</td>\n      <td>150570.0</td>\n      <td>19844.0</td>\n      <td>1991</td>\n      <td>130777.0</td>\n      <td>0</td>\n      <td>0</td>\n    </tr>\n    <tr>\n      <th>305038</th>\n      <td>RSL01006540357</td>\n      <td>Конкурентная разведка : сущность и способы осу...</td>\n      <td>123376.0</td>\n      <td>29959.0</td>\n      <td>2012</td>\n      <td>57806.0</td>\n      <td>1</td>\n      <td>3</td>\n    </tr>\n    <tr>\n      <th>40187</th>\n      <td>RSL01003451172</td>\n      <td>Истоки и становление массовой культуры в Росси...</td>\n      <td>82973.0</td>\n      <td>33897.0</td>\n      <td>2008</td>\n      <td>35332.0</td>\n      <td>0</td>\n      <td>1</td>\n    </tr>\n    <tr>\n      <th>14192</th>\n      <td>RSL01003384910</td>\n      <td>Социальные аспекты эпидемии и профилактики ВИЧ...</td>\n      <td>20997.0</td>\n      <td>11672.0</td>\n      <td>2007</td>\n      <td>33664.0</td>\n      <td>0</td>\n      <td>4</td>\n    </tr>\n    <tr>\n      <th>214223</th>\n      <td>RSL01004584372</td>\n      <td>Степан Петрович Яремич / сост. В. П. Третьяков...</td>\n      <td>170900.0</td>\n      <td>33897.0</td>\n      <td>2009</td>\n      <td>107499.0</td>\n      <td>0</td>\n      <td>0</td>\n    </tr>\n    <tr>\n      <th>15135</th>\n      <td>RSL02000021233</td>\n      <td>отсутствует</td>\n      <td>171478.0</td>\n      <td>33897.0</td>\n      <td>отсутствует</td>\n      <td>130777.0</td>\n      <td>0</td>\n      <td>0</td>\n    </tr>\n  </tbody>\n</table>\n</div>"
     },
     "execution_count": 32,
     "metadata": {},
     "output_type": "execute_result"
    }
   ],
   "source": [
    "kmean_pipe = make_pipeline(\n",
    "\tStandardScaler(),\n",
    "\tKMeans(n_clusters=5)\n",
    ")\n",
    "\n",
    "items['item_kmean_class'] = kmean_pipe.fit_predict(items[['author', 'izd', 'bbk', 'is_textboot']])\n",
    "items.sample(7)"
   ],
   "metadata": {
    "collapsed": false,
    "pycharm": {
     "name": "#%%\n"
    }
   }
  },
  {
   "cell_type": "markdown",
   "source": [
    "## Создание эмбеддингов названий книг\n"
   ],
   "metadata": {
    "collapsed": false,
    "pycharm": {
     "name": "#%% md\n"
    }
   }
  },
  {
   "cell_type": "code",
   "execution_count": 33,
   "outputs": [],
   "source": [
    "# print(f'Максимальная длинна токена: {items[\"title\"].apply(lambda row: row.split()).apply(len).sort_values(ascending=False).values[0]}')"
   ],
   "metadata": {
    "collapsed": false,
    "pycharm": {
     "name": "#%%\n"
    }
   }
  },
  {
   "cell_type": "markdown",
   "source": [
    "Сгенерим эмбеддинги описаний\n"
   ],
   "metadata": {
    "collapsed": false,
    "pycharm": {
     "name": "#%% md\n"
    }
   }
  },
  {
   "cell_type": "code",
   "execution_count": 34,
   "outputs": [],
   "source": [
    "# batch_size = 1\n",
    "#\n",
    "# vector = items['title'].apply(lambda x: tokenizer.encode(x, add_special_tokens=True, truncation=True, max_length=151))\n",
    "# # применим padding к векторам\n",
    "# n = len(max(vector, key=len))\n",
    "# # англ. вектор с отступами\n",
    "# padded = np.array([i + [0]*(n - len(i)) for i in vector.values])\n",
    "#\n",
    "# # создадим маску для важных токенов\n",
    "# attention_mask = np.where(padded != 0, 1, 0)\n",
    "#\n",
    "# embeddings = []\n",
    "# for i in tqdm(range(padded.shape[0] // batch_size)):\n",
    "# \t# преобразуем данные\n",
    "# \tbatch = torch.LongTensor(padded[batch_size*i : batch_size*(i+1)]).to('cuda:0')\n",
    "# \t# преобразуем маску\n",
    "# \tattention_mask_batch = torch.LongTensor(attention_mask[batch_size*i : batch_size*(i+1)]).to('cuda:0')\n",
    "# \twith torch.no_grad():\n",
    "# \t\tbatch_embeddings = model(batch, attention_mask=attention_mask_batch)\n",
    "#\n",
    "# \t# преобразуем элементы методом numpy() к типу numpy.array\n",
    "# \tembeddings.append(batch_embeddings[0][:,0,:].cpu().numpy())\n",
    "#\n",
    "# features = pd.DataFrame(np.concatenate(embeddings))"
   ],
   "metadata": {
    "collapsed": false,
    "pycharm": {
     "name": "#%%\n"
    }
   }
  },
  {
   "cell_type": "code",
   "execution_count": 35,
   "outputs": [],
   "source": [
    "# features.to_csv('items_title_embeddings.csv', index=False)"
   ],
   "metadata": {
    "collapsed": false,
    "pycharm": {
     "name": "#%%\n"
    }
   }
  },
  {
   "cell_type": "code",
   "execution_count": 36,
   "outputs": [
    {
     "data": {
      "text/plain": "              sys_numb    author      izd     year_izd       bbk  is_textboot  \\\n235609  RSL01002959118   22665.0  22534.0         2006   94741.0            1   \n275401  RSL01002136967  171478.0  10854.0         1986  130777.0            1   \n353486  RSL01004348327  119286.0   1690.0         2009   91903.0            0   \n335406  RSL01002819388  171478.0  33897.0         2005   74070.0            1   \n86721   RSL01008583146   82972.0  33897.0         2017  130777.0            0   \n283282  RSL01004869282  171478.0   8704.0         2011   69096.0            1   \n8110    RSL07000362949  171478.0  33897.0  отсутствует  130777.0            0   \n\n        item_kmean_class         0         1         2  ...       758  \\\n235609                 3 -0.477946  0.879065 -0.820496  ...  0.300607   \n275401                 3 -0.010570  0.054546 -0.274104  ... -0.102245   \n353486                 4 -0.546297  0.149983 -0.422349  ... -0.017053   \n335406                 3 -0.009973  0.863742 -0.542800  ... -0.054990   \n86721                  2 -0.229861 -0.471015 -0.658167  ...  0.722205   \n283282                 3 -0.409682 -0.511083  0.379434  ...  0.383868   \n8110                   0  0.003803  0.204588 -0.205070  ... -0.079526   \n\n             759       760       761       762       763       764       765  \\\n235609  0.247886 -1.590933 -0.422365  0.825829  0.089491 -0.063888 -1.640378   \n275401  0.248315 -1.028383 -0.208678  1.199478  0.364111 -0.592717 -0.728675   \n353486  0.344494 -0.599477 -0.302137 -0.334257 -0.086596 -0.524603 -0.430878   \n335406  0.557439 -1.366467 -0.077067  0.463039 -0.306563  0.248377 -0.795569   \n86721   0.519452 -1.288758 -0.662250  1.151839 -0.128390  0.086169 -0.255075   \n283282  1.217856 -1.696886 -1.169554  1.496962  0.325771 -0.296277  0.004606   \n8110    0.209965 -0.544201 -0.241722 -0.020239 -0.108107 -0.332226  0.043390   \n\n             766       767  \n235609  0.729632 -0.880682  \n275401  0.403801 -0.213276  \n353486  0.546444 -1.389565  \n335406  0.195602 -0.030963  \n86721   0.931593 -0.725854  \n283282  0.653681 -0.821276  \n8110    0.285153 -0.181302  \n\n[7 rows x 775 columns]",
      "text/html": "<div>\n<style scoped>\n    .dataframe tbody tr th:only-of-type {\n        vertical-align: middle;\n    }\n\n    .dataframe tbody tr th {\n        vertical-align: top;\n    }\n\n    .dataframe thead th {\n        text-align: right;\n    }\n</style>\n<table border=\"1\" class=\"dataframe\">\n  <thead>\n    <tr style=\"text-align: right;\">\n      <th></th>\n      <th>sys_numb</th>\n      <th>author</th>\n      <th>izd</th>\n      <th>year_izd</th>\n      <th>bbk</th>\n      <th>is_textboot</th>\n      <th>item_kmean_class</th>\n      <th>0</th>\n      <th>1</th>\n      <th>2</th>\n      <th>...</th>\n      <th>758</th>\n      <th>759</th>\n      <th>760</th>\n      <th>761</th>\n      <th>762</th>\n      <th>763</th>\n      <th>764</th>\n      <th>765</th>\n      <th>766</th>\n      <th>767</th>\n    </tr>\n  </thead>\n  <tbody>\n    <tr>\n      <th>235609</th>\n      <td>RSL01002959118</td>\n      <td>22665.0</td>\n      <td>22534.0</td>\n      <td>2006</td>\n      <td>94741.0</td>\n      <td>1</td>\n      <td>3</td>\n      <td>-0.477946</td>\n      <td>0.879065</td>\n      <td>-0.820496</td>\n      <td>...</td>\n      <td>0.300607</td>\n      <td>0.247886</td>\n      <td>-1.590933</td>\n      <td>-0.422365</td>\n      <td>0.825829</td>\n      <td>0.089491</td>\n      <td>-0.063888</td>\n      <td>-1.640378</td>\n      <td>0.729632</td>\n      <td>-0.880682</td>\n    </tr>\n    <tr>\n      <th>275401</th>\n      <td>RSL01002136967</td>\n      <td>171478.0</td>\n      <td>10854.0</td>\n      <td>1986</td>\n      <td>130777.0</td>\n      <td>1</td>\n      <td>3</td>\n      <td>-0.010570</td>\n      <td>0.054546</td>\n      <td>-0.274104</td>\n      <td>...</td>\n      <td>-0.102245</td>\n      <td>0.248315</td>\n      <td>-1.028383</td>\n      <td>-0.208678</td>\n      <td>1.199478</td>\n      <td>0.364111</td>\n      <td>-0.592717</td>\n      <td>-0.728675</td>\n      <td>0.403801</td>\n      <td>-0.213276</td>\n    </tr>\n    <tr>\n      <th>353486</th>\n      <td>RSL01004348327</td>\n      <td>119286.0</td>\n      <td>1690.0</td>\n      <td>2009</td>\n      <td>91903.0</td>\n      <td>0</td>\n      <td>4</td>\n      <td>-0.546297</td>\n      <td>0.149983</td>\n      <td>-0.422349</td>\n      <td>...</td>\n      <td>-0.017053</td>\n      <td>0.344494</td>\n      <td>-0.599477</td>\n      <td>-0.302137</td>\n      <td>-0.334257</td>\n      <td>-0.086596</td>\n      <td>-0.524603</td>\n      <td>-0.430878</td>\n      <td>0.546444</td>\n      <td>-1.389565</td>\n    </tr>\n    <tr>\n      <th>335406</th>\n      <td>RSL01002819388</td>\n      <td>171478.0</td>\n      <td>33897.0</td>\n      <td>2005</td>\n      <td>74070.0</td>\n      <td>1</td>\n      <td>3</td>\n      <td>-0.009973</td>\n      <td>0.863742</td>\n      <td>-0.542800</td>\n      <td>...</td>\n      <td>-0.054990</td>\n      <td>0.557439</td>\n      <td>-1.366467</td>\n      <td>-0.077067</td>\n      <td>0.463039</td>\n      <td>-0.306563</td>\n      <td>0.248377</td>\n      <td>-0.795569</td>\n      <td>0.195602</td>\n      <td>-0.030963</td>\n    </tr>\n    <tr>\n      <th>86721</th>\n      <td>RSL01008583146</td>\n      <td>82972.0</td>\n      <td>33897.0</td>\n      <td>2017</td>\n      <td>130777.0</td>\n      <td>0</td>\n      <td>2</td>\n      <td>-0.229861</td>\n      <td>-0.471015</td>\n      <td>-0.658167</td>\n      <td>...</td>\n      <td>0.722205</td>\n      <td>0.519452</td>\n      <td>-1.288758</td>\n      <td>-0.662250</td>\n      <td>1.151839</td>\n      <td>-0.128390</td>\n      <td>0.086169</td>\n      <td>-0.255075</td>\n      <td>0.931593</td>\n      <td>-0.725854</td>\n    </tr>\n    <tr>\n      <th>283282</th>\n      <td>RSL01004869282</td>\n      <td>171478.0</td>\n      <td>8704.0</td>\n      <td>2011</td>\n      <td>69096.0</td>\n      <td>1</td>\n      <td>3</td>\n      <td>-0.409682</td>\n      <td>-0.511083</td>\n      <td>0.379434</td>\n      <td>...</td>\n      <td>0.383868</td>\n      <td>1.217856</td>\n      <td>-1.696886</td>\n      <td>-1.169554</td>\n      <td>1.496962</td>\n      <td>0.325771</td>\n      <td>-0.296277</td>\n      <td>0.004606</td>\n      <td>0.653681</td>\n      <td>-0.821276</td>\n    </tr>\n    <tr>\n      <th>8110</th>\n      <td>RSL07000362949</td>\n      <td>171478.0</td>\n      <td>33897.0</td>\n      <td>отсутствует</td>\n      <td>130777.0</td>\n      <td>0</td>\n      <td>0</td>\n      <td>0.003803</td>\n      <td>0.204588</td>\n      <td>-0.205070</td>\n      <td>...</td>\n      <td>-0.079526</td>\n      <td>0.209965</td>\n      <td>-0.544201</td>\n      <td>-0.241722</td>\n      <td>-0.020239</td>\n      <td>-0.108107</td>\n      <td>-0.332226</td>\n      <td>0.043390</td>\n      <td>0.285153</td>\n      <td>-0.181302</td>\n    </tr>\n  </tbody>\n</table>\n<p>7 rows × 775 columns</p>\n</div>"
     },
     "execution_count": 36,
     "metadata": {},
     "output_type": "execute_result"
    }
   ],
   "source": [
    "items = items.drop('title', axis=1)\n",
    "items = pd.concat(\n",
    "\t[\n",
    "\t\titems,\n",
    "\t\titems_title_embeddings\n",
    "\t],\n",
    "\taxis=1\n",
    ")\n",
    "items.sample(7)"
   ],
   "metadata": {
    "collapsed": false,
    "pycharm": {
     "name": "#%%\n"
    }
   }
  },
  {
   "cell_type": "code",
   "execution_count": 37,
   "outputs": [
    {
     "data": {
      "text/plain": "                 chb        sys_numb      date_1  is_real  type  source  \\\n50980   200000789223  RSL01004952412  2021-05-12      1.0   0.0     1.0   \n71089   200000872413  RSL01008795621  2021-04-08      1.0   1.0     0.0   \n186618  300000936104  RSL02000023023  2021-02-04      1.0   1.0     0.0   \n53234   200000792956  RSL01000736387  2021-01-19      1.0   0.0     1.0   \n63797   200000864451  RSL01003605288  2021-04-10      1.0   2.0     2.0   \n47822   200000782373  RSL01003478688  2021-05-06      1.0   2.0     2.0   \n100827  200001007313  RSL02000013914  2021-02-13      1.0   1.0     0.0   \n\n        is_printed  \n50980          1.0  \n71089          0.0  \n186618         0.0  \n53234          1.0  \n63797          0.0  \n47822          0.0  \n100827         0.0  ",
      "text/html": "<div>\n<style scoped>\n    .dataframe tbody tr th:only-of-type {\n        vertical-align: middle;\n    }\n\n    .dataframe tbody tr th {\n        vertical-align: top;\n    }\n\n    .dataframe thead th {\n        text-align: right;\n    }\n</style>\n<table border=\"1\" class=\"dataframe\">\n  <thead>\n    <tr style=\"text-align: right;\">\n      <th></th>\n      <th>chb</th>\n      <th>sys_numb</th>\n      <th>date_1</th>\n      <th>is_real</th>\n      <th>type</th>\n      <th>source</th>\n      <th>is_printed</th>\n    </tr>\n  </thead>\n  <tbody>\n    <tr>\n      <th>50980</th>\n      <td>200000789223</td>\n      <td>RSL01004952412</td>\n      <td>2021-05-12</td>\n      <td>1.0</td>\n      <td>0.0</td>\n      <td>1.0</td>\n      <td>1.0</td>\n    </tr>\n    <tr>\n      <th>71089</th>\n      <td>200000872413</td>\n      <td>RSL01008795621</td>\n      <td>2021-04-08</td>\n      <td>1.0</td>\n      <td>1.0</td>\n      <td>0.0</td>\n      <td>0.0</td>\n    </tr>\n    <tr>\n      <th>186618</th>\n      <td>300000936104</td>\n      <td>RSL02000023023</td>\n      <td>2021-02-04</td>\n      <td>1.0</td>\n      <td>1.0</td>\n      <td>0.0</td>\n      <td>0.0</td>\n    </tr>\n    <tr>\n      <th>53234</th>\n      <td>200000792956</td>\n      <td>RSL01000736387</td>\n      <td>2021-01-19</td>\n      <td>1.0</td>\n      <td>0.0</td>\n      <td>1.0</td>\n      <td>1.0</td>\n    </tr>\n    <tr>\n      <th>63797</th>\n      <td>200000864451</td>\n      <td>RSL01003605288</td>\n      <td>2021-04-10</td>\n      <td>1.0</td>\n      <td>2.0</td>\n      <td>2.0</td>\n      <td>0.0</td>\n    </tr>\n    <tr>\n      <th>47822</th>\n      <td>200000782373</td>\n      <td>RSL01003478688</td>\n      <td>2021-05-06</td>\n      <td>1.0</td>\n      <td>2.0</td>\n      <td>2.0</td>\n      <td>0.0</td>\n    </tr>\n    <tr>\n      <th>100827</th>\n      <td>200001007313</td>\n      <td>RSL02000013914</td>\n      <td>2021-02-13</td>\n      <td>1.0</td>\n      <td>1.0</td>\n      <td>0.0</td>\n      <td>0.0</td>\n    </tr>\n  </tbody>\n</table>\n</div>"
     },
     "execution_count": 37,
     "metadata": {},
     "output_type": "execute_result"
    }
   ],
   "source": [
    "# train_transactions = train_transactions.drop('date_1', axis=1)\n",
    "\n",
    "transactions_data_encoder = OrdinalEncoder()\n",
    "transactions_encode_columns = ['is_real', 'type', 'source', 'is_printed']\n",
    "train_transactions[transactions_encode_columns] = transactions_data_encoder.fit_transform(train_transactions[transactions_encode_columns])\n",
    "train_transactions.sample(7)"
   ],
   "metadata": {
    "collapsed": false,
    "pycharm": {
     "name": "#%%\n"
    }
   }
  },
  {
   "cell_type": "code",
   "execution_count": 38,
   "outputs": [
    {
     "data": {
      "text/plain": "                 chb        sys_numb  count\n213726  300001090427  RSL07000449201     44\n86257   200000987642  RSL01004357029     42\n80884   200000957291  RSL01006724299     35\n144763  300000850004  RSL01010175347     35\n144698  300000850004  RSL01002745675     26\n...              ...             ...    ...\n14562   100000929463  RSL01001159547      4\n55142   200000846112  RSL01003311865      4\n177886  300000996405  RSL01010535294      4\n66215   200000877628  RSL01009796677      4\n169180  300000950569  RSL60000207528      4\n\n[1841 rows x 3 columns]",
      "text/html": "<div>\n<style scoped>\n    .dataframe tbody tr th:only-of-type {\n        vertical-align: middle;\n    }\n\n    .dataframe tbody tr th {\n        vertical-align: top;\n    }\n\n    .dataframe thead th {\n        text-align: right;\n    }\n</style>\n<table border=\"1\" class=\"dataframe\">\n  <thead>\n    <tr style=\"text-align: right;\">\n      <th></th>\n      <th>chb</th>\n      <th>sys_numb</th>\n      <th>count</th>\n    </tr>\n  </thead>\n  <tbody>\n    <tr>\n      <th>213726</th>\n      <td>300001090427</td>\n      <td>RSL07000449201</td>\n      <td>44</td>\n    </tr>\n    <tr>\n      <th>86257</th>\n      <td>200000987642</td>\n      <td>RSL01004357029</td>\n      <td>42</td>\n    </tr>\n    <tr>\n      <th>80884</th>\n      <td>200000957291</td>\n      <td>RSL01006724299</td>\n      <td>35</td>\n    </tr>\n    <tr>\n      <th>144763</th>\n      <td>300000850004</td>\n      <td>RSL01010175347</td>\n      <td>35</td>\n    </tr>\n    <tr>\n      <th>144698</th>\n      <td>300000850004</td>\n      <td>RSL01002745675</td>\n      <td>26</td>\n    </tr>\n    <tr>\n      <th>...</th>\n      <td>...</td>\n      <td>...</td>\n      <td>...</td>\n    </tr>\n    <tr>\n      <th>14562</th>\n      <td>100000929463</td>\n      <td>RSL01001159547</td>\n      <td>4</td>\n    </tr>\n    <tr>\n      <th>55142</th>\n      <td>200000846112</td>\n      <td>RSL01003311865</td>\n      <td>4</td>\n    </tr>\n    <tr>\n      <th>177886</th>\n      <td>300000996405</td>\n      <td>RSL01010535294</td>\n      <td>4</td>\n    </tr>\n    <tr>\n      <th>66215</th>\n      <td>200000877628</td>\n      <td>RSL01009796677</td>\n      <td>4</td>\n    </tr>\n    <tr>\n      <th>169180</th>\n      <td>300000950569</td>\n      <td>RSL60000207528</td>\n      <td>4</td>\n    </tr>\n  </tbody>\n</table>\n<p>1841 rows × 3 columns</p>\n</div>"
     },
     "execution_count": 38,
     "metadata": {},
     "output_type": "execute_result"
    }
   ],
   "source": [
    "most_viewed = train_transactions.groupby(['chb', 'sys_numb']).count().rename({'date_1': 'count'}, axis=1)['count'].reset_index().sort_values(by='count', ascending=False)\n",
    "\n",
    "most_viewed = most_viewed[most_viewed['count'] >= 4]\n",
    "most_viewed"
   ],
   "metadata": {
    "collapsed": false,
    "pycharm": {
     "name": "#%%\n"
    }
   }
  },
  {
   "cell_type": "code",
   "execution_count": 39,
   "outputs": [
    {
     "data": {
      "text/plain": "       izd    author                          sys_numb\n0  31521.0  135204.0                  [RSL01003738918]\n1  33897.0   68139.0                  [RSL01000301324]\n2  33897.0  104409.0                  [RSL01003829301]\n3  33897.0  123490.0                  [RSL01004011405]\n4  33897.0  124733.0  [RSL01002895371, RSL01002903839]\n5  33897.0  137902.0                  [RSL01006644591]\n6  36026.0   18140.0                  [RSL01003556103]\n7  36093.0  135204.0                  [RSL01003716900]",
      "text/html": "<div>\n<style scoped>\n    .dataframe tbody tr th:only-of-type {\n        vertical-align: middle;\n    }\n\n    .dataframe tbody tr th {\n        vertical-align: top;\n    }\n\n    .dataframe thead th {\n        text-align: right;\n    }\n</style>\n<table border=\"1\" class=\"dataframe\">\n  <thead>\n    <tr style=\"text-align: right;\">\n      <th></th>\n      <th>izd</th>\n      <th>author</th>\n      <th>sys_numb</th>\n    </tr>\n  </thead>\n  <tbody>\n    <tr>\n      <th>0</th>\n      <td>31521.0</td>\n      <td>135204.0</td>\n      <td>[RSL01003738918]</td>\n    </tr>\n    <tr>\n      <th>1</th>\n      <td>33897.0</td>\n      <td>68139.0</td>\n      <td>[RSL01000301324]</td>\n    </tr>\n    <tr>\n      <th>2</th>\n      <td>33897.0</td>\n      <td>104409.0</td>\n      <td>[RSL01003829301]</td>\n    </tr>\n    <tr>\n      <th>3</th>\n      <td>33897.0</td>\n      <td>123490.0</td>\n      <td>[RSL01004011405]</td>\n    </tr>\n    <tr>\n      <th>4</th>\n      <td>33897.0</td>\n      <td>124733.0</td>\n      <td>[RSL01002895371, RSL01002903839]</td>\n    </tr>\n    <tr>\n      <th>5</th>\n      <td>33897.0</td>\n      <td>137902.0</td>\n      <td>[RSL01006644591]</td>\n    </tr>\n    <tr>\n      <th>6</th>\n      <td>36026.0</td>\n      <td>18140.0</td>\n      <td>[RSL01003556103]</td>\n    </tr>\n    <tr>\n      <th>7</th>\n      <td>36093.0</td>\n      <td>135204.0</td>\n      <td>[RSL01003716900]</td>\n    </tr>\n  </tbody>\n</table>\n</div>"
     },
     "execution_count": 39,
     "metadata": {},
     "output_type": "execute_result"
    }
   ],
   "source": [
    "predp = train_transactions.groupby(['chb'])['sys_numb'].apply(list)\n",
    "\n",
    "items[items['sys_numb'].isin(predp.loc['100000711986'])].groupby(['izd', 'author'])['sys_numb'].apply(list).reset_index()"
   ],
   "metadata": {
    "collapsed": false,
    "pycharm": {
     "name": "#%%\n"
    }
   }
  },
  {
   "cell_type": "code",
   "execution_count": 40,
   "outputs": [
    {
     "data": {
      "text/plain": "chb\n100000641403     [RSL01004206702, RSL01000769304, RSL01004211574]\n100000644359    [RSL01009800093, RSL01003557352, RSL0101058731...\n100000665127    [RSL01003947258, RSL01003276143, RSL0101011743...\n100000676191     [RSL60000203658, RSL01005076342, RSL60000305661]\n100000679200    [RSL01003462568, RSL01010248423, RSL0100328901...\n                                      ...                        \n300001170610    [RSL01009427881, RSL01009427881, RSL0100390718...\n300001172682                     [RSL01005084974, RSL01003305563]\n300001172795    [RSL01003681873, RSL01003629006, RSL0100356731...\n300001173062    [RSL01002899944, RSL01002899944, RSL0100281651...\n400001035059     [RSL01002298169, RSL01002632325, RSL01003421323]\nName: sys_numb, Length: 16753, dtype: object"
     },
     "execution_count": 40,
     "metadata": {},
     "output_type": "execute_result"
    }
   ],
   "source": [
    "predp"
   ],
   "metadata": {
    "collapsed": false,
    "pycharm": {
     "name": "#%%\n"
    }
   }
  },
  {
   "cell_type": "markdown",
   "source": [
    "Создадим индекс для айтемов"
   ],
   "metadata": {
    "collapsed": false,
    "pycharm": {
     "name": "#%% md\n"
    }
   }
  },
  {
   "cell_type": "code",
   "execution_count": 41,
   "outputs": [
    {
     "data": {
      "text/plain": "         sys_numb    author      izd year_izd       bbk  is_textboot  \\\n0  RSL01008600016   93911.0  32580.0     2016   72799.0            0   \n1  RSL01004304880   48327.0  33897.0     2006  130777.0            0   \n2  RSL07000461043  171478.0  33897.0        0  130777.0            0   \n3  RSL07000433335  171478.0  33897.0        0  130777.0            0   \n4  RSL01002419013  167650.0  22996.0     2004  122581.0            0   \n\n   item_kmean_class         0         1         2  ...       758       759  \\\n0                 1 -0.829435  0.707242 -0.909075  ... -0.279680  0.087414   \n1                 2 -0.173611 -0.045968 -0.636685  ...  0.641574  0.170896   \n2                 0  0.003803  0.204588 -0.205070  ... -0.079526  0.209965   \n3                 0  0.003803  0.204588 -0.205070  ... -0.079526  0.209965   \n4                 0 -0.161775 -0.028736 -0.701615  ...  0.359039  0.212547   \n\n        760       761       762       763       764       765       766  \\\n0 -0.621644 -0.145256  0.914800 -0.219325 -0.093396 -0.731793  1.235529   \n1 -0.585657 -0.311282  0.669547  0.145333  0.132103 -0.610703  0.408084   \n2 -0.544201 -0.241722 -0.020239 -0.108107 -0.332226  0.043390  0.285153   \n3 -0.544201 -0.241722 -0.020239 -0.108107 -0.332226  0.043390  0.285153   \n4 -1.460411 -0.149345  0.402753 -0.024701 -0.497746 -0.086930  0.472253   \n\n        767  \n0 -0.886894  \n1 -0.817821  \n2 -0.181302  \n3 -0.181302  \n4 -0.625737  \n\n[5 rows x 775 columns]",
      "text/html": "<div>\n<style scoped>\n    .dataframe tbody tr th:only-of-type {\n        vertical-align: middle;\n    }\n\n    .dataframe tbody tr th {\n        vertical-align: top;\n    }\n\n    .dataframe thead th {\n        text-align: right;\n    }\n</style>\n<table border=\"1\" class=\"dataframe\">\n  <thead>\n    <tr style=\"text-align: right;\">\n      <th></th>\n      <th>sys_numb</th>\n      <th>author</th>\n      <th>izd</th>\n      <th>year_izd</th>\n      <th>bbk</th>\n      <th>is_textboot</th>\n      <th>item_kmean_class</th>\n      <th>0</th>\n      <th>1</th>\n      <th>2</th>\n      <th>...</th>\n      <th>758</th>\n      <th>759</th>\n      <th>760</th>\n      <th>761</th>\n      <th>762</th>\n      <th>763</th>\n      <th>764</th>\n      <th>765</th>\n      <th>766</th>\n      <th>767</th>\n    </tr>\n  </thead>\n  <tbody>\n    <tr>\n      <th>0</th>\n      <td>RSL01008600016</td>\n      <td>93911.0</td>\n      <td>32580.0</td>\n      <td>2016</td>\n      <td>72799.0</td>\n      <td>0</td>\n      <td>1</td>\n      <td>-0.829435</td>\n      <td>0.707242</td>\n      <td>-0.909075</td>\n      <td>...</td>\n      <td>-0.279680</td>\n      <td>0.087414</td>\n      <td>-0.621644</td>\n      <td>-0.145256</td>\n      <td>0.914800</td>\n      <td>-0.219325</td>\n      <td>-0.093396</td>\n      <td>-0.731793</td>\n      <td>1.235529</td>\n      <td>-0.886894</td>\n    </tr>\n    <tr>\n      <th>1</th>\n      <td>RSL01004304880</td>\n      <td>48327.0</td>\n      <td>33897.0</td>\n      <td>2006</td>\n      <td>130777.0</td>\n      <td>0</td>\n      <td>2</td>\n      <td>-0.173611</td>\n      <td>-0.045968</td>\n      <td>-0.636685</td>\n      <td>...</td>\n      <td>0.641574</td>\n      <td>0.170896</td>\n      <td>-0.585657</td>\n      <td>-0.311282</td>\n      <td>0.669547</td>\n      <td>0.145333</td>\n      <td>0.132103</td>\n      <td>-0.610703</td>\n      <td>0.408084</td>\n      <td>-0.817821</td>\n    </tr>\n    <tr>\n      <th>2</th>\n      <td>RSL07000461043</td>\n      <td>171478.0</td>\n      <td>33897.0</td>\n      <td>0</td>\n      <td>130777.0</td>\n      <td>0</td>\n      <td>0</td>\n      <td>0.003803</td>\n      <td>0.204588</td>\n      <td>-0.205070</td>\n      <td>...</td>\n      <td>-0.079526</td>\n      <td>0.209965</td>\n      <td>-0.544201</td>\n      <td>-0.241722</td>\n      <td>-0.020239</td>\n      <td>-0.108107</td>\n      <td>-0.332226</td>\n      <td>0.043390</td>\n      <td>0.285153</td>\n      <td>-0.181302</td>\n    </tr>\n    <tr>\n      <th>3</th>\n      <td>RSL07000433335</td>\n      <td>171478.0</td>\n      <td>33897.0</td>\n      <td>0</td>\n      <td>130777.0</td>\n      <td>0</td>\n      <td>0</td>\n      <td>0.003803</td>\n      <td>0.204588</td>\n      <td>-0.205070</td>\n      <td>...</td>\n      <td>-0.079526</td>\n      <td>0.209965</td>\n      <td>-0.544201</td>\n      <td>-0.241722</td>\n      <td>-0.020239</td>\n      <td>-0.108107</td>\n      <td>-0.332226</td>\n      <td>0.043390</td>\n      <td>0.285153</td>\n      <td>-0.181302</td>\n    </tr>\n    <tr>\n      <th>4</th>\n      <td>RSL01002419013</td>\n      <td>167650.0</td>\n      <td>22996.0</td>\n      <td>2004</td>\n      <td>122581.0</td>\n      <td>0</td>\n      <td>0</td>\n      <td>-0.161775</td>\n      <td>-0.028736</td>\n      <td>-0.701615</td>\n      <td>...</td>\n      <td>0.359039</td>\n      <td>0.212547</td>\n      <td>-1.460411</td>\n      <td>-0.149345</td>\n      <td>0.402753</td>\n      <td>-0.024701</td>\n      <td>-0.497746</td>\n      <td>-0.086930</td>\n      <td>0.472253</td>\n      <td>-0.625737</td>\n    </tr>\n  </tbody>\n</table>\n<p>5 rows × 775 columns</p>\n</div>"
     },
     "execution_count": 41,
     "metadata": {},
     "output_type": "execute_result"
    }
   ],
   "source": [
    "items['year_izd'] = items['year_izd'].replace({'отсутствует': 0, '': 0})\n",
    "items.head()"
   ],
   "metadata": {
    "collapsed": false,
    "pycharm": {
     "name": "#%%\n"
    }
   }
  },
  {
   "cell_type": "code",
   "execution_count": 42,
   "outputs": [
    {
     "name": "stdout",
     "output_type": "stream",
     "text": [
      "0\n",
      "354355\n"
     ]
    }
   ],
   "source": [
    "items_to_index = items.drop('sys_numb', axis=1)\n",
    "\n",
    "items_index = faiss.IndexFlatL2(items_to_index.shape[1])\n",
    "print(items_index.ntotal)  # пока индекс пустой\n",
    "\n",
    "items_index.add(np.ascontiguousarray(items_to_index.to_numpy().astype('float32')))\n",
    "print(items_index.ntotal)  # теперь в нем n векторов\n",
    "\n",
    " # расстояния, отсортированные по убыванию"
   ],
   "metadata": {
    "collapsed": false,
    "pycharm": {
     "name": "#%%\n"
    }
   }
  },
  {
   "cell_type": "code",
   "execution_count": 43,
   "outputs": [],
   "source": [
    "# сохраняем индекс в файл\n",
    "#faiss.write_index(index, 'faiss_items_index.index')"
   ],
   "metadata": {
    "collapsed": false,
    "pycharm": {
     "name": "#%%\n"
    }
   }
  },
  {
   "cell_type": "markdown",
   "source": [
    "## Объединим датасеты"
   ],
   "metadata": {
    "collapsed": false,
    "pycharm": {
     "name": "#%% md\n"
    }
   }
  },
  {
   "cell_type": "code",
   "execution_count": 44,
   "outputs": [
    {
     "data": {
      "text/plain": "                 chb        sys_numb      date_1  is_real  type  source  \\\n52499   200000789223  RSL01000907806  2021-02-09      1.0   0.0     1.0   \n216916  300001042075  RSL01001715505  2021-10-26      1.0   0.0     1.0   \n130972  200001090885  RSL01004723182  2021-10-15      1.0   1.0     0.0   \n133232  200001099715  RSL01008734006  2021-10-27      1.0   1.0     0.0   \n172117  300000893684  RSL07000392045  2021-05-28      1.0   1.0     0.0   \n238381  300001080051  RSL01009550721  2021-04-23      1.0   0.0     1.0   \n209448  300001024606  RSL01004743862  2021-12-06      1.0   0.0     1.0   \n\n        is_printed  age  gender  chit_type  ...       758       759       760  \\\n52499          1.0   67     0.0        1.0  ...  0.169481  0.180098 -1.080560   \n216916         1.0   48     0.0        0.0  ...  0.357168 -0.035538 -0.606147   \n130972         0.0   24     1.0        2.0  ...  0.249712  0.588491 -1.007645   \n133232         0.0   24     0.0        2.0  ...  0.170834  0.437622 -1.114273   \n172117         0.0   26     0.0        1.0  ... -0.079526  0.209965 -0.544201   \n238381         1.0   24     0.0        2.0  ... -0.178667  0.985730 -1.093430   \n209448         1.0   31     1.0        0.0  ... -0.307671  0.224934 -0.625844   \n\n             761       762       763       764       765       766       767  \n52499  -0.351517  0.487906  0.119887  0.287182 -0.453381  0.058641 -0.653946  \n216916 -0.350501 -0.286356 -0.025331  0.272961 -0.216696  0.019200 -0.476531  \n130972 -1.019265  0.891590  0.314563 -0.208028 -0.681700  0.589731 -0.542481  \n133232 -0.661416  0.950592  0.336382  0.277352  0.191245  0.684618 -0.579157  \n172117 -0.241722 -0.020239 -0.108107 -0.332226  0.043390  0.285153 -0.181302  \n238381 -0.336779  0.925864 -0.089196  0.231511 -0.244338  0.806588 -0.497898  \n209448 -0.124343  0.955143 -0.049972 -0.170146 -0.339338  0.710404 -0.197472  \n\n[7 rows x 785 columns]",
      "text/html": "<div>\n<style scoped>\n    .dataframe tbody tr th:only-of-type {\n        vertical-align: middle;\n    }\n\n    .dataframe tbody tr th {\n        vertical-align: top;\n    }\n\n    .dataframe thead th {\n        text-align: right;\n    }\n</style>\n<table border=\"1\" class=\"dataframe\">\n  <thead>\n    <tr style=\"text-align: right;\">\n      <th></th>\n      <th>chb</th>\n      <th>sys_numb</th>\n      <th>date_1</th>\n      <th>is_real</th>\n      <th>type</th>\n      <th>source</th>\n      <th>is_printed</th>\n      <th>age</th>\n      <th>gender</th>\n      <th>chit_type</th>\n      <th>...</th>\n      <th>758</th>\n      <th>759</th>\n      <th>760</th>\n      <th>761</th>\n      <th>762</th>\n      <th>763</th>\n      <th>764</th>\n      <th>765</th>\n      <th>766</th>\n      <th>767</th>\n    </tr>\n  </thead>\n  <tbody>\n    <tr>\n      <th>52499</th>\n      <td>200000789223</td>\n      <td>RSL01000907806</td>\n      <td>2021-02-09</td>\n      <td>1.0</td>\n      <td>0.0</td>\n      <td>1.0</td>\n      <td>1.0</td>\n      <td>67</td>\n      <td>0.0</td>\n      <td>1.0</td>\n      <td>...</td>\n      <td>0.169481</td>\n      <td>0.180098</td>\n      <td>-1.080560</td>\n      <td>-0.351517</td>\n      <td>0.487906</td>\n      <td>0.119887</td>\n      <td>0.287182</td>\n      <td>-0.453381</td>\n      <td>0.058641</td>\n      <td>-0.653946</td>\n    </tr>\n    <tr>\n      <th>216916</th>\n      <td>300001042075</td>\n      <td>RSL01001715505</td>\n      <td>2021-10-26</td>\n      <td>1.0</td>\n      <td>0.0</td>\n      <td>1.0</td>\n      <td>1.0</td>\n      <td>48</td>\n      <td>0.0</td>\n      <td>0.0</td>\n      <td>...</td>\n      <td>0.357168</td>\n      <td>-0.035538</td>\n      <td>-0.606147</td>\n      <td>-0.350501</td>\n      <td>-0.286356</td>\n      <td>-0.025331</td>\n      <td>0.272961</td>\n      <td>-0.216696</td>\n      <td>0.019200</td>\n      <td>-0.476531</td>\n    </tr>\n    <tr>\n      <th>130972</th>\n      <td>200001090885</td>\n      <td>RSL01004723182</td>\n      <td>2021-10-15</td>\n      <td>1.0</td>\n      <td>1.0</td>\n      <td>0.0</td>\n      <td>0.0</td>\n      <td>24</td>\n      <td>1.0</td>\n      <td>2.0</td>\n      <td>...</td>\n      <td>0.249712</td>\n      <td>0.588491</td>\n      <td>-1.007645</td>\n      <td>-1.019265</td>\n      <td>0.891590</td>\n      <td>0.314563</td>\n      <td>-0.208028</td>\n      <td>-0.681700</td>\n      <td>0.589731</td>\n      <td>-0.542481</td>\n    </tr>\n    <tr>\n      <th>133232</th>\n      <td>200001099715</td>\n      <td>RSL01008734006</td>\n      <td>2021-10-27</td>\n      <td>1.0</td>\n      <td>1.0</td>\n      <td>0.0</td>\n      <td>0.0</td>\n      <td>24</td>\n      <td>0.0</td>\n      <td>2.0</td>\n      <td>...</td>\n      <td>0.170834</td>\n      <td>0.437622</td>\n      <td>-1.114273</td>\n      <td>-0.661416</td>\n      <td>0.950592</td>\n      <td>0.336382</td>\n      <td>0.277352</td>\n      <td>0.191245</td>\n      <td>0.684618</td>\n      <td>-0.579157</td>\n    </tr>\n    <tr>\n      <th>172117</th>\n      <td>300000893684</td>\n      <td>RSL07000392045</td>\n      <td>2021-05-28</td>\n      <td>1.0</td>\n      <td>1.0</td>\n      <td>0.0</td>\n      <td>0.0</td>\n      <td>26</td>\n      <td>0.0</td>\n      <td>1.0</td>\n      <td>...</td>\n      <td>-0.079526</td>\n      <td>0.209965</td>\n      <td>-0.544201</td>\n      <td>-0.241722</td>\n      <td>-0.020239</td>\n      <td>-0.108107</td>\n      <td>-0.332226</td>\n      <td>0.043390</td>\n      <td>0.285153</td>\n      <td>-0.181302</td>\n    </tr>\n    <tr>\n      <th>238381</th>\n      <td>300001080051</td>\n      <td>RSL01009550721</td>\n      <td>2021-04-23</td>\n      <td>1.0</td>\n      <td>0.0</td>\n      <td>1.0</td>\n      <td>1.0</td>\n      <td>24</td>\n      <td>0.0</td>\n      <td>2.0</td>\n      <td>...</td>\n      <td>-0.178667</td>\n      <td>0.985730</td>\n      <td>-1.093430</td>\n      <td>-0.336779</td>\n      <td>0.925864</td>\n      <td>-0.089196</td>\n      <td>0.231511</td>\n      <td>-0.244338</td>\n      <td>0.806588</td>\n      <td>-0.497898</td>\n    </tr>\n    <tr>\n      <th>209448</th>\n      <td>300001024606</td>\n      <td>RSL01004743862</td>\n      <td>2021-12-06</td>\n      <td>1.0</td>\n      <td>0.0</td>\n      <td>1.0</td>\n      <td>1.0</td>\n      <td>31</td>\n      <td>1.0</td>\n      <td>0.0</td>\n      <td>...</td>\n      <td>-0.307671</td>\n      <td>0.224934</td>\n      <td>-0.625844</td>\n      <td>-0.124343</td>\n      <td>0.955143</td>\n      <td>-0.049972</td>\n      <td>-0.170146</td>\n      <td>-0.339338</td>\n      <td>0.710404</td>\n      <td>-0.197472</td>\n    </tr>\n  </tbody>\n</table>\n<p>7 rows × 785 columns</p>\n</div>"
     },
     "execution_count": 44,
     "metadata": {},
     "output_type": "execute_result"
    }
   ],
   "source": [
    "full_data = pd.merge(pd.merge(train_transactions, users, on='chb', how='left'), items, on='sys_numb', how='left')\n",
    "full_data.loc[full_data[full_data['year_izd'] == ''].index, 'year_izd'] = '0'\n",
    "# full_data['year_izd'] = full_data['year_izd'].apply(lambda year: 0 if 'отсутствует' in year else year).astype('int')\n",
    "full_data.sample(7)"
   ],
   "metadata": {
    "collapsed": false,
    "pycharm": {
     "name": "#%%\n"
    }
   }
  },
  {
   "cell_type": "code",
   "execution_count": 45,
   "outputs": [],
   "source": [
    "full_data = full_data.drop_duplicates().reset_index(drop=True)"
   ],
   "metadata": {
    "collapsed": false,
    "pycharm": {
     "name": "#%%\n"
    }
   }
  },
  {
   "cell_type": "markdown",
   "source": [
    "# Построим индексы\n"
   ],
   "metadata": {
    "collapsed": false,
    "pycharm": {
     "name": "#%% md\n"
    }
   }
  },
  {
   "cell_type": "code",
   "execution_count": 46,
   "outputs": [],
   "source": [
    "# full_data.to_csv('../data/full_data.csv', index=False)"
   ],
   "metadata": {
    "collapsed": false,
    "pycharm": {
     "name": "#%%\n"
    }
   }
  },
  {
   "cell_type": "code",
   "execution_count": 47,
   "outputs": [],
   "source": [
    "# new_full_data = full_data.set_index(['chb', 'sys_numb'], drop=True).head()\n",
    "users_id = full_data['chb']\n",
    "items_id = full_data['sys_numb']\n",
    "full_data = full_data.drop(['chb', 'sys_numb'], axis=1)"
   ],
   "metadata": {
    "collapsed": false,
    "pycharm": {
     "name": "#%%\n"
    }
   }
  },
  {
   "cell_type": "markdown",
   "source": [
    "## Создадим матрицу взаимодействий пользователя\n"
   ],
   "metadata": {
    "collapsed": false,
    "pycharm": {
     "name": "#%% md\n"
    }
   }
  },
  {
   "cell_type": "code",
   "execution_count": 48,
   "outputs": [],
   "source": [
    "# user_iteractions = pd.DataFrame(\n",
    "# \tnp.empty(shape=(len(set(users['chb'].values)), len(set(items['sys_numb'].values))), dtype=np.int8),\n",
    "# \tindex=list(set(users['chb'].values)),\n",
    "# \tcolumns=list(set(items['sys_numb'].values)),\n",
    "# )\n",
    "#\n",
    "# for user in tqdm(list(set(users['chb'].values))):\n",
    "# \tuser_readed_books = list(set(train_transactions[train_transactions['chb'] == user]['sys_numb'].values))\n",
    "# \tfor read_book_user in user_readed_books:\n",
    "# \t\tuser_iteractions.loc[user, read_book_user] = 1\n",
    "#\n",
    "# from scipy.sparse import csr_matrix\n",
    "# user_iteractions_csr = csr_matrix(user_iteractions.values)"
   ],
   "metadata": {
    "collapsed": false,
    "pycharm": {
     "name": "#%%\n"
    }
   }
  },
  {
   "cell_type": "markdown",
   "source": [
    "## Попробуем решить задачу с помощью FAISS"
   ],
   "metadata": {
    "collapsed": false,
    "pycharm": {
     "name": "#%% md\n"
    }
   }
  },
  {
   "cell_type": "code",
   "execution_count": 49,
   "outputs": [],
   "source": [
    "full_data = full_data.drop('date_1', axis=1)"
   ],
   "metadata": {
    "collapsed": false,
    "pycharm": {
     "name": "#%%\n"
    }
   }
  },
  {
   "cell_type": "code",
   "execution_count": 50,
   "outputs": [
    {
     "name": "stdout",
     "output_type": "stream",
     "text": [
      "0\n",
      "259566\n",
      "[  4731   4730   4732 184708 200262 252876 176468 237421 164566 223609]\n",
      "[[   0.        0.        0.     2872.8076 3131.7078 3741.814  3825.946\n",
      "  4155.816  4277.8267 4334.979 ]]\n"
     ]
    }
   ],
   "source": [
    "index = faiss.IndexFlatL2(full_data.shape[1])\n",
    "print(index.ntotal)  # пока индекс пустой\n",
    "\n",
    "index.add(np.ascontiguousarray(full_data.to_numpy().astype('float32')))\n",
    "print(index.ntotal)  # теперь в нем n векторов\n",
    "\n",
    "topn = 10\n",
    "\n",
    "product_index_in_data = 4732\n",
    "dist, same_embedding_indexes = index.search(\n",
    "\tnp.ascontiguousarray(full_data.loc[product_index_in_data].to_numpy().astype('float32').reshape((1, -1))),\n",
    "\ttopn)\n",
    "\n",
    "print(same_embedding_indexes[0])  # индексы самых похожих векторов\n",
    "print(dist)  # расстояния, отсортированные по убыванию"
   ],
   "metadata": {
    "collapsed": false,
    "pycharm": {
     "name": "#%%\n"
    }
   }
  },
  {
   "cell_type": "code",
   "execution_count": 51,
   "outputs": [],
   "source": [
    "import catboost"
   ],
   "metadata": {
    "collapsed": false,
    "pycharm": {
     "name": "#%%\n"
    }
   }
  },
  {
   "cell_type": "code",
   "execution_count": 74,
   "outputs": [
    {
     "data": {
      "text/plain": "chb\n100000641403     1\n100000644359    12\n100000665127     4\n100000676191     1\n100000679200     1\n100000681262    20\n100000683677     2\n100000689674     8\n100000692449     7\n100000693475     2\n100000695045     5\n100000697273     3\n100000698405     6\n100000702964     3\n100000704313    20\n100000705925    20\n100000706981     9\n100000711986     5\n100000715413     2\n100000717512     4\n100000717612     5\n100000718304    14\n100000720098    20\n100000722110     1\n100000722645     1\n100000728030    11\n100000730783     4\n100000733127     2\n100000733883     1\n100000737450     2\nName: count, dtype: int32"
     },
     "execution_count": 74,
     "metadata": {},
     "output_type": "execute_result"
    }
   ],
   "source": [
    "train_transactions['date_1'] = pd.to_datetime(train_transactions['date_1'])\n",
    "# train_transactions.head()\n",
    "train_transactions['month'] = train_transactions['date_1'].dt.to_period(\"M\")\n",
    "\n",
    "n_recs = train_transactions.groupby(['chb', 'month']).count().reset_index().groupby('chb').mean().astype('int').rename({'type': 'count'}, axis=1)['count']\n",
    "n_recs[n_recs >= 20] = 20\n",
    "\n",
    "n_recs.head(30)"
   ],
   "metadata": {
    "collapsed": false,
    "pycharm": {
     "name": "#%%\n"
    }
   }
  },
  {
   "cell_type": "code",
   "execution_count": 76,
   "outputs": [
    {
     "data": {
      "text/plain": "12"
     },
     "execution_count": 76,
     "metadata": {},
     "output_type": "execute_result"
    }
   ],
   "source": [
    "n_recs.loc['100000644359']"
   ],
   "metadata": {
    "collapsed": false,
    "pycharm": {
     "name": "#%%\n"
    }
   }
  },
  {
   "cell_type": "code",
   "execution_count": null,
   "outputs": [],
   "source": [
    "full_data = full_data.drop('date_1', axis=1)"
   ],
   "metadata": {
    "collapsed": false,
    "pycharm": {
     "name": "#%%\n"
    }
   }
  },
  {
   "cell_type": "code",
   "execution_count": 82,
   "outputs": [
    {
     "data": {
      "text/plain": "  0%|          | 0/16753 [00:00<?, ?it/s]",
      "application/vnd.jupyter.widget-view+json": {
       "version_major": 2,
       "version_minor": 0,
       "model_id": "5a9a44edf3184778bbd826d71b264776"
      },
      "application/json": {
       "n": 0,
       "total": 16753,
       "elapsed": 0.011002540588378906,
       "ncols": null,
       "nrows": null,
       "prefix": "",
       "ascii": false,
       "unit": "it",
       "unit_scale": false,
       "rate": null,
       "bar_format": null,
       "postfix": null,
       "unit_divisor": 1000,
       "initial": 0,
       "colour": null
      }
     },
     "metadata": {},
     "output_type": "display_data"
    },
    {
     "name": "stdout",
     "output_type": "stream",
     "text": [
      "300001061444: count rec 0\n",
      "300001075805: count rec 1\n",
      "300001083398: count rec 0\n",
      "300001091095: count rec 0\n",
      "200001078466: count rec 0\n",
      "200001118680: count rec 0\n",
      "200001064465: count rec 0\n",
      "300000866641: count rec 0\n",
      "300001124819: count rec 0\n",
      "300001109363: count rec 0\n",
      "300001154804: count rec 0\n",
      "300001120762: count rec 0\n",
      "100001060592: count rec 0\n",
      "200001081782: count rec 0\n",
      "300001072961: count rec 0\n",
      "200001108542: count rec 0\n",
      "200001009261: count rec 0\n",
      "300001087468: count rec 0\n",
      "200001066542: count rec 0\n",
      "300001073457: count rec 0\n",
      "300001058975: count rec 0\n",
      "200001098458: count rec 0\n",
      "200000780205: count rec 0\n",
      "200001154460: count rec 0\n",
      "200000962714: count rec 2\n",
      "200001113141: count rec 0\n",
      "200000979504: count rec 2\n",
      "300000871957: count rec 0\n",
      "300000912142: count rec 0\n",
      "200001059329: count rec 0\n",
      "300001122580: count rec 0\n",
      "200001131626: count rec 0\n",
      "200001081472: count rec 0\n",
      "300001128185: count rec 0\n",
      "200001167948: count rec 0\n",
      "300000890992: count rec 0\n",
      "200000916296: count rec 0\n",
      "300001108543: count rec 0\n",
      "200001036202: count rec 0\n",
      "300001128553: count rec 0\n",
      "300000934426: count rec 0\n",
      "300000851315: count rec 0\n",
      "300001051089: count rec 0\n",
      "300001145317: count rec 0\n",
      "200001017745: count rec 0\n",
      "200001153376: count rec 0\n"
     ]
    }
   ],
   "source": [
    "res = []\n",
    "n_rec = 80\n",
    "# count_rec_res = 10  # сколько будет рекомендаций для пользователя\n",
    "for chb in tqdm(set(users.chb.values)):\n",
    "\tcount_rec_res = n_recs.loc[chb] # количество рекомендаций для пользователя\n",
    "\tcount_rec = 0\n",
    "\treaded = books_readed_by_clients[str(chb)]\n",
    "\n",
    "\t# добавляем рекомендации из тех книг, которые пользователь часто берет\n",
    "\tmv_rec = most_viewed[most_viewed['chb'] == chb]['sys_numb']\n",
    "\tfor numb in mv_rec:\n",
    "\t\tres.append([chb, numb])\n",
    "\t\tcount_rec += 1\n",
    "\tif count_rec == count_rec_res:\n",
    "\t\tcontinue\n",
    "\n",
    "\t# собираем результаты для пользователя\n",
    "\tfull_user_dist = []\n",
    "\tfull_user_indexes = []\n",
    "\n",
    "\tfor chb_index in users_id[users_id == str(chb)].index:\n",
    "\t\t# получаем рекомендацию\n",
    "\t\tdist, rec_indexes = index.search(\n",
    "\t\t\tnp.ascontiguousarray(\n",
    "\t\t\t\tfull_data.loc[chb_index].to_numpy().astype('float32')\n",
    "\t\t\t\t.reshape((1, -1))\n",
    "\t\t\t),\n",
    "\t\t\tn_rec\n",
    "\t\t)\n",
    "\t\t# сохраняем ее\n",
    "\t\tfull_user_dist.append(dist[0])\n",
    "\t\tfull_user_indexes.append(rec_indexes[0])\n",
    "\n",
    "\t# список списков преобразуем в одномерный список\n",
    "\tfull_user_dist = np.array(full_user_dist).flatten()\n",
    "\tfull_user_indexes = np.array(full_user_indexes).flatten()\n",
    "\t# преобразуем в Series и сортируем по distances\n",
    "\trec_index = pd.Series(\n",
    "\t\tdata=full_user_dist,\n",
    "\t\tindex=full_user_indexes\n",
    "\t).sort_values()\n",
    "\t# отбираем дистанции больше 0 т.к. 0 соответствует самому себе\n",
    "\trec_index = rec_index[rec_index > 0].index\n",
    "\ttemp_items = []\n",
    "\tfor same_index in rec_index:\n",
    "\t\titem = items_id.loc[same_index]\n",
    "\t\tif item not in temp_items:\n",
    "\t\t\ttemp_items.append(item)\n",
    "\t\t\tif item not in list(readed):\n",
    "\t\t\t\tcount_rec += 1\n",
    "\t\t\t\tres.append([chb, item])\n",
    "\t\t\tif count_rec == count_rec_res:\n",
    "\t\t\t\tbreak\n",
    "\tif count_rec < count_rec_res:\n",
    "\n",
    "\t\t# собираем результаты для пользователя\n",
    "\t\tfull_user_dist = []\n",
    "\t\tfull_user_indexes = []\n",
    "\n",
    "\t\tfor item in items[items['sys_numb'].isin(train_transactions[train_transactions['chb'] == chb]['sys_numb'])]['sys_numb']:\n",
    "\t\t\titem_ind = items[items['sys_numb'] == item].index\n",
    "\t\t\t# получаем рекомендацию\n",
    "\t\t\tdist, rec_indexes = items_index.search(\n",
    "\t\t\t\tnp.ascontiguousarray(\n",
    "\t\t\t\t\titems_to_index.loc[item_ind].to_numpy().astype('float32')\n",
    "\t\t\t\t\t.reshape((1, -1))\n",
    "\t\t\t\t),\n",
    "\t\t\t\tn_rec\n",
    "\t\t\t)\n",
    "\t\t\t# сохраняем ее\n",
    "\t\t\tfull_user_dist.append(dist[0])\n",
    "\t\t\tfull_user_indexes.append(rec_indexes[0])\n",
    "\n",
    "\t\t# список списков преобразуем в одномерный список\n",
    "\t\tfull_user_dist = np.array(full_user_dist).flatten()\n",
    "\t\tfull_user_indexes = np.array(full_user_indexes).flatten()\n",
    "\n",
    "\t\t# преобразуем в Series и сортируем по distances\n",
    "\t\trec_index = pd.Series(\n",
    "\t\t\tdata=full_user_dist,\n",
    "\t\t\tindex=full_user_indexes\n",
    "\t\t).sort_values()\n",
    "\t\t# отбираем дистанции больше 0 т.к. 0 соответствует самому себе\n",
    "\t\trec_index = rec_index[rec_index > 0].index\n",
    "\n",
    "\t\tfor same_index in rec_index:\n",
    "\t\t\titem = items_id.loc[same_index]\n",
    "\t\t\tres.append([chb, item])\n",
    "\t\t\tcount_rec += 1\n",
    "\t\t\tif count_rec == count_rec_res:\n",
    "\t\t\t\tbreak\n",
    "\tif count_rec < count_rec_res:\n",
    "\t\tprint(f'{chb}: count rec {count_rec}')"
   ],
   "metadata": {
    "collapsed": false,
    "pycharm": {
     "name": "#%%\n"
    }
   }
  },
  {
   "cell_type": "code",
   "execution_count": 83,
   "outputs": [],
   "source": [
    "pd.DataFrame(res, columns=['chb', 'sys_numb']).to_csv('12th_iter.csv', sep=';', index=False)"
   ],
   "metadata": {
    "collapsed": false,
    "pycharm": {
     "name": "#%%\n"
    }
   }
  },
  {
   "cell_type": "code",
   "execution_count": 118,
   "outputs": [],
   "source": [],
   "metadata": {
    "collapsed": false,
    "pycharm": {
     "name": "#%%\n"
    }
   }
  },
  {
   "cell_type": "code",
   "execution_count": 115,
   "outputs": [],
   "source": [
    "puc = pd.DataFrame(res, columns=['chb', 'sys_numb'])"
   ],
   "metadata": {
    "collapsed": false,
    "pycharm": {
     "name": "#%%\n"
    }
   }
  },
  {
   "cell_type": "code",
   "execution_count": 91,
   "outputs": [
    {
     "data": {
      "text/plain": "20"
     },
     "execution_count": 91,
     "metadata": {},
     "output_type": "execute_result"
    }
   ],
   "source": [
    "n_recs.loc['200000789223']"
   ],
   "metadata": {
    "collapsed": false,
    "pycharm": {
     "name": "#%%\n"
    }
   }
  },
  {
   "cell_type": "code",
   "execution_count": 120,
   "outputs": [
    {
     "name": "stdout",
     "output_type": "stream",
     "text": [
      "200000789223 | 20\n",
      "300000913764 | 20\n",
      "300000984428 | 12\n",
      "100001049235 | 14\n",
      "300000925634 | 5\n",
      "200000991383 | 3\n",
      "300000984072 | 2\n",
      "300000922909 | 1\n"
     ]
    }
   ],
   "source": [
    "droppped = ['200000789223', '300000913764', '300000984428', '100001049235', '300000925634', '200000991383', '300000984072', '300000922909']\n",
    "\n",
    "for drop_chb in droppped:\n",
    "\tn_rec_new = n_recs.loc[drop_chb]\n",
    "\trecs = puc[puc['chb'] == drop_chb].head(n_rec_new)['sys_numb'].to_list()\n",
    "\tindex_to_drop = puc[puc['chb'] == drop_chb].index\n",
    "\tpuc = puc.drop(index_to_drop)\n",
    "\tfor rec in recs:\n",
    "\t\tpuc = pd.concat(\n",
    "\t\t\t[puc, pd.DataFrame([rec], columns=['sys_numb'], index=[drop_chb])]\n",
    "\t\t)"
   ],
   "metadata": {
    "collapsed": false,
    "pycharm": {
     "name": "#%%\n"
    }
   }
  },
  {
   "cell_type": "code",
   "execution_count": 117,
   "outputs": [
    {
     "data": {
      "text/plain": "              sys_numb\nchb                   \n100001010750        20\n300001135717        20\n100001110210        20\n300001005802        20\n300000901358        20\n...                ...\n200000924034         1\n300001066647         1\n300001066668         1\n200000923601         1\n100000641403         1\n\n[16702 rows x 1 columns]",
      "text/html": "<div>\n<style scoped>\n    .dataframe tbody tr th:only-of-type {\n        vertical-align: middle;\n    }\n\n    .dataframe tbody tr th {\n        vertical-align: top;\n    }\n\n    .dataframe thead th {\n        text-align: right;\n    }\n</style>\n<table border=\"1\" class=\"dataframe\">\n  <thead>\n    <tr style=\"text-align: right;\">\n      <th></th>\n      <th>sys_numb</th>\n    </tr>\n    <tr>\n      <th>chb</th>\n      <th></th>\n    </tr>\n  </thead>\n  <tbody>\n    <tr>\n      <th>100001010750</th>\n      <td>20</td>\n    </tr>\n    <tr>\n      <th>300001135717</th>\n      <td>20</td>\n    </tr>\n    <tr>\n      <th>100001110210</th>\n      <td>20</td>\n    </tr>\n    <tr>\n      <th>300001005802</th>\n      <td>20</td>\n    </tr>\n    <tr>\n      <th>300000901358</th>\n      <td>20</td>\n    </tr>\n    <tr>\n      <th>...</th>\n      <td>...</td>\n    </tr>\n    <tr>\n      <th>200000924034</th>\n      <td>1</td>\n    </tr>\n    <tr>\n      <th>300001066647</th>\n      <td>1</td>\n    </tr>\n    <tr>\n      <th>300001066668</th>\n      <td>1</td>\n    </tr>\n    <tr>\n      <th>200000923601</th>\n      <td>1</td>\n    </tr>\n    <tr>\n      <th>100000641403</th>\n      <td>1</td>\n    </tr>\n  </tbody>\n</table>\n<p>16702 rows × 1 columns</p>\n</div>"
     },
     "execution_count": 117,
     "metadata": {},
     "output_type": "execute_result"
    }
   ],
   "source": [
    "puc.groupby('chb').count().sort_values(by='sys_numb', ascending=False)"
   ],
   "metadata": {
    "collapsed": false,
    "pycharm": {
     "name": "#%%\n"
    }
   }
  },
  {
   "cell_type": "code",
   "execution_count": 119,
   "outputs": [
    {
     "data": {
      "text/plain": "            chb        sys_numb\n0  100001137125  RSL01000591218\n1  100001137125  RSL01002155431\n2  100001137125  RSL01001500214\n3  100001137125  RSL01004722252\n4  200000795041  RSL01000254680",
      "text/html": "<div>\n<style scoped>\n    .dataframe tbody tr th:only-of-type {\n        vertical-align: middle;\n    }\n\n    .dataframe tbody tr th {\n        vertical-align: top;\n    }\n\n    .dataframe thead th {\n        text-align: right;\n    }\n</style>\n<table border=\"1\" class=\"dataframe\">\n  <thead>\n    <tr style=\"text-align: right;\">\n      <th></th>\n      <th>chb</th>\n      <th>sys_numb</th>\n    </tr>\n  </thead>\n  <tbody>\n    <tr>\n      <th>0</th>\n      <td>100001137125</td>\n      <td>RSL01000591218</td>\n    </tr>\n    <tr>\n      <th>1</th>\n      <td>100001137125</td>\n      <td>RSL01002155431</td>\n    </tr>\n    <tr>\n      <th>2</th>\n      <td>100001137125</td>\n      <td>RSL01001500214</td>\n    </tr>\n    <tr>\n      <th>3</th>\n      <td>100001137125</td>\n      <td>RSL01004722252</td>\n    </tr>\n    <tr>\n      <th>4</th>\n      <td>200000795041</td>\n      <td>RSL01000254680</td>\n    </tr>\n  </tbody>\n</table>\n</div>"
     },
     "execution_count": 119,
     "metadata": {},
     "output_type": "execute_result"
    }
   ],
   "source": [
    "puc.head()"
   ],
   "metadata": {
    "collapsed": false,
    "pycharm": {
     "name": "#%%\n"
    }
   }
  },
  {
   "cell_type": "code",
   "execution_count": null,
   "outputs": [],
   "source": [
    "puc.to_csv('12th_iter.csv', sep=';', index=False)"
   ],
   "metadata": {
    "collapsed": false,
    "pycharm": {
     "name": "#%%\n"
    }
   }
  },
  {
   "cell_type": "code",
   "execution_count": 152,
   "outputs": [
    {
     "name": "stdout",
     "output_type": "stream",
     "text": [
      "RSL07000467545\n",
      "RSL07000352880\n",
      "RSL07000429548\n",
      "RSL07000441643\n",
      "RSL07000461678\n",
      "RSL07000452801\n",
      "RSL07000467995\n",
      "RSL07000453468\n"
     ]
    }
   ],
   "source": [
    "new_res = items[items['sys_numb'].isin(train_transactions[train_transactions['chb'] == '200000928664']['sys_numb'])]\n",
    "if new_res.shape[0] >= 4:\n",
    "\tgachi = new_res.groupby(['author', 'izd'])['sys_numb'].apply(list)\n",
    "\tfor item in gachi:\n",
    "\t\tpass\n",
    "\n",
    "for p in items[items['sys_numb'].isin(train_transactions[train_transactions['chb'] == '200000928664']['sys_numb'])]['sys_numb']:\n",
    "\tprint(p)"
   ],
   "metadata": {
    "collapsed": false,
    "pycharm": {
     "name": "#%%\n"
    }
   }
  },
  {
   "cell_type": "code",
   "execution_count": 41,
   "outputs": [],
   "source": [
    "pd.DataFrame(res, columns=['chb', 'sys_numb']).to_csv('11th_iter.csv', sep=';', index=False)\n"
   ],
   "metadata": {
    "collapsed": false,
    "pycharm": {
     "name": "#%%\n"
    }
   }
  },
  {
   "cell_type": "code",
   "execution_count": 44,
   "outputs": [],
   "source": [
    "pof = pd.read_csv('10th_iter.csv', sep=';')"
   ],
   "metadata": {
    "collapsed": false,
    "pycharm": {
     "name": "#%%\n"
    }
   }
  },
  {
   "cell_type": "code",
   "execution_count": 55,
   "outputs": [],
   "source": [
    "f1 = pof.groupby('chb')['sys_numb'].apply(list).apply(lambda x: x[:10])"
   ],
   "metadata": {
    "collapsed": false,
    "pycharm": {
     "name": "#%%\n"
    }
   }
  },
  {
   "cell_type": "code",
   "execution_count": 91,
   "outputs": [
    {
     "data": {
      "text/plain": "0it [00:00, ?it/s]",
      "application/vnd.jupyter.widget-view+json": {
       "version_major": 2,
       "version_minor": 0,
       "model_id": "8c68a9b378c447c78a5adac9bb1d79e5"
      },
      "application/json": {
       "n": 0,
       "total": null,
       "elapsed": 0.010999441146850586,
       "ncols": null,
       "nrows": null,
       "prefix": "",
       "ascii": false,
       "unit": "it",
       "unit_scale": false,
       "rate": null,
       "bar_format": null,
       "postfix": null,
       "unit_divisor": 1000,
       "initial": 0,
       "colour": null
      }
     },
     "metadata": {},
     "output_type": "display_data"
    }
   ],
   "source": [
    "n = pd.DataFrame(columns=['chb', 'sys_numb'])\n",
    "\n",
    "for row in tqdm(f1.iteritems()):\n",
    "\tchb = row[0]\n",
    "\tsys_numbs = row[1]\n",
    "\tfor numb in sys_numbs:\n",
    "\t\tn = pd.concat([n, pd.DataFrame({'chb': chb, 'sys_numb': numb}, index=[0])])\n",
    "\n",
    "\n",
    "n.to_csv('11th_iter.csv', sep=';', index=False)"
   ],
   "metadata": {
    "collapsed": false,
    "pycharm": {
     "name": "#%%\n"
    }
   }
  },
  {
   "cell_type": "code",
   "execution_count": 187,
   "outputs": [],
   "source": [
    "index_to_del = pof_new[pof_new['chb'] == '300000913764'].index[20:]\n",
    "pof_new = pof_new.drop(index_to_del)"
   ],
   "metadata": {
    "collapsed": false,
    "pycharm": {
     "name": "#%%\n"
    }
   }
  },
  {
   "cell_type": "code",
   "execution_count": 190,
   "outputs": [],
   "source": [
    "pof_new.to_csv('10th_iter.csv', sep=';', index=False)"
   ],
   "metadata": {
    "collapsed": false,
    "pycharm": {
     "name": "#%%\n"
    }
   }
  },
  {
   "cell_type": "code",
   "execution_count": 175,
   "outputs": [
    {
     "data": {
      "text/plain": "              sys_numb    author      izd year_izd       bbk  is_textboot  \\\n364     RSL01003371032  171478.0  20814.0     2007  122020.0            0   \n1307    RSL01006550496   77633.0   5191.0     2013  120292.0            0   \n1421    RSL01008895400  130695.0  31932.0     2017   16925.0            0   \n5033    RSL01004123795   49841.0   2475.0     2008  126110.0            0   \n7315    RSL01004405273  101811.0   2917.0     2009   95081.0            0   \n...                ...       ...      ...      ...       ...          ...   \n288797  RSL01001694290   13758.0  12759.0     1994  130777.0            0   \n288798  RSL01010778128   28083.0  30616.0     2021   34904.0            0   \n288799  RSL01001801669  155433.0  20834.0     1998  130777.0            0   \n288801  RSL01010548130   15877.0  25494.0     2021   74251.0            0   \n288964  RSL01002911889  156183.0   4354.0     2006  120445.0            0   \n\n        item_kmean_class         0         1         2  ...       758  \\\n364                    4 -0.364120  0.528713  0.835498  ... -0.307313   \n1307                   3 -0.984972 -0.141799 -0.275390  ...  0.432058   \n1421                   0 -1.335677 -0.071682 -0.070710  ...  0.006448   \n5033                   3 -0.775513 -0.229855  0.748087  ...  0.810728   \n7315                   3 -0.791708 -0.050490  0.408101  ...  0.384736   \n...                  ...       ...       ...       ...  ...       ...   \n288797                 1 -0.532385 -0.079973  0.239421  ...  0.001189   \n288798                 0 -0.987721  0.530896 -0.244406  ...  0.122756   \n288799                 4 -0.466421  0.169697  0.383134  ...  0.064017   \n288801                 1 -1.547659  0.555516  0.133630  ... -0.403069   \n288964                 3 -0.909616  0.451289 -0.113664  ... -0.410156   \n\n             759       760       761       762       763       764       765  \\\n364     0.452469 -1.339303 -0.947004  0.477154  0.210417  0.377726  0.024643   \n1307   -0.008617 -0.986411 -0.542843  0.917930 -0.509416 -0.105579 -0.487578   \n1421   -0.000995 -0.251056  0.054474  0.161946 -0.036665  0.044311  0.091683   \n5033    0.440202 -0.207567 -1.087967 -0.143804  0.804192  0.254146 -0.152970   \n7315   -0.293418 -0.947994 -0.681866 -0.298956  0.173642 -0.733505 -0.944530   \n...          ...       ...       ...       ...       ...       ...       ...   \n288797 -0.052073 -0.685655 -0.588953  0.377750 -0.016333 -0.163730 -0.050604   \n288798 -0.220837 -0.474897 -0.438574 -0.178187 -0.165708 -0.075412 -1.137978   \n288799 -0.124158 -0.550101 -0.351466  0.327920  0.071172  0.040846 -0.114628   \n288801  0.058203 -0.470700 -1.011322  1.347675 -0.348826 -0.279674 -1.151408   \n288964 -0.121070 -1.422037 -0.788816  0.696812  0.261711 -0.551802 -0.292127   \n\n             766       767  \n364     1.081792 -0.112187  \n1307    0.917741 -0.901505  \n1421    0.987661 -0.795135  \n5033   -0.193239 -1.951387  \n7315    0.816367 -1.428345  \n...          ...       ...  \n288797  0.331661 -0.088319  \n288798  0.790419 -1.229690  \n288799  0.262458 -0.048342  \n288801  0.916590 -1.094023  \n288964  0.488470 -1.403389  \n\n[3914 rows x 775 columns]",
      "text/html": "<div>\n<style scoped>\n    .dataframe tbody tr th:only-of-type {\n        vertical-align: middle;\n    }\n\n    .dataframe tbody tr th {\n        vertical-align: top;\n    }\n\n    .dataframe thead th {\n        text-align: right;\n    }\n</style>\n<table border=\"1\" class=\"dataframe\">\n  <thead>\n    <tr style=\"text-align: right;\">\n      <th></th>\n      <th>sys_numb</th>\n      <th>author</th>\n      <th>izd</th>\n      <th>year_izd</th>\n      <th>bbk</th>\n      <th>is_textboot</th>\n      <th>item_kmean_class</th>\n      <th>0</th>\n      <th>1</th>\n      <th>2</th>\n      <th>...</th>\n      <th>758</th>\n      <th>759</th>\n      <th>760</th>\n      <th>761</th>\n      <th>762</th>\n      <th>763</th>\n      <th>764</th>\n      <th>765</th>\n      <th>766</th>\n      <th>767</th>\n    </tr>\n  </thead>\n  <tbody>\n    <tr>\n      <th>364</th>\n      <td>RSL01003371032</td>\n      <td>171478.0</td>\n      <td>20814.0</td>\n      <td>2007</td>\n      <td>122020.0</td>\n      <td>0</td>\n      <td>4</td>\n      <td>-0.364120</td>\n      <td>0.528713</td>\n      <td>0.835498</td>\n      <td>...</td>\n      <td>-0.307313</td>\n      <td>0.452469</td>\n      <td>-1.339303</td>\n      <td>-0.947004</td>\n      <td>0.477154</td>\n      <td>0.210417</td>\n      <td>0.377726</td>\n      <td>0.024643</td>\n      <td>1.081792</td>\n      <td>-0.112187</td>\n    </tr>\n    <tr>\n      <th>1307</th>\n      <td>RSL01006550496</td>\n      <td>77633.0</td>\n      <td>5191.0</td>\n      <td>2013</td>\n      <td>120292.0</td>\n      <td>0</td>\n      <td>3</td>\n      <td>-0.984972</td>\n      <td>-0.141799</td>\n      <td>-0.275390</td>\n      <td>...</td>\n      <td>0.432058</td>\n      <td>-0.008617</td>\n      <td>-0.986411</td>\n      <td>-0.542843</td>\n      <td>0.917930</td>\n      <td>-0.509416</td>\n      <td>-0.105579</td>\n      <td>-0.487578</td>\n      <td>0.917741</td>\n      <td>-0.901505</td>\n    </tr>\n    <tr>\n      <th>1421</th>\n      <td>RSL01008895400</td>\n      <td>130695.0</td>\n      <td>31932.0</td>\n      <td>2017</td>\n      <td>16925.0</td>\n      <td>0</td>\n      <td>0</td>\n      <td>-1.335677</td>\n      <td>-0.071682</td>\n      <td>-0.070710</td>\n      <td>...</td>\n      <td>0.006448</td>\n      <td>-0.000995</td>\n      <td>-0.251056</td>\n      <td>0.054474</td>\n      <td>0.161946</td>\n      <td>-0.036665</td>\n      <td>0.044311</td>\n      <td>0.091683</td>\n      <td>0.987661</td>\n      <td>-0.795135</td>\n    </tr>\n    <tr>\n      <th>5033</th>\n      <td>RSL01004123795</td>\n      <td>49841.0</td>\n      <td>2475.0</td>\n      <td>2008</td>\n      <td>126110.0</td>\n      <td>0</td>\n      <td>3</td>\n      <td>-0.775513</td>\n      <td>-0.229855</td>\n      <td>0.748087</td>\n      <td>...</td>\n      <td>0.810728</td>\n      <td>0.440202</td>\n      <td>-0.207567</td>\n      <td>-1.087967</td>\n      <td>-0.143804</td>\n      <td>0.804192</td>\n      <td>0.254146</td>\n      <td>-0.152970</td>\n      <td>-0.193239</td>\n      <td>-1.951387</td>\n    </tr>\n    <tr>\n      <th>7315</th>\n      <td>RSL01004405273</td>\n      <td>101811.0</td>\n      <td>2917.0</td>\n      <td>2009</td>\n      <td>95081.0</td>\n      <td>0</td>\n      <td>3</td>\n      <td>-0.791708</td>\n      <td>-0.050490</td>\n      <td>0.408101</td>\n      <td>...</td>\n      <td>0.384736</td>\n      <td>-0.293418</td>\n      <td>-0.947994</td>\n      <td>-0.681866</td>\n      <td>-0.298956</td>\n      <td>0.173642</td>\n      <td>-0.733505</td>\n      <td>-0.944530</td>\n      <td>0.816367</td>\n      <td>-1.428345</td>\n    </tr>\n    <tr>\n      <th>...</th>\n      <td>...</td>\n      <td>...</td>\n      <td>...</td>\n      <td>...</td>\n      <td>...</td>\n      <td>...</td>\n      <td>...</td>\n      <td>...</td>\n      <td>...</td>\n      <td>...</td>\n      <td>...</td>\n      <td>...</td>\n      <td>...</td>\n      <td>...</td>\n      <td>...</td>\n      <td>...</td>\n      <td>...</td>\n      <td>...</td>\n      <td>...</td>\n      <td>...</td>\n      <td>...</td>\n    </tr>\n    <tr>\n      <th>288797</th>\n      <td>RSL01001694290</td>\n      <td>13758.0</td>\n      <td>12759.0</td>\n      <td>1994</td>\n      <td>130777.0</td>\n      <td>0</td>\n      <td>1</td>\n      <td>-0.532385</td>\n      <td>-0.079973</td>\n      <td>0.239421</td>\n      <td>...</td>\n      <td>0.001189</td>\n      <td>-0.052073</td>\n      <td>-0.685655</td>\n      <td>-0.588953</td>\n      <td>0.377750</td>\n      <td>-0.016333</td>\n      <td>-0.163730</td>\n      <td>-0.050604</td>\n      <td>0.331661</td>\n      <td>-0.088319</td>\n    </tr>\n    <tr>\n      <th>288798</th>\n      <td>RSL01010778128</td>\n      <td>28083.0</td>\n      <td>30616.0</td>\n      <td>2021</td>\n      <td>34904.0</td>\n      <td>0</td>\n      <td>0</td>\n      <td>-0.987721</td>\n      <td>0.530896</td>\n      <td>-0.244406</td>\n      <td>...</td>\n      <td>0.122756</td>\n      <td>-0.220837</td>\n      <td>-0.474897</td>\n      <td>-0.438574</td>\n      <td>-0.178187</td>\n      <td>-0.165708</td>\n      <td>-0.075412</td>\n      <td>-1.137978</td>\n      <td>0.790419</td>\n      <td>-1.229690</td>\n    </tr>\n    <tr>\n      <th>288799</th>\n      <td>RSL01001801669</td>\n      <td>155433.0</td>\n      <td>20834.0</td>\n      <td>1998</td>\n      <td>130777.0</td>\n      <td>0</td>\n      <td>4</td>\n      <td>-0.466421</td>\n      <td>0.169697</td>\n      <td>0.383134</td>\n      <td>...</td>\n      <td>0.064017</td>\n      <td>-0.124158</td>\n      <td>-0.550101</td>\n      <td>-0.351466</td>\n      <td>0.327920</td>\n      <td>0.071172</td>\n      <td>0.040846</td>\n      <td>-0.114628</td>\n      <td>0.262458</td>\n      <td>-0.048342</td>\n    </tr>\n    <tr>\n      <th>288801</th>\n      <td>RSL01010548130</td>\n      <td>15877.0</td>\n      <td>25494.0</td>\n      <td>2021</td>\n      <td>74251.0</td>\n      <td>0</td>\n      <td>1</td>\n      <td>-1.547659</td>\n      <td>0.555516</td>\n      <td>0.133630</td>\n      <td>...</td>\n      <td>-0.403069</td>\n      <td>0.058203</td>\n      <td>-0.470700</td>\n      <td>-1.011322</td>\n      <td>1.347675</td>\n      <td>-0.348826</td>\n      <td>-0.279674</td>\n      <td>-1.151408</td>\n      <td>0.916590</td>\n      <td>-1.094023</td>\n    </tr>\n    <tr>\n      <th>288964</th>\n      <td>RSL01002911889</td>\n      <td>156183.0</td>\n      <td>4354.0</td>\n      <td>2006</td>\n      <td>120445.0</td>\n      <td>0</td>\n      <td>3</td>\n      <td>-0.909616</td>\n      <td>0.451289</td>\n      <td>-0.113664</td>\n      <td>...</td>\n      <td>-0.410156</td>\n      <td>-0.121070</td>\n      <td>-1.422037</td>\n      <td>-0.788816</td>\n      <td>0.696812</td>\n      <td>0.261711</td>\n      <td>-0.551802</td>\n      <td>-0.292127</td>\n      <td>0.488470</td>\n      <td>-1.403389</td>\n    </tr>\n  </tbody>\n</table>\n<p>3914 rows × 775 columns</p>\n</div>"
     },
     "execution_count": 175,
     "metadata": {},
     "output_type": "execute_result"
    }
   ],
   "source": [
    "items[items['sys_numb'].isin(train_transactions[train_transactions['chb'] == '200000789223']['sys_numb'])]"
   ],
   "metadata": {
    "collapsed": false,
    "pycharm": {
     "name": "#%%\n"
    }
   }
  },
  {
   "cell_type": "code",
   "execution_count": 200,
   "outputs": [
    {
     "data": {
      "text/plain": "                 chb        sys_numb\n313558  300001075805  RSL07000372451",
      "text/html": "<div>\n<style scoped>\n    .dataframe tbody tr th:only-of-type {\n        vertical-align: middle;\n    }\n\n    .dataframe tbody tr th {\n        vertical-align: top;\n    }\n\n    .dataframe thead th {\n        text-align: right;\n    }\n</style>\n<table border=\"1\" class=\"dataframe\">\n  <thead>\n    <tr style=\"text-align: right;\">\n      <th></th>\n      <th>chb</th>\n      <th>sys_numb</th>\n    </tr>\n  </thead>\n  <tbody>\n    <tr>\n      <th>313558</th>\n      <td>300001075805</td>\n      <td>RSL07000372451</td>\n    </tr>\n  </tbody>\n</table>\n</div>"
     },
     "execution_count": 200,
     "metadata": {},
     "output_type": "execute_result"
    }
   ],
   "source": [
    "pof_new[pof_new['chb'] == '300001075805']"
   ],
   "metadata": {
    "collapsed": false,
    "pycharm": {
     "name": "#%%\n"
    }
   }
  },
  {
   "cell_type": "code",
   "execution_count": 189,
   "outputs": [
    {
     "data": {
      "text/plain": "chb\n300001075805     1\n200000979504     2\n200000962714     2\n300001142507     3\n300001153491     5\n                ..\n200001035732    20\n200001035842    20\n200001035846    20\n200001035934    20\n400001035059    20\nName: sys_numb, Length: 16710, dtype: int64"
     },
     "execution_count": 189,
     "metadata": {},
     "output_type": "execute_result"
    }
   ],
   "source": [
    "pof_new.groupby('chb')['sys_numb'].apply(list).apply(len).sort_values()"
   ],
   "metadata": {
    "collapsed": false,
    "pycharm": {
     "name": "#%%\n"
    }
   }
  },
  {
   "cell_type": "code",
   "execution_count": 196,
   "outputs": [
    {
     "data": {
      "text/plain": "            sys_numb    author      izd year_izd       bbk  is_textboot  \\\n4910  RSL07000372451  171478.0  33897.0        0  130777.0            0   \n\n      item_kmean_class         0         1        2  ...       758       759  \\\n4910                 4  0.003803  0.204588 -0.20507  ... -0.079526  0.209965   \n\n           760       761       762       763       764      765       766  \\\n4910 -0.544201 -0.241722 -0.020239 -0.108107 -0.332226  0.04339  0.285153   \n\n           767  \n4910 -0.181302  \n\n[1 rows x 775 columns]",
      "text/html": "<div>\n<style scoped>\n    .dataframe tbody tr th:only-of-type {\n        vertical-align: middle;\n    }\n\n    .dataframe tbody tr th {\n        vertical-align: top;\n    }\n\n    .dataframe thead th {\n        text-align: right;\n    }\n</style>\n<table border=\"1\" class=\"dataframe\">\n  <thead>\n    <tr style=\"text-align: right;\">\n      <th></th>\n      <th>sys_numb</th>\n      <th>author</th>\n      <th>izd</th>\n      <th>year_izd</th>\n      <th>bbk</th>\n      <th>is_textboot</th>\n      <th>item_kmean_class</th>\n      <th>0</th>\n      <th>1</th>\n      <th>2</th>\n      <th>...</th>\n      <th>758</th>\n      <th>759</th>\n      <th>760</th>\n      <th>761</th>\n      <th>762</th>\n      <th>763</th>\n      <th>764</th>\n      <th>765</th>\n      <th>766</th>\n      <th>767</th>\n    </tr>\n  </thead>\n  <tbody>\n    <tr>\n      <th>4910</th>\n      <td>RSL07000372451</td>\n      <td>171478.0</td>\n      <td>33897.0</td>\n      <td>0</td>\n      <td>130777.0</td>\n      <td>0</td>\n      <td>4</td>\n      <td>0.003803</td>\n      <td>0.204588</td>\n      <td>-0.20507</td>\n      <td>...</td>\n      <td>-0.079526</td>\n      <td>0.209965</td>\n      <td>-0.544201</td>\n      <td>-0.241722</td>\n      <td>-0.020239</td>\n      <td>-0.108107</td>\n      <td>-0.332226</td>\n      <td>0.04339</td>\n      <td>0.285153</td>\n      <td>-0.181302</td>\n    </tr>\n  </tbody>\n</table>\n<p>1 rows × 775 columns</p>\n</div>"
     },
     "execution_count": 196,
     "metadata": {},
     "output_type": "execute_result"
    }
   ],
   "source": [
    "# смотрим что уже порекомендованно\n",
    "items[items['sys_numb'].isin(pof_new[pof_new['chb'] == '300001075805']['sys_numb'])]"
   ],
   "metadata": {
    "collapsed": false,
    "pycharm": {
     "name": "#%%\n"
    }
   }
  },
  {
   "cell_type": "code",
   "execution_count": 191,
   "outputs": [
    {
     "data": {
      "text/plain": "             sys_numb    author      izd year_izd       bbk  is_textboot  \\\n2350   RSL07000415773  171478.0  33897.0        0  130777.0            0   \n4910   RSL07000372451  171478.0  33897.0        0  130777.0            0   \n79500  RSL07000372455  171478.0  33897.0        0  130777.0            0   \n83065  RSL02000006654  171478.0  33897.0        0  130777.0            0   \n\n       item_kmean_class         0         1        2  ...       758       759  \\\n2350                  4  0.003803  0.204588 -0.20507  ... -0.079526  0.209965   \n4910                  4  0.003803  0.204588 -0.20507  ... -0.079526  0.209965   \n79500                 4  0.003803  0.204588 -0.20507  ... -0.079526  0.209965   \n83065                 4  0.003803  0.204588 -0.20507  ... -0.079526  0.209965   \n\n            760       761       762       763       764      765       766  \\\n2350  -0.544201 -0.241722 -0.020239 -0.108107 -0.332226  0.04339  0.285153   \n4910  -0.544201 -0.241722 -0.020239 -0.108107 -0.332226  0.04339  0.285153   \n79500 -0.544201 -0.241722 -0.020239 -0.108107 -0.332226  0.04339  0.285153   \n83065 -0.544201 -0.241722 -0.020239 -0.108107 -0.332226  0.04339  0.285153   \n\n            767  \n2350  -0.181302  \n4910  -0.181302  \n79500 -0.181302  \n83065 -0.181302  \n\n[4 rows x 775 columns]",
      "text/html": "<div>\n<style scoped>\n    .dataframe tbody tr th:only-of-type {\n        vertical-align: middle;\n    }\n\n    .dataframe tbody tr th {\n        vertical-align: top;\n    }\n\n    .dataframe thead th {\n        text-align: right;\n    }\n</style>\n<table border=\"1\" class=\"dataframe\">\n  <thead>\n    <tr style=\"text-align: right;\">\n      <th></th>\n      <th>sys_numb</th>\n      <th>author</th>\n      <th>izd</th>\n      <th>year_izd</th>\n      <th>bbk</th>\n      <th>is_textboot</th>\n      <th>item_kmean_class</th>\n      <th>0</th>\n      <th>1</th>\n      <th>2</th>\n      <th>...</th>\n      <th>758</th>\n      <th>759</th>\n      <th>760</th>\n      <th>761</th>\n      <th>762</th>\n      <th>763</th>\n      <th>764</th>\n      <th>765</th>\n      <th>766</th>\n      <th>767</th>\n    </tr>\n  </thead>\n  <tbody>\n    <tr>\n      <th>2350</th>\n      <td>RSL07000415773</td>\n      <td>171478.0</td>\n      <td>33897.0</td>\n      <td>0</td>\n      <td>130777.0</td>\n      <td>0</td>\n      <td>4</td>\n      <td>0.003803</td>\n      <td>0.204588</td>\n      <td>-0.20507</td>\n      <td>...</td>\n      <td>-0.079526</td>\n      <td>0.209965</td>\n      <td>-0.544201</td>\n      <td>-0.241722</td>\n      <td>-0.020239</td>\n      <td>-0.108107</td>\n      <td>-0.332226</td>\n      <td>0.04339</td>\n      <td>0.285153</td>\n      <td>-0.181302</td>\n    </tr>\n    <tr>\n      <th>4910</th>\n      <td>RSL07000372451</td>\n      <td>171478.0</td>\n      <td>33897.0</td>\n      <td>0</td>\n      <td>130777.0</td>\n      <td>0</td>\n      <td>4</td>\n      <td>0.003803</td>\n      <td>0.204588</td>\n      <td>-0.20507</td>\n      <td>...</td>\n      <td>-0.079526</td>\n      <td>0.209965</td>\n      <td>-0.544201</td>\n      <td>-0.241722</td>\n      <td>-0.020239</td>\n      <td>-0.108107</td>\n      <td>-0.332226</td>\n      <td>0.04339</td>\n      <td>0.285153</td>\n      <td>-0.181302</td>\n    </tr>\n    <tr>\n      <th>79500</th>\n      <td>RSL07000372455</td>\n      <td>171478.0</td>\n      <td>33897.0</td>\n      <td>0</td>\n      <td>130777.0</td>\n      <td>0</td>\n      <td>4</td>\n      <td>0.003803</td>\n      <td>0.204588</td>\n      <td>-0.20507</td>\n      <td>...</td>\n      <td>-0.079526</td>\n      <td>0.209965</td>\n      <td>-0.544201</td>\n      <td>-0.241722</td>\n      <td>-0.020239</td>\n      <td>-0.108107</td>\n      <td>-0.332226</td>\n      <td>0.04339</td>\n      <td>0.285153</td>\n      <td>-0.181302</td>\n    </tr>\n    <tr>\n      <th>83065</th>\n      <td>RSL02000006654</td>\n      <td>171478.0</td>\n      <td>33897.0</td>\n      <td>0</td>\n      <td>130777.0</td>\n      <td>0</td>\n      <td>4</td>\n      <td>0.003803</td>\n      <td>0.204588</td>\n      <td>-0.20507</td>\n      <td>...</td>\n      <td>-0.079526</td>\n      <td>0.209965</td>\n      <td>-0.544201</td>\n      <td>-0.241722</td>\n      <td>-0.020239</td>\n      <td>-0.108107</td>\n      <td>-0.332226</td>\n      <td>0.04339</td>\n      <td>0.285153</td>\n      <td>-0.181302</td>\n    </tr>\n  </tbody>\n</table>\n<p>4 rows × 775 columns</p>\n</div>"
     },
     "execution_count": 191,
     "metadata": {},
     "output_type": "execute_result"
    }
   ],
   "source": [
    "# смотрим какие книги юзер брал\n",
    "items[items['sys_numb'].isin(train_transactions[train_transactions['chb'] == '300001075805']['sys_numb'])]"
   ],
   "metadata": {
    "collapsed": false,
    "pycharm": {
     "name": "#%%\n"
    }
   }
  },
  {
   "cell_type": "code",
   "execution_count": 193,
   "outputs": [
    {
     "data": {
      "text/plain": "              sys_numb    author      izd year_izd       bbk  is_textboot  \\\n2       RSL07000461043  171478.0  33897.0        0  130777.0            0   \n3       RSL07000433335  171478.0  33897.0        0  130777.0            0   \n6       RSL07000467555  171478.0  33897.0        0  130777.0            0   \n9       RSL07000458490  171478.0  33897.0        0  130777.0            0   \n29      RSL07000355720  171478.0  33897.0        0  130777.0            0   \n...                ...       ...      ...      ...       ...          ...   \n354284  RSL01004011453  171478.0  33897.0     1912  130777.0            0   \n354298  RSL01011034405  171478.0  33897.0     1883  130777.0            0   \n354309  RSL01000567490  171478.0  33897.0     1996   84034.0            0   \n354314  RSL01003970966  171478.0  33897.0     1902  130777.0            1   \n354328  RSL01006747380  171478.0  33897.0     2014   48631.0            0   \n\n        item_kmean_class         0         1         2  ...       758  \\\n2                      4  0.003803  0.204588 -0.205070  ... -0.079526   \n3                      4  0.003803  0.204588 -0.205070  ... -0.079526   \n6                      4  0.003803  0.204588 -0.205070  ... -0.079526   \n9                      4  0.003803  0.204588 -0.205070  ... -0.079526   \n29                     4  0.003803  0.204588 -0.205070  ... -0.079526   \n...                  ...       ...       ...       ...  ...       ...   \n354284                 4  0.085555  0.324205 -0.370308  ... -0.690902   \n354298                 4 -0.371838 -0.013498 -0.942991  ... -0.041956   \n354309                 4 -0.632071  0.518056  0.134784  ...  0.053200   \n354314                 2  0.036629 -0.223110 -0.520931  ...  0.133995   \n354328                 0 -0.845455  0.089724 -1.036503  ... -0.369155   \n\n             759       760       761       762       763       764       765  \\\n2       0.209965 -0.544201 -0.241722 -0.020239 -0.108107 -0.332226  0.043390   \n3       0.209965 -0.544201 -0.241722 -0.020239 -0.108107 -0.332226  0.043390   \n6       0.209965 -0.544201 -0.241722 -0.020239 -0.108107 -0.332226  0.043390   \n9       0.209965 -0.544201 -0.241722 -0.020239 -0.108107 -0.332226  0.043390   \n29      0.209965 -0.544201 -0.241722 -0.020239 -0.108107 -0.332226  0.043390   \n...          ...       ...       ...       ...       ...       ...       ...   \n354284  0.046693 -0.853451  0.250400  0.115962 -0.144393 -0.387870 -0.065081   \n354298  0.201893 -1.036587  0.045496  0.569462  0.616259 -0.857223  0.161010   \n354309  0.659948 -1.275459 -0.537373 -0.003366 -0.137675  0.111982 -1.333713   \n354314  0.327780 -0.360977 -1.300547  0.627138 -0.201863 -0.015881 -0.713385   \n354328  0.546046 -0.562336 -1.104719  0.671732 -1.053866  0.566156 -0.929909   \n\n             766       767  \n2       0.285153 -0.181302  \n3       0.285153 -0.181302  \n6       0.285153 -0.181302  \n9       0.285153 -0.181302  \n29      0.285153 -0.181302  \n...          ...       ...  \n354284  0.408006  0.014711  \n354298  0.274876 -1.087000  \n354309  0.823611 -0.569724  \n354314 -0.038805 -1.314322  \n354328  0.751495 -0.664040  \n\n[44141 rows x 775 columns]",
      "text/html": "<div>\n<style scoped>\n    .dataframe tbody tr th:only-of-type {\n        vertical-align: middle;\n    }\n\n    .dataframe tbody tr th {\n        vertical-align: top;\n    }\n\n    .dataframe thead th {\n        text-align: right;\n    }\n</style>\n<table border=\"1\" class=\"dataframe\">\n  <thead>\n    <tr style=\"text-align: right;\">\n      <th></th>\n      <th>sys_numb</th>\n      <th>author</th>\n      <th>izd</th>\n      <th>year_izd</th>\n      <th>bbk</th>\n      <th>is_textboot</th>\n      <th>item_kmean_class</th>\n      <th>0</th>\n      <th>1</th>\n      <th>2</th>\n      <th>...</th>\n      <th>758</th>\n      <th>759</th>\n      <th>760</th>\n      <th>761</th>\n      <th>762</th>\n      <th>763</th>\n      <th>764</th>\n      <th>765</th>\n      <th>766</th>\n      <th>767</th>\n    </tr>\n  </thead>\n  <tbody>\n    <tr>\n      <th>2</th>\n      <td>RSL07000461043</td>\n      <td>171478.0</td>\n      <td>33897.0</td>\n      <td>0</td>\n      <td>130777.0</td>\n      <td>0</td>\n      <td>4</td>\n      <td>0.003803</td>\n      <td>0.204588</td>\n      <td>-0.205070</td>\n      <td>...</td>\n      <td>-0.079526</td>\n      <td>0.209965</td>\n      <td>-0.544201</td>\n      <td>-0.241722</td>\n      <td>-0.020239</td>\n      <td>-0.108107</td>\n      <td>-0.332226</td>\n      <td>0.043390</td>\n      <td>0.285153</td>\n      <td>-0.181302</td>\n    </tr>\n    <tr>\n      <th>3</th>\n      <td>RSL07000433335</td>\n      <td>171478.0</td>\n      <td>33897.0</td>\n      <td>0</td>\n      <td>130777.0</td>\n      <td>0</td>\n      <td>4</td>\n      <td>0.003803</td>\n      <td>0.204588</td>\n      <td>-0.205070</td>\n      <td>...</td>\n      <td>-0.079526</td>\n      <td>0.209965</td>\n      <td>-0.544201</td>\n      <td>-0.241722</td>\n      <td>-0.020239</td>\n      <td>-0.108107</td>\n      <td>-0.332226</td>\n      <td>0.043390</td>\n      <td>0.285153</td>\n      <td>-0.181302</td>\n    </tr>\n    <tr>\n      <th>6</th>\n      <td>RSL07000467555</td>\n      <td>171478.0</td>\n      <td>33897.0</td>\n      <td>0</td>\n      <td>130777.0</td>\n      <td>0</td>\n      <td>4</td>\n      <td>0.003803</td>\n      <td>0.204588</td>\n      <td>-0.205070</td>\n      <td>...</td>\n      <td>-0.079526</td>\n      <td>0.209965</td>\n      <td>-0.544201</td>\n      <td>-0.241722</td>\n      <td>-0.020239</td>\n      <td>-0.108107</td>\n      <td>-0.332226</td>\n      <td>0.043390</td>\n      <td>0.285153</td>\n      <td>-0.181302</td>\n    </tr>\n    <tr>\n      <th>9</th>\n      <td>RSL07000458490</td>\n      <td>171478.0</td>\n      <td>33897.0</td>\n      <td>0</td>\n      <td>130777.0</td>\n      <td>0</td>\n      <td>4</td>\n      <td>0.003803</td>\n      <td>0.204588</td>\n      <td>-0.205070</td>\n      <td>...</td>\n      <td>-0.079526</td>\n      <td>0.209965</td>\n      <td>-0.544201</td>\n      <td>-0.241722</td>\n      <td>-0.020239</td>\n      <td>-0.108107</td>\n      <td>-0.332226</td>\n      <td>0.043390</td>\n      <td>0.285153</td>\n      <td>-0.181302</td>\n    </tr>\n    <tr>\n      <th>29</th>\n      <td>RSL07000355720</td>\n      <td>171478.0</td>\n      <td>33897.0</td>\n      <td>0</td>\n      <td>130777.0</td>\n      <td>0</td>\n      <td>4</td>\n      <td>0.003803</td>\n      <td>0.204588</td>\n      <td>-0.205070</td>\n      <td>...</td>\n      <td>-0.079526</td>\n      <td>0.209965</td>\n      <td>-0.544201</td>\n      <td>-0.241722</td>\n      <td>-0.020239</td>\n      <td>-0.108107</td>\n      <td>-0.332226</td>\n      <td>0.043390</td>\n      <td>0.285153</td>\n      <td>-0.181302</td>\n    </tr>\n    <tr>\n      <th>...</th>\n      <td>...</td>\n      <td>...</td>\n      <td>...</td>\n      <td>...</td>\n      <td>...</td>\n      <td>...</td>\n      <td>...</td>\n      <td>...</td>\n      <td>...</td>\n      <td>...</td>\n      <td>...</td>\n      <td>...</td>\n      <td>...</td>\n      <td>...</td>\n      <td>...</td>\n      <td>...</td>\n      <td>...</td>\n      <td>...</td>\n      <td>...</td>\n      <td>...</td>\n      <td>...</td>\n    </tr>\n    <tr>\n      <th>354284</th>\n      <td>RSL01004011453</td>\n      <td>171478.0</td>\n      <td>33897.0</td>\n      <td>1912</td>\n      <td>130777.0</td>\n      <td>0</td>\n      <td>4</td>\n      <td>0.085555</td>\n      <td>0.324205</td>\n      <td>-0.370308</td>\n      <td>...</td>\n      <td>-0.690902</td>\n      <td>0.046693</td>\n      <td>-0.853451</td>\n      <td>0.250400</td>\n      <td>0.115962</td>\n      <td>-0.144393</td>\n      <td>-0.387870</td>\n      <td>-0.065081</td>\n      <td>0.408006</td>\n      <td>0.014711</td>\n    </tr>\n    <tr>\n      <th>354298</th>\n      <td>RSL01011034405</td>\n      <td>171478.0</td>\n      <td>33897.0</td>\n      <td>1883</td>\n      <td>130777.0</td>\n      <td>0</td>\n      <td>4</td>\n      <td>-0.371838</td>\n      <td>-0.013498</td>\n      <td>-0.942991</td>\n      <td>...</td>\n      <td>-0.041956</td>\n      <td>0.201893</td>\n      <td>-1.036587</td>\n      <td>0.045496</td>\n      <td>0.569462</td>\n      <td>0.616259</td>\n      <td>-0.857223</td>\n      <td>0.161010</td>\n      <td>0.274876</td>\n      <td>-1.087000</td>\n    </tr>\n    <tr>\n      <th>354309</th>\n      <td>RSL01000567490</td>\n      <td>171478.0</td>\n      <td>33897.0</td>\n      <td>1996</td>\n      <td>84034.0</td>\n      <td>0</td>\n      <td>4</td>\n      <td>-0.632071</td>\n      <td>0.518056</td>\n      <td>0.134784</td>\n      <td>...</td>\n      <td>0.053200</td>\n      <td>0.659948</td>\n      <td>-1.275459</td>\n      <td>-0.537373</td>\n      <td>-0.003366</td>\n      <td>-0.137675</td>\n      <td>0.111982</td>\n      <td>-1.333713</td>\n      <td>0.823611</td>\n      <td>-0.569724</td>\n    </tr>\n    <tr>\n      <th>354314</th>\n      <td>RSL01003970966</td>\n      <td>171478.0</td>\n      <td>33897.0</td>\n      <td>1902</td>\n      <td>130777.0</td>\n      <td>1</td>\n      <td>2</td>\n      <td>0.036629</td>\n      <td>-0.223110</td>\n      <td>-0.520931</td>\n      <td>...</td>\n      <td>0.133995</td>\n      <td>0.327780</td>\n      <td>-0.360977</td>\n      <td>-1.300547</td>\n      <td>0.627138</td>\n      <td>-0.201863</td>\n      <td>-0.015881</td>\n      <td>-0.713385</td>\n      <td>-0.038805</td>\n      <td>-1.314322</td>\n    </tr>\n    <tr>\n      <th>354328</th>\n      <td>RSL01006747380</td>\n      <td>171478.0</td>\n      <td>33897.0</td>\n      <td>2014</td>\n      <td>48631.0</td>\n      <td>0</td>\n      <td>0</td>\n      <td>-0.845455</td>\n      <td>0.089724</td>\n      <td>-1.036503</td>\n      <td>...</td>\n      <td>-0.369155</td>\n      <td>0.546046</td>\n      <td>-0.562336</td>\n      <td>-1.104719</td>\n      <td>0.671732</td>\n      <td>-1.053866</td>\n      <td>0.566156</td>\n      <td>-0.929909</td>\n      <td>0.751495</td>\n      <td>-0.664040</td>\n    </tr>\n  </tbody>\n</table>\n<p>44141 rows × 775 columns</p>\n</div>"
     },
     "execution_count": 193,
     "metadata": {},
     "output_type": "execute_result"
    }
   ],
   "source": [
    "# смотрим такие же по автору и издательству\n",
    "items[(items['author'] == 171478.0) & (items['izd'] == 33897.0)]"
   ],
   "metadata": {
    "collapsed": false,
    "pycharm": {
     "name": "#%%\n"
    }
   }
  },
  {
   "cell_type": "code",
   "execution_count": 199,
   "outputs": [
    {
     "data": {
      "text/plain": "           sys_numb    author      izd year_izd       bbk  is_textboot  \\\n46   RSL07000411551  171478.0  33897.0        0  130777.0            0   \n130  RSL02000010551  171478.0  33897.0        0  130777.0            0   \n469  RSL07000435269  171478.0  33897.0        0  130777.0            0   \n29   RSL07000355720  171478.0  33897.0        0  130777.0            0   \n64   RSL07000353616  171478.0  33897.0        0  130777.0            0   \n..              ...       ...      ...      ...       ...          ...   \n488  RSL07000380592  171478.0  33897.0        0  130777.0            0   \n482  RSL07000350413  171478.0  33897.0        0  130777.0            0   \n437  RSL07000484405  171478.0  33897.0        0  130777.0            0   \n125  RSL07000451038  171478.0  33897.0        0  130777.0            0   \n6    RSL07000467555  171478.0  33897.0        0  130777.0            0   \n\n     item_kmean_class         0         1        2  ...       758       759  \\\n46                  4  0.003803  0.204588 -0.20507  ... -0.079526  0.209965   \n130                 4  0.003803  0.204588 -0.20507  ... -0.079526  0.209965   \n469                 4  0.003803  0.204588 -0.20507  ... -0.079526  0.209965   \n29                  4  0.003803  0.204588 -0.20507  ... -0.079526  0.209965   \n64                  4  0.003803  0.204588 -0.20507  ... -0.079526  0.209965   \n..                ...       ...       ...      ...  ...       ...       ...   \n488                 4  0.003803  0.204588 -0.20507  ... -0.079526  0.209965   \n482                 4  0.003803  0.204588 -0.20507  ... -0.079526  0.209965   \n437                 4  0.003803  0.204588 -0.20507  ... -0.079526  0.209965   \n125                 4  0.003803  0.204588 -0.20507  ... -0.079526  0.209965   \n6                   4  0.003803  0.204588 -0.20507  ... -0.079526  0.209965   \n\n          760       761       762       763       764      765       766  \\\n46  -0.544201 -0.241722 -0.020239 -0.108107 -0.332226  0.04339  0.285153   \n130 -0.544201 -0.241722 -0.020239 -0.108107 -0.332226  0.04339  0.285153   \n469 -0.544201 -0.241722 -0.020239 -0.108107 -0.332226  0.04339  0.285153   \n29  -0.544201 -0.241722 -0.020239 -0.108107 -0.332226  0.04339  0.285153   \n64  -0.544201 -0.241722 -0.020239 -0.108107 -0.332226  0.04339  0.285153   \n..        ...       ...       ...       ...       ...      ...       ...   \n488 -0.544201 -0.241722 -0.020239 -0.108107 -0.332226  0.04339  0.285153   \n482 -0.544201 -0.241722 -0.020239 -0.108107 -0.332226  0.04339  0.285153   \n437 -0.544201 -0.241722 -0.020239 -0.108107 -0.332226  0.04339  0.285153   \n125 -0.544201 -0.241722 -0.020239 -0.108107 -0.332226  0.04339  0.285153   \n6   -0.544201 -0.241722 -0.020239 -0.108107 -0.332226  0.04339  0.285153   \n\n          767  \n46  -0.181302  \n130 -0.181302  \n469 -0.181302  \n29  -0.181302  \n64  -0.181302  \n..        ...  \n488 -0.181302  \n482 -0.181302  \n437 -0.181302  \n125 -0.181302  \n6   -0.181302  \n\n[80 rows x 775 columns]",
      "text/html": "<div>\n<style scoped>\n    .dataframe tbody tr th:only-of-type {\n        vertical-align: middle;\n    }\n\n    .dataframe tbody tr th {\n        vertical-align: top;\n    }\n\n    .dataframe thead th {\n        text-align: right;\n    }\n</style>\n<table border=\"1\" class=\"dataframe\">\n  <thead>\n    <tr style=\"text-align: right;\">\n      <th></th>\n      <th>sys_numb</th>\n      <th>author</th>\n      <th>izd</th>\n      <th>year_izd</th>\n      <th>bbk</th>\n      <th>is_textboot</th>\n      <th>item_kmean_class</th>\n      <th>0</th>\n      <th>1</th>\n      <th>2</th>\n      <th>...</th>\n      <th>758</th>\n      <th>759</th>\n      <th>760</th>\n      <th>761</th>\n      <th>762</th>\n      <th>763</th>\n      <th>764</th>\n      <th>765</th>\n      <th>766</th>\n      <th>767</th>\n    </tr>\n  </thead>\n  <tbody>\n    <tr>\n      <th>46</th>\n      <td>RSL07000411551</td>\n      <td>171478.0</td>\n      <td>33897.0</td>\n      <td>0</td>\n      <td>130777.0</td>\n      <td>0</td>\n      <td>4</td>\n      <td>0.003803</td>\n      <td>0.204588</td>\n      <td>-0.20507</td>\n      <td>...</td>\n      <td>-0.079526</td>\n      <td>0.209965</td>\n      <td>-0.544201</td>\n      <td>-0.241722</td>\n      <td>-0.020239</td>\n      <td>-0.108107</td>\n      <td>-0.332226</td>\n      <td>0.04339</td>\n      <td>0.285153</td>\n      <td>-0.181302</td>\n    </tr>\n    <tr>\n      <th>130</th>\n      <td>RSL02000010551</td>\n      <td>171478.0</td>\n      <td>33897.0</td>\n      <td>0</td>\n      <td>130777.0</td>\n      <td>0</td>\n      <td>4</td>\n      <td>0.003803</td>\n      <td>0.204588</td>\n      <td>-0.20507</td>\n      <td>...</td>\n      <td>-0.079526</td>\n      <td>0.209965</td>\n      <td>-0.544201</td>\n      <td>-0.241722</td>\n      <td>-0.020239</td>\n      <td>-0.108107</td>\n      <td>-0.332226</td>\n      <td>0.04339</td>\n      <td>0.285153</td>\n      <td>-0.181302</td>\n    </tr>\n    <tr>\n      <th>469</th>\n      <td>RSL07000435269</td>\n      <td>171478.0</td>\n      <td>33897.0</td>\n      <td>0</td>\n      <td>130777.0</td>\n      <td>0</td>\n      <td>4</td>\n      <td>0.003803</td>\n      <td>0.204588</td>\n      <td>-0.20507</td>\n      <td>...</td>\n      <td>-0.079526</td>\n      <td>0.209965</td>\n      <td>-0.544201</td>\n      <td>-0.241722</td>\n      <td>-0.020239</td>\n      <td>-0.108107</td>\n      <td>-0.332226</td>\n      <td>0.04339</td>\n      <td>0.285153</td>\n      <td>-0.181302</td>\n    </tr>\n    <tr>\n      <th>29</th>\n      <td>RSL07000355720</td>\n      <td>171478.0</td>\n      <td>33897.0</td>\n      <td>0</td>\n      <td>130777.0</td>\n      <td>0</td>\n      <td>4</td>\n      <td>0.003803</td>\n      <td>0.204588</td>\n      <td>-0.20507</td>\n      <td>...</td>\n      <td>-0.079526</td>\n      <td>0.209965</td>\n      <td>-0.544201</td>\n      <td>-0.241722</td>\n      <td>-0.020239</td>\n      <td>-0.108107</td>\n      <td>-0.332226</td>\n      <td>0.04339</td>\n      <td>0.285153</td>\n      <td>-0.181302</td>\n    </tr>\n    <tr>\n      <th>64</th>\n      <td>RSL07000353616</td>\n      <td>171478.0</td>\n      <td>33897.0</td>\n      <td>0</td>\n      <td>130777.0</td>\n      <td>0</td>\n      <td>4</td>\n      <td>0.003803</td>\n      <td>0.204588</td>\n      <td>-0.20507</td>\n      <td>...</td>\n      <td>-0.079526</td>\n      <td>0.209965</td>\n      <td>-0.544201</td>\n      <td>-0.241722</td>\n      <td>-0.020239</td>\n      <td>-0.108107</td>\n      <td>-0.332226</td>\n      <td>0.04339</td>\n      <td>0.285153</td>\n      <td>-0.181302</td>\n    </tr>\n    <tr>\n      <th>...</th>\n      <td>...</td>\n      <td>...</td>\n      <td>...</td>\n      <td>...</td>\n      <td>...</td>\n      <td>...</td>\n      <td>...</td>\n      <td>...</td>\n      <td>...</td>\n      <td>...</td>\n      <td>...</td>\n      <td>...</td>\n      <td>...</td>\n      <td>...</td>\n      <td>...</td>\n      <td>...</td>\n      <td>...</td>\n      <td>...</td>\n      <td>...</td>\n      <td>...</td>\n      <td>...</td>\n    </tr>\n    <tr>\n      <th>488</th>\n      <td>RSL07000380592</td>\n      <td>171478.0</td>\n      <td>33897.0</td>\n      <td>0</td>\n      <td>130777.0</td>\n      <td>0</td>\n      <td>4</td>\n      <td>0.003803</td>\n      <td>0.204588</td>\n      <td>-0.20507</td>\n      <td>...</td>\n      <td>-0.079526</td>\n      <td>0.209965</td>\n      <td>-0.544201</td>\n      <td>-0.241722</td>\n      <td>-0.020239</td>\n      <td>-0.108107</td>\n      <td>-0.332226</td>\n      <td>0.04339</td>\n      <td>0.285153</td>\n      <td>-0.181302</td>\n    </tr>\n    <tr>\n      <th>482</th>\n      <td>RSL07000350413</td>\n      <td>171478.0</td>\n      <td>33897.0</td>\n      <td>0</td>\n      <td>130777.0</td>\n      <td>0</td>\n      <td>4</td>\n      <td>0.003803</td>\n      <td>0.204588</td>\n      <td>-0.20507</td>\n      <td>...</td>\n      <td>-0.079526</td>\n      <td>0.209965</td>\n      <td>-0.544201</td>\n      <td>-0.241722</td>\n      <td>-0.020239</td>\n      <td>-0.108107</td>\n      <td>-0.332226</td>\n      <td>0.04339</td>\n      <td>0.285153</td>\n      <td>-0.181302</td>\n    </tr>\n    <tr>\n      <th>437</th>\n      <td>RSL07000484405</td>\n      <td>171478.0</td>\n      <td>33897.0</td>\n      <td>0</td>\n      <td>130777.0</td>\n      <td>0</td>\n      <td>4</td>\n      <td>0.003803</td>\n      <td>0.204588</td>\n      <td>-0.20507</td>\n      <td>...</td>\n      <td>-0.079526</td>\n      <td>0.209965</td>\n      <td>-0.544201</td>\n      <td>-0.241722</td>\n      <td>-0.020239</td>\n      <td>-0.108107</td>\n      <td>-0.332226</td>\n      <td>0.04339</td>\n      <td>0.285153</td>\n      <td>-0.181302</td>\n    </tr>\n    <tr>\n      <th>125</th>\n      <td>RSL07000451038</td>\n      <td>171478.0</td>\n      <td>33897.0</td>\n      <td>0</td>\n      <td>130777.0</td>\n      <td>0</td>\n      <td>4</td>\n      <td>0.003803</td>\n      <td>0.204588</td>\n      <td>-0.20507</td>\n      <td>...</td>\n      <td>-0.079526</td>\n      <td>0.209965</td>\n      <td>-0.544201</td>\n      <td>-0.241722</td>\n      <td>-0.020239</td>\n      <td>-0.108107</td>\n      <td>-0.332226</td>\n      <td>0.04339</td>\n      <td>0.285153</td>\n      <td>-0.181302</td>\n    </tr>\n    <tr>\n      <th>6</th>\n      <td>RSL07000467555</td>\n      <td>171478.0</td>\n      <td>33897.0</td>\n      <td>0</td>\n      <td>130777.0</td>\n      <td>0</td>\n      <td>4</td>\n      <td>0.003803</td>\n      <td>0.204588</td>\n      <td>-0.20507</td>\n      <td>...</td>\n      <td>-0.079526</td>\n      <td>0.209965</td>\n      <td>-0.544201</td>\n      <td>-0.241722</td>\n      <td>-0.020239</td>\n      <td>-0.108107</td>\n      <td>-0.332226</td>\n      <td>0.04339</td>\n      <td>0.285153</td>\n      <td>-0.181302</td>\n    </tr>\n  </tbody>\n</table>\n<p>80 rows × 775 columns</p>\n</div>"
     },
     "execution_count": 199,
     "metadata": {},
     "output_type": "execute_result"
    }
   ],
   "source": [
    "item_ind = 2350\n",
    "# получаем рекомендацию\n",
    "dist, rec_indexes = items_index.search(\n",
    "\tnp.ascontiguousarray(\n",
    "\t\titems_to_index.loc[item_ind].to_numpy().astype('float32')\n",
    "\t\t.reshape((1, -1))\n",
    "\t),\n",
    "\tn_rec\n",
    ")\n",
    "\n",
    "items.loc[rec_indexes[0]]"
   ],
   "metadata": {
    "collapsed": false,
    "pycharm": {
     "name": "#%%\n"
    }
   }
  },
  {
   "cell_type": "code",
   "execution_count": null,
   "outputs": [],
   "source": [
    "# сохраняем индекс в файл\n",
    "faiss.write_index(index, 'faiss_product_usage_index_without_title.index')"
   ],
   "metadata": {
    "collapsed": false,
    "pycharm": {
     "name": "#%%\n"
    }
   }
  },
  {
   "cell_type": "code",
   "execution_count": null,
   "outputs": [],
   "source": [
    "def get_recommendation():\n",
    "\tres = []\n",
    "\tn_rec = 100\n",
    "\tfor chb in tqdm(set(users.chb.values)):\n",
    "\t\tcount_rec = 0\n",
    "\t\t# получаем множество уже прочитанных книг\n",
    "\t\treaded = books_readed_by_clients[str(chb)]\n",
    "\t\tuser_index = full_data[users_id['chb'] == chb]\n",
    "\t\t# формируем рекомендации\n",
    "\t\t_, same_embedding_indexes = index.search(\n",
    "\t\t\tnp.ascontiguousarray(full_data.to_numpy().astype('float32')[user_index].reshape((1, -1))),\n",
    "\t\t\tn_rec\n",
    "\t\t)\n",
    "\t\t# для каждой рекомендации\n",
    "\t\tfor same_index in same_embedding_indexes[0]:\n",
    "\t\t\t# проверяем нет ли ее в уже прочитанных\n",
    "\t\t\t# если нет, то добавляем в результат\n",
    "\t\t\t# если есть, то переходим к следующей рекомендации\n",
    "\t\t\t# print(same_index)\n",
    "\t\t\titem = user_full_data.loc[same_index, 'sys_numb']\n",
    "\t\t\tif item not in list(readed):\n",
    "\t\t\t\tcount_rec += 1\n",
    "\t\t\t\tres.append([chb, item])\n",
    "\t\t\tif count_rec == 20:\n",
    "\t\t\t\tbreak\n",
    "\treturn res"
   ],
   "metadata": {
    "collapsed": false,
    "pycharm": {
     "name": "#%%\n"
    }
   }
  },
  {
   "cell_type": "code",
   "execution_count": null,
   "outputs": [],
   "source": [
    "pd.DataFrame(get_recommendation(), columns=['chb', 'sys_numb']).to_csv('4rd_iter.csv', sep=';', index=False)"
   ],
   "metadata": {
    "collapsed": false,
    "pycharm": {
     "name": "#%%\n"
    }
   }
  }
 ],
 "metadata": {
  "kernelspec": {
   "display_name": "Python 3",
   "language": "python",
   "name": "python3"
  },
  "language_info": {
   "codemirror_mode": {
    "name": "ipython",
    "version": 2
   },
   "file_extension": ".py",
   "mimetype": "text/x-python",
   "name": "python",
   "nbconvert_exporter": "python",
   "pygments_lexer": "ipython2",
   "version": "2.7.6"
  }
 },
 "nbformat": 4,
 "nbformat_minor": 0
}