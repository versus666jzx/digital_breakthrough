{
 "cells": [
  {
   "cell_type": "markdown",
   "source": [
    "# Задача\n",
    "\n",
    "Создать рекомендательную систему для пользователей библиотеки с учетом семантики\n",
    "\n",
    "# Условия задачи\n",
    "\n",
    "Участникам необходимо для каждого из 16 753 пользователей сделать\n",
    "подборку из 20 рекомендаций.\n",
    "\n",
    "Порядок рекомендаций не учитывается, но\n",
    "очень важно, чтобы рекомендации основывались на интересе пользователя\n",
    "и были ему релевантны. Обратите внимание, что тестирующая система\n",
    "принимает только те решения, в которых содержится не более 20\n",
    "рекомендаций для одного пользователя. Уникальных документов – 354 355.\n",
    "\n",
    "Участники получают 3 таблицы: users.csv, items.csv,\n",
    "train_transactions.csv.\n",
    "\n",
    "Users.csv содержит информацию о читателях, где каждый читатель имеет свой\n",
    "уникальный номер читательского билета (chb).\n",
    "\n",
    "Таблица items.csv, содержит описание документов, которые доступны всем читателям,\n",
    "каждый документ имеет уникальный системный номер (sys_numb).\n",
    "\n",
    "Таблица train_transactions.csv устанавливает связь между\n",
    "users-items, показывает наличие взаимодействия читателя с документом.\n",
    "\n",
    "# Описание данных\n",
    "\n",
    "##### users.csv:\n",
    "chb – полный номер читательского билета\n",
    "age – возраст читателя\n",
    "gender – пол читателя\n",
    "chit_type – тип читателя\n",
    "\n",
    "##### items.csv:\n",
    "sys_numb – системный номер документа\n",
    "title – название документа\n",
    "author – автор документа\n",
    "izd – издательство\n",
    "year_izd – год издания\n",
    "bbk – ББК документа\n",
    "\n",
    "##### train_transactions.csv:\n",
    "chb - полный номер читательского билета\n",
    "sys_numb – системный номер документа\n",
    "date_1 – дата выдачи\n",
    "is_real – был ли выдан заказ\n",
    "type – тип книговыдачи (книговыдача/скачивание)\n",
    "source – источник (один из трёх онлайн-просмотрщиков)\n",
    "is_printed – печатный/электронный документ\n"
   ],
   "metadata": {
    "collapsed": false,
    "pycharm": {
     "name": "#%% md\n"
    }
   }
  },
  {
   "cell_type": "code",
   "execution_count": 88,
   "metadata": {
    "collapsed": true,
    "pycharm": {
     "name": "#%%\n"
    }
   },
   "outputs": [],
   "source": [
    "import gc\n",
    "import re\n",
    "import string\n",
    "\n",
    "import numpy as np\n",
    "import pandas as pd\n",
    "\n",
    "import roman\n",
    "\n",
    "import plotly.express as px\n",
    "import plotly.graph_objects as go\n",
    "import seaborn as sns\n",
    "\n",
    "from sklearn.cluster import KMeans\n",
    "from sklearn.preprocessing import OrdinalEncoder, StandardScaler\n",
    "from sklearn.feature_extraction.text import TfidfVectorizer\n",
    "from sklearn.pipeline import make_pipeline\n",
    "\n",
    "import nltk\n",
    "from nltk.corpus import stopwords as nltk_stopwords\n",
    "\n",
    "import tensorflow as tf\n",
    "from keras.models import Sequential\n",
    "from keras.layers import LSTM, Dense, Softmax, Dropout, Conv1D, MaxPooling1D\n",
    "\n",
    "import lightfm\n",
    "from lightfm.data import Dataset\n",
    "from lightfm.evaluation import auc_score\n",
    "\n",
    "\n",
    "from scipy.sparse import csr_matrix\n",
    "\n",
    "import transformers\n",
    "\n",
    "from tqdm.notebook import tqdm"
   ]
  },
  {
   "cell_type": "code",
   "execution_count": 89,
   "outputs": [
    {
     "name": "stdout",
     "output_type": "stream",
     "text": [
      "showing info https://raw.githubusercontent.com/nltk/nltk_data/gh-pages/index.xml\n"
     ]
    },
    {
     "data": {
      "text/plain": "True"
     },
     "execution_count": 89,
     "metadata": {},
     "output_type": "execute_result"
    }
   ],
   "source": [
    "nltk.download()"
   ],
   "metadata": {
    "collapsed": false,
    "pycharm": {
     "name": "#%%\n"
    }
   }
  },
  {
   "cell_type": "markdown",
   "source": [
    "## Шаг 1. Загрузим и посмотрим на данные"
   ],
   "metadata": {
    "collapsed": false,
    "pycharm": {
     "name": "#%% md\n"
    }
   }
  },
  {
   "cell_type": "code",
   "execution_count": 90,
   "outputs": [],
   "source": [
    "users = pd.read_csv(\n",
    "\t'../data/users.csv',\n",
    "\tsep=';',\n",
    "\tindex_col=None,\n",
    "\tdtype={'age': str, 'chb': str, 'chit_type': str, 'gender': str}\n",
    ")\n",
    "\n",
    "items = pd.read_csv(\n",
    "\t'../data/items.csv',\n",
    "\tsep=';',\n",
    "\tindex_col=None,\n",
    "\tdtype={'author': str, 'bbk': str, 'izd': str, 'sys_numb': str, 'title': str, 'year_izd': str}\n",
    ")\n",
    "\n",
    "train_transactions = pd.read_csv(\n",
    "\t'../data/train_transactions_extended.csv',\n",
    "\tsep=';',\n",
    "\tindex_col=None,\n",
    "\tdtype={'chb': str, 'date_1': str, 'is_printed': str, 'is_real': str, 'source': str, 'sys_numb': str, 'type': str}\n",
    ")\n",
    "\n",
    "users.name = 'users'\n",
    "items.name = 'items'\n",
    "train_transactions.name = 'train_transactions'\n",
    "\n",
    "all_data = [users, items, train_transactions]"
   ],
   "metadata": {
    "collapsed": false,
    "pycharm": {
     "name": "#%%\n"
    }
   }
  },
  {
   "cell_type": "markdown",
   "source": [
    "Руками заполним пропуски в некоторых данных"
   ],
   "metadata": {
    "collapsed": false,
    "pycharm": {
     "name": "#%% md\n"
    }
   }
  },
  {
   "cell_type": "code",
   "execution_count": 91,
   "outputs": [],
   "source": [
    "# у пользователя с индексом 9681 в данных полях стоит значение \"отсутствует\", заменим его на самое частотное значение поля\n",
    "users.loc[9681, 'gender'] = users['gender'].value_counts().index[0]\n",
    "users.loc[9681, 'age'] = users['age'].value_counts().index[0]\n",
    "users.loc[9681, 'chit_type'] = users['chit_type'].value_counts().index[0]\n",
    "users.loc[8978, 'age'] = users['age'].value_counts()[0]\n",
    "\n",
    "# книга без заполненных данных, ее некому будет рекомендовать\n",
    "items.loc[45417, 'year_izd'] = '2016'\n",
    "# заполним пропуски в поле bbk\n",
    "items['bbk'] = items['bbk'].fillna('отсутствует')\n",
    "\n",
    "# поля \"none\" и \"отсутствует\" по сути одно и то же, так что заменим none на отсутствует\n",
    "items['title'] = items['title'].apply(lambda author: 'отсутствует' if 'none' in author else author)\n",
    "items['author'] = items['author'].apply(lambda author: 'отсутствует' if 'none' in author else author)\n",
    "items['izd'] = items['izd'].apply(lambda author: 'отсутствует' if 'none' in author else author)\n",
    "items['year_izd'] = items['year_izd'].apply(lambda author: 'отсутствует' if 'none' in author else author)\n",
    "items['bbk'] = items['bbk'].apply(lambda author: 'отсутствует' if 'none' in author else author)\n",
    "\n",
    "# удаляем квадратные скобки из годов\n",
    "items['year_izd'].apply(lambda year: year.replace('[', '').replace(']', '')).value_counts()\n",
    "\n",
    "# создаем фичу определяющую является ли кника учебником или нет\n",
    "items['is_textboot'] = items['title'].apply(lambda title: int(max([x in title for x in ['учеб', 'Учеб']])))\n",
    "\n",
    "# типы \"скачивание\" и \"скачка\" одинаковые, приводим к единому виду \"скачивание\"\n",
    "train_transactions['type'] = train_transactions['type'].apply(lambda type: 'скачивание' if 'скачка' in type else type)"
   ],
   "metadata": {
    "collapsed": false,
    "pycharm": {
     "name": "#%%\n"
    }
   }
  },
  {
   "cell_type": "markdown",
   "source": [
    "Немного магии с годом издания книги"
   ],
   "metadata": {
    "collapsed": false,
    "pycharm": {
     "name": "#%% md\n"
    }
   }
  },
  {
   "cell_type": "code",
   "execution_count": 92,
   "outputs": [],
   "source": [
    "def is_roman_number(year):\n",
    "\tif '۱۱۴۵' in year:\n",
    "\t\treturn 'отсутствует'\n",
    "\n",
    "\tpattern = r'\\d{4}|[I|V|X|L|C|D|M]+'\n",
    "\tres = re.findall(pattern, year)\n",
    "\tif len(res) > 0:\n",
    "\t\tif len(res) > 1:\n",
    "\t\t\treturn res[1]\n",
    "\t\telse:\n",
    "\t\t\treturn res[0]\n",
    "\telse:\n",
    "\t\tpattern = r'[а-я]|[А-Я]|[a-z]|[A-Z]'\n",
    "\t\tres = re.findall(pattern, year)\n",
    "\t\tif len(res) > 0:\n",
    "\t\t\treturn 'отсутствует'\n",
    "\t\telse:\n",
    "\t\t\treturn year\n",
    "\n",
    "def from_roman_to_int(year):\n",
    "\ttry:\n",
    "\t\treturn str(roman.fromRoman(year))\n",
    "\texcept:\n",
    "\t\treturn year\n",
    "\n",
    "def validate(year):\n",
    "\ttry:\n",
    "\t\tif int(year) >= 2022 or int(year) <= 1000:\n",
    "\t\t\treturn 'отсутствует'\n",
    "\t\telse:\n",
    "\t\t\treturn year\n",
    "\texcept:\n",
    "\t\treturn year\n",
    "\n",
    "\n",
    "def parse(year):\n",
    "\ttry:\n",
    "\t\treturn year.split(' ')[0]\n",
    "\texcept:\n",
    "\t\treturn year\n",
    "\n",
    "\n",
    "items['year_izd'] = (items['year_izd']\n",
    "\t\t\t\t\t.apply(is_roman_number)\n",
    "\t\t\t\t\t.apply(from_roman_to_int)\n",
    "\t\t\t\t\t.apply(\n",
    "\t\t\t\t\t\tlambda year: year\n",
    "\t\t\t\t\t\t.replace('?', '')\n",
    "\t\t\t\t\t\t.replace('.', '', 2)\n",
    "\t\t\t\t\t\t.replace('-', '0', 2)\n",
    "\t\t\t\t\t\t.replace('-', '')\n",
    "\t\t\t\t\t\t.replace('[', '')\n",
    "\t\t\t\t\t\t.replace(']', '')\n",
    "\t\t\t\t\t)\n",
    "\t\t\t\t\t.apply(parse)\n",
    "\t\t\t\t\t.apply(validate)\n",
    "\t\t\t\t\t.apply(\n",
    "\t\t\t\t\t\tlambda year: year\n",
    "\t\t\t\t\t\t.replace('.', '0')\n",
    "\t\t\t\t\t\t.replace('–', '0')\n",
    "\t\t\t\t\t\t)\n",
    "\t\t\t\t\t)"
   ],
   "metadata": {
    "collapsed": false,
    "pycharm": {
     "name": "#%%\n"
    }
   }
  },
  {
   "cell_type": "markdown",
   "source": [
    "Приводим в порядок информацию об издательстве"
   ],
   "metadata": {
    "collapsed": false,
    "pycharm": {
     "name": "#%% md\n"
    }
   }
  },
  {
   "cell_type": "code",
   "execution_count": 93,
   "outputs": [],
   "source": [
    "def check_izdat(izdat):\n",
    "\tif '[б. и.]' in izdat:\n",
    "\t\treturn 'отсутствует'\n",
    "\telif 'Б. и.' in izdat:\n",
    "\t\treturn 'отсутствует'\n",
    "\treturn izdat.replace('[', '').replace(']', '')\n",
    "\n",
    "items['izd'] = items['izd'].apply(check_izdat)"
   ],
   "metadata": {
    "collapsed": false,
    "pycharm": {
     "name": "#%%\n"
    }
   }
  },
  {
   "cell_type": "markdown",
   "source": [
    "Приводим в порядок информацию об авторах (увеличивает число дублей среди авторов на 1132 (было 181734, стало 182866)"
   ],
   "metadata": {
    "collapsed": false,
    "pycharm": {
     "name": "#%% md\n"
    }
   }
  },
  {
   "cell_type": "code",
   "execution_count": 94,
   "outputs": [],
   "source": [
    "def get_only_author(author):\n",
    "\tpattern = r'\\D+'\n",
    "\treturn ' '.join(re.findall(pattern, author)).replace(',', '').replace('-', '')\n",
    "\n",
    "items['author'] = items['author'].apply(get_only_author)"
   ],
   "metadata": {
    "collapsed": false,
    "pycharm": {
     "name": "#%%\n"
    }
   }
  },
  {
   "cell_type": "markdown",
   "source": [
    "Создадим таблицу с данными, какие клиенты какие книги уже брали, чтобы их не рекомендовать"
   ],
   "metadata": {
    "collapsed": false,
    "pycharm": {
     "name": "#%% md\n"
    }
   }
  },
  {
   "cell_type": "code",
   "execution_count": 95,
   "outputs": [],
   "source": [
    "books_readed_by_clients = train_transactions.groupby('chb')['sys_numb'].apply(set)"
   ],
   "metadata": {
    "collapsed": false,
    "pycharm": {
     "name": "#%%\n"
    }
   }
  },
  {
   "cell_type": "markdown",
   "source": [
    "## Подготовим признаки в таблицах"
   ],
   "metadata": {
    "collapsed": false,
    "pycharm": {
     "name": "#%% md\n"
    }
   }
  },
  {
   "cell_type": "code",
   "execution_count": 96,
   "outputs": [
    {
     "data": {
      "text/plain": "            chb  age  gender   chit_type\n0  300001020830   21  female  нет данных\n1  300001113642   36  female  нет данных\n2  300001148466   46  female  нет данных\n3  300001117011   22  female  нет данных\n4  200001038094   24  female        echb",
      "text/html": "<div>\n<style scoped>\n    .dataframe tbody tr th:only-of-type {\n        vertical-align: middle;\n    }\n\n    .dataframe tbody tr th {\n        vertical-align: top;\n    }\n\n    .dataframe thead th {\n        text-align: right;\n    }\n</style>\n<table border=\"1\" class=\"dataframe\">\n  <thead>\n    <tr style=\"text-align: right;\">\n      <th></th>\n      <th>chb</th>\n      <th>age</th>\n      <th>gender</th>\n      <th>chit_type</th>\n    </tr>\n  </thead>\n  <tbody>\n    <tr>\n      <th>0</th>\n      <td>300001020830</td>\n      <td>21</td>\n      <td>female</td>\n      <td>нет данных</td>\n    </tr>\n    <tr>\n      <th>1</th>\n      <td>300001113642</td>\n      <td>36</td>\n      <td>female</td>\n      <td>нет данных</td>\n    </tr>\n    <tr>\n      <th>2</th>\n      <td>300001148466</td>\n      <td>46</td>\n      <td>female</td>\n      <td>нет данных</td>\n    </tr>\n    <tr>\n      <th>3</th>\n      <td>300001117011</td>\n      <td>22</td>\n      <td>female</td>\n      <td>нет данных</td>\n    </tr>\n    <tr>\n      <th>4</th>\n      <td>200001038094</td>\n      <td>24</td>\n      <td>female</td>\n      <td>echb</td>\n    </tr>\n  </tbody>\n</table>\n</div>"
     },
     "execution_count": 96,
     "metadata": {},
     "output_type": "execute_result"
    }
   ],
   "source": [
    "users_data_encoder = OrdinalEncoder()\n",
    "users_encode_columns = ['gender', 'chit_type']\n",
    "# users[users_encode_columns] = users_data_encoder.fit_transform(users[users_encode_columns])\n",
    "users['age'] = users['age'].astype('int')\n",
    "users.head()"
   ],
   "metadata": {
    "collapsed": false,
    "pycharm": {
     "name": "#%%\n"
    }
   }
  },
  {
   "cell_type": "code",
   "execution_count": 97,
   "outputs": [
    {
     "ename": "ValueError",
     "evalue": "could not convert string to float: 'female'",
     "output_type": "error",
     "traceback": [
      "\u001B[1;31m---------------------------------------------------------------------------\u001B[0m",
      "\u001B[1;31mValueError\u001B[0m                                Traceback (most recent call last)",
      "Input \u001B[1;32mIn [97]\u001B[0m, in \u001B[0;36m<cell line: 5>\u001B[1;34m()\u001B[0m\n\u001B[0;32m      1\u001B[0m kmean_pipe \u001B[38;5;241m=\u001B[39m make_pipeline(\n\u001B[0;32m      2\u001B[0m \tStandardScaler(),\n\u001B[0;32m      3\u001B[0m \tKMeans(n_clusters\u001B[38;5;241m=\u001B[39m\u001B[38;5;241m6\u001B[39m)\n\u001B[0;32m      4\u001B[0m )\n\u001B[1;32m----> 5\u001B[0m users[\u001B[38;5;124m'\u001B[39m\u001B[38;5;124muser_kmean_class\u001B[39m\u001B[38;5;124m'\u001B[39m] \u001B[38;5;241m=\u001B[39m \u001B[43mkmean_pipe\u001B[49m\u001B[38;5;241;43m.\u001B[39;49m\u001B[43mfit_predict\u001B[49m\u001B[43m(\u001B[49m\u001B[43musers\u001B[49m\u001B[43m[\u001B[49m\u001B[43m[\u001B[49m\u001B[38;5;124;43m'\u001B[39;49m\u001B[38;5;124;43mage\u001B[39;49m\u001B[38;5;124;43m'\u001B[39;49m\u001B[43m,\u001B[49m\u001B[43m \u001B[49m\u001B[38;5;124;43m'\u001B[39;49m\u001B[38;5;124;43mgender\u001B[39;49m\u001B[38;5;124;43m'\u001B[39;49m\u001B[43m,\u001B[49m\u001B[43m \u001B[49m\u001B[38;5;124;43m'\u001B[39;49m\u001B[38;5;124;43mchit_type\u001B[39;49m\u001B[38;5;124;43m'\u001B[39;49m\u001B[43m]\u001B[49m\u001B[43m]\u001B[49m\u001B[43m)\u001B[49m\n\u001B[0;32m      6\u001B[0m users\u001B[38;5;241m.\u001B[39msample(\u001B[38;5;241m7\u001B[39m)\n",
      "File \u001B[1;32mC:\\ProgramData\\Anaconda3\\envs\\digital_breakthrough\\lib\\site-packages\\sklearn\\pipeline.py:490\u001B[0m, in \u001B[0;36mPipeline.fit_predict\u001B[1;34m(self, X, y, **fit_params)\u001B[0m\n\u001B[0;32m    462\u001B[0m \u001B[38;5;124;03m\"\"\"Transform the data, and apply `fit_predict` with the final estimator.\u001B[39;00m\n\u001B[0;32m    463\u001B[0m \n\u001B[0;32m    464\u001B[0m \u001B[38;5;124;03mCall `fit_transform` of each transformer in the pipeline. The\u001B[39;00m\n\u001B[1;32m   (...)\u001B[0m\n\u001B[0;32m    487\u001B[0m \u001B[38;5;124;03m    Result of calling `fit_predict` on the final estimator.\u001B[39;00m\n\u001B[0;32m    488\u001B[0m \u001B[38;5;124;03m\"\"\"\u001B[39;00m\n\u001B[0;32m    489\u001B[0m fit_params_steps \u001B[38;5;241m=\u001B[39m \u001B[38;5;28mself\u001B[39m\u001B[38;5;241m.\u001B[39m_check_fit_params(\u001B[38;5;241m*\u001B[39m\u001B[38;5;241m*\u001B[39mfit_params)\n\u001B[1;32m--> 490\u001B[0m Xt \u001B[38;5;241m=\u001B[39m \u001B[38;5;28mself\u001B[39m\u001B[38;5;241m.\u001B[39m_fit(X, y, \u001B[38;5;241m*\u001B[39m\u001B[38;5;241m*\u001B[39mfit_params_steps)\n\u001B[0;32m    492\u001B[0m fit_params_last_step \u001B[38;5;241m=\u001B[39m fit_params_steps[\u001B[38;5;28mself\u001B[39m\u001B[38;5;241m.\u001B[39msteps[\u001B[38;5;241m-\u001B[39m\u001B[38;5;241m1\u001B[39m][\u001B[38;5;241m0\u001B[39m]]\n\u001B[0;32m    493\u001B[0m \u001B[38;5;28;01mwith\u001B[39;00m _print_elapsed_time(\u001B[38;5;124m\"\u001B[39m\u001B[38;5;124mPipeline\u001B[39m\u001B[38;5;124m\"\u001B[39m, \u001B[38;5;28mself\u001B[39m\u001B[38;5;241m.\u001B[39m_log_message(\u001B[38;5;28mlen\u001B[39m(\u001B[38;5;28mself\u001B[39m\u001B[38;5;241m.\u001B[39msteps) \u001B[38;5;241m-\u001B[39m \u001B[38;5;241m1\u001B[39m)):\n",
      "File \u001B[1;32mC:\\ProgramData\\Anaconda3\\envs\\digital_breakthrough\\lib\\site-packages\\sklearn\\pipeline.py:336\u001B[0m, in \u001B[0;36mPipeline._fit\u001B[1;34m(self, X, y, **fit_params_steps)\u001B[0m\n\u001B[0;32m    334\u001B[0m     cloned_transformer \u001B[38;5;241m=\u001B[39m clone(transformer)\n\u001B[0;32m    335\u001B[0m \u001B[38;5;66;03m# Fit or load from cache the current transformer\u001B[39;00m\n\u001B[1;32m--> 336\u001B[0m X, fitted_transformer \u001B[38;5;241m=\u001B[39m fit_transform_one_cached(\n\u001B[0;32m    337\u001B[0m     cloned_transformer,\n\u001B[0;32m    338\u001B[0m     X,\n\u001B[0;32m    339\u001B[0m     y,\n\u001B[0;32m    340\u001B[0m     \u001B[38;5;28;01mNone\u001B[39;00m,\n\u001B[0;32m    341\u001B[0m     message_clsname\u001B[38;5;241m=\u001B[39m\u001B[38;5;124m\"\u001B[39m\u001B[38;5;124mPipeline\u001B[39m\u001B[38;5;124m\"\u001B[39m,\n\u001B[0;32m    342\u001B[0m     message\u001B[38;5;241m=\u001B[39m\u001B[38;5;28mself\u001B[39m\u001B[38;5;241m.\u001B[39m_log_message(step_idx),\n\u001B[0;32m    343\u001B[0m     \u001B[38;5;241m*\u001B[39m\u001B[38;5;241m*\u001B[39mfit_params_steps[name],\n\u001B[0;32m    344\u001B[0m )\n\u001B[0;32m    345\u001B[0m \u001B[38;5;66;03m# Replace the transformer of the step with the fitted\u001B[39;00m\n\u001B[0;32m    346\u001B[0m \u001B[38;5;66;03m# transformer. This is necessary when loading the transformer\u001B[39;00m\n\u001B[0;32m    347\u001B[0m \u001B[38;5;66;03m# from the cache.\u001B[39;00m\n\u001B[0;32m    348\u001B[0m \u001B[38;5;28mself\u001B[39m\u001B[38;5;241m.\u001B[39msteps[step_idx] \u001B[38;5;241m=\u001B[39m (name, fitted_transformer)\n",
      "File \u001B[1;32mC:\\ProgramData\\Anaconda3\\envs\\digital_breakthrough\\lib\\site-packages\\joblib\\memory.py:349\u001B[0m, in \u001B[0;36mNotMemorizedFunc.__call__\u001B[1;34m(self, *args, **kwargs)\u001B[0m\n\u001B[0;32m    348\u001B[0m \u001B[38;5;28;01mdef\u001B[39;00m \u001B[38;5;21m__call__\u001B[39m(\u001B[38;5;28mself\u001B[39m, \u001B[38;5;241m*\u001B[39margs, \u001B[38;5;241m*\u001B[39m\u001B[38;5;241m*\u001B[39mkwargs):\n\u001B[1;32m--> 349\u001B[0m     \u001B[38;5;28;01mreturn\u001B[39;00m \u001B[38;5;28mself\u001B[39m\u001B[38;5;241m.\u001B[39mfunc(\u001B[38;5;241m*\u001B[39margs, \u001B[38;5;241m*\u001B[39m\u001B[38;5;241m*\u001B[39mkwargs)\n",
      "File \u001B[1;32mC:\\ProgramData\\Anaconda3\\envs\\digital_breakthrough\\lib\\site-packages\\sklearn\\pipeline.py:870\u001B[0m, in \u001B[0;36m_fit_transform_one\u001B[1;34m(transformer, X, y, weight, message_clsname, message, **fit_params)\u001B[0m\n\u001B[0;32m    868\u001B[0m \u001B[38;5;28;01mwith\u001B[39;00m _print_elapsed_time(message_clsname, message):\n\u001B[0;32m    869\u001B[0m     \u001B[38;5;28;01mif\u001B[39;00m \u001B[38;5;28mhasattr\u001B[39m(transformer, \u001B[38;5;124m\"\u001B[39m\u001B[38;5;124mfit_transform\u001B[39m\u001B[38;5;124m\"\u001B[39m):\n\u001B[1;32m--> 870\u001B[0m         res \u001B[38;5;241m=\u001B[39m transformer\u001B[38;5;241m.\u001B[39mfit_transform(X, y, \u001B[38;5;241m*\u001B[39m\u001B[38;5;241m*\u001B[39mfit_params)\n\u001B[0;32m    871\u001B[0m     \u001B[38;5;28;01melse\u001B[39;00m:\n\u001B[0;32m    872\u001B[0m         res \u001B[38;5;241m=\u001B[39m transformer\u001B[38;5;241m.\u001B[39mfit(X, y, \u001B[38;5;241m*\u001B[39m\u001B[38;5;241m*\u001B[39mfit_params)\u001B[38;5;241m.\u001B[39mtransform(X)\n",
      "File \u001B[1;32mC:\\ProgramData\\Anaconda3\\envs\\digital_breakthrough\\lib\\site-packages\\sklearn\\base.py:867\u001B[0m, in \u001B[0;36mTransformerMixin.fit_transform\u001B[1;34m(self, X, y, **fit_params)\u001B[0m\n\u001B[0;32m    863\u001B[0m \u001B[38;5;66;03m# non-optimized default implementation; override when a better\u001B[39;00m\n\u001B[0;32m    864\u001B[0m \u001B[38;5;66;03m# method is possible for a given clustering algorithm\u001B[39;00m\n\u001B[0;32m    865\u001B[0m \u001B[38;5;28;01mif\u001B[39;00m y \u001B[38;5;129;01mis\u001B[39;00m \u001B[38;5;28;01mNone\u001B[39;00m:\n\u001B[0;32m    866\u001B[0m     \u001B[38;5;66;03m# fit method of arity 1 (unsupervised transformation)\u001B[39;00m\n\u001B[1;32m--> 867\u001B[0m     \u001B[38;5;28;01mreturn\u001B[39;00m \u001B[38;5;28mself\u001B[39m\u001B[38;5;241m.\u001B[39mfit(X, \u001B[38;5;241m*\u001B[39m\u001B[38;5;241m*\u001B[39mfit_params)\u001B[38;5;241m.\u001B[39mtransform(X)\n\u001B[0;32m    868\u001B[0m \u001B[38;5;28;01melse\u001B[39;00m:\n\u001B[0;32m    869\u001B[0m     \u001B[38;5;66;03m# fit method of arity 2 (supervised transformation)\u001B[39;00m\n\u001B[0;32m    870\u001B[0m     \u001B[38;5;28;01mreturn\u001B[39;00m \u001B[38;5;28mself\u001B[39m\u001B[38;5;241m.\u001B[39mfit(X, y, \u001B[38;5;241m*\u001B[39m\u001B[38;5;241m*\u001B[39mfit_params)\u001B[38;5;241m.\u001B[39mtransform(X)\n",
      "File \u001B[1;32mC:\\ProgramData\\Anaconda3\\envs\\digital_breakthrough\\lib\\site-packages\\sklearn\\preprocessing\\_data.py:809\u001B[0m, in \u001B[0;36mStandardScaler.fit\u001B[1;34m(self, X, y, sample_weight)\u001B[0m\n\u001B[0;32m    807\u001B[0m \u001B[38;5;66;03m# Reset internal state before fitting\u001B[39;00m\n\u001B[0;32m    808\u001B[0m \u001B[38;5;28mself\u001B[39m\u001B[38;5;241m.\u001B[39m_reset()\n\u001B[1;32m--> 809\u001B[0m \u001B[38;5;28;01mreturn\u001B[39;00m \u001B[38;5;28;43mself\u001B[39;49m\u001B[38;5;241;43m.\u001B[39;49m\u001B[43mpartial_fit\u001B[49m\u001B[43m(\u001B[49m\u001B[43mX\u001B[49m\u001B[43m,\u001B[49m\u001B[43m \u001B[49m\u001B[43my\u001B[49m\u001B[43m,\u001B[49m\u001B[43m \u001B[49m\u001B[43msample_weight\u001B[49m\u001B[43m)\u001B[49m\n",
      "File \u001B[1;32mC:\\ProgramData\\Anaconda3\\envs\\digital_breakthrough\\lib\\site-packages\\sklearn\\preprocessing\\_data.py:844\u001B[0m, in \u001B[0;36mStandardScaler.partial_fit\u001B[1;34m(self, X, y, sample_weight)\u001B[0m\n\u001B[0;32m    812\u001B[0m \u001B[38;5;124;03m\"\"\"Online computation of mean and std on X for later scaling.\u001B[39;00m\n\u001B[0;32m    813\u001B[0m \n\u001B[0;32m    814\u001B[0m \u001B[38;5;124;03mAll of X is processed as a single batch. This is intended for cases\u001B[39;00m\n\u001B[1;32m   (...)\u001B[0m\n\u001B[0;32m    841\u001B[0m \u001B[38;5;124;03m    Fitted scaler.\u001B[39;00m\n\u001B[0;32m    842\u001B[0m \u001B[38;5;124;03m\"\"\"\u001B[39;00m\n\u001B[0;32m    843\u001B[0m first_call \u001B[38;5;241m=\u001B[39m \u001B[38;5;129;01mnot\u001B[39;00m \u001B[38;5;28mhasattr\u001B[39m(\u001B[38;5;28mself\u001B[39m, \u001B[38;5;124m\"\u001B[39m\u001B[38;5;124mn_samples_seen_\u001B[39m\u001B[38;5;124m\"\u001B[39m)\n\u001B[1;32m--> 844\u001B[0m X \u001B[38;5;241m=\u001B[39m \u001B[38;5;28;43mself\u001B[39;49m\u001B[38;5;241;43m.\u001B[39;49m\u001B[43m_validate_data\u001B[49m\u001B[43m(\u001B[49m\n\u001B[0;32m    845\u001B[0m \u001B[43m    \u001B[49m\u001B[43mX\u001B[49m\u001B[43m,\u001B[49m\n\u001B[0;32m    846\u001B[0m \u001B[43m    \u001B[49m\u001B[43maccept_sparse\u001B[49m\u001B[38;5;241;43m=\u001B[39;49m\u001B[43m(\u001B[49m\u001B[38;5;124;43m\"\u001B[39;49m\u001B[38;5;124;43mcsr\u001B[39;49m\u001B[38;5;124;43m\"\u001B[39;49m\u001B[43m,\u001B[49m\u001B[43m \u001B[49m\u001B[38;5;124;43m\"\u001B[39;49m\u001B[38;5;124;43mcsc\u001B[39;49m\u001B[38;5;124;43m\"\u001B[39;49m\u001B[43m)\u001B[49m\u001B[43m,\u001B[49m\n\u001B[0;32m    847\u001B[0m \u001B[43m    \u001B[49m\u001B[43mdtype\u001B[49m\u001B[38;5;241;43m=\u001B[39;49m\u001B[43mFLOAT_DTYPES\u001B[49m\u001B[43m,\u001B[49m\n\u001B[0;32m    848\u001B[0m \u001B[43m    \u001B[49m\u001B[43mforce_all_finite\u001B[49m\u001B[38;5;241;43m=\u001B[39;49m\u001B[38;5;124;43m\"\u001B[39;49m\u001B[38;5;124;43mallow-nan\u001B[39;49m\u001B[38;5;124;43m\"\u001B[39;49m\u001B[43m,\u001B[49m\n\u001B[0;32m    849\u001B[0m \u001B[43m    \u001B[49m\u001B[43mreset\u001B[49m\u001B[38;5;241;43m=\u001B[39;49m\u001B[43mfirst_call\u001B[49m\u001B[43m,\u001B[49m\n\u001B[0;32m    850\u001B[0m \u001B[43m\u001B[49m\u001B[43m)\u001B[49m\n\u001B[0;32m    851\u001B[0m n_features \u001B[38;5;241m=\u001B[39m X\u001B[38;5;241m.\u001B[39mshape[\u001B[38;5;241m1\u001B[39m]\n\u001B[0;32m    853\u001B[0m \u001B[38;5;28;01mif\u001B[39;00m sample_weight \u001B[38;5;129;01mis\u001B[39;00m \u001B[38;5;129;01mnot\u001B[39;00m \u001B[38;5;28;01mNone\u001B[39;00m:\n",
      "File \u001B[1;32mC:\\ProgramData\\Anaconda3\\envs\\digital_breakthrough\\lib\\site-packages\\sklearn\\base.py:577\u001B[0m, in \u001B[0;36mBaseEstimator._validate_data\u001B[1;34m(self, X, y, reset, validate_separately, **check_params)\u001B[0m\n\u001B[0;32m    575\u001B[0m     \u001B[38;5;28;01mraise\u001B[39;00m \u001B[38;5;167;01mValueError\u001B[39;00m(\u001B[38;5;124m\"\u001B[39m\u001B[38;5;124mValidation should be done on X, y or both.\u001B[39m\u001B[38;5;124m\"\u001B[39m)\n\u001B[0;32m    576\u001B[0m \u001B[38;5;28;01melif\u001B[39;00m \u001B[38;5;129;01mnot\u001B[39;00m no_val_X \u001B[38;5;129;01mand\u001B[39;00m no_val_y:\n\u001B[1;32m--> 577\u001B[0m     X \u001B[38;5;241m=\u001B[39m check_array(X, input_name\u001B[38;5;241m=\u001B[39m\u001B[38;5;124m\"\u001B[39m\u001B[38;5;124mX\u001B[39m\u001B[38;5;124m\"\u001B[39m, \u001B[38;5;241m*\u001B[39m\u001B[38;5;241m*\u001B[39mcheck_params)\n\u001B[0;32m    578\u001B[0m     out \u001B[38;5;241m=\u001B[39m X\n\u001B[0;32m    579\u001B[0m \u001B[38;5;28;01melif\u001B[39;00m no_val_X \u001B[38;5;129;01mand\u001B[39;00m \u001B[38;5;129;01mnot\u001B[39;00m no_val_y:\n",
      "File \u001B[1;32mC:\\ProgramData\\Anaconda3\\envs\\digital_breakthrough\\lib\\site-packages\\sklearn\\utils\\validation.py:856\u001B[0m, in \u001B[0;36mcheck_array\u001B[1;34m(array, accept_sparse, accept_large_sparse, dtype, order, copy, force_all_finite, ensure_2d, allow_nd, ensure_min_samples, ensure_min_features, estimator, input_name)\u001B[0m\n\u001B[0;32m    854\u001B[0m         array \u001B[38;5;241m=\u001B[39m array\u001B[38;5;241m.\u001B[39mastype(dtype, casting\u001B[38;5;241m=\u001B[39m\u001B[38;5;124m\"\u001B[39m\u001B[38;5;124munsafe\u001B[39m\u001B[38;5;124m\"\u001B[39m, copy\u001B[38;5;241m=\u001B[39m\u001B[38;5;28;01mFalse\u001B[39;00m)\n\u001B[0;32m    855\u001B[0m     \u001B[38;5;28;01melse\u001B[39;00m:\n\u001B[1;32m--> 856\u001B[0m         array \u001B[38;5;241m=\u001B[39m \u001B[43mnp\u001B[49m\u001B[38;5;241;43m.\u001B[39;49m\u001B[43masarray\u001B[49m\u001B[43m(\u001B[49m\u001B[43marray\u001B[49m\u001B[43m,\u001B[49m\u001B[43m \u001B[49m\u001B[43morder\u001B[49m\u001B[38;5;241;43m=\u001B[39;49m\u001B[43morder\u001B[49m\u001B[43m,\u001B[49m\u001B[43m \u001B[49m\u001B[43mdtype\u001B[49m\u001B[38;5;241;43m=\u001B[39;49m\u001B[43mdtype\u001B[49m\u001B[43m)\u001B[49m\n\u001B[0;32m    857\u001B[0m \u001B[38;5;28;01mexcept\u001B[39;00m ComplexWarning \u001B[38;5;28;01mas\u001B[39;00m complex_warning:\n\u001B[0;32m    858\u001B[0m     \u001B[38;5;28;01mraise\u001B[39;00m \u001B[38;5;167;01mValueError\u001B[39;00m(\n\u001B[0;32m    859\u001B[0m         \u001B[38;5;124m\"\u001B[39m\u001B[38;5;124mComplex data not supported\u001B[39m\u001B[38;5;130;01m\\n\u001B[39;00m\u001B[38;5;132;01m{}\u001B[39;00m\u001B[38;5;130;01m\\n\u001B[39;00m\u001B[38;5;124m\"\u001B[39m\u001B[38;5;241m.\u001B[39mformat(array)\n\u001B[0;32m    860\u001B[0m     ) \u001B[38;5;28;01mfrom\u001B[39;00m \u001B[38;5;21;01mcomplex_warning\u001B[39;00m\n",
      "File \u001B[1;32mC:\\ProgramData\\Anaconda3\\envs\\digital_breakthrough\\lib\\site-packages\\pandas\\core\\generic.py:2064\u001B[0m, in \u001B[0;36mNDFrame.__array__\u001B[1;34m(self, dtype)\u001B[0m\n\u001B[0;32m   2063\u001B[0m \u001B[38;5;28;01mdef\u001B[39;00m \u001B[38;5;21m__array__\u001B[39m(\u001B[38;5;28mself\u001B[39m, dtype: npt\u001B[38;5;241m.\u001B[39mDTypeLike \u001B[38;5;241m|\u001B[39m \u001B[38;5;28;01mNone\u001B[39;00m \u001B[38;5;241m=\u001B[39m \u001B[38;5;28;01mNone\u001B[39;00m) \u001B[38;5;241m-\u001B[39m\u001B[38;5;241m>\u001B[39m np\u001B[38;5;241m.\u001B[39mndarray:\n\u001B[1;32m-> 2064\u001B[0m     \u001B[38;5;28;01mreturn\u001B[39;00m \u001B[43mnp\u001B[49m\u001B[38;5;241;43m.\u001B[39;49m\u001B[43masarray\u001B[49m\u001B[43m(\u001B[49m\u001B[38;5;28;43mself\u001B[39;49m\u001B[38;5;241;43m.\u001B[39;49m\u001B[43m_values\u001B[49m\u001B[43m,\u001B[49m\u001B[43m \u001B[49m\u001B[43mdtype\u001B[49m\u001B[38;5;241;43m=\u001B[39;49m\u001B[43mdtype\u001B[49m\u001B[43m)\u001B[49m\n",
      "\u001B[1;31mValueError\u001B[0m: could not convert string to float: 'female'"
     ]
    }
   ],
   "source": [
    "kmean_pipe = make_pipeline(\n",
    "\tStandardScaler(),\n",
    "\tKMeans(n_clusters=6)\n",
    ")\n",
    "users['user_kmean_class'] = kmean_pipe.fit_predict(users[['age', 'gender', 'chit_type']])\n",
    "users.sample(7)"
   ],
   "metadata": {
    "collapsed": false,
    "pycharm": {
     "name": "#%%\n"
    }
   }
  },
  {
   "cell_type": "code",
   "execution_count": null,
   "outputs": [],
   "source": [
    "items_data_encoder = OrdinalEncoder()\n",
    "items_encode_columns = ['author', 'izd', 'bbk']\n",
    "# items[items_encode_columns] = items_data_encoder.fit_transform(items[items_encode_columns])\n",
    "items.sample(7)"
   ],
   "metadata": {
    "collapsed": false,
    "pycharm": {
     "name": "#%%\n"
    }
   }
  },
  {
   "cell_type": "code",
   "execution_count": 98,
   "outputs": [
    {
     "ename": "ValueError",
     "evalue": "could not convert string to float: 'Машовец Асия Океановна'",
     "output_type": "error",
     "traceback": [
      "\u001B[1;31m---------------------------------------------------------------------------\u001B[0m",
      "\u001B[1;31mValueError\u001B[0m                                Traceback (most recent call last)",
      "Input \u001B[1;32mIn [98]\u001B[0m, in \u001B[0;36m<cell line: 6>\u001B[1;34m()\u001B[0m\n\u001B[0;32m      1\u001B[0m kmean_pipe \u001B[38;5;241m=\u001B[39m make_pipeline(\n\u001B[0;32m      2\u001B[0m \tStandardScaler(),\n\u001B[0;32m      3\u001B[0m \tKMeans(n_clusters\u001B[38;5;241m=\u001B[39m\u001B[38;5;241m5\u001B[39m)\n\u001B[0;32m      4\u001B[0m )\n\u001B[1;32m----> 6\u001B[0m items[\u001B[38;5;124m'\u001B[39m\u001B[38;5;124mitem_kmean_class\u001B[39m\u001B[38;5;124m'\u001B[39m] \u001B[38;5;241m=\u001B[39m \u001B[43mkmean_pipe\u001B[49m\u001B[38;5;241;43m.\u001B[39;49m\u001B[43mfit_predict\u001B[49m\u001B[43m(\u001B[49m\u001B[43mitems\u001B[49m\u001B[43m[\u001B[49m\u001B[43m[\u001B[49m\u001B[38;5;124;43m'\u001B[39;49m\u001B[38;5;124;43mauthor\u001B[39;49m\u001B[38;5;124;43m'\u001B[39;49m\u001B[43m,\u001B[49m\u001B[43m \u001B[49m\u001B[38;5;124;43m'\u001B[39;49m\u001B[38;5;124;43mizd\u001B[39;49m\u001B[38;5;124;43m'\u001B[39;49m\u001B[43m,\u001B[49m\u001B[43m \u001B[49m\u001B[38;5;124;43m'\u001B[39;49m\u001B[38;5;124;43mbbk\u001B[39;49m\u001B[38;5;124;43m'\u001B[39;49m\u001B[43m,\u001B[49m\u001B[43m \u001B[49m\u001B[38;5;124;43m'\u001B[39;49m\u001B[38;5;124;43mis_textboot\u001B[39;49m\u001B[38;5;124;43m'\u001B[39;49m\u001B[43m]\u001B[49m\u001B[43m]\u001B[49m\u001B[43m)\u001B[49m\n\u001B[0;32m      7\u001B[0m items[\u001B[38;5;124m'\u001B[39m\u001B[38;5;124myear_izd\u001B[39m\u001B[38;5;124m'\u001B[39m] \u001B[38;5;241m=\u001B[39m items[\u001B[38;5;124m'\u001B[39m\u001B[38;5;124myear_izd\u001B[39m\u001B[38;5;124m'\u001B[39m]\u001B[38;5;241m.\u001B[39mapply(\u001B[38;5;28;01mlambda\u001B[39;00m year: \u001B[38;5;241m0\u001B[39m \u001B[38;5;28;01mif\u001B[39;00m \u001B[38;5;124m'\u001B[39m\u001B[38;5;124mотсутствует\u001B[39m\u001B[38;5;124m'\u001B[39m \u001B[38;5;129;01min\u001B[39;00m year \u001B[38;5;28;01melse\u001B[39;00m year)\n\u001B[0;32m      8\u001B[0m items\u001B[38;5;241m.\u001B[39msample(\u001B[38;5;241m7\u001B[39m)\n",
      "File \u001B[1;32mC:\\ProgramData\\Anaconda3\\envs\\digital_breakthrough\\lib\\site-packages\\sklearn\\pipeline.py:490\u001B[0m, in \u001B[0;36mPipeline.fit_predict\u001B[1;34m(self, X, y, **fit_params)\u001B[0m\n\u001B[0;32m    462\u001B[0m \u001B[38;5;124;03m\"\"\"Transform the data, and apply `fit_predict` with the final estimator.\u001B[39;00m\n\u001B[0;32m    463\u001B[0m \n\u001B[0;32m    464\u001B[0m \u001B[38;5;124;03mCall `fit_transform` of each transformer in the pipeline. The\u001B[39;00m\n\u001B[1;32m   (...)\u001B[0m\n\u001B[0;32m    487\u001B[0m \u001B[38;5;124;03m    Result of calling `fit_predict` on the final estimator.\u001B[39;00m\n\u001B[0;32m    488\u001B[0m \u001B[38;5;124;03m\"\"\"\u001B[39;00m\n\u001B[0;32m    489\u001B[0m fit_params_steps \u001B[38;5;241m=\u001B[39m \u001B[38;5;28mself\u001B[39m\u001B[38;5;241m.\u001B[39m_check_fit_params(\u001B[38;5;241m*\u001B[39m\u001B[38;5;241m*\u001B[39mfit_params)\n\u001B[1;32m--> 490\u001B[0m Xt \u001B[38;5;241m=\u001B[39m \u001B[38;5;28mself\u001B[39m\u001B[38;5;241m.\u001B[39m_fit(X, y, \u001B[38;5;241m*\u001B[39m\u001B[38;5;241m*\u001B[39mfit_params_steps)\n\u001B[0;32m    492\u001B[0m fit_params_last_step \u001B[38;5;241m=\u001B[39m fit_params_steps[\u001B[38;5;28mself\u001B[39m\u001B[38;5;241m.\u001B[39msteps[\u001B[38;5;241m-\u001B[39m\u001B[38;5;241m1\u001B[39m][\u001B[38;5;241m0\u001B[39m]]\n\u001B[0;32m    493\u001B[0m \u001B[38;5;28;01mwith\u001B[39;00m _print_elapsed_time(\u001B[38;5;124m\"\u001B[39m\u001B[38;5;124mPipeline\u001B[39m\u001B[38;5;124m\"\u001B[39m, \u001B[38;5;28mself\u001B[39m\u001B[38;5;241m.\u001B[39m_log_message(\u001B[38;5;28mlen\u001B[39m(\u001B[38;5;28mself\u001B[39m\u001B[38;5;241m.\u001B[39msteps) \u001B[38;5;241m-\u001B[39m \u001B[38;5;241m1\u001B[39m)):\n",
      "File \u001B[1;32mC:\\ProgramData\\Anaconda3\\envs\\digital_breakthrough\\lib\\site-packages\\sklearn\\pipeline.py:336\u001B[0m, in \u001B[0;36mPipeline._fit\u001B[1;34m(self, X, y, **fit_params_steps)\u001B[0m\n\u001B[0;32m    334\u001B[0m     cloned_transformer \u001B[38;5;241m=\u001B[39m clone(transformer)\n\u001B[0;32m    335\u001B[0m \u001B[38;5;66;03m# Fit or load from cache the current transformer\u001B[39;00m\n\u001B[1;32m--> 336\u001B[0m X, fitted_transformer \u001B[38;5;241m=\u001B[39m fit_transform_one_cached(\n\u001B[0;32m    337\u001B[0m     cloned_transformer,\n\u001B[0;32m    338\u001B[0m     X,\n\u001B[0;32m    339\u001B[0m     y,\n\u001B[0;32m    340\u001B[0m     \u001B[38;5;28;01mNone\u001B[39;00m,\n\u001B[0;32m    341\u001B[0m     message_clsname\u001B[38;5;241m=\u001B[39m\u001B[38;5;124m\"\u001B[39m\u001B[38;5;124mPipeline\u001B[39m\u001B[38;5;124m\"\u001B[39m,\n\u001B[0;32m    342\u001B[0m     message\u001B[38;5;241m=\u001B[39m\u001B[38;5;28mself\u001B[39m\u001B[38;5;241m.\u001B[39m_log_message(step_idx),\n\u001B[0;32m    343\u001B[0m     \u001B[38;5;241m*\u001B[39m\u001B[38;5;241m*\u001B[39mfit_params_steps[name],\n\u001B[0;32m    344\u001B[0m )\n\u001B[0;32m    345\u001B[0m \u001B[38;5;66;03m# Replace the transformer of the step with the fitted\u001B[39;00m\n\u001B[0;32m    346\u001B[0m \u001B[38;5;66;03m# transformer. This is necessary when loading the transformer\u001B[39;00m\n\u001B[0;32m    347\u001B[0m \u001B[38;5;66;03m# from the cache.\u001B[39;00m\n\u001B[0;32m    348\u001B[0m \u001B[38;5;28mself\u001B[39m\u001B[38;5;241m.\u001B[39msteps[step_idx] \u001B[38;5;241m=\u001B[39m (name, fitted_transformer)\n",
      "File \u001B[1;32mC:\\ProgramData\\Anaconda3\\envs\\digital_breakthrough\\lib\\site-packages\\joblib\\memory.py:349\u001B[0m, in \u001B[0;36mNotMemorizedFunc.__call__\u001B[1;34m(self, *args, **kwargs)\u001B[0m\n\u001B[0;32m    348\u001B[0m \u001B[38;5;28;01mdef\u001B[39;00m \u001B[38;5;21m__call__\u001B[39m(\u001B[38;5;28mself\u001B[39m, \u001B[38;5;241m*\u001B[39margs, \u001B[38;5;241m*\u001B[39m\u001B[38;5;241m*\u001B[39mkwargs):\n\u001B[1;32m--> 349\u001B[0m     \u001B[38;5;28;01mreturn\u001B[39;00m \u001B[38;5;28mself\u001B[39m\u001B[38;5;241m.\u001B[39mfunc(\u001B[38;5;241m*\u001B[39margs, \u001B[38;5;241m*\u001B[39m\u001B[38;5;241m*\u001B[39mkwargs)\n",
      "File \u001B[1;32mC:\\ProgramData\\Anaconda3\\envs\\digital_breakthrough\\lib\\site-packages\\sklearn\\pipeline.py:870\u001B[0m, in \u001B[0;36m_fit_transform_one\u001B[1;34m(transformer, X, y, weight, message_clsname, message, **fit_params)\u001B[0m\n\u001B[0;32m    868\u001B[0m \u001B[38;5;28;01mwith\u001B[39;00m _print_elapsed_time(message_clsname, message):\n\u001B[0;32m    869\u001B[0m     \u001B[38;5;28;01mif\u001B[39;00m \u001B[38;5;28mhasattr\u001B[39m(transformer, \u001B[38;5;124m\"\u001B[39m\u001B[38;5;124mfit_transform\u001B[39m\u001B[38;5;124m\"\u001B[39m):\n\u001B[1;32m--> 870\u001B[0m         res \u001B[38;5;241m=\u001B[39m transformer\u001B[38;5;241m.\u001B[39mfit_transform(X, y, \u001B[38;5;241m*\u001B[39m\u001B[38;5;241m*\u001B[39mfit_params)\n\u001B[0;32m    871\u001B[0m     \u001B[38;5;28;01melse\u001B[39;00m:\n\u001B[0;32m    872\u001B[0m         res \u001B[38;5;241m=\u001B[39m transformer\u001B[38;5;241m.\u001B[39mfit(X, y, \u001B[38;5;241m*\u001B[39m\u001B[38;5;241m*\u001B[39mfit_params)\u001B[38;5;241m.\u001B[39mtransform(X)\n",
      "File \u001B[1;32mC:\\ProgramData\\Anaconda3\\envs\\digital_breakthrough\\lib\\site-packages\\sklearn\\base.py:867\u001B[0m, in \u001B[0;36mTransformerMixin.fit_transform\u001B[1;34m(self, X, y, **fit_params)\u001B[0m\n\u001B[0;32m    863\u001B[0m \u001B[38;5;66;03m# non-optimized default implementation; override when a better\u001B[39;00m\n\u001B[0;32m    864\u001B[0m \u001B[38;5;66;03m# method is possible for a given clustering algorithm\u001B[39;00m\n\u001B[0;32m    865\u001B[0m \u001B[38;5;28;01mif\u001B[39;00m y \u001B[38;5;129;01mis\u001B[39;00m \u001B[38;5;28;01mNone\u001B[39;00m:\n\u001B[0;32m    866\u001B[0m     \u001B[38;5;66;03m# fit method of arity 1 (unsupervised transformation)\u001B[39;00m\n\u001B[1;32m--> 867\u001B[0m     \u001B[38;5;28;01mreturn\u001B[39;00m \u001B[38;5;28mself\u001B[39m\u001B[38;5;241m.\u001B[39mfit(X, \u001B[38;5;241m*\u001B[39m\u001B[38;5;241m*\u001B[39mfit_params)\u001B[38;5;241m.\u001B[39mtransform(X)\n\u001B[0;32m    868\u001B[0m \u001B[38;5;28;01melse\u001B[39;00m:\n\u001B[0;32m    869\u001B[0m     \u001B[38;5;66;03m# fit method of arity 2 (supervised transformation)\u001B[39;00m\n\u001B[0;32m    870\u001B[0m     \u001B[38;5;28;01mreturn\u001B[39;00m \u001B[38;5;28mself\u001B[39m\u001B[38;5;241m.\u001B[39mfit(X, y, \u001B[38;5;241m*\u001B[39m\u001B[38;5;241m*\u001B[39mfit_params)\u001B[38;5;241m.\u001B[39mtransform(X)\n",
      "File \u001B[1;32mC:\\ProgramData\\Anaconda3\\envs\\digital_breakthrough\\lib\\site-packages\\sklearn\\preprocessing\\_data.py:809\u001B[0m, in \u001B[0;36mStandardScaler.fit\u001B[1;34m(self, X, y, sample_weight)\u001B[0m\n\u001B[0;32m    807\u001B[0m \u001B[38;5;66;03m# Reset internal state before fitting\u001B[39;00m\n\u001B[0;32m    808\u001B[0m \u001B[38;5;28mself\u001B[39m\u001B[38;5;241m.\u001B[39m_reset()\n\u001B[1;32m--> 809\u001B[0m \u001B[38;5;28;01mreturn\u001B[39;00m \u001B[38;5;28;43mself\u001B[39;49m\u001B[38;5;241;43m.\u001B[39;49m\u001B[43mpartial_fit\u001B[49m\u001B[43m(\u001B[49m\u001B[43mX\u001B[49m\u001B[43m,\u001B[49m\u001B[43m \u001B[49m\u001B[43my\u001B[49m\u001B[43m,\u001B[49m\u001B[43m \u001B[49m\u001B[43msample_weight\u001B[49m\u001B[43m)\u001B[49m\n",
      "File \u001B[1;32mC:\\ProgramData\\Anaconda3\\envs\\digital_breakthrough\\lib\\site-packages\\sklearn\\preprocessing\\_data.py:844\u001B[0m, in \u001B[0;36mStandardScaler.partial_fit\u001B[1;34m(self, X, y, sample_weight)\u001B[0m\n\u001B[0;32m    812\u001B[0m \u001B[38;5;124;03m\"\"\"Online computation of mean and std on X for later scaling.\u001B[39;00m\n\u001B[0;32m    813\u001B[0m \n\u001B[0;32m    814\u001B[0m \u001B[38;5;124;03mAll of X is processed as a single batch. This is intended for cases\u001B[39;00m\n\u001B[1;32m   (...)\u001B[0m\n\u001B[0;32m    841\u001B[0m \u001B[38;5;124;03m    Fitted scaler.\u001B[39;00m\n\u001B[0;32m    842\u001B[0m \u001B[38;5;124;03m\"\"\"\u001B[39;00m\n\u001B[0;32m    843\u001B[0m first_call \u001B[38;5;241m=\u001B[39m \u001B[38;5;129;01mnot\u001B[39;00m \u001B[38;5;28mhasattr\u001B[39m(\u001B[38;5;28mself\u001B[39m, \u001B[38;5;124m\"\u001B[39m\u001B[38;5;124mn_samples_seen_\u001B[39m\u001B[38;5;124m\"\u001B[39m)\n\u001B[1;32m--> 844\u001B[0m X \u001B[38;5;241m=\u001B[39m \u001B[38;5;28;43mself\u001B[39;49m\u001B[38;5;241;43m.\u001B[39;49m\u001B[43m_validate_data\u001B[49m\u001B[43m(\u001B[49m\n\u001B[0;32m    845\u001B[0m \u001B[43m    \u001B[49m\u001B[43mX\u001B[49m\u001B[43m,\u001B[49m\n\u001B[0;32m    846\u001B[0m \u001B[43m    \u001B[49m\u001B[43maccept_sparse\u001B[49m\u001B[38;5;241;43m=\u001B[39;49m\u001B[43m(\u001B[49m\u001B[38;5;124;43m\"\u001B[39;49m\u001B[38;5;124;43mcsr\u001B[39;49m\u001B[38;5;124;43m\"\u001B[39;49m\u001B[43m,\u001B[49m\u001B[43m \u001B[49m\u001B[38;5;124;43m\"\u001B[39;49m\u001B[38;5;124;43mcsc\u001B[39;49m\u001B[38;5;124;43m\"\u001B[39;49m\u001B[43m)\u001B[49m\u001B[43m,\u001B[49m\n\u001B[0;32m    847\u001B[0m \u001B[43m    \u001B[49m\u001B[43mdtype\u001B[49m\u001B[38;5;241;43m=\u001B[39;49m\u001B[43mFLOAT_DTYPES\u001B[49m\u001B[43m,\u001B[49m\n\u001B[0;32m    848\u001B[0m \u001B[43m    \u001B[49m\u001B[43mforce_all_finite\u001B[49m\u001B[38;5;241;43m=\u001B[39;49m\u001B[38;5;124;43m\"\u001B[39;49m\u001B[38;5;124;43mallow-nan\u001B[39;49m\u001B[38;5;124;43m\"\u001B[39;49m\u001B[43m,\u001B[49m\n\u001B[0;32m    849\u001B[0m \u001B[43m    \u001B[49m\u001B[43mreset\u001B[49m\u001B[38;5;241;43m=\u001B[39;49m\u001B[43mfirst_call\u001B[49m\u001B[43m,\u001B[49m\n\u001B[0;32m    850\u001B[0m \u001B[43m\u001B[49m\u001B[43m)\u001B[49m\n\u001B[0;32m    851\u001B[0m n_features \u001B[38;5;241m=\u001B[39m X\u001B[38;5;241m.\u001B[39mshape[\u001B[38;5;241m1\u001B[39m]\n\u001B[0;32m    853\u001B[0m \u001B[38;5;28;01mif\u001B[39;00m sample_weight \u001B[38;5;129;01mis\u001B[39;00m \u001B[38;5;129;01mnot\u001B[39;00m \u001B[38;5;28;01mNone\u001B[39;00m:\n",
      "File \u001B[1;32mC:\\ProgramData\\Anaconda3\\envs\\digital_breakthrough\\lib\\site-packages\\sklearn\\base.py:577\u001B[0m, in \u001B[0;36mBaseEstimator._validate_data\u001B[1;34m(self, X, y, reset, validate_separately, **check_params)\u001B[0m\n\u001B[0;32m    575\u001B[0m     \u001B[38;5;28;01mraise\u001B[39;00m \u001B[38;5;167;01mValueError\u001B[39;00m(\u001B[38;5;124m\"\u001B[39m\u001B[38;5;124mValidation should be done on X, y or both.\u001B[39m\u001B[38;5;124m\"\u001B[39m)\n\u001B[0;32m    576\u001B[0m \u001B[38;5;28;01melif\u001B[39;00m \u001B[38;5;129;01mnot\u001B[39;00m no_val_X \u001B[38;5;129;01mand\u001B[39;00m no_val_y:\n\u001B[1;32m--> 577\u001B[0m     X \u001B[38;5;241m=\u001B[39m check_array(X, input_name\u001B[38;5;241m=\u001B[39m\u001B[38;5;124m\"\u001B[39m\u001B[38;5;124mX\u001B[39m\u001B[38;5;124m\"\u001B[39m, \u001B[38;5;241m*\u001B[39m\u001B[38;5;241m*\u001B[39mcheck_params)\n\u001B[0;32m    578\u001B[0m     out \u001B[38;5;241m=\u001B[39m X\n\u001B[0;32m    579\u001B[0m \u001B[38;5;28;01melif\u001B[39;00m no_val_X \u001B[38;5;129;01mand\u001B[39;00m \u001B[38;5;129;01mnot\u001B[39;00m no_val_y:\n",
      "File \u001B[1;32mC:\\ProgramData\\Anaconda3\\envs\\digital_breakthrough\\lib\\site-packages\\sklearn\\utils\\validation.py:856\u001B[0m, in \u001B[0;36mcheck_array\u001B[1;34m(array, accept_sparse, accept_large_sparse, dtype, order, copy, force_all_finite, ensure_2d, allow_nd, ensure_min_samples, ensure_min_features, estimator, input_name)\u001B[0m\n\u001B[0;32m    854\u001B[0m         array \u001B[38;5;241m=\u001B[39m array\u001B[38;5;241m.\u001B[39mastype(dtype, casting\u001B[38;5;241m=\u001B[39m\u001B[38;5;124m\"\u001B[39m\u001B[38;5;124munsafe\u001B[39m\u001B[38;5;124m\"\u001B[39m, copy\u001B[38;5;241m=\u001B[39m\u001B[38;5;28;01mFalse\u001B[39;00m)\n\u001B[0;32m    855\u001B[0m     \u001B[38;5;28;01melse\u001B[39;00m:\n\u001B[1;32m--> 856\u001B[0m         array \u001B[38;5;241m=\u001B[39m \u001B[43mnp\u001B[49m\u001B[38;5;241;43m.\u001B[39;49m\u001B[43masarray\u001B[49m\u001B[43m(\u001B[49m\u001B[43marray\u001B[49m\u001B[43m,\u001B[49m\u001B[43m \u001B[49m\u001B[43morder\u001B[49m\u001B[38;5;241;43m=\u001B[39;49m\u001B[43morder\u001B[49m\u001B[43m,\u001B[49m\u001B[43m \u001B[49m\u001B[43mdtype\u001B[49m\u001B[38;5;241;43m=\u001B[39;49m\u001B[43mdtype\u001B[49m\u001B[43m)\u001B[49m\n\u001B[0;32m    857\u001B[0m \u001B[38;5;28;01mexcept\u001B[39;00m ComplexWarning \u001B[38;5;28;01mas\u001B[39;00m complex_warning:\n\u001B[0;32m    858\u001B[0m     \u001B[38;5;28;01mraise\u001B[39;00m \u001B[38;5;167;01mValueError\u001B[39;00m(\n\u001B[0;32m    859\u001B[0m         \u001B[38;5;124m\"\u001B[39m\u001B[38;5;124mComplex data not supported\u001B[39m\u001B[38;5;130;01m\\n\u001B[39;00m\u001B[38;5;132;01m{}\u001B[39;00m\u001B[38;5;130;01m\\n\u001B[39;00m\u001B[38;5;124m\"\u001B[39m\u001B[38;5;241m.\u001B[39mformat(array)\n\u001B[0;32m    860\u001B[0m     ) \u001B[38;5;28;01mfrom\u001B[39;00m \u001B[38;5;21;01mcomplex_warning\u001B[39;00m\n",
      "File \u001B[1;32mC:\\ProgramData\\Anaconda3\\envs\\digital_breakthrough\\lib\\site-packages\\pandas\\core\\generic.py:2064\u001B[0m, in \u001B[0;36mNDFrame.__array__\u001B[1;34m(self, dtype)\u001B[0m\n\u001B[0;32m   2063\u001B[0m \u001B[38;5;28;01mdef\u001B[39;00m \u001B[38;5;21m__array__\u001B[39m(\u001B[38;5;28mself\u001B[39m, dtype: npt\u001B[38;5;241m.\u001B[39mDTypeLike \u001B[38;5;241m|\u001B[39m \u001B[38;5;28;01mNone\u001B[39;00m \u001B[38;5;241m=\u001B[39m \u001B[38;5;28;01mNone\u001B[39;00m) \u001B[38;5;241m-\u001B[39m\u001B[38;5;241m>\u001B[39m np\u001B[38;5;241m.\u001B[39mndarray:\n\u001B[1;32m-> 2064\u001B[0m     \u001B[38;5;28;01mreturn\u001B[39;00m \u001B[43mnp\u001B[49m\u001B[38;5;241;43m.\u001B[39;49m\u001B[43masarray\u001B[49m\u001B[43m(\u001B[49m\u001B[38;5;28;43mself\u001B[39;49m\u001B[38;5;241;43m.\u001B[39;49m\u001B[43m_values\u001B[49m\u001B[43m,\u001B[49m\u001B[43m \u001B[49m\u001B[43mdtype\u001B[49m\u001B[38;5;241;43m=\u001B[39;49m\u001B[43mdtype\u001B[49m\u001B[43m)\u001B[49m\n",
      "\u001B[1;31mValueError\u001B[0m: could not convert string to float: 'Машовец Асия Океановна'"
     ]
    }
   ],
   "source": [
    "kmean_pipe = make_pipeline(\n",
    "\tStandardScaler(),\n",
    "\tKMeans(n_clusters=5)\n",
    ")\n",
    "\n",
    "items['item_kmean_class'] = kmean_pipe.fit_predict(items[['author', 'izd', 'bbk', 'is_textboot']])\n",
    "items['year_izd'] = items['year_izd'].apply(lambda year: 0 if 'отсутствует' in year else year)\n",
    "items.sample(7)"
   ],
   "metadata": {
    "collapsed": false,
    "pycharm": {
     "name": "#%%\n"
    }
   }
  },
  {
   "cell_type": "code",
   "execution_count": null,
   "outputs": [],
   "source": [
    "# items = items.drop('title', axis=1)\n",
    "# items.head()"
   ],
   "metadata": {
    "collapsed": false,
    "pycharm": {
     "name": "#%%\n"
    }
   }
  },
  {
   "cell_type": "code",
   "execution_count": null,
   "outputs": [],
   "source": [
    "train_data_encoder = OrdinalEncoder()\n",
    "train_data_encode_columns = ['is_real', 'type', 'source', 'is_printed']\n",
    "# train_transactions[train_data_encode_columns] = train_data_encoder.fit_transform(train_transactions[train_data_encode_columns])\n",
    "# train_transactions = train_transactions.drop('date_1', axis=1)\n",
    "train_transactions.sample(7)"
   ],
   "metadata": {
    "collapsed": false,
    "pycharm": {
     "name": "#%%\n"
    }
   }
  },
  {
   "cell_type": "markdown",
   "source": [
    "# EDA"
   ],
   "metadata": {
    "collapsed": false,
    "pycharm": {
     "name": "#%% md\n"
    }
   }
  },
  {
   "cell_type": "code",
   "execution_count": 99,
   "outputs": [
    {
     "data": {
      "text/plain": "            chb        sys_numb      date_1 is_real         type  \\\n0  100000641403  RSL01004206702  2021-02-21     yes   скачивание   \n1  100000641403  RSL01000769304  2021-03-23     yes   скачивание   \n2  100000641403  RSL01004211574  2021-02-21     yes   скачивание   \n3  100000644359  RSL01009800093  2021-03-16     yes  книговыдача   \n4  100000644359  RSL01003557352  2021-03-10     yes  книговыдача   \n\n                source is_printed  age gender   chit_type  \\\n0          dlib.rsl.ru      False   55   male  нет данных   \n1          dlib.rsl.ru      False   55   male  нет данных   \n2          dlib.rsl.ru      False   55   male  нет данных   \n3  единый просмоторщик      False   74   male  нет данных   \n4  единый просмоторщик      False   74   male  нет данных   \n\n                                               title  \\\n0      Придание огнестойкости деревянным постройкам    \n1  Медицинская, научная и общественная деятельнос...   \n2                                    Кирпичная изба    \n3  Синтез и свойства новых гетероциклических соед...   \n4      Медали в честь Александра Сергеевича Пушкина    \n\n                        author                                    izd  \\\n0   Максимов Владимир Лаврович  Гл. упр. землеустройства и земледелия   \n1     Шалаев Николай Федорович                            отсутствует   \n2   Максимов Владимир Лаврович                              М-во зем.   \n3  Акылбеков Нургали Икрамович                            отсутствует   \n4   Ильин Алексей Алексеевич                            тип. А. Бенке   \n\n  year_izd          bbk  is_textboot  \n0     1915  отсутствует            0  \n1     1993  отсутствует            0  \n2     1916  отсутствует            0  \n3     2018  отсутствует            0  \n4     1901  отсутствует            0  ",
      "text/html": "<div>\n<style scoped>\n    .dataframe tbody tr th:only-of-type {\n        vertical-align: middle;\n    }\n\n    .dataframe tbody tr th {\n        vertical-align: top;\n    }\n\n    .dataframe thead th {\n        text-align: right;\n    }\n</style>\n<table border=\"1\" class=\"dataframe\">\n  <thead>\n    <tr style=\"text-align: right;\">\n      <th></th>\n      <th>chb</th>\n      <th>sys_numb</th>\n      <th>date_1</th>\n      <th>is_real</th>\n      <th>type</th>\n      <th>source</th>\n      <th>is_printed</th>\n      <th>age</th>\n      <th>gender</th>\n      <th>chit_type</th>\n      <th>title</th>\n      <th>author</th>\n      <th>izd</th>\n      <th>year_izd</th>\n      <th>bbk</th>\n      <th>is_textboot</th>\n    </tr>\n  </thead>\n  <tbody>\n    <tr>\n      <th>0</th>\n      <td>100000641403</td>\n      <td>RSL01004206702</td>\n      <td>2021-02-21</td>\n      <td>yes</td>\n      <td>скачивание</td>\n      <td>dlib.rsl.ru</td>\n      <td>False</td>\n      <td>55</td>\n      <td>male</td>\n      <td>нет данных</td>\n      <td>Придание огнестойкости деревянным постройкам</td>\n      <td>Максимов Владимир Лаврович</td>\n      <td>Гл. упр. землеустройства и земледелия</td>\n      <td>1915</td>\n      <td>отсутствует</td>\n      <td>0</td>\n    </tr>\n    <tr>\n      <th>1</th>\n      <td>100000641403</td>\n      <td>RSL01000769304</td>\n      <td>2021-03-23</td>\n      <td>yes</td>\n      <td>скачивание</td>\n      <td>dlib.rsl.ru</td>\n      <td>False</td>\n      <td>55</td>\n      <td>male</td>\n      <td>нет данных</td>\n      <td>Медицинская, научная и общественная деятельнос...</td>\n      <td>Шалаев Николай Федорович</td>\n      <td>отсутствует</td>\n      <td>1993</td>\n      <td>отсутствует</td>\n      <td>0</td>\n    </tr>\n    <tr>\n      <th>2</th>\n      <td>100000641403</td>\n      <td>RSL01004211574</td>\n      <td>2021-02-21</td>\n      <td>yes</td>\n      <td>скачивание</td>\n      <td>dlib.rsl.ru</td>\n      <td>False</td>\n      <td>55</td>\n      <td>male</td>\n      <td>нет данных</td>\n      <td>Кирпичная изба</td>\n      <td>Максимов Владимир Лаврович</td>\n      <td>М-во зем.</td>\n      <td>1916</td>\n      <td>отсутствует</td>\n      <td>0</td>\n    </tr>\n    <tr>\n      <th>3</th>\n      <td>100000644359</td>\n      <td>RSL01009800093</td>\n      <td>2021-03-16</td>\n      <td>yes</td>\n      <td>книговыдача</td>\n      <td>единый просмоторщик</td>\n      <td>False</td>\n      <td>74</td>\n      <td>male</td>\n      <td>нет данных</td>\n      <td>Синтез и свойства новых гетероциклических соед...</td>\n      <td>Акылбеков Нургали Икрамович</td>\n      <td>отсутствует</td>\n      <td>2018</td>\n      <td>отсутствует</td>\n      <td>0</td>\n    </tr>\n    <tr>\n      <th>4</th>\n      <td>100000644359</td>\n      <td>RSL01003557352</td>\n      <td>2021-03-10</td>\n      <td>yes</td>\n      <td>книговыдача</td>\n      <td>единый просмоторщик</td>\n      <td>False</td>\n      <td>74</td>\n      <td>male</td>\n      <td>нет данных</td>\n      <td>Медали в честь Александра Сергеевича Пушкина</td>\n      <td>Ильин Алексей Алексеевич</td>\n      <td>тип. А. Бенке</td>\n      <td>1901</td>\n      <td>отсутствует</td>\n      <td>0</td>\n    </tr>\n  </tbody>\n</table>\n</div>"
     },
     "execution_count": 99,
     "metadata": {},
     "output_type": "execute_result"
    }
   ],
   "source": [
    "full_data = pd.merge(pd.merge(train_transactions, users, on='chb', how='left'), items, on='sys_numb', how='left')\n",
    "full_data['year_izd'] = full_data['year_izd'].replace({'': 0})\n",
    "full_data.head()"
   ],
   "metadata": {
    "collapsed": false,
    "pycharm": {
     "name": "#%%\n"
    }
   }
  },
  {
   "cell_type": "code",
   "execution_count": 100,
   "outputs": [
    {
     "data": {
      "text/plain": "         sys_numb                                              title  \\\n0  RSL01008600016  судебное следствие в уголовном процессе россии...   \n1  RSL01004304880  уральское казачество и его роль в системе росс...   \n2  RSL07000461043                                        отсутствует   \n3  RSL07000433335                                        отсутствует   \n4  RSL01002419013  я пишу как эхо другого очерки интеллектуал био...   \n\n                          author                izd     year_izd  \\\n0         Машовец Асия Океановна        Юрлитинформ         2016   \n1  Дубовиков Александр Маратович        отсутствует         2006   \n2                    отсутствует        отсутствует  отсутствует   \n3                    отсутствует        отсутствует  отсутствует   \n4    Щедрина Татьяна Геннадьевна  Прогресс-Традиция         2004   \n\n                      bbk  is_textboot  \n0              Х629.374,0            0  \n1             отсутствует            0  \n2             отсутствует            0  \n3             отсутствует            0  \n4  Ю3(2)6-69Шпет Г.Г.-3,0            0  ",
      "text/html": "<div>\n<style scoped>\n    .dataframe tbody tr th:only-of-type {\n        vertical-align: middle;\n    }\n\n    .dataframe tbody tr th {\n        vertical-align: top;\n    }\n\n    .dataframe thead th {\n        text-align: right;\n    }\n</style>\n<table border=\"1\" class=\"dataframe\">\n  <thead>\n    <tr style=\"text-align: right;\">\n      <th></th>\n      <th>sys_numb</th>\n      <th>title</th>\n      <th>author</th>\n      <th>izd</th>\n      <th>year_izd</th>\n      <th>bbk</th>\n      <th>is_textboot</th>\n    </tr>\n  </thead>\n  <tbody>\n    <tr>\n      <th>0</th>\n      <td>RSL01008600016</td>\n      <td>судебное следствие в уголовном процессе россии...</td>\n      <td>Машовец Асия Океановна</td>\n      <td>Юрлитинформ</td>\n      <td>2016</td>\n      <td>Х629.374,0</td>\n      <td>0</td>\n    </tr>\n    <tr>\n      <th>1</th>\n      <td>RSL01004304880</td>\n      <td>уральское казачество и его роль в системе росс...</td>\n      <td>Дубовиков Александр Маратович</td>\n      <td>отсутствует</td>\n      <td>2006</td>\n      <td>отсутствует</td>\n      <td>0</td>\n    </tr>\n    <tr>\n      <th>2</th>\n      <td>RSL07000461043</td>\n      <td>отсутствует</td>\n      <td>отсутствует</td>\n      <td>отсутствует</td>\n      <td>отсутствует</td>\n      <td>отсутствует</td>\n      <td>0</td>\n    </tr>\n    <tr>\n      <th>3</th>\n      <td>RSL07000433335</td>\n      <td>отсутствует</td>\n      <td>отсутствует</td>\n      <td>отсутствует</td>\n      <td>отсутствует</td>\n      <td>отсутствует</td>\n      <td>0</td>\n    </tr>\n    <tr>\n      <th>4</th>\n      <td>RSL01002419013</td>\n      <td>я пишу как эхо другого очерки интеллектуал био...</td>\n      <td>Щедрина Татьяна Геннадьевна</td>\n      <td>Прогресс-Традиция</td>\n      <td>2004</td>\n      <td>Ю3(2)6-69Шпет Г.Г.-3,0</td>\n      <td>0</td>\n    </tr>\n  </tbody>\n</table>\n</div>"
     },
     "execution_count": 100,
     "metadata": {},
     "output_type": "execute_result"
    }
   ],
   "source": [
    "def to_lower(data):\n",
    "\treturn data.lower()\n",
    "\n",
    "def remove_round_brackets(data):\n",
    "  return re.sub('\\(.*?\\)', '', data)\n",
    "\n",
    "def remove_punc(data):\n",
    "  trans = str.maketrans('', '', string.punctuation)\n",
    "  return data.translate(trans)\n",
    "\n",
    "def white_space(data):\n",
    "  return ' '.join(data.split())\n",
    "\n",
    "def complete_noise(data):\n",
    "\tnew_data = to_lower(data)\n",
    "\tnew_data = remove_round_brackets(new_data)\n",
    "\tnew_data = remove_punc(new_data)\n",
    "\tnew_data = white_space(new_data)\n",
    "\n",
    "\treturn new_data\n",
    "\n",
    "items['title'] = items['title'].apply(complete_noise)\n",
    "items.head()"
   ],
   "metadata": {
    "collapsed": false,
    "pycharm": {
     "name": "#%%\n"
    }
   }
  },
  {
   "cell_type": "code",
   "execution_count": 116,
   "outputs": [],
   "source": [
    "stopwords = set(nltk_stopwords.words('russian'))\n",
    "\n",
    "count_tf_idf = TfidfVectorizer(stop_words=stopwords, ngram_range=(1, 3))\n",
    "tf_idf = count_tf_idf.fit_transform(items['title'])"
   ],
   "metadata": {
    "collapsed": false,
    "pycharm": {
     "name": "#%%\n"
    }
   }
  },
  {
   "cell_type": "code",
   "execution_count": 118,
   "outputs": [
    {
     "ename": "ValueError",
     "evalue": "Shape of passed values is (354355, 1), indices imply (354355, 3026574)",
     "output_type": "error",
     "traceback": [
      "\u001B[1;31m---------------------------------------------------------------------------\u001B[0m",
      "\u001B[1;31mValueError\u001B[0m                                Traceback (most recent call last)",
      "Input \u001B[1;32mIn [118]\u001B[0m, in \u001B[0;36m<cell line: 1>\u001B[1;34m()\u001B[0m\n\u001B[1;32m----> 1\u001B[0m \u001B[43mpd\u001B[49m\u001B[38;5;241;43m.\u001B[39;49m\u001B[43mDataFrame\u001B[49m\u001B[43m(\u001B[49m\n\u001B[0;32m      2\u001B[0m \u001B[43m\t\u001B[49m\u001B[43mdata\u001B[49m\u001B[38;5;241;43m=\u001B[39;49m\u001B[43mtf_idf\u001B[49m\u001B[43m,\u001B[49m\n\u001B[0;32m      3\u001B[0m \u001B[43m\t\u001B[49m\u001B[43mcolumns\u001B[49m\u001B[38;5;241;43m=\u001B[39;49m\u001B[43mcount_tf_idf\u001B[49m\u001B[38;5;241;43m.\u001B[39;49m\u001B[43mget_feature_names_out\u001B[49m\u001B[43m(\u001B[49m\u001B[43m)\u001B[49m\n\u001B[0;32m      4\u001B[0m \u001B[43m)\u001B[49m\u001B[38;5;241m.\u001B[39mhead()\n",
      "File \u001B[1;32mC:\\ProgramData\\Anaconda3\\envs\\digital_breakthrough\\lib\\site-packages\\pandas\\core\\frame.py:737\u001B[0m, in \u001B[0;36mDataFrame.__init__\u001B[1;34m(self, data, index, columns, dtype, copy)\u001B[0m\n\u001B[0;32m    729\u001B[0m         mgr \u001B[38;5;241m=\u001B[39m arrays_to_mgr(\n\u001B[0;32m    730\u001B[0m             arrays,\n\u001B[0;32m    731\u001B[0m             columns,\n\u001B[1;32m   (...)\u001B[0m\n\u001B[0;32m    734\u001B[0m             typ\u001B[38;5;241m=\u001B[39mmanager,\n\u001B[0;32m    735\u001B[0m         )\n\u001B[0;32m    736\u001B[0m     \u001B[38;5;28;01melse\u001B[39;00m:\n\u001B[1;32m--> 737\u001B[0m         mgr \u001B[38;5;241m=\u001B[39m \u001B[43mndarray_to_mgr\u001B[49m\u001B[43m(\u001B[49m\n\u001B[0;32m    738\u001B[0m \u001B[43m            \u001B[49m\u001B[43mdata\u001B[49m\u001B[43m,\u001B[49m\n\u001B[0;32m    739\u001B[0m \u001B[43m            \u001B[49m\u001B[43mindex\u001B[49m\u001B[43m,\u001B[49m\n\u001B[0;32m    740\u001B[0m \u001B[43m            \u001B[49m\u001B[43mcolumns\u001B[49m\u001B[43m,\u001B[49m\n\u001B[0;32m    741\u001B[0m \u001B[43m            \u001B[49m\u001B[43mdtype\u001B[49m\u001B[38;5;241;43m=\u001B[39;49m\u001B[43mdtype\u001B[49m\u001B[43m,\u001B[49m\n\u001B[0;32m    742\u001B[0m \u001B[43m            \u001B[49m\u001B[43mcopy\u001B[49m\u001B[38;5;241;43m=\u001B[39;49m\u001B[43mcopy\u001B[49m\u001B[43m,\u001B[49m\n\u001B[0;32m    743\u001B[0m \u001B[43m            \u001B[49m\u001B[43mtyp\u001B[49m\u001B[38;5;241;43m=\u001B[39;49m\u001B[43mmanager\u001B[49m\u001B[43m,\u001B[49m\n\u001B[0;32m    744\u001B[0m \u001B[43m        \u001B[49m\u001B[43m)\u001B[49m\n\u001B[0;32m    745\u001B[0m \u001B[38;5;28;01melse\u001B[39;00m:\n\u001B[0;32m    746\u001B[0m     mgr \u001B[38;5;241m=\u001B[39m dict_to_mgr(\n\u001B[0;32m    747\u001B[0m         {},\n\u001B[0;32m    748\u001B[0m         index,\n\u001B[1;32m   (...)\u001B[0m\n\u001B[0;32m    751\u001B[0m         typ\u001B[38;5;241m=\u001B[39mmanager,\n\u001B[0;32m    752\u001B[0m     )\n",
      "File \u001B[1;32mC:\\ProgramData\\Anaconda3\\envs\\digital_breakthrough\\lib\\site-packages\\pandas\\core\\internals\\construction.py:351\u001B[0m, in \u001B[0;36mndarray_to_mgr\u001B[1;34m(values, index, columns, dtype, copy, typ)\u001B[0m\n\u001B[0;32m    346\u001B[0m \u001B[38;5;66;03m# _prep_ndarray ensures that values.ndim == 2 at this point\u001B[39;00m\n\u001B[0;32m    347\u001B[0m index, columns \u001B[38;5;241m=\u001B[39m _get_axes(\n\u001B[0;32m    348\u001B[0m     values\u001B[38;5;241m.\u001B[39mshape[\u001B[38;5;241m0\u001B[39m], values\u001B[38;5;241m.\u001B[39mshape[\u001B[38;5;241m1\u001B[39m], index\u001B[38;5;241m=\u001B[39mindex, columns\u001B[38;5;241m=\u001B[39mcolumns\n\u001B[0;32m    349\u001B[0m )\n\u001B[1;32m--> 351\u001B[0m \u001B[43m_check_values_indices_shape_match\u001B[49m\u001B[43m(\u001B[49m\u001B[43mvalues\u001B[49m\u001B[43m,\u001B[49m\u001B[43m \u001B[49m\u001B[43mindex\u001B[49m\u001B[43m,\u001B[49m\u001B[43m \u001B[49m\u001B[43mcolumns\u001B[49m\u001B[43m)\u001B[49m\n\u001B[0;32m    353\u001B[0m \u001B[38;5;28;01mif\u001B[39;00m typ \u001B[38;5;241m==\u001B[39m \u001B[38;5;124m\"\u001B[39m\u001B[38;5;124marray\u001B[39m\u001B[38;5;124m\"\u001B[39m:\n\u001B[0;32m    355\u001B[0m     \u001B[38;5;28;01mif\u001B[39;00m \u001B[38;5;28missubclass\u001B[39m(values\u001B[38;5;241m.\u001B[39mdtype\u001B[38;5;241m.\u001B[39mtype, \u001B[38;5;28mstr\u001B[39m):\n",
      "File \u001B[1;32mC:\\ProgramData\\Anaconda3\\envs\\digital_breakthrough\\lib\\site-packages\\pandas\\core\\internals\\construction.py:422\u001B[0m, in \u001B[0;36m_check_values_indices_shape_match\u001B[1;34m(values, index, columns)\u001B[0m\n\u001B[0;32m    420\u001B[0m passed \u001B[38;5;241m=\u001B[39m values\u001B[38;5;241m.\u001B[39mshape\n\u001B[0;32m    421\u001B[0m implied \u001B[38;5;241m=\u001B[39m (\u001B[38;5;28mlen\u001B[39m(index), \u001B[38;5;28mlen\u001B[39m(columns))\n\u001B[1;32m--> 422\u001B[0m \u001B[38;5;28;01mraise\u001B[39;00m \u001B[38;5;167;01mValueError\u001B[39;00m(\u001B[38;5;124mf\u001B[39m\u001B[38;5;124m\"\u001B[39m\u001B[38;5;124mShape of passed values is \u001B[39m\u001B[38;5;132;01m{\u001B[39;00mpassed\u001B[38;5;132;01m}\u001B[39;00m\u001B[38;5;124m, indices imply \u001B[39m\u001B[38;5;132;01m{\u001B[39;00mimplied\u001B[38;5;132;01m}\u001B[39;00m\u001B[38;5;124m\"\u001B[39m)\n",
      "\u001B[1;31mValueError\u001B[0m: Shape of passed values is (354355, 1), indices imply (354355, 3026574)"
     ]
    }
   ],
   "source": [
    "pd.DataFrame(\n",
    "\tdata=tf_idf\n",
    ").head()"
   ],
   "metadata": {
    "collapsed": false,
    "pycharm": {
     "name": "#%%\n"
    }
   }
  },
  {
   "cell_type": "code",
   "execution_count": 120,
   "outputs": [
    {
     "data": {
      "text/plain": "(354355, 3026574)"
     },
     "execution_count": 120,
     "metadata": {},
     "output_type": "execute_result"
    }
   ],
   "source": [
    "tf_idf.shape"
   ],
   "metadata": {
    "collapsed": false,
    "pycharm": {
     "name": "#%%\n"
    }
   }
  },
  {
   "cell_type": "code",
   "execution_count": 80,
   "outputs": [
    {
     "data": {
      "text/plain": "              sys_numb                                              title  \\\n29810   RSL01005265873  Уничтожать на месте трусов и паникеров как пре...   \n48031   RSL01005261958  Памятка по использованию немецких боевых и всп...   \n228916  RSL01005355619  Курс стрельб малокалиберной зенитной артиллери...   \n251458  RSL01005265875  Уничтожение вражеских опорных пунктов : Сб. ст...   \n262189  RSL01004178414                            Особая миссия : повести   \n287519  RSL01009999463  Волки на воле и взаперти : основано на реальны...   \n344874  RSL01008547404                           Ненормальная война : 16+   \n\n                                     author                           izd  \\\n29810                           отсутствует                     Воениздат   \n48031                           отсутствует                     Воениздат   \n228916                          отсутствует                  Воен. изд-во   \n251458                          отсутствует  Воениздат, Краснояр. отд-ние   \n262189            Серегин Михаил Георгиевич                         Эксмо   \n287519  Тамоников Александр Александрович                           Эксмо   \n344874  Тамоников Александр Александрович                           Эксмо   \n\n       year_izd              bbk  is_textboot  \n29810      1942      отсутствует            0  \n48031      1942      отсутствует            0  \n228916     1944      отсутствует            0  \n251458     1942      отсутствует            0  \n262189     2008  Ш5(2=Р)75-644.6            0  \n287519     2019  Ш5(2=Р)64-644.6            0  \n344874     2016  Ш5(2=Р)64-644.6            0  ",
      "text/html": "<div>\n<style scoped>\n    .dataframe tbody tr th:only-of-type {\n        vertical-align: middle;\n    }\n\n    .dataframe tbody tr th {\n        vertical-align: top;\n    }\n\n    .dataframe thead th {\n        text-align: right;\n    }\n</style>\n<table border=\"1\" class=\"dataframe\">\n  <thead>\n    <tr style=\"text-align: right;\">\n      <th></th>\n      <th>sys_numb</th>\n      <th>title</th>\n      <th>author</th>\n      <th>izd</th>\n      <th>year_izd</th>\n      <th>bbk</th>\n      <th>is_textboot</th>\n    </tr>\n  </thead>\n  <tbody>\n    <tr>\n      <th>29810</th>\n      <td>RSL01005265873</td>\n      <td>Уничтожать на месте трусов и паникеров как пре...</td>\n      <td>отсутствует</td>\n      <td>Воениздат</td>\n      <td>1942</td>\n      <td>отсутствует</td>\n      <td>0</td>\n    </tr>\n    <tr>\n      <th>48031</th>\n      <td>RSL01005261958</td>\n      <td>Памятка по использованию немецких боевых и всп...</td>\n      <td>отсутствует</td>\n      <td>Воениздат</td>\n      <td>1942</td>\n      <td>отсутствует</td>\n      <td>0</td>\n    </tr>\n    <tr>\n      <th>228916</th>\n      <td>RSL01005355619</td>\n      <td>Курс стрельб малокалиберной зенитной артиллери...</td>\n      <td>отсутствует</td>\n      <td>Воен. изд-во</td>\n      <td>1944</td>\n      <td>отсутствует</td>\n      <td>0</td>\n    </tr>\n    <tr>\n      <th>251458</th>\n      <td>RSL01005265875</td>\n      <td>Уничтожение вражеских опорных пунктов : Сб. ст...</td>\n      <td>отсутствует</td>\n      <td>Воениздат, Краснояр. отд-ние</td>\n      <td>1942</td>\n      <td>отсутствует</td>\n      <td>0</td>\n    </tr>\n    <tr>\n      <th>262189</th>\n      <td>RSL01004178414</td>\n      <td>Особая миссия : повести</td>\n      <td>Серегин Михаил Георгиевич</td>\n      <td>Эксмо</td>\n      <td>2008</td>\n      <td>Ш5(2=Р)75-644.6</td>\n      <td>0</td>\n    </tr>\n    <tr>\n      <th>287519</th>\n      <td>RSL01009999463</td>\n      <td>Волки на воле и взаперти : основано на реальны...</td>\n      <td>Тамоников Александр Александрович</td>\n      <td>Эксмо</td>\n      <td>2019</td>\n      <td>Ш5(2=Р)64-644.6</td>\n      <td>0</td>\n    </tr>\n    <tr>\n      <th>344874</th>\n      <td>RSL01008547404</td>\n      <td>Ненормальная война : 16+</td>\n      <td>Тамоников Александр Александрович</td>\n      <td>Эксмо</td>\n      <td>2016</td>\n      <td>Ш5(2=Р)64-644.6</td>\n      <td>0</td>\n    </tr>\n  </tbody>\n</table>\n</div>"
     },
     "execution_count": 80,
     "metadata": {},
     "output_type": "execute_result"
    }
   ],
   "source": [
    "items[items['sys_numb'].isin(['RSL01008547404',\n",
    "\t\t\t\t\t\t 'RSL01004178414',\n",
    "\t\t\t\t\t\t 'RSL01008547404',\n",
    "\t\t\t\t\t\t 'RSL01009999463',\n",
    "\t\t\t\t\t\t 'RSL01008547404',\n",
    "\t\t\t\t\t\t 'RSL01004178414',\n",
    "\t\t\t\t\t\t 'RSL01008547404',\n",
    "\t\t\t\t\t\t 'RSL01004178414',\n",
    "\t\t\t\t\t\t 'RSL01009999463',\n",
    "\t\t\t\t\t\t 'RSL01009999463',\n",
    "\t\t\t\t\t\t 'RSL01009999463',\n",
    "\t\t\t\t\t\t 'RSL01004178414',\n",
    "\t\t\t\t\t\t 'RSL01005265875',\n",
    "\t\t\t\t\t\t 'RSL01004178414',\n",
    "\t\t\t\t\t\t 'RSL01005261958',\n",
    "\t\t\t\t\t\t 'RSL01008547404',\n",
    "\t\t\t\t\t\t 'RSL01008547404',\n",
    "\t\t\t\t\t\t 'RSL01009999463',\n",
    "\t\t\t\t\t\t 'RSL01005355619',\n",
    "\t\t\t\t\t\t 'RSL01005265873'])]"
   ],
   "metadata": {
    "collapsed": false,
    "pycharm": {
     "name": "#%%\n"
    }
   }
  },
  {
   "cell_type": "code",
   "execution_count": 150,
   "outputs": [
    {
     "data": {
      "text/plain": "              sys_numb                              title  \\\n164980  RSL01006722517               офицерский клинок 16   \n182159  RSL01007852930                    в волчьей шкуре   \n201236  RSL01008894967        лейтенант с одной жизнью 16   \n204061  RSL01006683849                  порт семи смертей   \n205656  RSL01008556936  мы родились в тельняшках роман 16   \n213734  RSL01006604393              венесуэльский заговор   \n222417  RSL01006626366                по натянутым нервам   \n244172  RSL01008252956         скорая десантная помощь 16   \n246121  RSL01007514239                      день курка 16   \n248523  RSL01007526209                 зловещие небеса 16   \n250446  RSL01009418876                   песчаная буря 16   \n269843  RSL01008052230                     логово беса 16   \n275359  RSL01008592807    7000 километров южнее москвы 16   \n281563  RSL01006725301                    боевой вирус 16   \n281566  RSL01007516956                    боевой вирус 16   \n284502  RSL01006575729                  офицерский клинок   \n287112  RSL01007495089                  холостая война 16   \n287124  RSL01006724335                  холостая война 16   \n288021  RSL01008674427                  битва с богами 16   \n288032  RSL01006725252                  битва с богами 16   \n292830  RSL01007522679                  битва с богами 16   \n299529  RSL01008512777               в строю с волками 16   \n299924  RSL01008616821             пустыня наш союзник 16   \n301903  RSL01009784639        оранжевая рубашка смертника   \n304124  RSL01008909446           наживка для резидента 16   \n\n                        author    izd year_izd              bbk  is_textboot  \n164980  Зверев Сергей Иванович  Эксмо     2013  Ш5(2=Р)64-644.6            0  \n182159  Зверев Сергей Иванович  Эксмо     2014  Ш5(2=Р)64-644.6            0  \n201236  Зверев Сергей Иванович  Эксмо     2017  Ш5(2=Р)64-644.6            0  \n204061  Зверев Сергей Иванович  Эксмо     2013  Ш5(2=Р)64-644.6            0  \n205656  Зверев Сергей Иванович  Эксмо     2016  Ш5(2=Р)64-644.6            0  \n213734  Зверев Сергей Иванович  Эксмо     2013  Ш5(2=Р)64-644.6            0  \n222417  Зверев Сергей Иванович  Эксмо     2013  Ш5(2=Р)64-644.6            0  \n244172  Зверев Сергей Иванович  Эксмо     2016  Ш5(2=Р)64-644.6            0  \n246121  Зверев Сергей Иванович  Эксмо     2014  Ш5(2=Р)64-644.6            0  \n248523  Зверев Сергей Иванович  Эксмо     2014  Ш5(2=Р)64-644.6            0  \n250446  Зверев Сергей Иванович  Эксмо     2017  Ш5(2=Р)64-644.6            0  \n269843  Зверев Сергей Иванович  Эксмо     2015  Ш5(2=Р)64-644.6            0  \n275359  Зверев Сергей Иванович  Эксмо     2016  Ш5(2=Р)64-644.6            0  \n281563  Зверев Сергей Иванович  Эксмо     2013  Ш5(2=Р)64-644.6            0  \n281566  Зверев Сергей Иванович  Эксмо     2014  Ш5(2=Р)64-644.6            0  \n284502  Зверев Сергей Иванович  Эксмо     2013  Ш5(2=Р)64-644.6            0  \n287112  Зверев Сергей Иванович  Эксмо     2014  Ш5(2=Р)64-644.6            0  \n287124  Зверев Сергей Иванович  Эксмо     2013  Ш5(2=Р)64-644.6            0  \n288021  Зверев Сергей Иванович  Эксмо     2016  Ш5(2=Р)64-644.6            0  \n288032  Зверев Сергей Иванович  Эксмо     2014  Ш5(2=Р)64-644.6            0  \n292830  Зверев Сергей Иванович  Эксмо     2014  Ш5(2=Р)64-644.6            0  \n299529  Зверев Сергей Иванович  Эксмо     2016  Ш5(2=Р)64-644.6            0  \n299924  Зверев Сергей Иванович  Эксмо     2016  Ш5(2=Р)64-644.6            0  \n301903  Зверев Сергей Иванович  Эксмо     2018  Ш5(2=Р)64-644.6            0  \n304124  Зверев Сергей Иванович  Эксмо     2017  Ш5(2=Р)64-644.6            0  ",
      "text/html": "<div>\n<style scoped>\n    .dataframe tbody tr th:only-of-type {\n        vertical-align: middle;\n    }\n\n    .dataframe tbody tr th {\n        vertical-align: top;\n    }\n\n    .dataframe thead th {\n        text-align: right;\n    }\n</style>\n<table border=\"1\" class=\"dataframe\">\n  <thead>\n    <tr style=\"text-align: right;\">\n      <th></th>\n      <th>sys_numb</th>\n      <th>title</th>\n      <th>author</th>\n      <th>izd</th>\n      <th>year_izd</th>\n      <th>bbk</th>\n      <th>is_textboot</th>\n    </tr>\n  </thead>\n  <tbody>\n    <tr>\n      <th>164980</th>\n      <td>RSL01006722517</td>\n      <td>офицерский клинок 16</td>\n      <td>Зверев Сергей Иванович</td>\n      <td>Эксмо</td>\n      <td>2013</td>\n      <td>Ш5(2=Р)64-644.6</td>\n      <td>0</td>\n    </tr>\n    <tr>\n      <th>182159</th>\n      <td>RSL01007852930</td>\n      <td>в волчьей шкуре</td>\n      <td>Зверев Сергей Иванович</td>\n      <td>Эксмо</td>\n      <td>2014</td>\n      <td>Ш5(2=Р)64-644.6</td>\n      <td>0</td>\n    </tr>\n    <tr>\n      <th>201236</th>\n      <td>RSL01008894967</td>\n      <td>лейтенант с одной жизнью 16</td>\n      <td>Зверев Сергей Иванович</td>\n      <td>Эксмо</td>\n      <td>2017</td>\n      <td>Ш5(2=Р)64-644.6</td>\n      <td>0</td>\n    </tr>\n    <tr>\n      <th>204061</th>\n      <td>RSL01006683849</td>\n      <td>порт семи смертей</td>\n      <td>Зверев Сергей Иванович</td>\n      <td>Эксмо</td>\n      <td>2013</td>\n      <td>Ш5(2=Р)64-644.6</td>\n      <td>0</td>\n    </tr>\n    <tr>\n      <th>205656</th>\n      <td>RSL01008556936</td>\n      <td>мы родились в тельняшках роман 16</td>\n      <td>Зверев Сергей Иванович</td>\n      <td>Эксмо</td>\n      <td>2016</td>\n      <td>Ш5(2=Р)64-644.6</td>\n      <td>0</td>\n    </tr>\n    <tr>\n      <th>213734</th>\n      <td>RSL01006604393</td>\n      <td>венесуэльский заговор</td>\n      <td>Зверев Сергей Иванович</td>\n      <td>Эксмо</td>\n      <td>2013</td>\n      <td>Ш5(2=Р)64-644.6</td>\n      <td>0</td>\n    </tr>\n    <tr>\n      <th>222417</th>\n      <td>RSL01006626366</td>\n      <td>по натянутым нервам</td>\n      <td>Зверев Сергей Иванович</td>\n      <td>Эксмо</td>\n      <td>2013</td>\n      <td>Ш5(2=Р)64-644.6</td>\n      <td>0</td>\n    </tr>\n    <tr>\n      <th>244172</th>\n      <td>RSL01008252956</td>\n      <td>скорая десантная помощь 16</td>\n      <td>Зверев Сергей Иванович</td>\n      <td>Эксмо</td>\n      <td>2016</td>\n      <td>Ш5(2=Р)64-644.6</td>\n      <td>0</td>\n    </tr>\n    <tr>\n      <th>246121</th>\n      <td>RSL01007514239</td>\n      <td>день курка 16</td>\n      <td>Зверев Сергей Иванович</td>\n      <td>Эксмо</td>\n      <td>2014</td>\n      <td>Ш5(2=Р)64-644.6</td>\n      <td>0</td>\n    </tr>\n    <tr>\n      <th>248523</th>\n      <td>RSL01007526209</td>\n      <td>зловещие небеса 16</td>\n      <td>Зверев Сергей Иванович</td>\n      <td>Эксмо</td>\n      <td>2014</td>\n      <td>Ш5(2=Р)64-644.6</td>\n      <td>0</td>\n    </tr>\n    <tr>\n      <th>250446</th>\n      <td>RSL01009418876</td>\n      <td>песчаная буря 16</td>\n      <td>Зверев Сергей Иванович</td>\n      <td>Эксмо</td>\n      <td>2017</td>\n      <td>Ш5(2=Р)64-644.6</td>\n      <td>0</td>\n    </tr>\n    <tr>\n      <th>269843</th>\n      <td>RSL01008052230</td>\n      <td>логово беса 16</td>\n      <td>Зверев Сергей Иванович</td>\n      <td>Эксмо</td>\n      <td>2015</td>\n      <td>Ш5(2=Р)64-644.6</td>\n      <td>0</td>\n    </tr>\n    <tr>\n      <th>275359</th>\n      <td>RSL01008592807</td>\n      <td>7000 километров южнее москвы 16</td>\n      <td>Зверев Сергей Иванович</td>\n      <td>Эксмо</td>\n      <td>2016</td>\n      <td>Ш5(2=Р)64-644.6</td>\n      <td>0</td>\n    </tr>\n    <tr>\n      <th>281563</th>\n      <td>RSL01006725301</td>\n      <td>боевой вирус 16</td>\n      <td>Зверев Сергей Иванович</td>\n      <td>Эксмо</td>\n      <td>2013</td>\n      <td>Ш5(2=Р)64-644.6</td>\n      <td>0</td>\n    </tr>\n    <tr>\n      <th>281566</th>\n      <td>RSL01007516956</td>\n      <td>боевой вирус 16</td>\n      <td>Зверев Сергей Иванович</td>\n      <td>Эксмо</td>\n      <td>2014</td>\n      <td>Ш5(2=Р)64-644.6</td>\n      <td>0</td>\n    </tr>\n    <tr>\n      <th>284502</th>\n      <td>RSL01006575729</td>\n      <td>офицерский клинок</td>\n      <td>Зверев Сергей Иванович</td>\n      <td>Эксмо</td>\n      <td>2013</td>\n      <td>Ш5(2=Р)64-644.6</td>\n      <td>0</td>\n    </tr>\n    <tr>\n      <th>287112</th>\n      <td>RSL01007495089</td>\n      <td>холостая война 16</td>\n      <td>Зверев Сергей Иванович</td>\n      <td>Эксмо</td>\n      <td>2014</td>\n      <td>Ш5(2=Р)64-644.6</td>\n      <td>0</td>\n    </tr>\n    <tr>\n      <th>287124</th>\n      <td>RSL01006724335</td>\n      <td>холостая война 16</td>\n      <td>Зверев Сергей Иванович</td>\n      <td>Эксмо</td>\n      <td>2013</td>\n      <td>Ш5(2=Р)64-644.6</td>\n      <td>0</td>\n    </tr>\n    <tr>\n      <th>288021</th>\n      <td>RSL01008674427</td>\n      <td>битва с богами 16</td>\n      <td>Зверев Сергей Иванович</td>\n      <td>Эксмо</td>\n      <td>2016</td>\n      <td>Ш5(2=Р)64-644.6</td>\n      <td>0</td>\n    </tr>\n    <tr>\n      <th>288032</th>\n      <td>RSL01006725252</td>\n      <td>битва с богами 16</td>\n      <td>Зверев Сергей Иванович</td>\n      <td>Эксмо</td>\n      <td>2014</td>\n      <td>Ш5(2=Р)64-644.6</td>\n      <td>0</td>\n    </tr>\n    <tr>\n      <th>292830</th>\n      <td>RSL01007522679</td>\n      <td>битва с богами 16</td>\n      <td>Зверев Сергей Иванович</td>\n      <td>Эксмо</td>\n      <td>2014</td>\n      <td>Ш5(2=Р)64-644.6</td>\n      <td>0</td>\n    </tr>\n    <tr>\n      <th>299529</th>\n      <td>RSL01008512777</td>\n      <td>в строю с волками 16</td>\n      <td>Зверев Сергей Иванович</td>\n      <td>Эксмо</td>\n      <td>2016</td>\n      <td>Ш5(2=Р)64-644.6</td>\n      <td>0</td>\n    </tr>\n    <tr>\n      <th>299924</th>\n      <td>RSL01008616821</td>\n      <td>пустыня наш союзник 16</td>\n      <td>Зверев Сергей Иванович</td>\n      <td>Эксмо</td>\n      <td>2016</td>\n      <td>Ш5(2=Р)64-644.6</td>\n      <td>0</td>\n    </tr>\n    <tr>\n      <th>301903</th>\n      <td>RSL01009784639</td>\n      <td>оранжевая рубашка смертника</td>\n      <td>Зверев Сергей Иванович</td>\n      <td>Эксмо</td>\n      <td>2018</td>\n      <td>Ш5(2=Р)64-644.6</td>\n      <td>0</td>\n    </tr>\n    <tr>\n      <th>304124</th>\n      <td>RSL01008909446</td>\n      <td>наживка для резидента 16</td>\n      <td>Зверев Сергей Иванович</td>\n      <td>Эксмо</td>\n      <td>2017</td>\n      <td>Ш5(2=Р)64-644.6</td>\n      <td>0</td>\n    </tr>\n  </tbody>\n</table>\n</div>"
     },
     "execution_count": 150,
     "metadata": {},
     "output_type": "execute_result"
    }
   ],
   "source": [
    "items[(items['author'] == 'Зверев Сергей Иванович') & (items['izd'] == 'Эксмо')]"
   ],
   "metadata": {
    "collapsed": false,
    "pycharm": {
     "name": "#%%\n"
    }
   }
  },
  {
   "cell_type": "code",
   "execution_count": 148,
   "outputs": [
    {
     "data": {
      "text/plain": "                chb        sys_numb      date_1 is_real         type  \\\n89626  200000957291  RSL01006724299  2021-02-04     yes  книговыдача   \n89630  200000957291  RSL01006724299  2021-03-11     yes  книговыдача   \n89619  200000957291  RSL01006724299  2021-03-16     yes  книговыдача   \n89613  200000957291  RSL01006724299  2021-03-23     yes  книговыдача   \n89614  200000957291  RSL01006724299  2021-03-25     yes  книговыдача   \n89616  200000957291  RSL01006724299  2021-03-31     yes  книговыдача   \n89622  200000957291  RSL01006724299  2021-04-15     yes  книговыдача   \n89617  200000957291  RSL01006724299  2021-04-21     yes  книговыдача   \n89620  200000957291  RSL01006724299  2021-04-29     yes  книговыдача   \n89615  200000957291  RSL01006724299  2021-05-12     yes  книговыдача   \n89624  200000957291  RSL01006724299  2021-05-17     yes  книговыдача   \n89629  200000957291  RSL01006724299  2021-05-18     yes  книговыдача   \n89631  200000957291  RSL01006724299  2021-05-25     yes  книговыдача   \n89625  200000957291  RSL01006724299  2021-05-27     yes  книговыдача   \n89612  200000957291  RSL01006724299  2021-06-01     yes  книговыдача   \n89632  200000957291  RSL01006724299  2021-06-09     yes  книговыдача   \n89628  200000957291  RSL01006724299  2021-06-10     yes  книговыдача   \n89621  200000957291  RSL01006724299  2021-07-02     yes  книговыдача   \n89611  200000957291  RSL01006724299  2021-07-23     yes  книговыдача   \n89627  200000957291  RSL01006724299  2021-08-03     yes  книговыдача   \n89618  200000957291  RSL01006724299  2021-08-05     yes  книговыдача   \n89623  200000957291  RSL01006724299  2021-08-10     yes  книговыдача   \n89610  200000957291  RSL01006724299  2021-08-17     yes  книговыдача   \n89599  200000957291  RSL01006724299  2021-08-20     yes  книговыдача   \n89607  200000957291  RSL01006724299  2021-08-24     yes  книговыдача   \n89608  200000957291  RSL01006724299  2021-09-14     yes  книговыдача   \n89603  200000957291  RSL01006724299  2021-09-24     yes  книговыдача   \n89606  200000957291  RSL01006724299  2021-10-26     yes  книговыдача   \n89598  200000957291  RSL01006724299  2021-11-18     yes  книговыдача   \n89604  200000957291  RSL01006724299  2021-11-25     yes  книговыдача   \n89600  200000957291  RSL01006724299  2021-11-30     yes  книговыдача   \n89602  200000957291  RSL01006724299  2021-12-03     yes  книговыдача   \n89609  200000957291  RSL01006724299  2022-02-17     yes  книговыдача   \n89605  200000957291  RSL01006724299  2022-03-03     yes  книговыдача   \n89601  200000957291  RSL01006724299  2022-03-23     yes  книговыдача   \n\n                    source is_printed  \n89626           2DL.Viewer      False  \n89630           2DL.Viewer      False  \n89619           2DL.Viewer      False  \n89613           2DL.Viewer      False  \n89614           2DL.Viewer      False  \n89616           2DL.Viewer      False  \n89622           2DL.Viewer      False  \n89617           2DL.Viewer      False  \n89620           2DL.Viewer      False  \n89615           2DL.Viewer      False  \n89624           2DL.Viewer      False  \n89629           2DL.Viewer      False  \n89631           2DL.Viewer      False  \n89625           2DL.Viewer      False  \n89612           2DL.Viewer      False  \n89632           2DL.Viewer      False  \n89628           2DL.Viewer      False  \n89621           2DL.Viewer      False  \n89611           2DL.Viewer      False  \n89627           2DL.Viewer      False  \n89618           2DL.Viewer      False  \n89623           2DL.Viewer      False  \n89610           2DL.Viewer      False  \n89599  единый просмоторщик      False  \n89607  единый просмоторщик      False  \n89608  единый просмоторщик      False  \n89603  единый просмоторщик      False  \n89606  единый просмоторщик      False  \n89598  единый просмоторщик      False  \n89604  единый просмоторщик      False  \n89600  единый просмоторщик      False  \n89602  единый просмоторщик      False  \n89609  единый просмоторщик      False  \n89605  единый просмоторщик      False  \n89601  единый просмоторщик      False  ",
      "text/html": "<div>\n<style scoped>\n    .dataframe tbody tr th:only-of-type {\n        vertical-align: middle;\n    }\n\n    .dataframe tbody tr th {\n        vertical-align: top;\n    }\n\n    .dataframe thead th {\n        text-align: right;\n    }\n</style>\n<table border=\"1\" class=\"dataframe\">\n  <thead>\n    <tr style=\"text-align: right;\">\n      <th></th>\n      <th>chb</th>\n      <th>sys_numb</th>\n      <th>date_1</th>\n      <th>is_real</th>\n      <th>type</th>\n      <th>source</th>\n      <th>is_printed</th>\n    </tr>\n  </thead>\n  <tbody>\n    <tr>\n      <th>89626</th>\n      <td>200000957291</td>\n      <td>RSL01006724299</td>\n      <td>2021-02-04</td>\n      <td>yes</td>\n      <td>книговыдача</td>\n      <td>2DL.Viewer</td>\n      <td>False</td>\n    </tr>\n    <tr>\n      <th>89630</th>\n      <td>200000957291</td>\n      <td>RSL01006724299</td>\n      <td>2021-03-11</td>\n      <td>yes</td>\n      <td>книговыдача</td>\n      <td>2DL.Viewer</td>\n      <td>False</td>\n    </tr>\n    <tr>\n      <th>89619</th>\n      <td>200000957291</td>\n      <td>RSL01006724299</td>\n      <td>2021-03-16</td>\n      <td>yes</td>\n      <td>книговыдача</td>\n      <td>2DL.Viewer</td>\n      <td>False</td>\n    </tr>\n    <tr>\n      <th>89613</th>\n      <td>200000957291</td>\n      <td>RSL01006724299</td>\n      <td>2021-03-23</td>\n      <td>yes</td>\n      <td>книговыдача</td>\n      <td>2DL.Viewer</td>\n      <td>False</td>\n    </tr>\n    <tr>\n      <th>89614</th>\n      <td>200000957291</td>\n      <td>RSL01006724299</td>\n      <td>2021-03-25</td>\n      <td>yes</td>\n      <td>книговыдача</td>\n      <td>2DL.Viewer</td>\n      <td>False</td>\n    </tr>\n    <tr>\n      <th>89616</th>\n      <td>200000957291</td>\n      <td>RSL01006724299</td>\n      <td>2021-03-31</td>\n      <td>yes</td>\n      <td>книговыдача</td>\n      <td>2DL.Viewer</td>\n      <td>False</td>\n    </tr>\n    <tr>\n      <th>89622</th>\n      <td>200000957291</td>\n      <td>RSL01006724299</td>\n      <td>2021-04-15</td>\n      <td>yes</td>\n      <td>книговыдача</td>\n      <td>2DL.Viewer</td>\n      <td>False</td>\n    </tr>\n    <tr>\n      <th>89617</th>\n      <td>200000957291</td>\n      <td>RSL01006724299</td>\n      <td>2021-04-21</td>\n      <td>yes</td>\n      <td>книговыдача</td>\n      <td>2DL.Viewer</td>\n      <td>False</td>\n    </tr>\n    <tr>\n      <th>89620</th>\n      <td>200000957291</td>\n      <td>RSL01006724299</td>\n      <td>2021-04-29</td>\n      <td>yes</td>\n      <td>книговыдача</td>\n      <td>2DL.Viewer</td>\n      <td>False</td>\n    </tr>\n    <tr>\n      <th>89615</th>\n      <td>200000957291</td>\n      <td>RSL01006724299</td>\n      <td>2021-05-12</td>\n      <td>yes</td>\n      <td>книговыдача</td>\n      <td>2DL.Viewer</td>\n      <td>False</td>\n    </tr>\n    <tr>\n      <th>89624</th>\n      <td>200000957291</td>\n      <td>RSL01006724299</td>\n      <td>2021-05-17</td>\n      <td>yes</td>\n      <td>книговыдача</td>\n      <td>2DL.Viewer</td>\n      <td>False</td>\n    </tr>\n    <tr>\n      <th>89629</th>\n      <td>200000957291</td>\n      <td>RSL01006724299</td>\n      <td>2021-05-18</td>\n      <td>yes</td>\n      <td>книговыдача</td>\n      <td>2DL.Viewer</td>\n      <td>False</td>\n    </tr>\n    <tr>\n      <th>89631</th>\n      <td>200000957291</td>\n      <td>RSL01006724299</td>\n      <td>2021-05-25</td>\n      <td>yes</td>\n      <td>книговыдача</td>\n      <td>2DL.Viewer</td>\n      <td>False</td>\n    </tr>\n    <tr>\n      <th>89625</th>\n      <td>200000957291</td>\n      <td>RSL01006724299</td>\n      <td>2021-05-27</td>\n      <td>yes</td>\n      <td>книговыдача</td>\n      <td>2DL.Viewer</td>\n      <td>False</td>\n    </tr>\n    <tr>\n      <th>89612</th>\n      <td>200000957291</td>\n      <td>RSL01006724299</td>\n      <td>2021-06-01</td>\n      <td>yes</td>\n      <td>книговыдача</td>\n      <td>2DL.Viewer</td>\n      <td>False</td>\n    </tr>\n    <tr>\n      <th>89632</th>\n      <td>200000957291</td>\n      <td>RSL01006724299</td>\n      <td>2021-06-09</td>\n      <td>yes</td>\n      <td>книговыдача</td>\n      <td>2DL.Viewer</td>\n      <td>False</td>\n    </tr>\n    <tr>\n      <th>89628</th>\n      <td>200000957291</td>\n      <td>RSL01006724299</td>\n      <td>2021-06-10</td>\n      <td>yes</td>\n      <td>книговыдача</td>\n      <td>2DL.Viewer</td>\n      <td>False</td>\n    </tr>\n    <tr>\n      <th>89621</th>\n      <td>200000957291</td>\n      <td>RSL01006724299</td>\n      <td>2021-07-02</td>\n      <td>yes</td>\n      <td>книговыдача</td>\n      <td>2DL.Viewer</td>\n      <td>False</td>\n    </tr>\n    <tr>\n      <th>89611</th>\n      <td>200000957291</td>\n      <td>RSL01006724299</td>\n      <td>2021-07-23</td>\n      <td>yes</td>\n      <td>книговыдача</td>\n      <td>2DL.Viewer</td>\n      <td>False</td>\n    </tr>\n    <tr>\n      <th>89627</th>\n      <td>200000957291</td>\n      <td>RSL01006724299</td>\n      <td>2021-08-03</td>\n      <td>yes</td>\n      <td>книговыдача</td>\n      <td>2DL.Viewer</td>\n      <td>False</td>\n    </tr>\n    <tr>\n      <th>89618</th>\n      <td>200000957291</td>\n      <td>RSL01006724299</td>\n      <td>2021-08-05</td>\n      <td>yes</td>\n      <td>книговыдача</td>\n      <td>2DL.Viewer</td>\n      <td>False</td>\n    </tr>\n    <tr>\n      <th>89623</th>\n      <td>200000957291</td>\n      <td>RSL01006724299</td>\n      <td>2021-08-10</td>\n      <td>yes</td>\n      <td>книговыдача</td>\n      <td>2DL.Viewer</td>\n      <td>False</td>\n    </tr>\n    <tr>\n      <th>89610</th>\n      <td>200000957291</td>\n      <td>RSL01006724299</td>\n      <td>2021-08-17</td>\n      <td>yes</td>\n      <td>книговыдача</td>\n      <td>2DL.Viewer</td>\n      <td>False</td>\n    </tr>\n    <tr>\n      <th>89599</th>\n      <td>200000957291</td>\n      <td>RSL01006724299</td>\n      <td>2021-08-20</td>\n      <td>yes</td>\n      <td>книговыдача</td>\n      <td>единый просмоторщик</td>\n      <td>False</td>\n    </tr>\n    <tr>\n      <th>89607</th>\n      <td>200000957291</td>\n      <td>RSL01006724299</td>\n      <td>2021-08-24</td>\n      <td>yes</td>\n      <td>книговыдача</td>\n      <td>единый просмоторщик</td>\n      <td>False</td>\n    </tr>\n    <tr>\n      <th>89608</th>\n      <td>200000957291</td>\n      <td>RSL01006724299</td>\n      <td>2021-09-14</td>\n      <td>yes</td>\n      <td>книговыдача</td>\n      <td>единый просмоторщик</td>\n      <td>False</td>\n    </tr>\n    <tr>\n      <th>89603</th>\n      <td>200000957291</td>\n      <td>RSL01006724299</td>\n      <td>2021-09-24</td>\n      <td>yes</td>\n      <td>книговыдача</td>\n      <td>единый просмоторщик</td>\n      <td>False</td>\n    </tr>\n    <tr>\n      <th>89606</th>\n      <td>200000957291</td>\n      <td>RSL01006724299</td>\n      <td>2021-10-26</td>\n      <td>yes</td>\n      <td>книговыдача</td>\n      <td>единый просмоторщик</td>\n      <td>False</td>\n    </tr>\n    <tr>\n      <th>89598</th>\n      <td>200000957291</td>\n      <td>RSL01006724299</td>\n      <td>2021-11-18</td>\n      <td>yes</td>\n      <td>книговыдача</td>\n      <td>единый просмоторщик</td>\n      <td>False</td>\n    </tr>\n    <tr>\n      <th>89604</th>\n      <td>200000957291</td>\n      <td>RSL01006724299</td>\n      <td>2021-11-25</td>\n      <td>yes</td>\n      <td>книговыдача</td>\n      <td>единый просмоторщик</td>\n      <td>False</td>\n    </tr>\n    <tr>\n      <th>89600</th>\n      <td>200000957291</td>\n      <td>RSL01006724299</td>\n      <td>2021-11-30</td>\n      <td>yes</td>\n      <td>книговыдача</td>\n      <td>единый просмоторщик</td>\n      <td>False</td>\n    </tr>\n    <tr>\n      <th>89602</th>\n      <td>200000957291</td>\n      <td>RSL01006724299</td>\n      <td>2021-12-03</td>\n      <td>yes</td>\n      <td>книговыдача</td>\n      <td>единый просмоторщик</td>\n      <td>False</td>\n    </tr>\n    <tr>\n      <th>89609</th>\n      <td>200000957291</td>\n      <td>RSL01006724299</td>\n      <td>2022-02-17</td>\n      <td>yes</td>\n      <td>книговыдача</td>\n      <td>единый просмоторщик</td>\n      <td>False</td>\n    </tr>\n    <tr>\n      <th>89605</th>\n      <td>200000957291</td>\n      <td>RSL01006724299</td>\n      <td>2022-03-03</td>\n      <td>yes</td>\n      <td>книговыдача</td>\n      <td>единый просмоторщик</td>\n      <td>False</td>\n    </tr>\n    <tr>\n      <th>89601</th>\n      <td>200000957291</td>\n      <td>RSL01006724299</td>\n      <td>2022-03-23</td>\n      <td>yes</td>\n      <td>книговыдача</td>\n      <td>единый просмоторщик</td>\n      <td>False</td>\n    </tr>\n  </tbody>\n</table>\n</div>"
     },
     "execution_count": 148,
     "metadata": {},
     "output_type": "execute_result"
    }
   ],
   "source": [
    "train_transactions[(train_transactions['chb'] == '200000957291') & (train_transactions['sys_numb'] == 'RSL01006724299')].sort_values(by='date_1')"
   ],
   "metadata": {
    "collapsed": false,
    "pycharm": {
     "name": "#%%\n"
    }
   }
  },
  {
   "cell_type": "code",
   "execution_count": 149,
   "outputs": [
    {
     "data": {
      "text/plain": "chb           izd           author                        \n200001017435  отсутствует   отсутствует                       806\n300001058749  отсутствует   отсутствует                       766\n300000863416  отсутствует   отсутствует                       724\n300001030290  отсутствует   отсутствует                       676\n100001073170  отсутствует   отсутствует                       588\n                                                             ... \n200000952623  отсутствует   Шалаев Андрей Викторович            1\n200000952625  Академия      Гиленсон Борис Александрович        1\n              Аспект пресс  Лазутина Галина Викторовна          1\n              Бомбора       Наказава Донна Джексон              1\n400001035059  отсутствует   Штибен Владимир Константинович      1\nName: is_real, Length: 195420, dtype: int64"
     },
     "execution_count": 149,
     "metadata": {},
     "output_type": "execute_result"
    }
   ],
   "source": [
    "full_data.groupby(['chb', 'izd', 'author']).count()['is_real'].sort_values(ascending=False)"
   ],
   "metadata": {
    "collapsed": false,
    "pycharm": {
     "name": "#%%\n"
    }
   }
  },
  {
   "cell_type": "markdown",
   "source": [
    "# END EDA\n"
   ],
   "metadata": {
    "collapsed": false,
    "pycharm": {
     "name": "#%% md\n"
    }
   }
  },
  {
   "cell_type": "code",
   "execution_count": 14,
   "outputs": [
    {
     "data": {
      "text/plain": "            chb        sys_numb  is_real  type  source  is_printed  age  \\\n0  100000641403  RSL01004206702      1.0   2.0     2.0         0.0   55   \n1  100000641403  RSL01000769304      1.0   2.0     2.0         0.0   55   \n2  100000641403  RSL01004211574      1.0   2.0     2.0         0.0   55   \n3  100000644359  RSL01009800093      1.0   1.0     3.0         0.0   74   \n4  100000644359  RSL01003557352      1.0   1.0     3.0         0.0   74   \n\n   gender  chit_type  user_kmean_class    author      izd year_izd       bbk  \\\n0     1.0        2.0                 3   90012.0   6678.0     1915  130777.0   \n1     1.0        2.0                 3  162326.0  33897.0     1993  130777.0   \n2     1.0        2.0                 3   90012.0  17263.0     1916  130777.0   \n3     1.0        2.0                 3    4695.0  33897.0     2018  130777.0   \n4     1.0        2.0                 3   59405.0  34398.0     1901  130777.0   \n\n   is_textboot  item_kmean_class  \n0            0                 0  \n1            0                 3  \n2            0                 0  \n3            0                 1  \n4            0                 1  ",
      "text/html": "<div>\n<style scoped>\n    .dataframe tbody tr th:only-of-type {\n        vertical-align: middle;\n    }\n\n    .dataframe tbody tr th {\n        vertical-align: top;\n    }\n\n    .dataframe thead th {\n        text-align: right;\n    }\n</style>\n<table border=\"1\" class=\"dataframe\">\n  <thead>\n    <tr style=\"text-align: right;\">\n      <th></th>\n      <th>chb</th>\n      <th>sys_numb</th>\n      <th>is_real</th>\n      <th>type</th>\n      <th>source</th>\n      <th>is_printed</th>\n      <th>age</th>\n      <th>gender</th>\n      <th>chit_type</th>\n      <th>user_kmean_class</th>\n      <th>author</th>\n      <th>izd</th>\n      <th>year_izd</th>\n      <th>bbk</th>\n      <th>is_textboot</th>\n      <th>item_kmean_class</th>\n    </tr>\n  </thead>\n  <tbody>\n    <tr>\n      <th>0</th>\n      <td>100000641403</td>\n      <td>RSL01004206702</td>\n      <td>1.0</td>\n      <td>2.0</td>\n      <td>2.0</td>\n      <td>0.0</td>\n      <td>55</td>\n      <td>1.0</td>\n      <td>2.0</td>\n      <td>3</td>\n      <td>90012.0</td>\n      <td>6678.0</td>\n      <td>1915</td>\n      <td>130777.0</td>\n      <td>0</td>\n      <td>0</td>\n    </tr>\n    <tr>\n      <th>1</th>\n      <td>100000641403</td>\n      <td>RSL01000769304</td>\n      <td>1.0</td>\n      <td>2.0</td>\n      <td>2.0</td>\n      <td>0.0</td>\n      <td>55</td>\n      <td>1.0</td>\n      <td>2.0</td>\n      <td>3</td>\n      <td>162326.0</td>\n      <td>33897.0</td>\n      <td>1993</td>\n      <td>130777.0</td>\n      <td>0</td>\n      <td>3</td>\n    </tr>\n    <tr>\n      <th>2</th>\n      <td>100000641403</td>\n      <td>RSL01004211574</td>\n      <td>1.0</td>\n      <td>2.0</td>\n      <td>2.0</td>\n      <td>0.0</td>\n      <td>55</td>\n      <td>1.0</td>\n      <td>2.0</td>\n      <td>3</td>\n      <td>90012.0</td>\n      <td>17263.0</td>\n      <td>1916</td>\n      <td>130777.0</td>\n      <td>0</td>\n      <td>0</td>\n    </tr>\n    <tr>\n      <th>3</th>\n      <td>100000644359</td>\n      <td>RSL01009800093</td>\n      <td>1.0</td>\n      <td>1.0</td>\n      <td>3.0</td>\n      <td>0.0</td>\n      <td>74</td>\n      <td>1.0</td>\n      <td>2.0</td>\n      <td>3</td>\n      <td>4695.0</td>\n      <td>33897.0</td>\n      <td>2018</td>\n      <td>130777.0</td>\n      <td>0</td>\n      <td>1</td>\n    </tr>\n    <tr>\n      <th>4</th>\n      <td>100000644359</td>\n      <td>RSL01003557352</td>\n      <td>1.0</td>\n      <td>1.0</td>\n      <td>3.0</td>\n      <td>0.0</td>\n      <td>74</td>\n      <td>1.0</td>\n      <td>2.0</td>\n      <td>3</td>\n      <td>59405.0</td>\n      <td>34398.0</td>\n      <td>1901</td>\n      <td>130777.0</td>\n      <td>0</td>\n      <td>1</td>\n    </tr>\n  </tbody>\n</table>\n</div>"
     },
     "execution_count": 14,
     "metadata": {},
     "output_type": "execute_result"
    }
   ],
   "source": [
    "full_data = pd.merge(pd.merge(train_transactions, users, on='chb', how='left'), items, on='sys_numb', how='left')\n",
    "full_data['year_izd'] = full_data['year_izd'].replace({'': 0})\n",
    "full_data.head()"
   ],
   "metadata": {
    "collapsed": false,
    "pycharm": {
     "name": "#%%\n"
    }
   }
  },
  {
   "cell_type": "code",
   "execution_count": 15,
   "outputs": [],
   "source": [
    "ids = full_data[['chb', 'sys_numb']]\n",
    "features_tensor = tf.convert_to_tensor(full_data.drop(['chb', 'sys_numb'], axis=1).astype('float32'))\n"
   ],
   "metadata": {
    "collapsed": false,
    "pycharm": {
     "name": "#%%\n"
    }
   }
  },
  {
   "cell_type": "code",
   "execution_count": 16,
   "outputs": [],
   "source": [
    "normalizer = tf.keras.layers.Normalization(axis=-1)\n",
    "normalizer.adapt(features_tensor)"
   ],
   "metadata": {
    "collapsed": false,
    "pycharm": {
     "name": "#%%\n"
    }
   }
  },
  {
   "cell_type": "code",
   "execution_count": 17,
   "outputs": [
    {
     "data": {
      "text/plain": "TensorShape([259566, 14])"
     },
     "execution_count": 17,
     "metadata": {},
     "output_type": "execute_result"
    }
   ],
   "source": [
    "features_tensor.shape"
   ],
   "metadata": {
    "collapsed": false,
    "pycharm": {
     "name": "#%%\n"
    }
   }
  },
  {
   "cell_type": "code",
   "execution_count": 18,
   "outputs": [],
   "source": [
    "def create_model():\n",
    "\toptimizer = tf.optimizers.Adam(lr=0.0001)\n",
    "\tmodel = Sequential()\n",
    "\tmodel.add(normalizer)\n",
    "\t# model.add(Conv1D(filters=32, kernel_size=2))\n",
    "\t# model.add(MaxPooling1D())\n",
    "\t# model.add(LSTM(units=128, activation='relu'))\n",
    "\t# model.add(Dropout(0.1))\n",
    "\t# model.add(LSTM(units=64, activation='relu'))\n",
    "\t# model.add(Dropout(0.1))\n",
    "\tmodel.add(Dense(units=128, activation='relu'))\n",
    "\tmodel.add(Dropout(0.1))\n",
    "\tmodel.add(Dense(units=1, activation='sigmoid'))\n",
    "\n",
    "\tmodel.compile(optimizer=optimizer, loss=tf.losses.MeanSquaredError())\n",
    "\n",
    "\treturn model"
   ],
   "metadata": {
    "collapsed": false,
    "pycharm": {
     "name": "#%%\n"
    }
   }
  },
  {
   "cell_type": "code",
   "execution_count": 19,
   "outputs": [],
   "source": [
    "# full_data['year_izd'] = full_data['year_izd'].apply(lambda year: 0 if '' in year else year)"
   ],
   "metadata": {
    "collapsed": false,
    "pycharm": {
     "name": "#%%\n"
    }
   }
  },
  {
   "cell_type": "code",
   "execution_count": 20,
   "outputs": [],
   "source": [
    "new_full_data = full_data.drop(['chb', 'sys_numb'], axis=1)\n",
    "new_full_data['year_izd'] = new_full_data['year_izd'].astype(np.int32)"
   ],
   "metadata": {
    "collapsed": false,
    "pycharm": {
     "name": "#%%\n"
    }
   }
  },
  {
   "cell_type": "code",
   "execution_count": 21,
   "outputs": [],
   "source": [
    "user_iteractions = pd.DataFrame(\n",
    "\tnp.empty(shape=(len(set(users['chb'].values)), len(set(items['sys_numb'].values))), dtype=np.int8),\n",
    "\tindex=list(set(users['chb'].values)),\n",
    "\tcolumns=list(set(items['sys_numb'].values)),\n",
    ")"
   ],
   "metadata": {
    "collapsed": false,
    "pycharm": {
     "name": "#%%\n"
    }
   }
  },
  {
   "cell_type": "code",
   "execution_count": 22,
   "outputs": [
    {
     "data": {
      "text/plain": "              RSL01010345388  RSL01005502246  RSL07000427853  RSL01000600561  \\\n300000831483               0               0               0               0   \n300000961823               0               0               0               0   \n300001030141               0               0               0               0   \n200001076347               0               0               0               0   \n300001028859               0               0               0               0   \n\n              RSL01003059261  RSL02000020386  RSL01003039941  RSL01008957427  \\\n300000831483               0               0               0               0   \n300000961823               0               0               0               0   \n300001030141               0               0               0               0   \n200001076347               0               0               0               0   \n300001028859               0               0               0               0   \n\n              RSL01004421075  RSL01008949627  ...  RSL01005785725  \\\n300000831483               0               0  ...               0   \n300000961823               0               0  ...               0   \n300001030141               0               0  ...               0   \n200001076347               0               0  ...               0   \n300001028859               0               0  ...               0   \n\n              RSL01003654602  RSL01002570593  RSL01003370055  RSL01008530444  \\\n300000831483               0               0               0               0   \n300000961823               0               0               0               0   \n300001030141               0               0               0               0   \n200001076347               0               0               0               0   \n300001028859               0               0               0               0   \n\n              RSL01004584011  RSL01003110172  RSL01005032616  RSL01006501986  \\\n300000831483               0               0               0               0   \n300000961823               0               0               0               0   \n300001030141               0               0               0               0   \n200001076347               0               0               0               0   \n300001028859               0               0               0               0   \n\n              RSL01003087622  \n300000831483               0  \n300000961823               0  \n300001030141               0  \n200001076347               0  \n300001028859               0  \n\n[5 rows x 354355 columns]",
      "text/html": "<div>\n<style scoped>\n    .dataframe tbody tr th:only-of-type {\n        vertical-align: middle;\n    }\n\n    .dataframe tbody tr th {\n        vertical-align: top;\n    }\n\n    .dataframe thead th {\n        text-align: right;\n    }\n</style>\n<table border=\"1\" class=\"dataframe\">\n  <thead>\n    <tr style=\"text-align: right;\">\n      <th></th>\n      <th>RSL01010345388</th>\n      <th>RSL01005502246</th>\n      <th>RSL07000427853</th>\n      <th>RSL01000600561</th>\n      <th>RSL01003059261</th>\n      <th>RSL02000020386</th>\n      <th>RSL01003039941</th>\n      <th>RSL01008957427</th>\n      <th>RSL01004421075</th>\n      <th>RSL01008949627</th>\n      <th>...</th>\n      <th>RSL01005785725</th>\n      <th>RSL01003654602</th>\n      <th>RSL01002570593</th>\n      <th>RSL01003370055</th>\n      <th>RSL01008530444</th>\n      <th>RSL01004584011</th>\n      <th>RSL01003110172</th>\n      <th>RSL01005032616</th>\n      <th>RSL01006501986</th>\n      <th>RSL01003087622</th>\n    </tr>\n  </thead>\n  <tbody>\n    <tr>\n      <th>300000831483</th>\n      <td>0</td>\n      <td>0</td>\n      <td>0</td>\n      <td>0</td>\n      <td>0</td>\n      <td>0</td>\n      <td>0</td>\n      <td>0</td>\n      <td>0</td>\n      <td>0</td>\n      <td>...</td>\n      <td>0</td>\n      <td>0</td>\n      <td>0</td>\n      <td>0</td>\n      <td>0</td>\n      <td>0</td>\n      <td>0</td>\n      <td>0</td>\n      <td>0</td>\n      <td>0</td>\n    </tr>\n    <tr>\n      <th>300000961823</th>\n      <td>0</td>\n      <td>0</td>\n      <td>0</td>\n      <td>0</td>\n      <td>0</td>\n      <td>0</td>\n      <td>0</td>\n      <td>0</td>\n      <td>0</td>\n      <td>0</td>\n      <td>...</td>\n      <td>0</td>\n      <td>0</td>\n      <td>0</td>\n      <td>0</td>\n      <td>0</td>\n      <td>0</td>\n      <td>0</td>\n      <td>0</td>\n      <td>0</td>\n      <td>0</td>\n    </tr>\n    <tr>\n      <th>300001030141</th>\n      <td>0</td>\n      <td>0</td>\n      <td>0</td>\n      <td>0</td>\n      <td>0</td>\n      <td>0</td>\n      <td>0</td>\n      <td>0</td>\n      <td>0</td>\n      <td>0</td>\n      <td>...</td>\n      <td>0</td>\n      <td>0</td>\n      <td>0</td>\n      <td>0</td>\n      <td>0</td>\n      <td>0</td>\n      <td>0</td>\n      <td>0</td>\n      <td>0</td>\n      <td>0</td>\n    </tr>\n    <tr>\n      <th>200001076347</th>\n      <td>0</td>\n      <td>0</td>\n      <td>0</td>\n      <td>0</td>\n      <td>0</td>\n      <td>0</td>\n      <td>0</td>\n      <td>0</td>\n      <td>0</td>\n      <td>0</td>\n      <td>...</td>\n      <td>0</td>\n      <td>0</td>\n      <td>0</td>\n      <td>0</td>\n      <td>0</td>\n      <td>0</td>\n      <td>0</td>\n      <td>0</td>\n      <td>0</td>\n      <td>0</td>\n    </tr>\n    <tr>\n      <th>300001028859</th>\n      <td>0</td>\n      <td>0</td>\n      <td>0</td>\n      <td>0</td>\n      <td>0</td>\n      <td>0</td>\n      <td>0</td>\n      <td>0</td>\n      <td>0</td>\n      <td>0</td>\n      <td>...</td>\n      <td>0</td>\n      <td>0</td>\n      <td>0</td>\n      <td>0</td>\n      <td>0</td>\n      <td>0</td>\n      <td>0</td>\n      <td>0</td>\n      <td>0</td>\n      <td>0</td>\n    </tr>\n  </tbody>\n</table>\n<p>5 rows × 354355 columns</p>\n</div>"
     },
     "execution_count": 22,
     "metadata": {},
     "output_type": "execute_result"
    }
   ],
   "source": [
    "user_iteractions.head()"
   ],
   "metadata": {
    "collapsed": false,
    "pycharm": {
     "name": "#%%\n"
    }
   }
  },
  {
   "cell_type": "code",
   "execution_count": 23,
   "outputs": [
    {
     "data": {
      "text/plain": "  0%|          | 0/16753 [00:00<?, ?it/s]",
      "application/vnd.jupyter.widget-view+json": {
       "version_major": 2,
       "version_minor": 0,
       "model_id": "5412e576b41f4f5db6fa0e0c7bffead5"
      },
      "application/json": {
       "n": 0,
       "total": 16753,
       "elapsed": 0.010000944137573242,
       "ncols": null,
       "nrows": null,
       "prefix": "",
       "ascii": false,
       "unit": "it",
       "unit_scale": false,
       "rate": null,
       "bar_format": null,
       "postfix": null,
       "unit_divisor": 1000,
       "initial": 0,
       "colour": null
      }
     },
     "metadata": {},
     "output_type": "display_data"
    }
   ],
   "source": [
    "for user in tqdm(list(set(users['chb'].values))):\n",
    "\tuser_readed_books = list(set(train_transactions[train_transactions['chb'] == user]['sys_numb'].values))\n",
    "\tfor read_book_user in user_readed_books:\n",
    "\t\tuser_iteractions.loc[user, read_book_user] = 1"
   ],
   "metadata": {
    "collapsed": false,
    "pycharm": {
     "name": "#%%\n"
    }
   }
  },
  {
   "cell_type": "code",
   "execution_count": 24,
   "outputs": [],
   "source": [
    "# users_features = users.drop('chb', axis=1)\n",
    "# items_features = items.drop(['sys_numb', 'title'], axis=1)\n",
    "# items_features['year_izd'] = items_features['year_izd'].apply(lambda year: 0 if 'отсутствует' in year else year)"
   ],
   "metadata": {
    "collapsed": false,
    "pycharm": {
     "name": "#%%\n"
    }
   }
  },
  {
   "cell_type": "code",
   "execution_count": 25,
   "outputs": [],
   "source": [
    "user_ids = users['chb']\n",
    "item_ids = items['sys_numb']"
   ],
   "metadata": {
    "collapsed": false,
    "pycharm": {
     "name": "#%%\n"
    }
   }
  },
  {
   "cell_type": "code",
   "execution_count": 26,
   "outputs": [],
   "source": [
    "# user_iteractions = user_iteractions.replace({0: -1})"
   ],
   "metadata": {
    "collapsed": false,
    "pycharm": {
     "name": "#%%\n"
    }
   }
  },
  {
   "cell_type": "code",
   "execution_count": 27,
   "outputs": [],
   "source": [
    "def create_features(dataframe, features_name, id_col_name):\n",
    "    \"\"\"\n",
    "    Generate features that will be ready for feeding into lightfm\n",
    "\n",
    "    Parameters\n",
    "    ----------\n",
    "    dataframe: Dataframe\n",
    "        Pandas Dataframe which contains features\n",
    "    features_name : List\n",
    "        List of feature columns name avaiable in dataframe\n",
    "    id_col_name: String\n",
    "        Column name which contains id of the question or\n",
    "        answer that the features will map to.\n",
    "        There are two possible values for this variable.\n",
    "        1. questions_id_num\n",
    "        2. professionals_id_num\n",
    "\n",
    "    Returns\n",
    "    -------\n",
    "    Pandas Series\n",
    "        A pandas series containing process features\n",
    "        that are ready for feed into lightfm.\n",
    "        The format of each value\n",
    "        will be (user_id, ['feature_1', 'feature_2', 'feature_3'])\n",
    "        Ex. -> (1, ['military', 'army', '5'])\n",
    "    \"\"\"\n",
    "\n",
    "    features = dataframe[features_name].apply(\n",
    "        lambda x: ','.join(x.map(str)), axis=1)\n",
    "    features = features.str.split(',')\n",
    "    features = list(zip(dataframe[id_col_name], features))\n",
    "    return features\n",
    "\n",
    "\n",
    "\n",
    "def generate_feature_list(dataframe, features_name):\n",
    "    \"\"\"\n",
    "    Generate features list for mapping\n",
    "\n",
    "    Parameters\n",
    "    ----------\n",
    "    dataframe: Dataframe\n",
    "        Pandas Dataframe for Users or Q&A.\n",
    "    features_name : List\n",
    "        List of feature columns name avaiable in dataframe.\n",
    "\n",
    "    Returns\n",
    "    -------\n",
    "    List of all features for mapping\n",
    "    \"\"\"\n",
    "    features = dataframe[features_name].apply(\n",
    "        lambda x: ','.join(x.map(str)), axis=1)\n",
    "    features = features.str.split(',')\n",
    "    features = features.apply(pd.Series).stack().reset_index(drop=True)\n",
    "    return features"
   ],
   "metadata": {
    "collapsed": false,
    "pycharm": {
     "name": "#%%\n"
    }
   }
  },
  {
   "cell_type": "code",
   "execution_count": 28,
   "outputs": [],
   "source": [
    "users_features = create_features(users, ['age', 'gender', 'chit_type', 'user_kmean_class'], 'chb')\n",
    "item_features = create_features(items, ['author', 'izd', 'year_izd', 'bbk', 'is_textboot', 'item_kmean_class'], 'sys_numb')"
   ],
   "metadata": {
    "collapsed": false,
    "pycharm": {
     "name": "#%%\n"
    }
   }
  },
  {
   "cell_type": "code",
   "execution_count": 29,
   "outputs": [],
   "source": [
    "users_features_list = generate_feature_list(users, ['age', 'gender', 'chit_type', 'user_kmean_class'])\n",
    "items_features_list = generate_feature_list(items, ['author', 'izd', 'year_izd', 'bbk', 'is_textboot', 'item_kmean_class'])"
   ],
   "metadata": {
    "collapsed": false,
    "pycharm": {
     "name": "#%%\n"
    }
   }
  },
  {
   "cell_type": "code",
   "execution_count": 30,
   "outputs": [],
   "source": [
    "dataset = Dataset()\n",
    "dataset.fit(\n",
    "\tset(users['chb'].values),\n",
    "\tset(items['sys_numb'].values),\n",
    "\titem_features=items_features_list,\n",
    "\tuser_features=users_features_list\n",
    ")"
   ],
   "metadata": {
    "collapsed": false,
    "pycharm": {
     "name": "#%%\n"
    }
   }
  },
  {
   "cell_type": "code",
   "execution_count": 31,
   "outputs": [
    {
     "data": {
      "text/plain": "  0%|          | 0/16753 [00:00<?, ?it/s]",
      "application/vnd.jupyter.widget-view+json": {
       "version_major": 2,
       "version_minor": 0,
       "model_id": "cfc488725b4a47d1937a0e478842b472"
      },
      "application/json": {
       "n": 0,
       "total": 16753,
       "elapsed": 0.010000944137573242,
       "ncols": null,
       "nrows": null,
       "prefix": "",
       "ascii": false,
       "unit": "it",
       "unit_scale": false,
       "rate": null,
       "bar_format": null,
       "postfix": null,
       "unit_divisor": 1000,
       "initial": 0,
       "colour": null
      }
     },
     "metadata": {},
     "output_type": "display_data"
    }
   ],
   "source": [
    "res = []\n",
    "for user_id_iterator in tqdm(user_iteractions.index.values):\n",
    "\tres.append(1 / user_iteractions.loc[str(user_id_iterator)].sum())\n",
    "\n",
    "total_weights = pd.Series(res)"
   ],
   "metadata": {
    "collapsed": false,
    "pycharm": {
     "name": "#%%\n"
    }
   }
  },
  {
   "cell_type": "code",
   "execution_count": 32,
   "outputs": [],
   "source": [
    "iteractions_matrix = list(\n",
    "\tzip(\n",
    "\t\tusers['chb'].values,\n",
    "\t\titems['sys_numb'].values,\n",
    "\t\ttotal_weights\n",
    "\t)\n",
    ")\n",
    "\n",
    "interactions, weights = dataset.build_interactions(iteractions_matrix)\n",
    "\n",
    "last_item_features = dataset.build_item_features(item_features)\n",
    "\n",
    "last_user_features = dataset.build_user_features(users_features)"
   ],
   "metadata": {
    "collapsed": false,
    "pycharm": {
     "name": "#%%\n"
    }
   }
  },
  {
   "cell_type": "code",
   "execution_count": 33,
   "outputs": [
    {
     "name": "stderr",
     "output_type": "stream",
     "text": [
      "Epoch: 100%|██████████| 5/5 [00:06<00:00,  1.33s/it]\n"
     ]
    },
    {
     "data": {
      "text/plain": "<lightfm.lightfm.LightFM at 0x1c76f18a9d0>"
     },
     "execution_count": 33,
     "metadata": {},
     "output_type": "execute_result"
    }
   ],
   "source": [
    "model = lightfm.LightFM(\n",
    "\tno_components=150,\n",
    "\tlearning_rate=0.05,\n",
    "\tloss='warp',\n",
    "\trandom_state=25\n",
    ")\n",
    "\n",
    "model.fit(\n",
    "\tinteractions,\n",
    "\titem_features=last_item_features,\n",
    "\tuser_features=last_user_features,\n",
    "\tsample_weight=weights,\n",
    "\tepochs=5,\n",
    "\tnum_threads=16,\n",
    "\tverbose=True\n",
    ")"
   ],
   "metadata": {
    "collapsed": false,
    "pycharm": {
     "name": "#%%\n"
    }
   }
  },
  {
   "cell_type": "code",
   "execution_count": 34,
   "outputs": [],
   "source": [
    "def calculate_auc_score(lightfm_model, interactions_matrix,\n",
    "                        question_features, professional_features):\n",
    "    \"\"\"\n",
    "    Measure the ROC AUC metric for a model.\n",
    "    A perfect score is 1.0.\n",
    "\n",
    "    Parameters\n",
    "    ----------\n",
    "    lightfm_model: LightFM model\n",
    "        A fitted lightfm model\n",
    "    interactions_matrix :\n",
    "        A lightfm interactions matrix\n",
    "    question_features, professional_features:\n",
    "        Lightfm features\n",
    "\n",
    "    Returns\n",
    "    -------\n",
    "    String containing AUC score\n",
    "    \"\"\"\n",
    "    score = auc_score(\n",
    "        lightfm_model, interactions_matrix,\n",
    "        item_features=question_features,\n",
    "        user_features=professional_features,\n",
    "        num_threads=16\n",
    "\t).mean()\n",
    "    return score"
   ],
   "metadata": {
    "collapsed": false,
    "pycharm": {
     "name": "#%%\n"
    }
   }
  },
  {
   "cell_type": "code",
   "execution_count": 35,
   "outputs": [],
   "source": [
    "# не смог дождаться окончания выполнения\n",
    "# calculate_auc_score(model, interactions, last_item_features, last_user_features)"
   ],
   "metadata": {
    "collapsed": false,
    "pycharm": {
     "name": "#%%\n"
    }
   }
  },
  {
   "cell_type": "code",
   "execution_count": 36,
   "outputs": [
    {
     "data": {
      "text/plain": "            chb  age  gender  chit_type  user_kmean_class\n0  300001020830   21     0.0        2.0                 0\n1  300001113642   36     0.0        2.0                 0\n2  300001148466   46     0.0        2.0                 5\n3  300001117011   22     0.0        2.0                 0\n4  200001038094   24     0.0        0.0                 2",
      "text/html": "<div>\n<style scoped>\n    .dataframe tbody tr th:only-of-type {\n        vertical-align: middle;\n    }\n\n    .dataframe tbody tr th {\n        vertical-align: top;\n    }\n\n    .dataframe thead th {\n        text-align: right;\n    }\n</style>\n<table border=\"1\" class=\"dataframe\">\n  <thead>\n    <tr style=\"text-align: right;\">\n      <th></th>\n      <th>chb</th>\n      <th>age</th>\n      <th>gender</th>\n      <th>chit_type</th>\n      <th>user_kmean_class</th>\n    </tr>\n  </thead>\n  <tbody>\n    <tr>\n      <th>0</th>\n      <td>300001020830</td>\n      <td>21</td>\n      <td>0.0</td>\n      <td>2.0</td>\n      <td>0</td>\n    </tr>\n    <tr>\n      <th>1</th>\n      <td>300001113642</td>\n      <td>36</td>\n      <td>0.0</td>\n      <td>2.0</td>\n      <td>0</td>\n    </tr>\n    <tr>\n      <th>2</th>\n      <td>300001148466</td>\n      <td>46</td>\n      <td>0.0</td>\n      <td>2.0</td>\n      <td>5</td>\n    </tr>\n    <tr>\n      <th>3</th>\n      <td>300001117011</td>\n      <td>22</td>\n      <td>0.0</td>\n      <td>2.0</td>\n      <td>0</td>\n    </tr>\n    <tr>\n      <th>4</th>\n      <td>200001038094</td>\n      <td>24</td>\n      <td>0.0</td>\n      <td>0.0</td>\n      <td>2</td>\n    </tr>\n  </tbody>\n</table>\n</div>"
     },
     "execution_count": 36,
     "metadata": {},
     "output_type": "execute_result"
    }
   ],
   "source": [
    "users.head()"
   ],
   "metadata": {
    "collapsed": false,
    "pycharm": {
     "name": "#%%\n"
    }
   }
  },
  {
   "cell_type": "code",
   "execution_count": 56,
   "outputs": [
    {
     "data": {
      "text/plain": "  0%|          | 0/16753 [00:00<?, ?it/s]",
      "application/vnd.jupyter.widget-view+json": {
       "version_major": 2,
       "version_minor": 0,
       "model_id": "c6a3ec135d6a4ba4a5534cc1a982b31e"
      },
      "application/json": {
       "n": 0,
       "total": 16753,
       "elapsed": 0.009999513626098633,
       "ncols": null,
       "nrows": null,
       "prefix": "",
       "ascii": false,
       "unit": "it",
       "unit_scale": false,
       "rate": null,
       "bar_format": null,
       "postfix": null,
       "unit_divisor": 1000,
       "initial": 0,
       "colour": null
      }
     },
     "metadata": {},
     "output_type": "display_data"
    }
   ],
   "source": [
    "res_list = []\n",
    "\n",
    "for index in tqdm(list(users.index)):\n",
    "\tuniq_user = users.loc[index, 'chb']\n",
    "\n",
    "\tpreds = model.predict(\n",
    "\t\tindex,\n",
    "\t\titems['sys_numb'].index.to_list(),\n",
    "\t\titem_features=last_item_features,\n",
    "\t\tuser_features=last_user_features\n",
    "\t)\n",
    "\tpreds = items.loc[pd.Series(preds).sort_values(ascending=False)[:20].index]['sys_numb']\n",
    "\n",
    "\tfor pred in preds:\n",
    "\t\tres_list.append([uniq_user, pred])"
   ],
   "metadata": {
    "collapsed": false,
    "pycharm": {
     "name": "#%%\n"
    }
   }
  },
  {
   "cell_type": "code",
   "execution_count": 57,
   "outputs": [],
   "source": [
    "pd.DataFrame(res_list, columns=['chb', 'sys_numb']).to_csv('5th_iter.csv', sep=';', index=False)"
   ],
   "metadata": {
    "collapsed": false,
    "pycharm": {
     "name": "#%%\n"
    }
   }
  }
 ],
 "metadata": {
  "kernelspec": {
   "display_name": "Python 3",
   "language": "python",
   "name": "python3"
  },
  "language_info": {
   "codemirror_mode": {
    "name": "ipython",
    "version": 2
   },
   "file_extension": ".py",
   "mimetype": "text/x-python",
   "name": "python",
   "nbconvert_exporter": "python",
   "pygments_lexer": "ipython2",
   "version": "2.7.6"
  }
 },
 "nbformat": 4,
 "nbformat_minor": 0
}