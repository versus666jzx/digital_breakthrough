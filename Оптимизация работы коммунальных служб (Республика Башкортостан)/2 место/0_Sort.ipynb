{
 "cells": [
  {
   "cell_type": "code",
   "execution_count": null,
   "id": "aca9b569",
   "metadata": {},
   "outputs": [],
   "source": [
    "#Раскладываю train по папкам по классам, так намного удобнее"
   ]
  },
  {
   "cell_type": "code",
   "execution_count": 2,
   "id": "5dffa8d1",
   "metadata": {},
   "outputs": [],
   "source": [
    "! mkdir ./my_train0-1-2\n",
    "! mkdir ./my_train0-1-2/0\n",
    "! mkdir ./my_train0-1-2/1\n",
    "! mkdir ./my_train0-1-2/2"
   ]
  },
  {
   "cell_type": "code",
   "execution_count": 3,
   "id": "2f53672d",
   "metadata": {},
   "outputs": [],
   "source": [
    "import pandas as pd \n",
    "import shutil\n",
    "\n",
    "data_df = pd.read_csv(\"./train.csv\")\n",
    "for i in data_df.index:\n",
    "    if data_df['class'].iloc[i]==0.0:\n",
    "        shutil.copy('./train/'+data_df['ID_img'].iloc[i]+'', './my_train0-1-2/0/')\n",
    "\n",
    "        \n",
    "    if data_df['class'].iloc[i]==1.0:\n",
    "        shutil.copy('./train/'+data_df['ID_img'].iloc[i]+'', './my_train0-1-2/1/')\n",
    "\n",
    "        \n",
    "    if data_df['class'].iloc[i]==2.0:\n",
    "        shutil.copy('./train/'+data_df['ID_img'].iloc[i]+'', './my_train0-1-2/2/')\n",
    "        "
   ]
  },
  {
   "cell_type": "code",
   "execution_count": null,
   "id": "65de6ec0",
   "metadata": {},
   "outputs": [],
   "source": []
  }
 ],
 "metadata": {
  "kernelspec": {
   "display_name": "Python 3 (ipykernel)",
   "language": "python",
   "name": "python3"
  },
  "language_info": {
   "codemirror_mode": {
    "name": "ipython",
    "version": 3
   },
   "file_extension": ".py",
   "mimetype": "text/x-python",
   "name": "python",
   "nbconvert_exporter": "python",
   "pygments_lexer": "ipython3",
   "version": "3.9.7"
  }
 },
 "nbformat": 4,
 "nbformat_minor": 5
}
