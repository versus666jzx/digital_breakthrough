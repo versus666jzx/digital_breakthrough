{
 "cells": [
  {
   "cell_type": "code",
   "execution_count": null,
   "id": "d2baf5b9",
   "metadata": {},
   "outputs": [],
   "source": [
    "!apt-get update\n",
    "!apt-get install ffmpeg libsm6 libxext6  -y\n",
    "!pip install seaborn"
   ]
  },
  {
   "cell_type": "code",
   "execution_count": null,
   "id": "e5f85063",
   "metadata": {},
   "outputs": [],
   "source": [
    "#Папки, куда будут создаваться новые фото\n",
    "! mkdir ./aug0-1-2\n",
    "! mkdir ./aug0-1-2/0\n",
    "! mkdir ./aug0-1-2/1\n",
    "! mkdir ./aug0-1-2/1/1\n",
    "! mkdir ./aug0-1-2/2"
   ]
  },
  {
   "cell_type": "code",
   "execution_count": null,
   "id": "54a5f74f",
   "metadata": {},
   "outputs": [],
   "source": [
    "import tensorflow as tf\n",
    "from tensorflow import keras\n",
    "from tensorflow.keras import backend as K\n",
    "from tensorflow.keras.layers import Dense, Activation,Dropout,Conv2D, MaxPooling2D,BatchNormalization, Flatten\n",
    "from tensorflow.keras.optimizers import Adam, Adamax\n",
    "from tensorflow.keras.metrics import categorical_crossentropy\n",
    "from tensorflow.keras import regularizers\n",
    "from tensorflow.keras.preprocessing.image import ImageDataGenerator\n",
    "from tensorflow.keras.models import Model, load_model, Sequential\n",
    "import numpy as np\n",
    "import pandas as pd\n",
    "import shutil\n",
    "import time\n",
    "import cv2 as cv2\n",
    "from tqdm import tqdm\n",
    "from sklearn.model_selection import train_test_split\n",
    "import matplotlib.pyplot as plt\n",
    "from matplotlib.pyplot import imshow\n",
    "import os\n",
    "import seaborn as sns\n",
    "sns.set_style('darkgrid')\n",
    "from PIL import Image\n",
    "from sklearn.metrics import confusion_matrix, classification_report"
   ]
  },
  {
   "cell_type": "code",
   "execution_count": null,
   "id": "6d863609",
   "metadata": {},
   "outputs": [],
   "source": [
    "from PIL import Image, ImageOps\n",
    "from random import randrange\n",
    "from tqdm import tqdm\n",
    "import os\n"
   ]
  },
  {
   "cell_type": "code",
   "execution_count": null,
   "id": "92ef491f",
   "metadata": {},
   "outputs": [],
   "source": [
    "def random_crop(folder,folder_rez):\n",
    "    files=os.listdir(folder)\n",
    "    for image_name in files:\n",
    "        \n",
    "        img1 = Image.open(folder + '/' + image_name)\n",
    "        img_size = img1.size\n",
    "        x_max = img_size[0] - 600\n",
    "        y_max = img_size[1] - 600\n",
    "        if (x_max>10)&(y_max>10):\n",
    "            for i in range(15):\n",
    "                random_x = int(randrange(0, x_max))\n",
    "                random_y = int(randrange(0, y_max))\n",
    "\n",
    "                area = (random_x, random_y, random_x + 600, random_y + 600)\n",
    "                c_img = img1.crop(area)\n",
    "\n",
    "                fit_img_h = ImageOps.fit(c_img, (600, 600), Image.ANTIALIAS)\n",
    "                fit_img_h.save('{}{}_{}_{}'.format(folder_rez,  random_x,random_y, image_name))\n",
    "\n",
    "\n",
    "\n"
   ]
  },
  {
   "cell_type": "code",
   "execution_count": null,
   "id": "d908e4e3",
   "metadata": {},
   "outputs": [],
   "source": [
    "#если нет бака, то его нет на всей фото\n",
    "random_crop('./my_train0-1-2/0/','./aug0-1-2/0/')"
   ]
  },
  {
   "cell_type": "code",
   "execution_count": null,
   "id": "6a46ccfa",
   "metadata": {},
   "outputs": [],
   "source": [
    "#если хреновое фото, то оно всё\n",
    "random_crop('./my_train0-1-2/2/','./aug0-1-2/2/')"
   ]
  },
  {
   "cell_type": "code",
   "execution_count": null,
   "id": "2cae429c",
   "metadata": {},
   "outputs": [],
   "source": [
    "#а тут повозиться придёться поэтому делаю больше\n",
    "random_crop('./my_train0-1-2/1/','./aug0-1-2/1/1/')\n",
    "random_crop('./my_train0-1-2/1/','./aug0-1-2/1/1/')\n"
   ]
  },
  {
   "cell_type": "code",
   "execution_count": null,
   "id": "44525801",
   "metadata": {},
   "outputs": [],
   "source": []
  },
  {
   "cell_type": "code",
   "execution_count": null,
   "id": "a5f5e0ea",
   "metadata": {},
   "outputs": [],
   "source": [
    "#грузим промежуточную модель\n",
    "model = tf.keras.models.load_model('./'+'pre_EfficientnetB7.hdf5')"
   ]
  },
  {
   "cell_type": "code",
   "execution_count": null,
   "id": "db9a64cd",
   "metadata": {},
   "outputs": [],
   "source": [
    "from sklearn.metrics import roc_auc_score, roc_curve, auc , accuracy_score"
   ]
  },
  {
   "cell_type": "code",
   "execution_count": null,
   "id": "8b70dd30",
   "metadata": {},
   "outputs": [],
   "source": [
    "img_generator = keras.preprocessing.image_dataset_from_directory(\n",
    "    './aug0-1-2/1/', \n",
    "    batch_size=8, \n",
    "    image_size=(600,600),\n",
    "    shuffle=False,\n",
    ")\n",
    "\n",
    "file_paths = img_generator.file_paths"
   ]
  },
  {
   "cell_type": "code",
   "execution_count": null,
   "id": "93ac14eb",
   "metadata": {},
   "outputs": [],
   "source": [
    "file_paths"
   ]
  },
  {
   "cell_type": "code",
   "execution_count": null,
   "id": "de38b59f",
   "metadata": {},
   "outputs": [],
   "source": [
    "predicts = []\n",
    "pred_numpy = model.predict(img_generator)\n",
    "\n",
    "for class_obj in pred_numpy:\n",
    "    index, max_value = max(enumerate(class_obj), key=lambda i_v: i_v[1])\n",
    "    predicts.append(index)"
   ]
  },
  {
   "cell_type": "code",
   "execution_count": null,
   "id": "a82f2e1e",
   "metadata": {},
   "outputs": [],
   "source": [
    "#испольлзуя предварительную модель, удаляем лишние файлы"
   ]
  },
  {
   "cell_type": "code",
   "execution_count": null,
   "id": "10035165",
   "metadata": {},
   "outputs": [],
   "source": [
    "prediction_df=pd.DataFrame(file_paths,columns=['file'])\n",
    "prediction_df['class_pred']=predicts\n"
   ]
  },
  {
   "cell_type": "code",
   "execution_count": null,
   "id": "8bd43fee",
   "metadata": {},
   "outputs": [],
   "source": [
    "prediction_df[prediction_df['class_pred']==1]"
   ]
  },
  {
   "cell_type": "code",
   "execution_count": null,
   "id": "22b18672",
   "metadata": {},
   "outputs": [],
   "source": [
    "for i in prediction_df[prediction_df['class_pred']==1].index:\n",
    "    shutil.copy(prediction_df['file'].loc[i], './aug0-1-2/1/')\n"
   ]
  },
  {
   "cell_type": "code",
   "execution_count": null,
   "id": "c402c647",
   "metadata": {},
   "outputs": [],
   "source": [
    "# всё что в папках ./aug0-1-2/0/ ./aug0-1-2/1/ ./aug0-1-2/2/, переносим в папку обучениыя вручную без подпапок ))))"
   ]
  }
 ],
 "metadata": {
  "kernelspec": {
   "display_name": "Python 3 (ipykernel)",
   "language": "python",
   "name": "python3"
  },
  "language_info": {
   "codemirror_mode": {
    "name": "ipython",
    "version": 3
   },
   "file_extension": ".py",
   "mimetype": "text/x-python",
   "name": "python",
   "nbconvert_exporter": "python",
   "pygments_lexer": "ipython3",
   "version": "3.9.7"
  }
 },
 "nbformat": 4,
 "nbformat_minor": 5
}
