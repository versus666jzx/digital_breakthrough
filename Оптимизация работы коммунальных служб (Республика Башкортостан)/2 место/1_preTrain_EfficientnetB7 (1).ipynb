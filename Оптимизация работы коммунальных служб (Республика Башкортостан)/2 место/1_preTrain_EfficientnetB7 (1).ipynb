{
  "cells": [
    {
      "cell_type": "code",
      "execution_count": 1,
      "metadata": {
        "colab": {
          "base_uri": "https://localhost:8080/"
        },
        "id": "y4bJ6fKsAsRS",
        "outputId": "23c79f22-9a78-4d79-f744-f974d164cab9"
      },
      "outputs": [
        {
          "output_type": "stream",
          "name": "stdout",
          "text": [
            "\r0% [Working]\r            \rHit:1 http://archive.ubuntu.com/ubuntu bionic InRelease\n",
            "\r0% [Waiting for headers] [Connected to cloud.r-project.org (13.227.219.75)] [Wa\r                                                                               \rHit:2 http://archive.ubuntu.com/ubuntu bionic-updates InRelease\n",
            "\r                                                                               \rHit:3 http://security.ubuntu.com/ubuntu bionic-security InRelease\n",
            "\r                                                                               \rHit:4 http://ppa.launchpad.net/c2d4u.team/c2d4u4.0+/ubuntu bionic InRelease\n",
            "\r                                                                               \rHit:5 https://developer.download.nvidia.com/compute/cuda/repos/ubuntu1804/x86_64  InRelease\n",
            "\r0% [Waiting for headers] [Waiting for headers] [Connecting to ppa.launchpad.net\r0% [1 InRelease gpgv 242 kB] [Waiting for headers] [Waiting for headers] [Waiti\r                                                                               \rHit:6 https://cloud.r-project.org/bin/linux/ubuntu bionic-cran40/ InRelease\n",
            "\r0% [1 InRelease gpgv 242 kB] [Waiting for headers] [Waiting for headers] [Waiti\r                                                                               \rHit:7 http://archive.ubuntu.com/ubuntu bionic-backports InRelease\n",
            "\r                                                                               \r0% [1 InRelease gpgv 242 kB] [Waiting for headers] [Waiting for headers]\r                                                                        \rHit:8 http://ppa.launchpad.net/cran/libgit2/ubuntu bionic InRelease\n",
            "\r0% [1 InRelease gpgv 242 kB] [Connecting to ppa.launchpad.net (185.125.190.52)]\r                                                                               \rHit:9 http://ppa.launchpad.net/deadsnakes/ppa/ubuntu bionic InRelease\n",
            "Hit:10 http://ppa.launchpad.net/graphics-drivers/ppa/ubuntu bionic InRelease\n",
            "Ign:11 https://developer.download.nvidia.com/compute/machine-learning/repos/ubuntu1804/x86_64  InRelease\n",
            "Hit:12 https://developer.download.nvidia.com/compute/machine-learning/repos/ubuntu1804/x86_64  Release\n",
            "Reading package lists... Done\n",
            "Reading package lists... Done\n",
            "Building dependency tree       \n",
            "Reading state information... Done\n",
            "libsm6 is already the newest version (2:1.2.2-1).\n",
            "libxext6 is already the newest version (2:1.3.3-1).\n",
            "ffmpeg is already the newest version (7:3.4.11-0ubuntu0.1).\n",
            "The following package was automatically installed and is no longer required:\n",
            "  libnvidia-common-460\n",
            "Use 'apt autoremove' to remove it.\n",
            "0 upgraded, 0 newly installed, 0 to remove and 49 not upgraded.\n"
          ]
        }
      ],
      "source": [
        "!apt-get update\n",
        "!apt-get install ffmpeg libsm6 libxext6  -y"
      ]
    },
    {
      "cell_type": "code",
      "execution_count": 2,
      "metadata": {
        "colab": {
          "base_uri": "https://localhost:8080/"
        },
        "id": "YIe_WrmHZx95",
        "outputId": "148152c0-7f95-44c0-919d-a9272e97fe38"
      },
      "outputs": [
        {
          "output_type": "stream",
          "name": "stdout",
          "text": [
            "Looking in indexes: https://pypi.org/simple, https://us-python.pkg.dev/colab-wheels/public/simple/\n",
            "Requirement already satisfied: seaborn in /usr/local/lib/python3.7/dist-packages (0.11.2)\n",
            "Requirement already satisfied: numpy>=1.15 in /usr/local/lib/python3.7/dist-packages (from seaborn) (1.21.6)\n",
            "Requirement already satisfied: scipy>=1.0 in /usr/local/lib/python3.7/dist-packages (from seaborn) (1.4.1)\n",
            "Requirement already satisfied: matplotlib>=2.2 in /usr/local/lib/python3.7/dist-packages (from seaborn) (3.2.2)\n",
            "Requirement already satisfied: pandas>=0.23 in /usr/local/lib/python3.7/dist-packages (from seaborn) (1.3.5)\n",
            "Requirement already satisfied: cycler>=0.10 in /usr/local/lib/python3.7/dist-packages (from matplotlib>=2.2->seaborn) (0.11.0)\n",
            "Requirement already satisfied: python-dateutil>=2.1 in /usr/local/lib/python3.7/dist-packages (from matplotlib>=2.2->seaborn) (2.8.2)\n",
            "Requirement already satisfied: pyparsing!=2.0.4,!=2.1.2,!=2.1.6,>=2.0.1 in /usr/local/lib/python3.7/dist-packages (from matplotlib>=2.2->seaborn) (3.0.9)\n",
            "Requirement already satisfied: kiwisolver>=1.0.1 in /usr/local/lib/python3.7/dist-packages (from matplotlib>=2.2->seaborn) (1.4.3)\n",
            "Requirement already satisfied: typing-extensions in /usr/local/lib/python3.7/dist-packages (from kiwisolver>=1.0.1->matplotlib>=2.2->seaborn) (4.1.1)\n",
            "Requirement already satisfied: pytz>=2017.3 in /usr/local/lib/python3.7/dist-packages (from pandas>=0.23->seaborn) (2022.1)\n",
            "Requirement already satisfied: six>=1.5 in /usr/local/lib/python3.7/dist-packages (from python-dateutil>=2.1->matplotlib>=2.2->seaborn) (1.15.0)\n"
          ]
        }
      ],
      "source": [
        "!pip install seaborn"
      ]
    },
    {
      "cell_type": "code",
      "source": [
        "from google.colab import drive\n",
        "drive.mount('/content/drive')"
      ],
      "metadata": {
        "colab": {
          "base_uri": "https://localhost:8080/"
        },
        "id": "u9s4_3jyA1TJ",
        "outputId": "dd47698e-cc91-493c-a248-364a939bef8f"
      },
      "execution_count": 3,
      "outputs": [
        {
          "output_type": "stream",
          "name": "stdout",
          "text": [
            "Drive already mounted at /content/drive; to attempt to forcibly remount, call drive.mount(\"/content/drive\", force_remount=True).\n"
          ]
        }
      ]
    },
    {
      "cell_type": "code",
      "source": [
        ""
      ],
      "metadata": {
        "id": "-mxv6P1ZA1a1"
      },
      "execution_count": 3,
      "outputs": []
    },
    {
      "cell_type": "code",
      "source": [
        "%cp -av \"/content/drive/MyDrive/chemp-ufa/train_dataset_train.zip\" \"./\""
      ],
      "metadata": {
        "colab": {
          "base_uri": "https://localhost:8080/"
        },
        "id": "uXv5epx4A1dp",
        "outputId": "ec7257ef-bac8-4809-fb66-54c4a14a5652"
      },
      "execution_count": 4,
      "outputs": [
        {
          "output_type": "stream",
          "name": "stdout",
          "text": [
            "'/content/drive/MyDrive/chemp-ufa/train_dataset_train.zip' -> './train_dataset_train.zip'\n"
          ]
        }
      ]
    },
    {
      "cell_type": "code",
      "source": [
        ""
      ],
      "metadata": {
        "id": "n5trQ-jNCM8g"
      },
      "execution_count": 4,
      "outputs": []
    },
    {
      "cell_type": "code",
      "source": [
        ""
      ],
      "metadata": {
        "id": "PVHZpceFaTuw"
      },
      "execution_count": 4,
      "outputs": []
    },
    {
      "cell_type": "code",
      "source": [
        "!unzip ./train_dataset_train.zip"
      ],
      "metadata": {
        "colab": {
          "base_uri": "https://localhost:8080/"
        },
        "id": "bT9BicOUA1jE",
        "outputId": "7c00b026-d30d-47ee-c3b1-8e550f513f74"
      },
      "execution_count": 5,
      "outputs": [
        {
          "output_type": "stream",
          "name": "stdout",
          "text": [
            "Archive:  ./train_dataset_train.zip\n",
            "replace train.csv? [y]es, [n]o, [A]ll, [N]one, [r]ename: A\n",
            "  inflating: train.csv               \n",
            "  inflating: Уфа_baseline.ipynb   \n",
            "  inflating: train/220301070305_0e13309ae71ffc37ba629d19f46e0784.jpg  \n",
            "  inflating: train/220301070430_df1a737a5abe3707b424fbe9d1d92300.jpg  \n",
            "  inflating: train/220301070439_91576ea7fbb6567ff743e271662f9d06.jpg  \n",
            "  inflating: train/220301070525_8e9cf12c82b056104cfd8868f5958c3e.jpg  \n",
            "  inflating: train/220301070535_78bd475d54865dc7b1c356f3436def6e.jpg  \n",
            "  inflating: train/220301070614_4c1a339dd5056cd9747f3b4693f27b1b.jpg  \n",
            "  inflating: train/220301070625_1be30d27fcfc119ed8dee6037a9ab385.jpg  \n",
            "  inflating: train/220301070852_6431af3f1d3517498811dfa67f8a30be.jpg  \n",
            "  inflating: train/220301070914_9f40eac64f72c8d6ee0e7f4fa37dc4ba.jpg  \n",
            "  inflating: train/220301071234_2e7ed5acd0a8e8682b28f6618e7694c9.jpg  \n",
            "  inflating: train/220301071302_180763d363e88725cc11143fb6923c1c.jpg  \n",
            "  inflating: train/220301071500_fc5d48ef20ecb259c53d05b7f7888c62.jpg  \n",
            "  inflating: train/220301071650_7596075bf9eceda9ecab933d3d55a6dc.jpg  \n",
            "  inflating: train/220301072145_dd2c634ed264a650d6c31e0f781db56f.jpg  \n",
            "  inflating: train/220301072554_abcb830598585dfcdf17eec5b3514ab8.jpg  \n",
            "  inflating: train/220301072637_cf8e28c1edf379eb195ae78e914fb7fb.jpg  \n",
            "  inflating: train/220301072950_4ab3ae8c45749d88563463258f69c138.jpg  \n",
            "  inflating: train/220301072951_71efe2bf411ee0f5f8ea4cd1c838070e.jpg  \n",
            "  inflating: train/220301073159_36707f826e6e9129baa9fa771d0e992d.jpg  \n",
            "  inflating: train/220301073337_335dc629b22aaa294d4ede116387ef76.jpg  \n",
            "  inflating: train/220301073425_c621e96b9a0b3833700ace37a1b028e1.jpg  \n",
            "  inflating: train/220301073533_32d408a290f0aa2c7e5254e0d8306604.jpg  \n",
            "  inflating: train/220301074117_460c89feca92e0a5610cb601291ac568.jpg  \n",
            "  inflating: train/220301074517_dcd126405ef8b1da57128e9a92f9f5f9.jpg  \n",
            "  inflating: train/220301074528_175afb5218916e2bd183c69f20051f16.jpg  \n",
            "  inflating: train/220301075200_2ec6ca6e0498e6f8a2aa391026ea5b43.jpg  \n",
            "  inflating: train/220301075407_88a459f37ff82b96325f9ebfaab8b786.jpg  \n",
            "  inflating: train/220301075635_dba59da9dedd7fd5b5ba1524b4a6645d.jpg  \n",
            "  inflating: train/220301075719_63c240617bdf418c1e216bec6e8d665e.jpg  \n",
            "  inflating: train/220301075728_3cf608c5ac39dad3934e16420fddf235.jpg  \n",
            "  inflating: train/220301080121_75c740f58a2c4895dc4f55467b30f89e.jpg  \n",
            "  inflating: train/220301080121_8518cf014a6b58187694bef49cf44db3.jpg  \n",
            "  inflating: train/220301080142_d20b957a2f1cce040587261ecbbecef6.jpg  \n",
            "  inflating: train/220301080157_7a4a31c7dd0c1deffcd1208313d70e2c.jpg  \n",
            "  inflating: train/220301080719_23da424105bd7cf90c2dd9ba414d3782.jpg  \n",
            "  inflating: train/220301080832_91e3df6bc15efc683101962cb8e78863.jpg  \n",
            "  inflating: train/220301083851_8102ae693c6cca1094e42502356326c3.jpg  \n",
            "  inflating: train/220301083949_a0ee093ec8a9888850bb50c4c0cb4070.jpg  \n",
            "  inflating: train/220301085028_5a2a5a296be2ec9b1dfc93845f9cb524.jpg  \n",
            "  inflating: train/220301085834_9a2e2e1d6cced4db645020f5623a8e96.jpg  \n",
            "  inflating: train/220301090918_7e51bc3af9c034f074df5f38261880cf.jpg  \n",
            "  inflating: train/220301091353_27cca737642bc683700aac1c0d1257fb.jpg  \n",
            "  inflating: train/220301091412_f9dca9463781dc71a2b22e113fdd5756.jpg  \n",
            "  inflating: train/220301091651_dbdbc38c5f73b885283bc847c01ccfb3.jpg  \n",
            "  inflating: train/220301091714_6a066f59c206a24a740589ab1dda00a9.jpg  \n",
            "  inflating: train/220301092426_78c2ecbb30fa2feb93362ac7f748597a.jpg  \n",
            "  inflating: train/220301092806_bd581c07279d41f092101ca789206a58.jpg  \n",
            "  inflating: train/220301093324_4c37813e84e36e20296cf3b2fc49943f.jpg  \n",
            "  inflating: train/220301095016_ce36ac6acadfdc5dc61a31edce417318.jpg  \n",
            "  inflating: train/220301095431_57a5dbcf19140c2a05540bd7d5441a5d.jpg  \n",
            "  inflating: train/220301100357_42f47987394f182d4f160758ce1bcdd6.jpg  \n",
            "  inflating: train/220301100443_2ea92ac127b0d336132662572e5d7b04.jpg  \n",
            "  inflating: train/220301100443_b88feb2e686fe305472077c5828eb2e9.jpg  \n",
            "  inflating: train/220301100621_9152be9eb025513d26716b8a5fea764d.jpg  \n",
            "  inflating: train/220301100741_7853fc5e57e364ecd855f8d2ab799d56.jpg  \n",
            "  inflating: train/220301100835_457c4380f35256fd8d2cb68bbf3b324f.jpg  \n",
            "  inflating: train/220301100836_55663109743a71f9864520496eeb7dfa.jpg  \n",
            "  inflating: train/220301100902_158cb93c23940f7f9c5a17fb3ac1cb7a.jpg  \n",
            "  inflating: train/220301100903_aada7d88d02a5c403d917273ec89beae.jpg  \n",
            "  inflating: train/220301101233_7a7795b15804a03250c05ea65579a9be.jpg  \n",
            "  inflating: train/220301101304_b6de13573c69c85eaef13c6b2046265d.jpg  \n",
            "  inflating: train/220301101304_c031ec7ca051323e8a954eae2c9215fd.jpg  \n",
            "  inflating: train/220301101827_3144d39da7229a784c210655b7bebc8a.jpg  \n",
            "  inflating: train/220301101827_c275281dda29e88685109177a7c0264b.jpg  \n",
            "  inflating: train/220301102007_fc56cd0869becdcf30b816266398c32a.jpg  \n",
            "  inflating: train/220301102232_7dc31ab9e4b2226d5204c54549b8fc23.jpg  \n",
            "  inflating: train/220301102352_bbf399377844fc009b5f92a145fbebc6.jpg  \n",
            "  inflating: train/220301102426_67516c86b2b1d9ef1b49ecda5eaf99b3.jpg  \n",
            "  inflating: train/220301102658_b19bb6925dedcc09b3579fa486d2f3b9.jpg  \n",
            "  inflating: train/220301102710_b81ab58af6f68c176afa567cc3cafea3.jpg  \n",
            "  inflating: train/220301102818_d9d7c18e716f1d311131944ce652d705.jpg  \n",
            "  inflating: train/220301103019_28aad0888b67a9e6c4ebb2e6bc99ce51.jpg  \n",
            "  inflating: train/220301103036_fd6b8a9c1fa143014477d0b89f7dc1fb.jpg  \n",
            "  inflating: train/220301103147_2ae9189e8c4ff4a73022476f9960033f.jpg  \n",
            "  inflating: train/220301103222_dcef063d114e2b610b669a4b2ed40964.jpg  \n",
            "  inflating: train/220301103238_1123ad7f7cb149c21cb0bd415bfab69a.jpg  \n",
            "  inflating: train/220301103313_a846a8aa06fa32262bd4b5960866099d.jpg  \n",
            "  inflating: train/220301103455_5c89248e8942c3666fcce4d4724abb12.jpg  \n",
            "  inflating: train/220301103603_bb1f00d676b36db22909f0234061497a.jpg  \n",
            "  inflating: train/220301111107_b9fe49b758de6c62149ddd6ffa3d47e5.jpg  \n",
            "  inflating: train/220301111545_6f8cc7f8230256006de954c8c8266328.jpg  \n",
            "  inflating: train/220301111925_c9deb5664dd793d45e24a32c2f9ed271.jpg  \n",
            "  inflating: train/220301112317_0904ea2261102892299ea6b8d7b6ed42.jpg  \n",
            "  inflating: train/220301112326_8c996183e0119e095b2b8e6a5ac1be5a.jpg  \n",
            "  inflating: train/220301113122_3139fdff9f20301b5892b19fdaa256e5.jpg  \n",
            "  inflating: train/220301113225_f17ee79e69f16fdecae6a56a11c5be43.jpg  \n",
            "  inflating: train/220301113341_5e0d4395c4ea0ca4f0f11b9408008fd9.jpg  \n",
            "  inflating: train/220301113827_b9b386d18f53c6efc51e22c8eb628da3.jpg  \n",
            "  inflating: train/220301113840_e142b547b3dfe73de06eb59c7ec1bfcd.jpg  \n",
            "  inflating: train/220301114011_5697a22088291d291818b25b52cae966.jpg  \n",
            "  inflating: train/220301114316_8b0381c1c537e9288243013b26a4b079.jpg  \n",
            "  inflating: train/220301114410_7cab4edf631d112b9ad82bb4f3f95557.jpg  \n",
            "  inflating: train/220301114829_3d2d8e7089a4b1024d2ee733dd5bc2c4.jpg  \n",
            "  inflating: train/220301115722_a242748f145e7c60c86e7626f5989315.jpg  \n",
            "  inflating: train/220301121206_cbcb3205709fc5c8ed7259d3b404ef61.jpg  \n",
            "  inflating: train/220301121419_342fbbe9912e6a34fdd614b056100a5f.jpg  \n",
            "  inflating: train/220301123646_56e2844ea32dc657c742a803a8b3035e.jpg  \n",
            "  inflating: train/220301123736_957368961b8d782e82953dcc901e5f74.jpg  \n",
            "  inflating: train/220301123737_990522befa79e9c7b3485a17ab4b36ba.jpg  \n",
            "  inflating: train/220301123743_a94b0d6cd79c2b743bb65a8a91b3bae1.jpg  \n",
            "  inflating: train/220301123744_60e1884bc58a9770d460104ae62222e8.jpg  \n",
            "  inflating: train/220301123745_17b5de65005346707144a5c30b84d8d9.jpg  \n",
            "  inflating: train/220301123745_8189d5d0bcb06fe5b2181570d4682280.jpg  \n",
            "  inflating: train/220301123746_b93268bbf2eb5b7b5957b2a9fb13bb74.jpg  \n",
            "  inflating: train/220301123748_f405486fadf54dad3b70b0deac2a21f6.jpg  \n",
            "  inflating: train/220301123756_1ec564a82d02b1c9b5bcb34bd8259a3f.jpg  \n",
            "  inflating: train/220301123804_c6419e64aef122c0dcb1a3b5a270e142.jpg  \n",
            "  inflating: train/220301123805_367e1cf0a14a04abd88b5d8218142d3a.jpg  \n",
            "  inflating: train/220301123805_7aa0f64238f298a248e37f7e9cf8418b.jpg  \n",
            "  inflating: train/220301123807_b46be9eb3fdaabc8148695e72db48cc8.jpg  \n",
            "  inflating: train/220301123810_fd6abddac4ab2558429bd89abae928fd.jpg  \n",
            "  inflating: train/220301123812_305621c26adbc65e1dd3ba0f9a694629.jpg  \n",
            "  inflating: train/220301123816_072fb16d26dab2ae7645a272a63190b5.jpg  \n",
            "  inflating: train/220301123822_7b038c7f6dbd6d19d5ef54c6ce42734c.jpg  \n",
            "  inflating: train/220301123824_4459188e10d2611427666644abebf8b9.jpg  \n",
            "  inflating: train/220301123850_dbc1de067c9a400a492ca1cf677f1692.jpg  \n",
            "  inflating: train/220301123912_e1c912660f0dc5ef905e56cea5fb6eee.jpg  \n",
            "  inflating: train/220301123921_45af644fb15bd4708050043ae8f3975b.jpg  \n",
            "  inflating: train/220301123926_8e5707ff5fed53658eb7a4d6952e2cc3.jpg  \n",
            "  inflating: train/220301123950_119b45568979211d3d7c0f4e3c2f3a06.jpg  \n",
            "  inflating: train/220301124013_f94f9a95b5221d8be498c1ed3e8fb949.jpg  \n",
            "  inflating: train/220301124014_b4e8a97b00babdb497a3edece8aa462d.jpg  \n",
            "  inflating: train/220301124015_b6158c61a8adc0666022adaf4fff3580.jpg  \n",
            "  inflating: train/220301124018_8a0a1b8a195feb8da8ed1a02324ea882.jpg  \n",
            "  inflating: train/220301124019_b6899a82ecd89292548cc11e712f255a.jpg  \n",
            "  inflating: train/220301124020_d3a2090732cf5eaecbfc255afc9bf54b.jpg  \n",
            "  inflating: train/220301124033_85b4b57230467054a8dff7e48cbe6ba6.jpg  \n",
            "  inflating: train/220301124039_5402d3a2062fda5482c94a35c140462c.jpg  \n",
            "  inflating: train/220301124041_a77af5bc2de7c694a256450cb01832de.jpg  \n",
            "  inflating: train/220301124047_771a9bc044f44e1ca74b6bc76c72ccd9.jpg  \n",
            "  inflating: train/220301124100_d3815192b7a85e54f935936bbe09496f.jpg  \n",
            "  inflating: train/220301124101_c919e95934b3df93a6149764a498b11f.jpg  \n",
            "  inflating: train/220301124110_69dcd5eb441c4df666dfedde7ac47fc6.jpg  \n",
            "  inflating: train/220301124113_a102c632672df1b5d1e0b7a0fe7360d2.jpg  \n",
            "  inflating: train/220301124127_d28e5d63f63b1306b75db49eecbcd3be.jpg  \n",
            "  inflating: train/220301124129_3edd50f9408395f8249c11426ce13f79.jpg  \n",
            "  inflating: train/220301124130_908368e2b0a4888e1b964aecd93c017e.jpg  \n",
            "  inflating: train/220301124134_d861397f467d412171b4c10a2ff4ce99.jpg  \n",
            "  inflating: train/220301124139_132fa924b12f5ad90314d82b0c31cd9e.jpg  \n",
            "  inflating: train/220301124148_0094dca1aacd5d3e907781d360da090b.jpg  \n",
            "  inflating: train/220301124151_27b4035d8a7c5325cdf76152898d705c.jpg  \n",
            "  inflating: train/220301124152_f08dace3219715c4652d3ac8cf0fa659.jpg  \n",
            "  inflating: train/220301124154_01c9f6f67f4d3f6c15fcf7d8efeebd88.jpg  \n",
            "  inflating: train/220301124158_31fb80f01d4533c2202fd99ed7dab188.jpg  \n",
            "  inflating: train/220301124201_cc977ce8de2658f9eb978a135343b58d.jpg  \n",
            "  inflating: train/220301124526_ba6ffcfd54b8a2e2d7120082abf89be8.jpg  \n",
            "  inflating: train/220301125743_78ce11d9bb824394671dd2fa8e2559c1.jpg  \n",
            "  inflating: train/220301130907_8f18c6d5426f9ac39496dd7830e3ad03.jpg  \n",
            "  inflating: train/220301131510_b2b71233750b482bbc65b4026808d4cf.jpg  \n",
            "  inflating: train/220301134754_106c9c12bdeb7b18d15e31c447df381e.jpg  \n",
            "  inflating: train/220301143325_f032041d5efbe5e23f4214abb9772bcb.jpg  \n",
            "  inflating: train/220301143940_60515228b38d951afefedc736d6e2529.jpg  \n",
            "  inflating: train/220301145055_441252698c9ec440a1cffb53653cd90c.jpg  \n",
            "  inflating: train/220301150603_c16cfd04d0e3eed75e084d3691baef6e.jpg  \n",
            "  inflating: train/220301150606_a360a2f28eacd5648732c9a28c1e4c0a.jpg  \n",
            "  inflating: train/220301152600_cf909029f294f8aa507c4c277bcbba48.jpg  \n",
            "  inflating: train/220301163723_7926bd07890869b716537a3ee3952a4e.jpg  \n",
            "  inflating: train/220301164729_5fb566b5b7054040248e9023973134bd.jpg  \n",
            "  inflating: train/220301165328_4774c4240701f75c2445f549f3b4977e.jpg  \n",
            "  inflating: train/220302010740_975777b3f6ad92a8b7636bb87a4eca46.jpg  \n",
            "  inflating: train/220302013218_0dc7f7864ff931e2f0e2673f89cfb47c.jpg  \n",
            "  inflating: train/220302013902_0834fd52f1836758f90d662007593daf.jpg  \n",
            "  inflating: train/220302020709_ef606fc40122782c608aa4b0dd0cb95b.jpg  \n",
            "  inflating: train/220302022806_4741846d3c2efc72f166a31c8987dfae.jpg  \n",
            "  inflating: train/220302022853_468a042dfa53afd5798097d87abcfa57.jpg  \n",
            "  inflating: train/220302023121_fac4a7e63862e9cfb396731574b839d3.jpg  \n",
            "  inflating: train/220302023404_9896e855e8ee99a7827275728b455683.jpg  \n",
            "  inflating: train/220302024156_b216f0ce4b500dae799b83f72a432877.jpg  \n",
            "  inflating: train/220302025151_b91bbb971a06495030a1de2af58304dc.jpg  \n",
            "  inflating: train/220302031448_5e415dbe5644f2661ee4106538efde1d.jpg  \n",
            "  inflating: train/220302031542_7fbb27f042ed64b27ea21fdce3b9aef8.jpg  \n",
            "  inflating: train/220302031627_7a9c195bb866d35d54894cf4f84dcb5d.jpg  \n",
            "  inflating: train/220302031830_dc99dabe088c8bf4df30ef0368df44ca.jpg  \n",
            "  inflating: train/220302031853_72ec17c7c830b8c3039fedebdf0808c4.jpg  \n",
            "  inflating: train/220302032455_228410aca35ecad46255800f58d82e6e.jpg  \n",
            "  inflating: train/220302034044_c43d5bfc7a891f7f57819b7093b967bb.jpg  \n",
            "  inflating: train/220302034204_141247f7173a1fe2c3bdba15f4f496fd.jpg  \n",
            "  inflating: train/220302040239_ea06c140c53e6f39b53b0a7eec3031d2.jpg  \n",
            "  inflating: train/220302041014_614e14402724af1a953df888cba05fa2.jpg  \n",
            "  inflating: train/220302041201_c866eb80b38cc2655f441c9d600a027c.jpg  \n",
            "  inflating: train/220302041445_722f0310df43a9c18ed0f6d66cd8640a.jpg  \n",
            "  inflating: train/220302042736_35fe2711a25bd08687bac429b5bd1b34.jpg  \n",
            "  inflating: train/220302042841_7e0dd6ce81eec516f259dc7cba34b3e7.jpg  \n",
            "  inflating: train/220302043016_621676675691158761d81003cd0b350a.jpg  \n",
            "  inflating: train/220302044658_3ed19388a564cc742a3a0c167a21ae74.jpg  \n",
            "  inflating: train/220302044930_ef97881d9885a79d4c3686d348858ba6.jpg  \n",
            "  inflating: train/220302045207_6b03630ebd4023f5d78e00f3d3592fb1.jpg  \n",
            "  inflating: train/220302045208_41b4347af7f0a5c00119b1178027deec.jpg  \n",
            "  inflating: train/220302045606_1c2a95bbb0c34b7579795dfc9998f8b6.jpg  \n",
            "  inflating: train/220302050921_0735b1f5712a1478e3e9f6b880ec188b.jpg  \n",
            "  inflating: train/220302054911_22534e29cb9b7807c7281e5eb92859ed.jpg  \n",
            "  inflating: train/220302063237_e0ad7dd1cab64079b9892000e1806a48.jpg  \n",
            "  inflating: train/220302071338_950c5fb8c8477fe6c04cebca82b8c736.jpg  \n",
            "  inflating: train/220302073701_061db9d97be8defcd8ece2fe73917837.jpg  \n",
            "  inflating: train/220302073821_46f6fc2c0218088bb9d156817f89a8de.jpg  \n",
            "  inflating: train/220302073836_c5e842bce07bf3b67aca5a58798c90a3.jpg  \n",
            "  inflating: train/220302074347_77d3d68df8f5b1b0ec1d9e89901da0a2.jpg  \n",
            "  inflating: train/220302074548_49664270dc8688c80e587536339825d0.jpg  \n",
            "  inflating: train/220302082510_beb9ffbe4061c8e85994709ef32dec3d.jpg  \n",
            "  inflating: train/220302084112_c9c6ee6d5e18f2d566213d872cde45c5.jpg  \n",
            "  inflating: train/220302084755_995aca033842406bdbe269cb2412481e.jpg  \n",
            "  inflating: train/220302091211_8aa82d7333d3692474e39cbd656de179.jpg  \n",
            "  inflating: train/220302091248_efcf880667f0ee8df27af95806f4adf8.jpg  \n",
            "  inflating: train/220302094433_d017bd9c923c29affda6ed14e38abd25.jpg  \n",
            "  inflating: train/220302112313_89ebcb299a5a304b7b4a754eb39f2d79.jpg  \n",
            "  inflating: train/220302112529_6247d7023772bf4c359fe118da95189e.jpg  \n",
            "  inflating: train/220302163654_7912adc5d67ca8497685c3a6565d82ca.jpg  \n",
            "  inflating: train/220303025245_abc7f6dcb7225096e7ef89a16b7cb54a.jpg  \n",
            "  inflating: train/220303025439_1dccb531b593fd997e99503e8c85d1df.jpg  \n",
            "  inflating: train/220303030716_f9672cc6579535e6e8abf45838101168.jpg  \n",
            "  inflating: train/220303030945_9c87cea6d7fa3714ae76f0b9ae8db0cf.jpg  \n",
            "  inflating: train/220303032230_239bb091d1c62aea9e08005409e34f22.jpg  \n",
            "  inflating: train/220303032559_56e4d5fb107aa3b5c03f1132b4e75f7c.jpg  \n",
            "  inflating: train/220303032714_d7bf6997f2e4d316b0721819251a59ee.jpg  \n",
            "  inflating: train/220303033427_306910ecd4ef3089d3b453fee86dc7d3.jpg  \n",
            "  inflating: train/220303034109_ede52a200a1b68564a980b39a4e47d0b.jpg  \n",
            "  inflating: train/220303034248_ec92cc72af056f05cd332b85df1f63c1.jpg  \n",
            "  inflating: train/220303040236_ae55c3025f83abe4f97cc7b4f15b786f.jpg  \n",
            "  inflating: train/220303040640_592cfd70edfeea07543018c23db66e29.jpg  \n",
            "  inflating: train/220303041122_e5173702146679818a3e3b290d60b11c.jpg  \n",
            "  inflating: train/220303041736_72cce2094bdb7373ced90aa9c322a4cf.jpg  \n",
            "  inflating: train/220303045146_b27f599e5efb9d30b6c9bdcd0a8fae41.jpg  \n",
            "  inflating: train/220303045325_a68c513a61bcd951528de62cfb85938b.jpg  \n",
            "  inflating: train/220303045515_cf54784bd1e29b77085a4a53a1d476e1.jpg  \n",
            "  inflating: train/220303045713_76a3387f3f121d1162b97e1d187d6f07.jpg  \n",
            "  inflating: train/220303045851_6b1d383dbc6e35c96040a67c241316b2.jpg  \n",
            "  inflating: train/220303054740_9daab175576b21466a151bc4b9a0536f.jpg  \n",
            "  inflating: train/220303063027_7c5eed7e6b027beff7d4accc945f62b9.jpg  \n",
            "  inflating: train/220303064730_cdd62f64d600591a4dc055703a76c3f9.jpg  \n",
            "  inflating: train/220303083251_9d40ea68b764c82e62fedf62d0a24884.jpg  \n",
            "  inflating: train/220303090424_a1724eefa610eaeb3fbedd0a0d6c0ae0.jpg  \n",
            "  inflating: train/220303094255_e7b5e5e9800da89a9e1ae89f484960eb.jpg  \n",
            "  inflating: train/220303095852_78078197600f47959f18cd5251d8a644.jpg  \n",
            "  inflating: train/220303100248_43538bd76cef189b146930c939c79643.jpg  \n",
            "  inflating: train/220303101936_18cc0bc06c179a107c8715675b4a052d.jpg  \n",
            "  inflating: train/220303113233_24ede0023ea90416178fa027a8c77edd.jpg  \n",
            "  inflating: train/220304014444_93d324658e78782c37f3bce0c65e03b2.jpg  \n",
            "  inflating: train/220304031122_f4bc294df4f178c4e60b16b5f323c88c.jpg  \n",
            "  inflating: train/220304034602_98a7e8eb54aaf72bc1d10af8a1032697.jpg  \n",
            "  inflating: train/220304042345_768488e4c7bf1e5e8414fbe0c2831bc4.jpg  \n",
            "  inflating: train/220304052500_9a3022dfe6dfa74d4a6537792e436c53.jpg  \n",
            "  inflating: train/220304060156_51b2fe94598d626677f65085635568fa.jpg  \n",
            "  inflating: train/220304062434_2c32bbe2535c58a11d2d4c3b51742bda.jpg  \n",
            "  inflating: train/220304063326_d00d7a35c1490bf3ce4daeb58f8eaf7e.jpg  \n",
            "  inflating: train/220304063620_a31dd1065738d1ee920b3a4469035b25.jpg  \n",
            "  inflating: train/220304064115_47a59b7d255c7a37134e2c222d9aa1b7.jpg  \n",
            "  inflating: train/220305051809_33e65963c271cdbf941792f1bbd921e1.jpg  \n",
            "  inflating: train/220305051829_70bdbfc65ba99ca4c5a58975ae660ccb.jpg  \n",
            "  inflating: train/220305092719_e725fbdb911003165408e72f43a09ccd.jpg  \n",
            "  inflating: train/220305100150_8987ce79e4d82d61f341f9d0a5af4a47.jpg  \n",
            "  inflating: train/220305120503_dfc2fb19dfc09c4258da08637565da99.jpg  \n",
            "  inflating: train/220305121502_b1a51115762118b54a8d93db3adbfe73.jpg  \n",
            "  inflating: train/220305122229_30a905be3963f7aeeb1c3ee1a48229ee.jpg  \n",
            "  inflating: train/220306024734_5b17738dc9d89b6f58185bd4f9788b0f.jpg  \n",
            "  inflating: train/220306042951_0ce6a31a079438681bf05be84c7242cb.jpg  \n",
            "  inflating: train/220306050601_f7b639f11532d71e4aa83daa5338944f.jpg  \n",
            "  inflating: train/220306053547_f66355b21b2058f41f726f24b6072298.jpg  \n",
            "  inflating: train/220306060813_060c72d7ca75cc7c8e631f98c3ae6575.jpg  \n",
            "  inflating: train/220306063056_28f4148f4525050e92a5eec4c6b8c233.jpg  \n",
            "  inflating: train/220306064951_978c78867c48ef63f7166fcd248ef890.jpg  \n",
            "  inflating: train/220306070534_077e34245af0cca2f8697e1a53f72983.jpg  \n",
            "  inflating: train/220306071047_178fd94792716de9ba300502c2f51b14.jpg  \n",
            "  inflating: train/220306073024_e19fd6a2c1dab88da7923a0a3689d38d.jpg  \n",
            "  inflating: train/220306073131_ebb7640ab5613b71910788b50166c5d3.jpg  \n",
            "  inflating: train/220306084645_f91c0e537dac19855125e9d43a1907fa.jpg  \n",
            "  inflating: train/220306234148_9d849148b68792fe46a1e25e13ab2cb2.jpg  \n",
            "  inflating: train/220306234838_a0a7ef148e9ea3d65bea1581181b0101.jpg  \n",
            "  inflating: train/220306235831_1212ae4e218998e686376dd0181a8973.jpg  \n",
            "  inflating: train/220307002559_b5ba1c0837d836538f6b784826403491.jpg  \n",
            "  inflating: train/220307002624_54471f149017446c7580c40f9c4e4847.jpg  \n",
            "  inflating: train/220307004700_250ff3f9bf70f46bbb395353427a86e5.jpg  \n",
            "  inflating: train/220307005026_ec15101b848b9e8eb703e4e7cdad70c7.jpg  \n",
            "  inflating: train/220307005043_fc3c1da52c6771a5f85bcb0e3475fbf7.jpg  \n",
            "  inflating: train/220307005657_d3d5fb4bad55949b0776b1d6d545ed5f.jpg  \n",
            "  inflating: train/220307010023_a0f92d6662679142c6edbe31e373862b.jpg  \n",
            "  inflating: train/220307010339_058c596a07a08781a706d54fd4856ed6.jpg  \n",
            "  inflating: train/220307011013_2cf5d2c7334a82feac79dd3560fee8d5.jpg  \n",
            "  inflating: train/220307011050_5e20cf51feb01506981f8c37bd3da5b6.jpg  \n",
            "  inflating: train/220307011051_1c9b57d611d2a8a73e8d329cc4f9f18e.jpg  \n",
            "  inflating: train/220307011134_be281b9a80507db668d5a6a8f324cef0.jpg  \n",
            "  inflating: train/220307011818_78c0320679344c3e7c5a73a01ffdfd79.jpg  \n",
            "  inflating: train/220307012052_d545283074d2716372ddf3826172819b.jpg  \n",
            "  inflating: train/220307012457_e9177f311a8d5821ea99bc2368f0b50f.jpg  \n",
            "  inflating: train/220307012615_70742f9c5e2273849e42cc983fee8a5d.jpg  \n",
            "  inflating: train/220307012704_cde9dc88267d07f45fe04267d3ffae8d.jpg  \n",
            "  inflating: train/220307012717_4d221db014939a79f76539816d578863.jpg  \n",
            "  inflating: train/220307012730_7b973f8f2a81eac5c13370e1592cb58f.jpg  \n",
            "  inflating: train/220307012835_983e193301d76a2d1498a5f36beba908.jpg  \n",
            "  inflating: train/220307012903_c2e25c71975244587fb02517aec28abb.jpg  \n",
            "  inflating: train/220307013123_9d281d2e2e2c64a2077a372d69a37da0.jpg  \n",
            "  inflating: train/220307013457_e82ef3f21f4f5ae8c3e58f7b1f68c379.jpg  \n",
            "  inflating: train/220307013523_de874e46a1e3c812921ae4d4bc04a511.jpg  \n",
            "  inflating: train/220307013601_6643532d77f0f624e1a2db7d462a34a2.jpg  \n",
            "  inflating: train/220307013626_e2d6292f407db8a1aa6f425f854e3f24.jpg  \n",
            "  inflating: train/220307013844_c7c525ac887a898f4aa7acd155a5e4d4.jpg  \n",
            "  inflating: train/220307013946_400cdaf7917e3a109bd4bff12a0322e4.jpg  \n",
            "  inflating: train/220307014210_f4a2f4bb546c9070895daf93a6f7fe17.jpg  \n",
            "  inflating: train/220307014229_451c5e96d4ab7bc1387035fd1ae53a9a.jpg  \n",
            "  inflating: train/220307014239_90da35b651db897beba607413bef92e2.jpg  \n",
            "  inflating: train/220307014649_f543577309bb750bb3dca4b02ecdd38f.jpg  \n",
            "  inflating: train/220307014836_5ee7bb8efe07ed736bf4941165faeb9e.jpg  \n",
            "  inflating: train/220307015045_654fa67018eec5f0dd86230575604ad6.jpg  \n",
            "  inflating: train/220307015200_18016176b4f35609a6a11d35b7f5cf00.jpg  \n",
            "  inflating: train/220307015201_42a58865e57fd9fd3db5baa302ac22a9.jpg  \n",
            "  inflating: train/220307015251_041cd1f88804a855477b648ba9c3528a.jpg  \n",
            "  inflating: train/220307015335_3b8100affd858742ab327ee7f4fcda65.jpg  \n",
            "  inflating: train/220307015337_4ea1878b4cc31cbe3365b19ffb753d13.jpg  \n",
            "  inflating: train/220307015352_40b4c345237451f6427dea2c7932dd77.jpg  \n",
            "  inflating: train/220307015436_7bfa49679ec067838e4035679dce331f.jpg  \n",
            "  inflating: train/220307015440_9923136461e15f690ba590748a96c810.jpg  \n",
            "  inflating: train/220307015539_52701007db1855ed46ec24cb523e2ca1.jpg  \n",
            "  inflating: train/220307015540_db8255268c987e6441db947656b88dd9.jpg  \n",
            "  inflating: train/220307015600_22767d926ef4b95ffe7e98924f83d10d.jpg  \n",
            "  inflating: train/220307015602_05aea5c42c36d7b4e19fa6ace62c748d.jpg  \n",
            "  inflating: train/220307015603_78a724494cfe5cc1fe490efc2a6e18d3.jpg  \n",
            "  inflating: train/220307015617_4156cd769f8558214bd09d7c50833093.jpg  \n",
            "  inflating: train/220307015618_80925eb956960f70806fee6b2713f321.jpg  \n",
            "  inflating: train/220307015644_4615fa014bc1bbf4963ebe39820eae81.jpg  \n",
            "  inflating: train/220307015726_185c13d7b9f767a72d3c63803fc6f401.jpg  \n",
            "  inflating: train/220307015753_e27b8edc64d1de00f45ccac2c38225a6.jpg  \n",
            "  inflating: train/220307015808_271805927fbbad7336e7712f98dea7c6.jpg  \n",
            "  inflating: train/220307015836_7ea0fee4c462e57b6228fa85b63cda06.jpg  \n",
            "  inflating: train/220307015913_04c60813ee9e71544581a4f326444feb.jpg  \n",
            "  inflating: train/220307020218_2cbc7ce3dc62cc99c1460abfdaead03b.jpg  \n",
            "  inflating: train/220307020331_8c06c10523130327c6126b62f73a591c.jpg  \n",
            "  inflating: train/220307020344_62afd5ab57ce34c70adc190e1fa86be3.jpg  \n",
            "  inflating: train/220307020400_6db54088f39f8a0f953ba360fffcf3b8.jpg  \n",
            "  inflating: train/220307020408_c655c759534c2468d5069648f041b705.jpg  \n",
            "  inflating: train/220307020417_5382c406b9a213867be6b267fb745b8b.jpg  \n",
            "  inflating: train/220307020511_b0b303fe413994fa50b5608f83d6fe1b.jpg  \n",
            "  inflating: train/220307020513_2b9f6c3b504dac9423351b2e09998954.jpg  \n",
            "  inflating: train/220307020514_658f564e49e9e8dd7dda87a4d6b2951e.jpg  \n",
            "  inflating: train/220307020602_236b121e333ab271824cbbfabc3e9253.jpg  \n",
            "  inflating: train/220307020847_99ecb800c67bc354fd30f29a6038ea83.jpg  \n",
            "  inflating: train/220307020903_e6cfdf3e17eb3ba7e4934ea644aba4f2.jpg  \n",
            "  inflating: train/220307020927_bf39231de1485ab90c2c9fcb4fb065ec.jpg  \n",
            "  inflating: train/220307020954_cb5dfc90fbd11fa7a37e86d524d3766c.jpg  \n",
            "  inflating: train/220307021011_a30e4b9d0620057831517b148d452404.jpg  \n",
            "  inflating: train/220307021012_1ba5e28c9b6cd1318f25f7ba61de3385.jpg  \n",
            "  inflating: train/220307021052_400e28ee3ba6832b9ec43dcc279a3947.jpg  \n",
            "  inflating: train/220307021116_1aa053719182046b6f56e7121b711d4a.jpg  \n",
            "  inflating: train/220307021134_030199bfd91b3366d3cbc12fe975c517.jpg  \n",
            "  inflating: train/220307021142_7dded16a8f5f67edfe22eda804cf9ce1.jpg  \n",
            "  inflating: train/220307021143_bef97ef99854fbf3e6b77241719b154b.jpg  \n",
            "  inflating: train/220307021153_7377b7a46d03d4a1ccc04ea66ac77150.jpg  \n",
            "  inflating: train/220307021213_37e5362613ae334637cad10570c672bb.jpg  \n",
            "  inflating: train/220307021214_2c2030f30b47c7082107b14047981b22.jpg  \n",
            "  inflating: train/220307021227_167b5a4f8ed5d542c9946c986b849329.jpg  \n",
            "  inflating: train/220307021227_ee2bb86736bc80c6a7cbbb97edd7e39d.jpg  \n",
            "  inflating: train/220307021230_42dc6ce100032dffdb92760afdc0397a.jpg  \n",
            "  inflating: train/220307021231_614d814fa601085fe4e952dafbb08ae6.jpg  \n",
            "  inflating: train/220307021239_0e5959aa5597651240de7dfe12788449.jpg  \n",
            "  inflating: train/220307021242_af922f62222d51694d13ff60ab7b9f48.jpg  \n",
            "  inflating: train/220307021243_234d44fc9637965cb40a6f3b3950a8db.jpg  \n",
            "  inflating: train/220307021243_e42b1356ef7f42f204ec41e1b5a918d0.jpg  \n",
            "  inflating: train/220307021247_a1f0b8fd301c35fab0c165fc2c62482f.jpg  \n",
            "  inflating: train/220307021318_4b7a877f17150215a99bbeab9ae11832.jpg  \n",
            "  inflating: train/220307021329_9054932426c521deb4c5fcd350cf76ab.jpg  \n",
            "  inflating: train/220307021400_6762d46d6e4b4b19645a3d55d29128a6.jpg  \n",
            "  inflating: train/220307021411_79d767ce528d22b1a5c883473c9a078f.jpg  \n",
            "  inflating: train/220307021453_ef09cef95b3f46fc5c00ef04ebd0e97a.jpg  \n",
            "  inflating: train/220307021502_f85ae194972734b2278a4cd7670aa6b7.jpg  \n",
            "  inflating: train/220307021521_569bf647b6ebaad975538aed46646f89.jpg  \n",
            "  inflating: train/220307021522_0c2377c20fed4536d0c0abb2f5412827.jpg  \n",
            "  inflating: train/220307021735_5fcab4ac9a69b7e9afacc07e93de6777.jpg  \n",
            "  inflating: train/220307021756_8353d76d90ba49c43dcd6e2332fed879.jpg  \n",
            "  inflating: train/220307021858_848dc5b03f2c807fd0c9662c79bee242.jpg  \n",
            "  inflating: train/220307022019_4dd6ae5e157220736d0d5dadd32e0a21.jpg  \n",
            "  inflating: train/220307022034_34bc09c27c2c502944c5ad78e34c01bb.jpg  \n",
            "  inflating: train/220307022425_9667d088979f0b377d8a2cebf551997a.jpg  \n",
            "  inflating: train/220307022425_adbbc82f2113157b655744a21be8849b.jpg  \n",
            "  inflating: train/220307022520_eb408d19d1652b44df6a2d6b587f2511.jpg  \n",
            "  inflating: train/220307022703_ffc8c88d3b47b3addc5ea5f6b72dbea2.jpg  \n",
            "  inflating: train/220307022705_8fca9cdb163d407cdb8491a7e4decd91.jpg  \n",
            "  inflating: train/220307022707_1822f23d07be12b501756b190d415d29.jpg  \n",
            "  inflating: train/220307022721_c67544b92d7d42e8b70b4bddf355416a.jpg  \n",
            "  inflating: train/220307022803_0394e4e418a2d3ec1c09ff7f622cd227.jpg  \n",
            "  inflating: train/220307023010_edc83e6803b5f97b78bb70a4ca3f00e7.jpg  \n",
            "  inflating: train/220307023015_d7805fde0aeda728f0136ec7482cc43f.jpg  \n",
            "  inflating: train/220307023034_9d7ebe271649a6ebbc3494c026126869.jpg  \n",
            "  inflating: train/220307023059_2d7e346818b0a70de709a07e1dd8a6d0.jpg  \n",
            "  inflating: train/220307023100_a0792b41b59deeaa4825291e11210275.jpg  \n",
            "  inflating: train/220307023255_998d453b3382de234da4e1239b8e36e8.jpg  \n",
            "  inflating: train/220307023310_f1b93563f98520f887d83ce036820431.jpg  \n",
            "  inflating: train/220307023333_174d9ee28f251f502bd745a3a2acaf06.jpg  \n",
            "  inflating: train/220307023443_9d9db6e5ae45f66adc911ca994ff1265.jpg  \n",
            "  inflating: train/220307023446_a0f647ffee15d1cbeb68642cddc2963a.jpg  \n",
            "  inflating: train/220307023657_f77fc0a6a0b94f32d57c204964e656d1.jpg  \n",
            "  inflating: train/220307023716_8585b66a23c1f73093805605e3f0364d.jpg  \n",
            "  inflating: train/220307023940_2fa3fe231a7e495ad1fe840ce5eb8fc8.jpg  \n",
            "  inflating: train/220307023940_f1c6e2ecdfb8557166546183c11c5eaa.jpg  \n",
            "  inflating: train/220307023943_8bffc92c4f2c2f7a8b9d3400446a48c5.jpg  \n",
            "  inflating: train/220307024146_b8a7a4d768c4e710b5b5f874b6099dbc.jpg  \n",
            "  inflating: train/220307024716_902e232dfe9c5ac55643703abcbf1d11.jpg  \n",
            "  inflating: train/220307024828_7b3e78fd1789a8c474db8346747a0d0d.jpg  \n",
            "  inflating: train/220307024848_87eb6b56b8105de4f05ffb9138d24255.jpg  \n",
            "  inflating: train/220307025103_8cfed6f7fcfdf786329b73bfda68da64.jpg  \n",
            "  inflating: train/220307025354_7647061922af514fe4512985ccfd953c.jpg  \n",
            "  inflating: train/220307025438_bcb8831f5a1aba7e89830d66a8cfc83a.jpg  \n",
            "  inflating: train/220307025439_fdcf8babf0f0a876052ce64556e16141.jpg  \n",
            "  inflating: train/220307025502_4320fefa21f20b515fe01cfcf7b221e2.jpg  \n",
            "  inflating: train/220307025849_d206c894f44ff0c6f3e2266ac499e9e6.jpg  \n",
            "  inflating: train/220307025909_eb746bde6b62f4ee6ea133bb087cda5c.jpg  \n",
            "  inflating: train/220307025917_371c1bbe93ff4b3d5c141a75aaa66f38.jpg  \n",
            "  inflating: train/220307030155_5e9e3b2baab4bad53e5f2146dc6bfc0b.jpg  \n",
            "  inflating: train/220307030743_1486aa9c60e82be1cd7c4859774d372a.jpg  \n",
            "  inflating: train/220307030755_3e370899eb40eda5cf58d679d9bd7755.jpg  \n",
            "  inflating: train/220307030844_0a1678109d85fb0e4296ee6c376642a4.jpg  \n",
            "  inflating: train/220307030904_b253c43b3f77dcb1cdff52c914f91f4e.jpg  \n",
            "  inflating: train/220307030916_5696db71e999746b68186f1b45eb4829.jpg  \n",
            "  inflating: train/220307030919_f345deda73d6ccb2985b00ff538161df.jpg  \n",
            "  inflating: train/220307030925_4de175fc3faf4a21a6dee729173a885e.jpg  \n",
            "  inflating: train/220307030925_8cd419dd6ce8c72f66e2fd62d0d9eacf.jpg  \n",
            "  inflating: train/220307030931_4baa51f5a816e728f78329ba24b5bf3a.jpg  \n",
            "  inflating: train/220307031136_0cab32b967c54b479cb4dde211c9df63.jpg  \n",
            "  inflating: train/220307031221_abf0aa57724f0df7f88ed2a47bb5d023.jpg  \n",
            "  inflating: train/220307031304_161c9931221e8830ba968fd82903d618.jpg  \n",
            "  inflating: train/220307031305_4c5b2ebfaa7828ad18ec61e3f0dbdc52.jpg  \n",
            "  inflating: train/220307031714_8b6fd1752119042688d13b5135e7657b.jpg  \n",
            "  inflating: train/220307031925_fd4198c4bc205c57792b7bbfd7714eb1.jpg  \n",
            "  inflating: train/220307032129_4f3be436a82ecc379bb0efc9a7415dcb.jpg  \n",
            "  inflating: train/220307032132_33ab24ee8449f97bf273c522ae66751b.jpg  \n",
            "  inflating: train/220307032319_e493819dbe903501c4c3d6ac7b6256e0.jpg  \n",
            "  inflating: train/220307032341_a7a907084240cbfe7d36be899197aaec.jpg  \n",
            "  inflating: train/220307032410_93a2bca4d50e5500d9be0bf851fe0ae0.jpg  \n",
            "  inflating: train/220307032433_3e4a73bc6393a5753ca1e0746cb05101.jpg  \n",
            "  inflating: train/220307032511_6a57838d2f6a4ca390d90950eaf34cd7.jpg  \n",
            "  inflating: train/220307032641_a5501f34fedafb0886b7ed86cbaad7c7.jpg  \n",
            "  inflating: train/220307032746_890c5b1315fe2e4d422513ed961e3e7b.jpg  \n",
            "  inflating: train/220307032818_3f653a0f3cffdce435b1d475d72169c4.jpg  \n",
            "  inflating: train/220307032830_2de4d7870fd36e3fda822e0ec392c2c2.jpg  \n",
            "  inflating: train/220307032831_3dad9de0c9e16da49557d4c55e4b2210.jpg  \n",
            "  inflating: train/220307032854_97f640cb7deec087ab044745922f25eb.jpg  \n",
            "  inflating: train/220307033021_1eecfa35271164463e8aab21fd0bae66.jpg  \n",
            "  inflating: train/220307033111_f1452af451f4dd7b3f6ad97cf78fcd30.jpg  \n",
            "  inflating: train/220307033149_fe0657219820e8c503b73a854d0f5a35.jpg  \n",
            "  inflating: train/220307033245_0fe168f860633be7c8c538bb695d73dc.jpg  \n",
            "  inflating: train/220307033245_886351ae2be653bba24af9aa8e92765f.jpg  \n",
            "  inflating: train/220307033246_8f76da470a84798f7832669c86dbec0b.jpg  \n",
            "  inflating: train/220307033247_13ff07caaf2a14b07cc0ffab5b02dc47.jpg  \n",
            "  inflating: train/220307033323_00a172d26fe64536ba7a3ca7bbae7bad.jpg  \n",
            "  inflating: train/220307033326_3c8b9c5a7c4989f5a5c3d9e9f8e31225.jpg  \n",
            "  inflating: train/220307033429_babdce0a45090d04ae6f166940181656.jpg  \n",
            "  inflating: train/220307033430_7421c0967efb54f552a509f83a096cd1.jpg  \n",
            "  inflating: train/220307033522_7fb3250b54ddbec7186eb25a8f33b95d.jpg  \n",
            "  inflating: train/220307033537_a31bb9c13eaacb593a8c22f895c3164b.jpg  \n",
            "  inflating: train/220307033746_e9f1fe463766d6953e749e003d378953.jpg  \n",
            "  inflating: train/220307033832_b3fdd853edaef3532f6662d80d9ad69e.jpg  \n",
            "  inflating: train/220307034048_f7ab7ed53b6a34511eb9d633ebeef8e2.jpg  \n",
            "  inflating: train/220307034057_4b2c03a1c1707da201337250db498268.jpg  \n",
            "  inflating: train/220307034111_c350264d238588bc49c8caad8dd7f0f7.jpg  \n",
            "  inflating: train/220307034122_19b7cdf9d08f56a62613c496ab1aaeb7.jpg  \n",
            "  inflating: train/220307034123_c953d2c85d88d7b3386d750b8627d335.jpg  \n",
            "  inflating: train/220307034126_2dc56f43e50002235064b65fa567b172.jpg  \n",
            "  inflating: train/220307034130_4a60f420af65f5979fcfaea0f31dcc71.jpg  \n",
            "  inflating: train/220307034219_5784703097442e6cf89a8329857a2668.jpg  \n",
            "  inflating: train/220307034224_b56cded4811a6f2295436473a18bfe12.jpg  \n",
            "  inflating: train/220307034226_3627c283bd3f23b63026d62ad4d21739.jpg  \n",
            "  inflating: train/220307034242_e9caa84c2c0b8b7173cafecbbb019e98.jpg  \n",
            "  inflating: train/220307034303_c29f4a7f35843b9d11d3f9922758aee1.jpg  \n",
            "  inflating: train/220307034423_ff47941e732a8f9b8e461747abea9720.jpg  \n",
            "  inflating: train/220307034437_5873d796065a32d972226abf671fdd35.jpg  \n",
            "  inflating: train/220307034508_82abb6cc59a067abd165f1d9660631d6.jpg  \n",
            "  inflating: train/220307034710_ccb493dd6e0f4c6e38a1e3ab31ec1e4f.jpg  \n",
            "  inflating: train/220307075948_fbef5097c47602ecf392be82e7a3729d.jpg  \n",
            "  inflating: train/220307080034_ab3bd577b42eb6362c351f7331a421db.jpg  \n",
            "  inflating: train/220307080157_cf891af6935c8797ce7bf70b843339e2.jpg  \n",
            "  inflating: train/220307080423_269570eb71323dc1e20b7f30863951b7.jpg  \n",
            "  inflating: train/220307080626_ba908b467e5f9431cb3a4b8d1b23c24b.jpg  \n",
            "  inflating: train/220307080739_73f7ce1670724d407a092078bbfe1da1.jpg  \n",
            "  inflating: train/220307080853_db633c7e47674dd3b697915aaaca60b3.jpg  \n",
            "  inflating: train/220307081154_bd12999a0d91c2cac9b7f57056760a34.jpg  \n",
            "  inflating: train/220307081545_319ef7734707eba7d6bb87998cbb4be7.jpg  \n",
            "  inflating: train/220307081600_be68778c5e210c33feccb045bf0e889c.jpg  \n",
            "  inflating: train/220307082216_0334b4f0693f5de2fff068503919cb86.jpg  \n",
            "  inflating: train/220307082227_0042c81cac5dc917687d26d3de8acfd2.jpg  \n",
            "  inflating: train/220307082710_3d23ae61292f9c441a3feb30cd1efca8.jpg  \n",
            "  inflating: train/220307082845_67911164fbb767b1e476f6eef9bdb0c3.jpg  \n",
            "  inflating: train/220307082900_a85a40480ce477057d25844c82e0f112.jpg  \n",
            "  inflating: train/220307083203_51744400c798ccbdd38e6fbca7a4976c.jpg  \n",
            "  inflating: train/220307083515_9339ce5cf4f01829995f0a52afbff1ca.jpg  \n",
            "  inflating: train/220307083529_d55c35d022a65f151721d7fd008ed540.jpg  \n",
            "  inflating: train/220307083737_27a6cd847b85a6fb54e78a437d6f9bf1.jpg  \n",
            "  inflating: train/220307083910_97ebac290491fcce36237e6441ec8fde.jpg  \n",
            "  inflating: train/220307084053_a042a922c981c62f8922b6c2e8b05943.jpg  \n",
            "  inflating: train/220307085541_f06b3a14781754934e72f2637bc7a85d.jpg  \n",
            "  inflating: train/220307085810_d1fadc9772ff8dbe3b1904f752ea17aa.jpg  \n",
            "  inflating: train/220307085905_484451476d4469abca1ae1b5c4cddffc.jpg  \n",
            "  inflating: train/220307085935_b3dd32f62645d9567b0b2dd35e2235d4.jpg  \n",
            "  inflating: train/220307090016_36f683b32ab99eef13415f82e6bb6743.jpg  \n",
            "  inflating: train/220307090137_06b24305e9852f3373fa26e0231ea90a.jpg  \n",
            "  inflating: train/220307090152_d9a5f34af7d53b2548f1cc029a5edf49.jpg  \n",
            "  inflating: train/220307090202_ff6c0924729228abd05b0100716b76c9.jpg  \n",
            "  inflating: train/220307090229_7e2e079d7352c4f64aa0c4ed0309ab5e.jpg  \n",
            "  inflating: train/220307090239_f5e0f6d52285e08c0eb6c991c54abf11.jpg  \n",
            "  inflating: train/220307090248_c0b2eaf82c3da865fd9a88acfcd8c121.jpg  \n",
            "  inflating: train/220307090527_9d1251afcc1024f55fcf087280e99ee6.jpg  \n",
            "  inflating: train/220307123435_ee13e0f16c73bb6e2ce76a72814f3428.jpg  \n",
            "  inflating: train/220307123436_a755745087e8d1f6efb7dde875b3f1be.jpg  \n",
            "  inflating: train/220307124157_724a703fcf5be59f1690f9a04a91126c.jpg  \n",
            "  inflating: train/220307125455_09d11e96934c3c345ddd5377f9933bed.jpg  \n",
            "  inflating: train/220307130847_dd59836101021bc5ad73c9536e11ad01.jpg  \n",
            "  inflating: train/220307131124_5c96a2de7e27599abd737c40ebdcae4d.jpg  \n",
            "  inflating: train/220307131313_62f62ecf0c46fdc6fa8be01621b2b8d0.jpg  \n",
            "  inflating: train/220307131638_75948c7e2df52346373ff823f36e701a.jpg  \n",
            "  inflating: train/220307131807_03e462932666c008819ac20a3c5ffe16.jpg  \n",
            "  inflating: train/220307131945_1d2defc24fe3920808beaa3aae29900c.jpg  \n",
            "  inflating: train/220307131953_bc3983b7fe2f0088cd22b2502398b912.jpg  \n",
            "  inflating: train/220307132224_52645281baa22ba7c267cccd4adc58e5.jpg  \n",
            "  inflating: train/220307133039_c465431e75884d9f97230cc1be196887.jpg  \n",
            "  inflating: train/220307133136_f746743cee6411dbdc409f353263a304.jpg  \n",
            "  inflating: train/220307133358_361e38abeea87117e53d438dcc1a8216.jpg  \n",
            "  inflating: train/220307133531_8fde47bcc70293c8063006cb37c47e92.jpg  \n",
            "  inflating: train/220307133732_05fd8809aa1f9f28ecde1c0b5d4a2d37.jpg  \n",
            "  inflating: train/220307134933_70c96100711eb749587852cad1c2df8f.jpg  \n",
            "  inflating: train/220307135416_276e578f15a59662a23ce7c5aa62d278.jpg  \n",
            "  inflating: train/220307135442_a5d9744471086f861e5ff6bcb38725f5.jpg  \n",
            "  inflating: train/220307140543_a7ba5608a37ece2fe8adcabf23a2a57f.jpg  \n",
            "  inflating: train/220307141017_14f6e3960159560f6de07f4b1ffe0486.jpg  \n",
            "  inflating: train/220307142451_490f9470cfa368874880ab2194775a34.jpg  \n",
            "  inflating: train/220307143947_9a9f7dd0f524fa0c4716b6abff5fb9cf.jpg  \n",
            "  inflating: train/220307144056_40e5f7e9e9bb7a01654c571366adb956.jpg  \n",
            "  inflating: train/220307145539_cd1db22243e8e9ec0d53631ba87dc42e.jpg  \n",
            "  inflating: train/220307145552_e1513d207f5dca4c7a76a7cd259067a9.jpg  \n",
            "  inflating: train/220307155623_d73f3c0782f9adc91fb15504219d2741.jpg  \n",
            "  inflating: train/220308011714_2cf9cddbe7e5b207ec5d82e077ec8d54.jpg  \n",
            "  inflating: train/220308020041_8227c886fcb9d4ecc1a223a96e7b4583.jpg  \n",
            "  inflating: train/220308020302_26d92d92acf91ebfc1a2b89f2e5d3bf6.jpg  \n",
            "  inflating: train/220308020508_dd19ed979744804c8b1ae7939d44c82b.jpg  \n",
            "  inflating: train/220308020729_b48d8cc83e850ec5d4a053cbb9616af0.jpg  \n",
            "  inflating: train/220308020735_cea2a44d3ec96fa3d36bae829d63b11e.jpg  \n",
            "  inflating: train/220308020741_fde686d082b96abae907d9b65de90632.jpg  \n",
            "  inflating: train/220308020750_05d4f485efad771de30f3e727694722a.jpg  \n",
            "  inflating: train/220308021323_8f628b1ac932a20148479c8b5d4afcfc.jpg  \n",
            "  inflating: train/220308021355_26772e1283e6bd6674f85eb8edf4a898.jpg  \n",
            "  inflating: train/220308021416_7ef65e35b9d0cefc339d18d691cc5ce1.jpg  \n",
            "  inflating: train/220308040809_af522362e3f8f5045ea973eb316582f6.jpg  \n",
            "  inflating: train/220308041328_173b7b604af3e28273dd389ab5700897.jpg  \n",
            "  inflating: train/220308041336_5057b172ec6151257e8d535514492cc2.jpg  \n",
            "  inflating: train/220308041534_284145095c45226caee410cb9021afb8.jpg  \n",
            "  inflating: train/220308041725_c52d2fedfe7f57151ee91d0556291dd4.jpg  \n",
            "  inflating: train/220308041741_bb1f2e9304022201f71ddd5021d5c259.jpg  \n",
            "  inflating: train/220308042057_26ac937a0ab39fe675b79eeb736d6282.jpg  \n",
            "  inflating: sample_solution.csv     \n",
            "  inflating: Условие_задачи_Чемпионат_Республика_Башкортостан.pdf  \n"
          ]
        }
      ]
    },
    {
      "cell_type": "code",
      "source": [
        "% mkdir ./my_train0-1-2\n",
        "% mkdir ./my_train0-1-2/0\n",
        "% mkdir ./my_train0-1-2/1\n",
        "% mkdir ./my_train0-1-2/2"
      ],
      "metadata": {
        "colab": {
          "base_uri": "https://localhost:8080/"
        },
        "id": "nFse7XFDA1lu",
        "outputId": "83f9389a-bbd0-4e2f-80ea-bbb766123d6d"
      },
      "execution_count": 6,
      "outputs": [
        {
          "output_type": "stream",
          "name": "stdout",
          "text": [
            "mkdir: cannot create directory ‘./my_train0-1-2’: File exists\n",
            "mkdir: cannot create directory ‘./my_train0-1-2/0’: File exists\n",
            "mkdir: cannot create directory ‘./my_train0-1-2/1’: File exists\n",
            "mkdir: cannot create directory ‘./my_train0-1-2/2’: File exists\n"
          ]
        }
      ]
    },
    {
      "cell_type": "code",
      "source": [
        "import pandas as pd \n",
        "import shutil\n",
        "\n",
        "data_df = pd.read_csv(\"./train.csv\")\n",
        "for i in data_df.index:\n",
        "    if data_df['class'].iloc[i]==0.0:\n",
        "        shutil.copy('./train/'+data_df['ID_img'].iloc[i]+'', './my_train0-1-2/0/')\n",
        "\n",
        "        \n",
        "    if data_df['class'].iloc[i]==1.0:\n",
        "        shutil.copy('./train/'+data_df['ID_img'].iloc[i]+'', './my_train0-1-2/1/')\n",
        "\n",
        "        \n",
        "    if data_df['class'].iloc[i]==2.0:\n",
        "        shutil.copy('./train/'+data_df['ID_img'].iloc[i]+'', './my_train0-1-2/2/')"
      ],
      "metadata": {
        "id": "PkMG2sLsA1ob"
      },
      "execution_count": 7,
      "outputs": []
    },
    {
      "cell_type": "code",
      "source": [
        ""
      ],
      "metadata": {
        "id": "uNOV8AYPBCh6"
      },
      "execution_count": 7,
      "outputs": []
    },
    {
      "cell_type": "code",
      "source": [
        ""
      ],
      "metadata": {
        "id": "vyqGroMNBCkt"
      },
      "execution_count": 7,
      "outputs": []
    },
    {
      "cell_type": "code",
      "source": [
        ""
      ],
      "metadata": {
        "id": "fcfuRsuHBCnF"
      },
      "execution_count": 7,
      "outputs": []
    },
    {
      "cell_type": "code",
      "source": [
        ""
      ],
      "metadata": {
        "id": "FXX_UIz5BCpv"
      },
      "execution_count": 7,
      "outputs": []
    },
    {
      "cell_type": "code",
      "execution_count": 8,
      "metadata": {
        "id": "Gzuv2run9Yxa"
      },
      "outputs": [],
      "source": [
        "import pandas as pd \n",
        "import numpy as np\n",
        "import glob\n",
        "from tqdm import tqdm\n",
        "import cv2\n",
        "\n",
        "from PIL import Image\n",
        "import matplotlib.pyplot as plt\n",
        "from IPython.display import clear_output"
      ]
    },
    {
      "cell_type": "code",
      "execution_count": 9,
      "metadata": {
        "id": "kllr67CCviPc"
      },
      "outputs": [],
      "source": [
        "import tensorflow as tf\n",
        "import keras\n",
        "from keras.preprocessing.image import ImageDataGenerator\n",
        "from keras.models import Sequential\n",
        "from keras.layers import Conv2D, MaxPooling2D\n",
        "from keras.layers import Activation, Dropout, Flatten, Dense\n",
        "from keras import backend as K\n",
        "#https://keras.io/api/applications/"
      ]
    },
    {
      "cell_type": "code",
      "execution_count": 10,
      "metadata": {
        "id": "qDN5Z-ozkcLS"
      },
      "outputs": [],
      "source": [
        "import tensorflow as tf\n",
        "from tensorflow import keras\n",
        "from tensorflow.keras import backend as K\n",
        "from tensorflow.keras.layers import Dense, Activation,Dropout,Conv2D, MaxPooling2D,BatchNormalization, Flatten\n",
        "from tensorflow.keras.optimizers import Adam, Adamax\n",
        "from tensorflow.keras.metrics import categorical_crossentropy\n",
        "from tensorflow.keras import regularizers\n",
        "from tensorflow.keras.preprocessing.image import ImageDataGenerator\n",
        "from tensorflow.keras.models import Model, load_model, Sequential\n",
        "import numpy as np\n",
        "import pandas as pd\n",
        "import shutil\n",
        "import time\n",
        "import cv2 as cv2\n",
        "from tqdm import tqdm\n",
        "from sklearn.model_selection import train_test_split\n",
        "import matplotlib.pyplot as plt\n",
        "from matplotlib.pyplot import imshow\n",
        "import os\n",
        "import seaborn as sns\n",
        "sns.set_style('darkgrid')\n",
        "from PIL import Image\n",
        "from sklearn.metrics import confusion_matrix, classification_report"
      ]
    },
    {
      "cell_type": "code",
      "execution_count": 10,
      "metadata": {
        "id": "4OYoAYtSvucH"
      },
      "outputs": [],
      "source": [
        ""
      ]
    },
    {
      "cell_type": "code",
      "execution_count": 11,
      "metadata": {
        "id": "YqDJuP-uVtfI"
      },
      "outputs": [],
      "source": [
        "from tensorflow.keras.preprocessing.image import ImageDataGenerator\n",
        "\n",
        "def generators(shape): \n",
        "    imgdatagen = ImageDataGenerator(\n",
        "        rotation_range=0.2,\n",
        "        width_shift_range=0.2,\n",
        "        height_shift_range=0.2,\n",
        "        shear_range=0.2,\n",
        "        zoom_range=0.5,\n",
        "        horizontal_flip = True, \n",
        "        fill_mode='nearest',\n",
        "        validation_split = 0.1,\n",
        "    )\n",
        "\n",
        "    height, width = shape\n",
        "\n",
        "    train_dataset = imgdatagen.flow_from_directory(\n",
        "        './my_train0-1-2/',\n",
        "        target_size = (height, width), \n",
        "        batch_size = batch_size,\n",
        "        class_mode='categorical',\n",
        "        subset = 'training', \n",
        "    )\n",
        "\n",
        "    val_dataset = imgdatagen.flow_from_directory(\n",
        "        './my_train0-1-2/',\n",
        "        target_size = (height, width), \n",
        "        batch_size = batch_size,\n",
        "        class_mode='categorical',\n",
        "        subset = 'validation'\n",
        "    )\n",
        "    return train_dataset, val_dataset"
      ]
    },
    {
      "cell_type": "code",
      "execution_count": 12,
      "metadata": {
        "id": "93QlSUdTk7oj"
      },
      "outputs": [],
      "source": [
        "batch_size =3"
      ]
    },
    {
      "cell_type": "code",
      "execution_count": 13,
      "metadata": {
        "id": "y1VRokivWwa1"
      },
      "outputs": [],
      "source": [
        "model_name='EfficientNetB7'\n",
        "base_model=tf.keras.applications.EfficientNetB7(include_top=False,input_shape=(600,600,3), weights=\"imagenet\", pooling='max') \n",
        "x=base_model.output\n",
        "x=keras.layers.BatchNormalization(axis=-1, momentum=0.99, epsilon=0.001 )(x)\n",
        "x = Dense(256, kernel_regularizer = regularizers.l2(l = 0.016),activity_regularizer=regularizers.l1(0.006),\n",
        "                bias_regularizer=regularizers.l1(0.006) ,activation='relu')(x)\n",
        "x=Dropout(rate=.45, seed=123)(x)        \n",
        "output=Dense(3, activation='softmax')(x)\n",
        "model=Model(inputs=base_model.input, outputs=output)\n",
        "model.compile(Adamax(), loss='categorical_crossentropy', metrics=['accuracy']) \n"
      ]
    },
    {
      "cell_type": "code",
      "execution_count": 13,
      "metadata": {
        "id": "mbgn0VjQmKiq"
      },
      "outputs": [],
      "source": [
        ""
      ]
    },
    {
      "cell_type": "code",
      "execution_count": 14,
      "metadata": {
        "colab": {
          "base_uri": "https://localhost:8080/"
        },
        "id": "0pQdZ7cMmG29",
        "outputId": "4dd5e033-3874-4bc4-ea64-9500ce96bec3"
      },
      "outputs": [
        {
          "output_type": "stream",
          "name": "stdout",
          "text": [
            "Found 490 images belonging to 3 classes.\n",
            "Found 53 images belonging to 3 classes.\n"
          ]
        }
      ],
      "source": [
        "train_dataset, val_dataset = generators((600,600))"
      ]
    },
    {
      "cell_type": "code",
      "execution_count": 14,
      "metadata": {
        "id": "YXPqpOZ268y2"
      },
      "outputs": [],
      "source": [
        ""
      ]
    },
    {
      "cell_type": "code",
      "execution_count": 15,
      "metadata": {
        "id": "0qo6-P5j4fN5"
      },
      "outputs": [],
      "source": [
        "from keras.callbacks import EarlyStopping,ModelCheckpoint,ReduceLROnPlateau\n",
        "\n",
        "\n",
        "earlyStopping = EarlyStopping(monitor='val_loss', patience=10, verbose=0, mode='min')\n",
        "mcp_save = ModelCheckpoint('/content/drive/MyDrive/chemp-ufa/'+'pre_EfficientnetB7_{epoch:02d}-{val_loss:.2f}.hdf5', save_best_only=True)\n",
        "reduce_lr_loss = ReduceLROnPlateau(monitor='val_loss', factor=0.1, patience=5, verbose=1, min_delta=1e-4, mode='min')\n"
      ]
    },
    {
      "cell_type": "code",
      "execution_count": 16,
      "metadata": {
        "colab": {
          "base_uri": "https://localhost:8080/"
        },
        "id": "nPQFm39k4-ns",
        "outputId": "e063d5f8-6e15-475a-bdad-a588710f7b7a"
      },
      "outputs": [
        {
          "output_type": "stream",
          "name": "stdout",
          "text": [
            "2.8.2\n"
          ]
        }
      ],
      "source": [
        "print(tf.__version__)"
      ]
    },
    {
      "cell_type": "code",
      "execution_count": 17,
      "metadata": {
        "id": "F8Hj2iJm4-vy"
      },
      "outputs": [],
      "source": [
        "#model = tf.keras.models.load_model('./'+'EfficientnetB7_32-0.96.hdf5')\n",
        "#model.summary()"
      ]
    },
    {
      "cell_type": "code",
      "execution_count": 18,
      "metadata": {
        "colab": {
          "base_uri": "https://localhost:8080/"
        },
        "id": "4N9wavDLWwmn",
        "outputId": "979ce725-8b23-425f-88cd-e6836d99cd03"
      },
      "outputs": [
        {
          "output_type": "stream",
          "name": "stdout",
          "text": [
            "Epoch 1/50\n",
            "164/164 [==============================] - 221s 1s/step - loss: 9.4536 - accuracy: 0.5571 - val_loss: 9.1819 - val_accuracy: 0.5849 - lr: 0.0010\n",
            "Epoch 2/50\n",
            "164/164 [==============================] - 184s 1s/step - loss: 8.2659 - accuracy: 0.6469 - val_loss: 8.0542 - val_accuracy: 0.7358 - lr: 0.0010\n",
            "Epoch 3/50\n",
            "164/164 [==============================] - 178s 1s/step - loss: 7.4526 - accuracy: 0.6408 - val_loss: 8.0745 - val_accuracy: 0.5849 - lr: 0.0010\n",
            "Epoch 4/50\n",
            "164/164 [==============================] - 184s 1s/step - loss: 6.7133 - accuracy: 0.6694 - val_loss: 7.1043 - val_accuracy: 0.7925 - lr: 0.0010\n",
            "Epoch 5/50\n",
            "164/164 [==============================] - 185s 1s/step - loss: 6.1932 - accuracy: 0.6571 - val_loss: 6.4657 - val_accuracy: 0.7170 - lr: 0.0010\n",
            "Epoch 6/50\n",
            "164/164 [==============================] - 185s 1s/step - loss: 5.6512 - accuracy: 0.6592 - val_loss: 5.6707 - val_accuracy: 0.7547 - lr: 0.0010\n",
            "Epoch 7/50\n",
            "164/164 [==============================] - 185s 1s/step - loss: 5.2112 - accuracy: 0.6429 - val_loss: 5.3224 - val_accuracy: 0.6792 - lr: 0.0010\n",
            "Epoch 8/50\n",
            "164/164 [==============================] - 185s 1s/step - loss: 4.6555 - accuracy: 0.7143 - val_loss: 4.7169 - val_accuracy: 0.7925 - lr: 0.0010\n",
            "Epoch 9/50\n",
            "164/164 [==============================] - 185s 1s/step - loss: 4.3862 - accuracy: 0.6755 - val_loss: 4.2804 - val_accuracy: 0.7547 - lr: 0.0010\n",
            "Epoch 10/50\n",
            "164/164 [==============================] - 185s 1s/step - loss: 3.8842 - accuracy: 0.7265 - val_loss: 4.1775 - val_accuracy: 0.6415 - lr: 0.0010\n",
            "Epoch 11/50\n",
            "164/164 [==============================] - 185s 1s/step - loss: 3.5432 - accuracy: 0.7184 - val_loss: 3.8761 - val_accuracy: 0.6415 - lr: 0.0010\n",
            "Epoch 12/50\n",
            "164/164 [==============================] - 186s 1s/step - loss: 3.2067 - accuracy: 0.7245 - val_loss: 3.4099 - val_accuracy: 0.7925 - lr: 0.0010\n",
            "Epoch 13/50\n",
            "164/164 [==============================] - 185s 1s/step - loss: 2.8474 - accuracy: 0.7837 - val_loss: 3.2226 - val_accuracy: 0.7736 - lr: 0.0010\n",
            "Epoch 14/50\n",
            "164/164 [==============================] - 185s 1s/step - loss: 2.6497 - accuracy: 0.7592 - val_loss: 2.7913 - val_accuracy: 0.7170 - lr: 0.0010\n",
            "Epoch 15/50\n",
            "164/164 [==============================] - 185s 1s/step - loss: 2.5306 - accuracy: 0.7224 - val_loss: 2.7770 - val_accuracy: 0.5660 - lr: 0.0010\n",
            "Epoch 16/50\n",
            "164/164 [==============================] - 185s 1s/step - loss: 2.3332 - accuracy: 0.7204 - val_loss: 2.4343 - val_accuracy: 0.7547 - lr: 0.0010\n",
            "Epoch 17/50\n",
            "164/164 [==============================] - 185s 1s/step - loss: 2.1207 - accuracy: 0.7531 - val_loss: 2.3277 - val_accuracy: 0.7358 - lr: 0.0010\n",
            "Epoch 18/50\n",
            "164/164 [==============================] - 178s 1s/step - loss: 1.9620 - accuracy: 0.7653 - val_loss: 2.4496 - val_accuracy: 0.7170 - lr: 0.0010\n",
            "Epoch 19/50\n",
            "164/164 [==============================] - 184s 1s/step - loss: 1.8081 - accuracy: 0.8204 - val_loss: 2.0734 - val_accuracy: 0.7358 - lr: 0.0010\n",
            "Epoch 20/50\n",
            "164/164 [==============================] - 185s 1s/step - loss: 1.7008 - accuracy: 0.7816 - val_loss: 1.7405 - val_accuracy: 0.7736 - lr: 0.0010\n",
            "Epoch 21/50\n",
            "164/164 [==============================] - 177s 1s/step - loss: 1.5955 - accuracy: 0.8122 - val_loss: 1.8859 - val_accuracy: 0.7358 - lr: 0.0010\n",
            "Epoch 22/50\n",
            "164/164 [==============================] - 185s 1s/step - loss: 1.5210 - accuracy: 0.8000 - val_loss: 1.7164 - val_accuracy: 0.6792 - lr: 0.0010\n",
            "Epoch 23/50\n",
            "164/164 [==============================] - 178s 1s/step - loss: 1.4155 - accuracy: 0.8061 - val_loss: 1.9621 - val_accuracy: 0.7170 - lr: 0.0010\n",
            "Epoch 24/50\n",
            "164/164 [==============================] - 178s 1s/step - loss: 1.3598 - accuracy: 0.8000 - val_loss: 1.7879 - val_accuracy: 0.6792 - lr: 0.0010\n",
            "Epoch 25/50\n",
            "164/164 [==============================] - 185s 1s/step - loss: 1.3252 - accuracy: 0.7612 - val_loss: 1.4832 - val_accuracy: 0.7736 - lr: 0.0010\n",
            "Epoch 26/50\n",
            "164/164 [==============================] - 178s 1s/step - loss: 1.2224 - accuracy: 0.8082 - val_loss: 1.9564 - val_accuracy: 0.6792 - lr: 0.0010\n",
            "Epoch 27/50\n",
            "164/164 [==============================] - 178s 1s/step - loss: 1.1810 - accuracy: 0.8041 - val_loss: 1.5809 - val_accuracy: 0.7170 - lr: 0.0010\n",
            "Epoch 28/50\n",
            "164/164 [==============================] - 178s 1s/step - loss: 1.1312 - accuracy: 0.7980 - val_loss: 2.0535 - val_accuracy: 0.6604 - lr: 0.0010\n",
            "Epoch 29/50\n",
            "164/164 [==============================] - 177s 1s/step - loss: 1.0898 - accuracy: 0.8061 - val_loss: 1.7484 - val_accuracy: 0.7925 - lr: 0.0010\n",
            "Epoch 30/50\n",
            "164/164 [==============================] - ETA: 0s - loss: 1.0678 - accuracy: 0.7878\n",
            "Epoch 30: ReduceLROnPlateau reducing learning rate to 0.00010000000474974513.\n",
            "164/164 [==============================] - 178s 1s/step - loss: 1.0678 - accuracy: 0.7878 - val_loss: 1.5039 - val_accuracy: 0.6604 - lr: 0.0010\n",
            "Epoch 31/50\n",
            "164/164 [==============================] - 185s 1s/step - loss: 1.0063 - accuracy: 0.8102 - val_loss: 1.4785 - val_accuracy: 0.7358 - lr: 1.0000e-04\n",
            "Epoch 32/50\n",
            "164/164 [==============================] - 178s 1s/step - loss: 0.9212 - accuracy: 0.8673 - val_loss: 1.5223 - val_accuracy: 0.6981 - lr: 1.0000e-04\n",
            "Epoch 33/50\n",
            "164/164 [==============================] - 177s 1s/step - loss: 0.9044 - accuracy: 0.8612 - val_loss: 1.6459 - val_accuracy: 0.7170 - lr: 1.0000e-04\n",
            "Epoch 34/50\n",
            "164/164 [==============================] - 178s 1s/step - loss: 0.9036 - accuracy: 0.8735 - val_loss: 1.6150 - val_accuracy: 0.6981 - lr: 1.0000e-04\n",
            "Epoch 35/50\n",
            "164/164 [==============================] - 178s 1s/step - loss: 0.8818 - accuracy: 0.8735 - val_loss: 1.4825 - val_accuracy: 0.7358 - lr: 1.0000e-04\n",
            "Epoch 36/50\n",
            "164/164 [==============================] - ETA: 0s - loss: 0.8398 - accuracy: 0.8796\n",
            "Epoch 36: ReduceLROnPlateau reducing learning rate to 1.0000000474974514e-05.\n",
            "164/164 [==============================] - 178s 1s/step - loss: 0.8398 - accuracy: 0.8796 - val_loss: 1.7616 - val_accuracy: 0.6981 - lr: 1.0000e-04\n",
            "Epoch 37/50\n",
            "164/164 [==============================] - 178s 1s/step - loss: 0.8319 - accuracy: 0.8980 - val_loss: 1.5431 - val_accuracy: 0.7736 - lr: 1.0000e-05\n",
            "Epoch 38/50\n",
            "164/164 [==============================] - 185s 1s/step - loss: 0.8699 - accuracy: 0.8531 - val_loss: 1.4176 - val_accuracy: 0.7170 - lr: 1.0000e-05\n",
            "Epoch 39/50\n",
            "164/164 [==============================] - 185s 1s/step - loss: 0.8300 - accuracy: 0.8898 - val_loss: 1.3371 - val_accuracy: 0.7736 - lr: 1.0000e-05\n",
            "Epoch 40/50\n",
            "164/164 [==============================] - 178s 1s/step - loss: 0.8454 - accuracy: 0.8796 - val_loss: 1.4269 - val_accuracy: 0.7547 - lr: 1.0000e-05\n",
            "Epoch 41/50\n",
            "164/164 [==============================] - 179s 1s/step - loss: 0.8266 - accuracy: 0.8918 - val_loss: 1.8594 - val_accuracy: 0.6415 - lr: 1.0000e-05\n",
            "Epoch 42/50\n",
            "164/164 [==============================] - 178s 1s/step - loss: 0.8901 - accuracy: 0.8592 - val_loss: 1.4646 - val_accuracy: 0.7358 - lr: 1.0000e-05\n",
            "Epoch 43/50\n",
            "164/164 [==============================] - 178s 1s/step - loss: 0.8720 - accuracy: 0.8612 - val_loss: 1.5423 - val_accuracy: 0.7547 - lr: 1.0000e-05\n",
            "Epoch 44/50\n",
            "164/164 [==============================] - ETA: 0s - loss: 0.8623 - accuracy: 0.8776\n",
            "Epoch 44: ReduceLROnPlateau reducing learning rate to 1.0000000656873453e-06.\n",
            "164/164 [==============================] - 178s 1s/step - loss: 0.8623 - accuracy: 0.8776 - val_loss: 1.4290 - val_accuracy: 0.7358 - lr: 1.0000e-05\n",
            "Epoch 45/50\n",
            "164/164 [==============================] - 178s 1s/step - loss: 0.7762 - accuracy: 0.9184 - val_loss: 1.7739 - val_accuracy: 0.6981 - lr: 1.0000e-06\n",
            "Epoch 46/50\n",
            "164/164 [==============================] - 178s 1s/step - loss: 0.8443 - accuracy: 0.8694 - val_loss: 1.4816 - val_accuracy: 0.6981 - lr: 1.0000e-06\n",
            "Epoch 47/50\n",
            "164/164 [==============================] - 178s 1s/step - loss: 0.8417 - accuracy: 0.8918 - val_loss: 1.6106 - val_accuracy: 0.7358 - lr: 1.0000e-06\n",
            "Epoch 48/50\n",
            "164/164 [==============================] - 178s 1s/step - loss: 0.8262 - accuracy: 0.8796 - val_loss: 1.5797 - val_accuracy: 0.7358 - lr: 1.0000e-06\n",
            "Epoch 49/50\n",
            "164/164 [==============================] - ETA: 0s - loss: 0.7980 - accuracy: 0.8980\n",
            "Epoch 49: ReduceLROnPlateau reducing learning rate to 1.0000001111620805e-07.\n",
            "164/164 [==============================] - 178s 1s/step - loss: 0.7980 - accuracy: 0.8980 - val_loss: 1.7428 - val_accuracy: 0.6981 - lr: 1.0000e-06\n"
          ]
        }
      ],
      "source": [
        "\n",
        "history = model.fit(\n",
        "    train_dataset, \n",
        "    validation_data = val_dataset,\n",
        "    epochs=150,\n",
        "    callbacks=[earlyStopping, mcp_save, reduce_lr_loss]\n",
        "    )"
      ]
    },
    {
      "cell_type": "code",
      "execution_count": 18,
      "metadata": {
        "id": "TwMTbpP50YN_"
      },
      "outputs": [],
      "source": [
        ""
      ]
    }
  ],
  "metadata": {
    "accelerator": "GPU",
    "colab": {
      "collapsed_sections": [],
      "name": "1_preTrain_EfficientnetB7.ipynb",
      "provenance": []
    },
    "kernelspec": {
      "display_name": "Python 3 (ipykernel)",
      "language": "python",
      "name": "python3"
    },
    "language_info": {
      "codemirror_mode": {
        "name": "ipython",
        "version": 3
      },
      "file_extension": ".py",
      "mimetype": "text/x-python",
      "name": "python",
      "nbconvert_exporter": "python",
      "pygments_lexer": "ipython3",
      "version": "3.9.7"
    }
  },
  "nbformat": 4,
  "nbformat_minor": 0
}